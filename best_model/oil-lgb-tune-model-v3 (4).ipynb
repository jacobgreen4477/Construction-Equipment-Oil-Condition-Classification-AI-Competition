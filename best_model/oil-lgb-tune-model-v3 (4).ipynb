{
 "cells": [
  {
   "cell_type": "code",
   "execution_count": 1,
   "id": "f7a7c13a",
   "metadata": {
    "execution": {
     "iopub.execute_input": "2022-11-27T08:10:10.747721Z",
     "iopub.status.busy": "2022-11-27T08:10:10.747333Z",
     "iopub.status.idle": "2022-11-27T08:10:25.046818Z",
     "shell.execute_reply": "2022-11-27T08:10:25.045791Z"
    },
    "papermill": {
     "duration": 14.31333,
     "end_time": "2022-11-27T08:10:25.048900",
     "exception": false,
     "start_time": "2022-11-27T08:10:10.735570",
     "status": "completed"
    },
    "tags": []
   },
   "outputs": [
    {
     "name": "stdout",
     "output_type": "stream",
     "text": [
      "Collecting optbinning\r\n",
      "  Downloading optbinning-0.17.1-py3-none-any.whl (211 kB)\r\n",
      "\u001b[2K     \u001b[90m━━━━━━━━━━━━━━━━━━━━━━━━━━━━━━━━━━━━━\u001b[0m \u001b[32m211.2/211.2 kB\u001b[0m \u001b[31m860.9 kB/s\u001b[0m eta \u001b[36m0:00:00\u001b[0m\r\n",
      "\u001b[?25hRequirement already satisfied: matplotlib in /opt/conda/lib/python3.7/site-packages (from optbinning) (3.5.3)\r\n",
      "Requirement already satisfied: ortools>=7.2 in /opt/conda/lib/python3.7/site-packages (from optbinning) (9.4.1874)\r\n",
      "Requirement already satisfied: scikit-learn>=0.22.0 in /opt/conda/lib/python3.7/site-packages (from optbinning) (1.0.2)\r\n",
      "Requirement already satisfied: numpy>=1.16.1 in /opt/conda/lib/python3.7/site-packages (from optbinning) (1.21.6)\r\n",
      "Collecting ropwr>=0.4.0\r\n",
      "  Downloading ropwr-0.4.0-py3-none-any.whl (15 kB)\r\n",
      "Requirement already satisfied: scipy>=1.6.0 in /opt/conda/lib/python3.7/site-packages (from optbinning) (1.7.3)\r\n",
      "Requirement already satisfied: pandas in /opt/conda/lib/python3.7/site-packages (from optbinning) (1.3.5)\r\n",
      "Requirement already satisfied: protobuf>=3.19.4 in /opt/conda/lib/python3.7/site-packages (from ortools>=7.2->optbinning) (3.19.4)\r\n",
      "Requirement already satisfied: absl-py>=0.13 in /opt/conda/lib/python3.7/site-packages (from ortools>=7.2->optbinning) (0.15.0)\r\n",
      "Collecting cvxpy>=1.1.14\r\n",
      "  Downloading cvxpy-1.2.2-cp37-cp37m-manylinux_2_24_x86_64.whl (2.8 MB)\r\n",
      "\u001b[2K     \u001b[90m━━━━━━━━━━━━━━━━━━━━━━━━━━━━━━━━━━━━━━━━\u001b[0m \u001b[32m2.8/2.8 MB\u001b[0m \u001b[31m8.4 MB/s\u001b[0m eta \u001b[36m0:00:00\u001b[0m\r\n",
      "\u001b[?25hRequirement already satisfied: joblib>=0.11 in /opt/conda/lib/python3.7/site-packages (from scikit-learn>=0.22.0->optbinning) (1.0.1)\r\n",
      "Requirement already satisfied: threadpoolctl>=2.0.0 in /opt/conda/lib/python3.7/site-packages (from scikit-learn>=0.22.0->optbinning) (3.1.0)\r\n",
      "Requirement already satisfied: pillow>=6.2.0 in /opt/conda/lib/python3.7/site-packages (from matplotlib->optbinning) (9.1.1)\r\n",
      "Requirement already satisfied: python-dateutil>=2.7 in /opt/conda/lib/python3.7/site-packages (from matplotlib->optbinning) (2.8.2)\r\n",
      "Requirement already satisfied: fonttools>=4.22.0 in /opt/conda/lib/python3.7/site-packages (from matplotlib->optbinning) (4.33.3)\r\n",
      "Requirement already satisfied: kiwisolver>=1.0.1 in /opt/conda/lib/python3.7/site-packages (from matplotlib->optbinning) (1.4.3)\r\n",
      "Requirement already satisfied: pyparsing>=2.2.1 in /opt/conda/lib/python3.7/site-packages (from matplotlib->optbinning) (3.0.9)\r\n",
      "Requirement already satisfied: packaging>=20.0 in /opt/conda/lib/python3.7/site-packages (from matplotlib->optbinning) (21.3)\r\n",
      "Requirement already satisfied: cycler>=0.10 in /opt/conda/lib/python3.7/site-packages (from matplotlib->optbinning) (0.11.0)\r\n",
      "Requirement already satisfied: pytz>=2017.3 in /opt/conda/lib/python3.7/site-packages (from pandas->optbinning) (2022.1)\r\n",
      "Requirement already satisfied: six in /opt/conda/lib/python3.7/site-packages (from absl-py>=0.13->ortools>=7.2->optbinning) (1.15.0)\r\n",
      "Collecting scs>=1.1.6\r\n",
      "  Downloading scs-3.2.2-cp37-cp37m-manylinux_2_17_x86_64.manylinux2014_x86_64.whl (10.7 MB)\r\n",
      "\u001b[2K     \u001b[90m━━━━━━━━━━━━━━━━━━━━━━━━━━━━━━━━━━━━━━━━\u001b[0m \u001b[32m10.7/10.7 MB\u001b[0m \u001b[31m30.5 MB/s\u001b[0m eta \u001b[36m0:00:00\u001b[0m\r\n",
      "\u001b[?25hCollecting osqp>=0.4.1\r\n",
      "  Downloading osqp-0.6.2.post8-cp37-cp37m-manylinux_2_5_x86_64.manylinux1_x86_64.manylinux_2_17_x86_64.manylinux2014_x86_64.whl (296 kB)\r\n",
      "\u001b[2K     \u001b[90m━━━━━━━━━━━━━━━━━━━━━━━━━━━━━━━━━━━━━━\u001b[0m \u001b[32m296.2/296.2 kB\u001b[0m \u001b[31m21.5 MB/s\u001b[0m eta \u001b[36m0:00:00\u001b[0m\r\n",
      "\u001b[?25hRequirement already satisfied: ecos>=2 in /opt/conda/lib/python3.7/site-packages (from cvxpy>=1.1.14->ropwr>=0.4.0->optbinning) (2.0.10)\r\n",
      "Requirement already satisfied: typing-extensions in /opt/conda/lib/python3.7/site-packages (from kiwisolver>=1.0.1->matplotlib->optbinning) (4.4.0)\r\n",
      "Collecting qdldl\r\n",
      "  Downloading qdldl-0.1.5.post2-cp37-cp37m-manylinux_2_17_x86_64.manylinux2014_x86_64.whl (1.1 MB)\r\n",
      "\u001b[2K     \u001b[90m━━━━━━━━━━━━━━━━━━━━━━━━━━━━━━━━━━━━━━━━\u001b[0m \u001b[32m1.1/1.1 MB\u001b[0m \u001b[31m45.2 MB/s\u001b[0m eta \u001b[36m0:00:00\u001b[0m\r\n",
      "\u001b[?25hInstalling collected packages: scs, qdldl, osqp, cvxpy, ropwr, optbinning\r\n",
      "Successfully installed cvxpy-1.2.2 optbinning-0.17.1 osqp-0.6.2.post8 qdldl-0.1.5.post2 ropwr-0.4.0 scs-3.2.2\r\n",
      "\u001b[33mWARNING: Running pip as the 'root' user can result in broken permissions and conflicting behaviour with the system package manager. It is recommended to use a virtual environment instead: https://pip.pypa.io/warnings/venv\u001b[0m\u001b[33m\r\n",
      "\u001b[0m"
     ]
    }
   ],
   "source": [
    "! pip install optbinning"
   ]
  },
  {
   "cell_type": "code",
   "execution_count": 2,
   "id": "d9003382",
   "metadata": {
    "execution": {
     "iopub.execute_input": "2022-11-27T08:10:25.073527Z",
     "iopub.status.busy": "2022-11-27T08:10:25.073132Z",
     "iopub.status.idle": "2022-11-27T08:10:29.519283Z",
     "shell.execute_reply": "2022-11-27T08:10:29.518126Z"
    },
    "papermill": {
     "duration": 4.461138,
     "end_time": "2022-11-27T08:10:29.521755",
     "exception": false,
     "start_time": "2022-11-27T08:10:25.060617",
     "status": "completed"
    },
    "tags": []
   },
   "outputs": [
    {
     "data": {
      "text/html": [
       "<style type='text/css'>\n",
       ".datatable table.frame { margin-bottom: 0; }\n",
       ".datatable table.frame thead { border-bottom: none; }\n",
       ".datatable table.frame tr.coltypes td {  color: #FFFFFF;  line-height: 6px;  padding: 0 0.5em;}\n",
       ".datatable .bool    { background: #DDDD99; }\n",
       ".datatable .object  { background: #565656; }\n",
       ".datatable .int     { background: #5D9E5D; }\n",
       ".datatable .float   { background: #4040CC; }\n",
       ".datatable .str     { background: #CC4040; }\n",
       ".datatable .time    { background: #40CC40; }\n",
       ".datatable .row_index {  background: var(--jp-border-color3);  border-right: 1px solid var(--jp-border-color0);  color: var(--jp-ui-font-color3);  font-size: 9px;}\n",
       ".datatable .frame tbody td { text-align: left; }\n",
       ".datatable .frame tr.coltypes .row_index {  background: var(--jp-border-color0);}\n",
       ".datatable th:nth-child(2) { padding-left: 12px; }\n",
       ".datatable .hellipsis {  color: var(--jp-cell-editor-border-color);}\n",
       ".datatable .vellipsis {  background: var(--jp-layout-color0);  color: var(--jp-cell-editor-border-color);}\n",
       ".datatable .na {  color: var(--jp-cell-editor-border-color);  font-size: 80%;}\n",
       ".datatable .sp {  opacity: 0.25;}\n",
       ".datatable .footer { font-size: 9px; }\n",
       ".datatable .frame_dimensions {  background: var(--jp-border-color3);  border-top: 1px solid var(--jp-border-color0);  color: var(--jp-ui-font-color3);  display: inline-block;  opacity: 0.6;  padding: 1px 10px 1px 5px;}\n",
       "</style>\n"
      ],
      "text/plain": [
       "<IPython.core.display.HTML object>"
      ]
     },
     "metadata": {},
     "output_type": "display_data"
    }
   ],
   "source": [
    "import joblib\n",
    "import numpy as np\n",
    "import pandas as pd\n",
    "import gc\n",
    "import time\n",
    "import os\n",
    "import sys\n",
    "from contextlib import contextmanager\n",
    "from lightgbm import LGBMClassifier\n",
    "import lightgbm as lgb\n",
    "import xgboost as xgb\n",
    "from xgboost import XGBClassifier\n",
    "from sklearn.metrics import roc_auc_score, roc_curve, f1_score\n",
    "from sklearn.model_selection import KFold, StratifiedKFold, train_test_split, cross_val_score\n",
    "import matplotlib.pyplot as plt\n",
    "import seaborn as sns\n",
    "from sklearn.preprocessing import LabelEncoder\n",
    "from sklearn.preprocessing import StandardScaler\n",
    "from bayes_opt import BayesianOptimization\n",
    "from skopt import BayesSearchCV \n",
    "from optbinning import OptimalBinning\n",
    "from sklearn.cluster import KMeans\n",
    "from sklearn.preprocessing import MinMaxScaler\n",
    "from yellowbrick.cluster import KElbowVisualizer\n",
    "from scipy.cluster.hierarchy import linkage\n",
    "from scipy.cluster.hierarchy import dendrogram\n",
    "from sklearn.decomposition import PCA\n",
    "import random\n",
    "import torch\n",
    "import torch.nn as nn\n",
    "import torch.nn.functional as F\n",
    "import torch.optim as optim\n",
    "from torch.utils.data import DataLoader, Dataset\n",
    "from tqdm.auto import tqdm\n",
    "import random\n",
    "import warnings\n",
    "warnings.simplefilter(action='ignore', category=FutureWarning)"
   ]
  },
  {
   "cell_type": "code",
   "execution_count": 3,
   "id": "9e0e5989",
   "metadata": {
    "execution": {
     "iopub.execute_input": "2022-11-27T08:10:29.548250Z",
     "iopub.status.busy": "2022-11-27T08:10:29.547627Z",
     "iopub.status.idle": "2022-11-27T08:10:29.553007Z",
     "shell.execute_reply": "2022-11-27T08:10:29.551856Z"
    },
    "papermill": {
     "duration": 0.021551,
     "end_time": "2022-11-27T08:10:29.555180",
     "exception": false,
     "start_time": "2022-11-27T08:10:29.533629",
     "status": "completed"
    },
    "tags": []
   },
   "outputs": [],
   "source": [
    "pd.set_option('display.max_rows', 500)"
   ]
  },
  {
   "cell_type": "code",
   "execution_count": 4,
   "id": "d139e420",
   "metadata": {
    "execution": {
     "iopub.execute_input": "2022-11-27T08:10:29.580067Z",
     "iopub.status.busy": "2022-11-27T08:10:29.579763Z",
     "iopub.status.idle": "2022-11-27T08:10:29.589066Z",
     "shell.execute_reply": "2022-11-27T08:10:29.588133Z"
    },
    "papermill": {
     "duration": 0.024101,
     "end_time": "2022-11-27T08:10:29.590954",
     "exception": false,
     "start_time": "2022-11-27T08:10:29.566853",
     "status": "completed"
    },
    "tags": []
   },
   "outputs": [],
   "source": [
    "def seed_everything(seed):\n",
    "    random.seed(seed)\n",
    "    os.environ['PYTHONHASHSEED'] = str(seed)\n",
    "    np.random.seed(seed)\n",
    "    torch.manual_seed(seed)\n",
    "    torch.cuda.manual_seed(seed)\n",
    "    torch.backends.cudnn.deterministic = True\n",
    "    torch.backends.cudnn.benchmark = True\n",
    "\n",
    "seed_everything(1)"
   ]
  },
  {
   "cell_type": "code",
   "execution_count": 5,
   "id": "c51f8837",
   "metadata": {
    "execution": {
     "iopub.execute_input": "2022-11-27T08:10:29.615781Z",
     "iopub.status.busy": "2022-11-27T08:10:29.615332Z",
     "iopub.status.idle": "2022-11-27T08:10:29.620840Z",
     "shell.execute_reply": "2022-11-27T08:10:29.619815Z"
    },
    "papermill": {
     "duration": 0.020173,
     "end_time": "2022-11-27T08:10:29.622749",
     "exception": false,
     "start_time": "2022-11-27T08:10:29.602576",
     "status": "completed"
    },
    "tags": []
   },
   "outputs": [],
   "source": [
    "def display_importances(feature_importance_df_):\n",
    "    cols = feature_importance_df_[[\"feature\", \"importance\"]].groupby(\"feature\").mean().sort_values(by=\"importance\", ascending=False)[:40].index\n",
    "    best_features = feature_importance_df_.loc[feature_importance_df_.feature.isin(cols)]\n",
    "    plt.figure(figsize=(8, 10))\n",
    "    sns.barplot(x=\"importance\", y=\"feature\", data=best_features.sort_values(by=\"importance\", ascending=False))\n",
    "    plt.title('LightGBM Features (avg over folds)')\n",
    "    plt.tight_layout()\n",
    "    plt.savefig('lgbm_importances01.png')"
   ]
  },
  {
   "cell_type": "code",
   "execution_count": 6,
   "id": "59610f8a",
   "metadata": {
    "execution": {
     "iopub.execute_input": "2022-11-27T08:10:29.650056Z",
     "iopub.status.busy": "2022-11-27T08:10:29.649724Z",
     "iopub.status.idle": "2022-11-27T08:10:29.657210Z",
     "shell.execute_reply": "2022-11-27T08:10:29.656315Z"
    },
    "papermill": {
     "duration": 0.023069,
     "end_time": "2022-11-27T08:10:29.658841",
     "exception": false,
     "start_time": "2022-11-27T08:10:29.635772",
     "status": "completed"
    },
    "tags": []
   },
   "outputs": [],
   "source": [
    "# Plots the disribution of a variable colored by value of the target\n",
    "def kde_target(var_name, df):\n",
    "    \n",
    "    # Calculate the correlation coefficient between the new variable and the target\n",
    "    corr = df['Y_LABEL'].corr(df[var_name])\n",
    "    \n",
    "    # Calculate medians for repaid vs not repaid\n",
    "    avg_target_0 = df.loc[df['Y_LABEL'] == 0, var_name].median()\n",
    "    avg_target_1 = df.loc[df['Y_LABEL'] == 1, var_name].median()\n",
    "    \n",
    "    plt.figure(figsize = (12, 6))\n",
    "    \n",
    "    # Plot the distribution for target == 0 and target == 1\n",
    "    sns.kdeplot(df.loc[df['Y_LABEL'] == 0, var_name], label = 'Y_LABEL == 0')\n",
    "    sns.kdeplot(df.loc[df['Y_LABEL'] == 1, var_name], label = 'Y_LABEL == 1')\n",
    "    \n",
    "    # label the plot\n",
    "    plt.xlabel(var_name); plt.ylabel('Density'); plt.title('%s Distribution' % var_name)\n",
    "    plt.legend();\n",
    "    \n",
    "    # print out the correlation\n",
    "    print('The correlation between %s and the TARGET is %0.4f' % (var_name, corr))\n",
    "    # Print out average values\n",
    "    print('Median value for avg_target_0 = %0.4f' % avg_target_0)\n",
    "    print('Median value for avg_target_1 = %0.4f' % avg_target_1)"
   ]
  },
  {
   "cell_type": "code",
   "execution_count": 7,
   "id": "6c14be3a",
   "metadata": {
    "execution": {
     "iopub.execute_input": "2022-11-27T08:10:29.684703Z",
     "iopub.status.busy": "2022-11-27T08:10:29.684214Z",
     "iopub.status.idle": "2022-11-27T08:10:29.708748Z",
     "shell.execute_reply": "2022-11-27T08:10:29.708027Z"
    },
    "papermill": {
     "duration": 0.039866,
     "end_time": "2022-11-27T08:10:29.710687",
     "exception": false,
     "start_time": "2022-11-27T08:10:29.670821",
     "status": "completed"
    },
    "tags": []
   },
   "outputs": [],
   "source": [
    "def train_model(train,test,params,stratified,num_folds,drop_features,seed_num=1):\n",
    "    \n",
    "    seed_everything(seed_num)\n",
    "    \n",
    "    # Divide in training/validation and test data\n",
    "    train_df = train.copy()\n",
    "    test_df = test.copy()\n",
    "\n",
    "    # label encoding \n",
    "    encoder = LabelEncoder()\n",
    "    categorical_features = [i for i in train_df.select_dtypes(include=['object','category']).columns.tolist() if i not in ['ID']]\n",
    "    categorical_features = [i for i in categorical_features if i in train_df.columns.tolist()]\n",
    "    for each in categorical_features:\n",
    "        train_df[each] = encoder.fit_transform(train_df[each])\n",
    "        test_df[each] = encoder.fit_transform(test_df[each])\n",
    "\n",
    "    # set training options\n",
    "    stratified = stratified\n",
    "    num_folds = num_folds\n",
    "\n",
    "    # Cross validation model\n",
    "    if stratified:\n",
    "        folds = StratifiedKFold(n_splits= num_folds, shuffle=True, random_state=seed_num)\n",
    "    else:\n",
    "        folds = KFold(n_splits= num_folds, shuffle=True, random_state=seed_num)\n",
    "\n",
    "    # Create arrays and dataframes to store results\n",
    "    oof_preds_lgb = np.zeros(train_df.shape[0])\n",
    "    sub_preds_lgb = np.zeros(test_df.shape[0])\n",
    "    feature_importance_df = pd.DataFrame()\n",
    "    feats = [f for f in train_df.columns if f not in ['Y_LABEL','ID','SAMPLE_TRANSFER_DAY']+drop_features]\n",
    "\n",
    "    for n_fold, (train_idx, valid_idx) in enumerate(folds.split(train_df[feats], train_df['Y_LABEL'])):\n",
    "        train_x, train_y = train_df[feats].iloc[train_idx], train_df['Y_LABEL'].iloc[train_idx]\n",
    "        valid_x, valid_y = train_df[feats].iloc[valid_idx], train_df['Y_LABEL'].iloc[valid_idx]\n",
    "\n",
    "        \"\"\"        \n",
    "        learning_rate=0.02,\n",
    "        num_leaves=34,\n",
    "        colsample_bytree=0.2,\n",
    "        subsample=0.8715623,\n",
    "        max_depth=4,\n",
    "        reg_alpha=0.041545473,\n",
    "        reg_lambda=0.0735294,\n",
    "        min_split_gain=0.0222415,\n",
    "        min_child_weight=39.3259775,\n",
    "        min_child_samples = 10,\n",
    "        \"\"\"\n",
    "\n",
    "        # LightGBM parameters found by Bayesian optimization\n",
    "        clf = LGBMClassifier(\n",
    "            \n",
    "            learning_rate = params['learning_rate'],\n",
    "            num_leaves = int(round(params['num_leaves'])),\n",
    "            colsample_bytree = params['colsample_bytree'],\n",
    "            subsample = params['subsample'],\n",
    "            max_depth = int(round(params['max_depth'])),\n",
    "            reg_alpha = params['reg_alpha'],\n",
    "            reg_lambda = params['reg_lambda'],\n",
    "            min_split_gain = params['min_split_gain'],\n",
    "            min_child_weight = params['min_child_weight'],\n",
    "            min_child_samples = int(round(params['min_child_samples'])),    \n",
    "            \n",
    "            n_jobs = -1,\n",
    "            n_estimators = 10000,            \n",
    "            random_state = seed_num,\n",
    "            silent=-1,\n",
    "            deterministic=True,\n",
    "            verbose=-1\n",
    "        )\n",
    "        \n",
    "        with warnings.catch_warnings():\n",
    "            \n",
    "            warnings.filterwarnings('ignore')\n",
    "\n",
    "            clf.fit(\n",
    "                  train_x\n",
    "                , train_y\n",
    "                , eval_set=[(train_x, train_y), (valid_x, valid_y)]\n",
    "                , eval_metric= 'auc'\n",
    "                , verbose= 200\n",
    "                , early_stopping_rounds= 500\n",
    "            )\n",
    "\n",
    "        oof_preds_lgb[valid_idx] = clf.predict_proba(valid_x, num_iteration=clf.best_iteration_)[:, 1]\n",
    "        sub_preds_lgb += clf.predict_proba(test_df[feats], num_iteration=clf.best_iteration_)[:, 1] / folds.n_splits\n",
    "\n",
    "        fold_importance_df = pd.DataFrame()\n",
    "        fold_importance_df[\"feature\"] = feats\n",
    "        fold_importance_df[\"importance\"] = clf.feature_importances_\n",
    "        fold_importance_df[\"fold\"] = n_fold + 1\n",
    "        feature_importance_df = pd.concat([feature_importance_df, fold_importance_df], axis=0)\n",
    "        print('Fold %2d AUC : %.6f' % (n_fold + 1, roc_auc_score(valid_y, oof_preds_lgb[valid_idx])))\n",
    "\n",
    "    print('Full AUC score %.6f' % roc_auc_score(train_df['Y_LABEL'], oof_preds_lgb))\n",
    "\n",
    "    # Write submission file and plot feature importance\n",
    "    test_df['Y_LABEL_lgb'] = sub_preds_lgb\n",
    "\n",
    "    # vi\n",
    "    print('-'*50)\n",
    "    # display(feature_importance_df.groupby(['feature'])['importance'].sum().sort_values(ascending=False).head(20))\n",
    "    # print('-'*50)\n",
    "    # display_importances(feature_importance_df)\n",
    "\n",
    "    # find the best thred for f1-score\n",
    "    f1_score_df = pd.DataFrame()\n",
    "    for thred in [i/1000 for i in range(0,1000,1)]:\n",
    "\n",
    "        a1 = pd.DataFrame()\n",
    "        f1 = f1_score(train_df['Y_LABEL'], np.where(oof_preds_lgb>thred,1,0), average='macro')\n",
    "        a1['f1'] = [f1]\n",
    "        a1['thred'] = [thred]\n",
    "        f1_score_df = pd.concat([f1_score_df, a1], axis=0)\n",
    "\n",
    "    thred = f1_score_df.loc[f1_score_df['f1']==f1_score_df['f1'].max(),'thred'].tolist()[0]\n",
    "    print('thred:',thred)\n",
    "    print('ncol',len(feats))\n",
    "\n",
    "    # train err\n",
    "    a1 = roc_auc_score(train_df['Y_LABEL'], oof_preds_lgb)\n",
    "    print('auc:',a1)\n",
    "    f1 = f1_score(train_df['Y_LABEL'], np.where(oof_preds_lgb>thred,1,0), average='macro')\n",
    "    print('f1:',f1)\n",
    "    a1 = train_df['Y_LABEL'].value_counts()/len(train_df)\n",
    "    print('Target ratio(real):',(a1[1]))\n",
    "\n",
    "    # test err\n",
    "    test_df['TARGET'] = np.where(test_df['Y_LABEL_lgb']>thred,1,0)\n",
    "    a1 = test_df['TARGET'].value_counts()/len(test_df)\n",
    "    print('Target ratio(pred):',(a1[1]))\n",
    "    print('Target sum:',test_df['TARGET'].sum())\n",
    "\n",
    "    # save \n",
    "    train_df['Y_LABEL_lgb'] = oof_preds_lgb\n",
    "    a1 = train_df[['ID','YEAR','COMPONENT_ARBITRARY','Y_LABEL_lgb','Y_LABEL']].copy()\n",
    "    a1.to_csv('train_pred_'+str(seed_num)+'_'+str(np.round(f1,10))+'.csv', index= False)    \n",
    "    a1 = test_df[['ID','YEAR','COMPONENT_ARBITRARY','Y_LABEL_lgb']].copy()\n",
    "    a1.to_csv('test_pred_'+str(seed_num)+'_'+str(np.round(f1,10))+'.csv', index= False)\n",
    "    \n",
    "    # submit\n",
    "    a1 = test_df[['ID', 'TARGET']].copy()\n",
    "    a1 = a1.rename(columns={'TARGET':'Y_LABEL'})\n",
    "    submission_file_name = 'sample_submission_lgb_'+str(np.round(f1,4))+'.csv'\n",
    "    a1.to_csv(submission_file_name, index= False)"
   ]
  },
  {
   "cell_type": "code",
   "execution_count": 8,
   "id": "0adfe459",
   "metadata": {
    "execution": {
     "iopub.execute_input": "2022-11-27T08:10:29.736086Z",
     "iopub.status.busy": "2022-11-27T08:10:29.735633Z",
     "iopub.status.idle": "2022-11-27T08:10:29.755625Z",
     "shell.execute_reply": "2022-11-27T08:10:29.754717Z"
    },
    "papermill": {
     "duration": 0.035302,
     "end_time": "2022-11-27T08:10:29.757827",
     "exception": false,
     "start_time": "2022-11-27T08:10:29.722525",
     "status": "completed"
    },
    "tags": []
   },
   "outputs": [],
   "source": [
    "def bayes_parameter_opt_lgb(\n",
    "    train, \n",
    "    opt_params, \n",
    "    init_round=15, \n",
    "    opt_round=25, \n",
    "    n_folds=3, \n",
    "    random_seed=1, \n",
    "    n_estimators=10000, \n",
    "    output_process=False, \n",
    "    drop_features=[]\n",
    "    ):   \n",
    "    \n",
    "    seed_everything(1)\n",
    "    \n",
    "    train_df = train.copy()\n",
    "\n",
    "    # label encoding \n",
    "    encoder = LabelEncoder()\n",
    "    categorical_features = [i for i in train_df.select_dtypes(include=['object','category']).columns.tolist() if i not in ['ID']]\n",
    "    categorical_features = [i for i in categorical_features if i in train_df.columns.tolist()]\n",
    "    for each in categorical_features:\n",
    "        train_df[each] = encoder.fit_transform(train_df[each])\n",
    "        \n",
    "    # feats = [f for f in train_df.columns if f not in ['Y_LABEL','ID','SAMPLE_TRANSFER_DAY']]    \n",
    "    # X = train_df[feats].copy()\n",
    "    # y = train_df['Y_LABEL'].copy()\n",
    "    \n",
    "    # prepare data\n",
    "    # train_data = lgb.Dataset(data=X, label=y, free_raw_data=False)\n",
    "    \n",
    "    # parameters\n",
    "    def lgb_eval(\n",
    "          learning_rate\n",
    "        , num_leaves\n",
    "        , colsample_bytree\n",
    "        , subsample\n",
    "        , max_depth\n",
    "        , reg_alpha\n",
    "        , reg_lambda\n",
    "        , min_split_gain\n",
    "        , min_child_weight\n",
    "        , min_child_samples\n",
    "\n",
    "    ):\n",
    "        \n",
    "        params = {'application':'binary', 'metric':'auc'}\n",
    "        params['learning_rate'] = max(min(learning_rate, 1), 0)\n",
    "        params[\"num_leaves\"] = int(round(num_leaves))\n",
    "        params['colsample_bytree'] = max(min(colsample_bytree, 1), 0)\n",
    "        params['subsample'] = max(min(subsample, 1), 0)\n",
    "        params['max_depth'] = int(round(max_depth))        \n",
    "        params['reg_alpha'] = reg_alpha\n",
    "        params['reg_lambda'] = reg_lambda        \n",
    "        params['min_split_gain'] = min_split_gain\n",
    "        params['min_child_weight'] = min_child_weight\n",
    "        params['min_child_samples'] = int(round(min_child_samples))\n",
    "        \n",
    "        # cv_result = lgb.cv(params, train_data, nfold=n_folds, seed=random_seed, stratified=True, verbose_eval =200, metrics=['auc'])\n",
    "        \n",
    "        # -----        \n",
    "        \n",
    "        stratified = True\n",
    "        \n",
    "        # Cross validation model\n",
    "        if stratified:\n",
    "            folds = StratifiedKFold(n_splits= 5, shuffle=True, random_state=1)\n",
    "        else:\n",
    "            folds = KFold(n_splits= 5, shuffle=True, random_state=1)\n",
    "\n",
    "        # Create arrays and dataframes to store results\n",
    "        oof_preds_lgb = np.zeros(train_df.shape[0])\n",
    "\n",
    "        feats = [f for f in train_df.columns if f not in ['Y_LABEL','ID','SAMPLE_TRANSFER_DAY']+drop_features]\n",
    "\n",
    "        for n_fold, (train_idx, valid_idx) in enumerate(folds.split(train_df[feats], train_df['Y_LABEL'])):\n",
    "            train_x, train_y = train_df[feats].iloc[train_idx], train_df['Y_LABEL'].iloc[train_idx]\n",
    "            valid_x, valid_y = train_df[feats].iloc[valid_idx], train_df['Y_LABEL'].iloc[valid_idx]\n",
    "\n",
    "            # LightGBM parameters found by Bayesian optimization\n",
    "            clf = LGBMClassifier(\n",
    "\n",
    "                **params,\n",
    "\n",
    "                n_jobs = -1,\n",
    "                n_estimators = 10000,            \n",
    "                random_state = 1,\n",
    "                silent=True,\n",
    "                deterministic=True,\n",
    "                verbose=-100\n",
    "            )\n",
    "\n",
    "            with warnings.catch_warnings():\n",
    "\n",
    "                warnings.filterwarnings('ignore')\n",
    "\n",
    "                clf.fit(\n",
    "                      train_x\n",
    "                    , train_y\n",
    "                    , eval_set=[(train_x, train_y), (valid_x, valid_y)]\n",
    "                    , eval_metric= 'auc'\n",
    "                    , verbose= False\n",
    "                    , early_stopping_rounds= 500\n",
    "                )\n",
    "\n",
    "            oof_preds_lgb[valid_idx] = clf.predict_proba(valid_x, num_iteration=clf.best_iteration_)[:, 1]\n",
    "\n",
    "        cv_result = roc_auc_score(train_df['Y_LABEL'], oof_preds_lgb)        \n",
    "       \n",
    "        # ----\n",
    "\n",
    "        return cv_result\n",
    "\n",
    "    lgbBO = BayesianOptimization(lgb_eval, opt_params, random_state=1)\n",
    "    \n",
    "    with warnings.catch_warnings():\n",
    "        warnings.filterwarnings('ignore')\n",
    "        lgbBO.maximize(init_points=init_round, n_iter=opt_round, acq='ucb')\n",
    "    \n",
    "    model_auc=[]\n",
    "    for model in range(len( lgbBO.res)):\n",
    "        model_auc.append(lgbBO.res[model]['target'])\n",
    "    \n",
    "    a1 = lgbBO.res[pd.Series(model_auc).idxmax()]['target'],lgbBO.res[pd.Series(model_auc).idxmax()]['params']\n",
    "    file_name = 'res_tune_'+str(len(drop_features))+'_'+str(a1[0])+'.joblib'    \n",
    "    joblib.dump(a1[1],file_name)\n",
    "    \n",
    "    return a1"
   ]
  },
  {
   "cell_type": "code",
   "execution_count": 9,
   "id": "ef54a74b",
   "metadata": {
    "execution": {
     "iopub.execute_input": "2022-11-27T08:10:29.783705Z",
     "iopub.status.busy": "2022-11-27T08:10:29.783406Z",
     "iopub.status.idle": "2022-11-27T08:10:29.926068Z",
     "shell.execute_reply": "2022-11-27T08:10:29.924630Z"
    },
    "papermill": {
     "duration": 0.158263,
     "end_time": "2022-11-27T08:10:29.928387",
     "exception": false,
     "start_time": "2022-11-27T08:10:29.770124",
     "status": "completed"
    },
    "tags": []
   },
   "outputs": [],
   "source": [
    "# read data\n",
    "train = pd.read_csv('/kaggle/input/dacon001/open/train.csv')\n",
    "test = pd.read_csv('/kaggle/input/dacon001/open/test.csv')\n",
    "sample_submission = pd.read_csv('/kaggle/input/dacon001/open/sample_submission.csv')\n",
    "original_columns = test.columns.tolist()"
   ]
  },
  {
   "cell_type": "code",
   "execution_count": 10,
   "id": "6ee6eb03",
   "metadata": {
    "execution": {
     "iopub.execute_input": "2022-11-27T08:10:29.953729Z",
     "iopub.status.busy": "2022-11-27T08:10:29.953408Z",
     "iopub.status.idle": "2022-11-27T08:10:29.976165Z",
     "shell.execute_reply": "2022-11-27T08:10:29.975152Z"
    },
    "papermill": {
     "duration": 0.038045,
     "end_time": "2022-11-27T08:10:29.978478",
     "exception": false,
     "start_time": "2022-11-27T08:10:29.940433",
     "status": "completed"
    },
    "tags": []
   },
   "outputs": [],
   "source": [
    "# test데이터셋에 있는 변수만 선택 \n",
    "train = train[test.columns.to_list()+['Y_LABEL','SAMPLE_TRANSFER_DAY']].copy()"
   ]
  },
  {
   "cell_type": "markdown",
   "id": "c246458a",
   "metadata": {
    "papermill": {
     "duration": 0.011507,
     "end_time": "2022-11-27T08:10:30.001899",
     "exception": false,
     "start_time": "2022-11-27T08:10:29.990392",
     "status": "completed"
    },
    "tags": []
   },
   "source": [
    "## // 파생변수 생성"
   ]
  },
  {
   "cell_type": "code",
   "execution_count": 11,
   "id": "97cd7cd3",
   "metadata": {
    "execution": {
     "iopub.execute_input": "2022-11-27T08:10:30.027501Z",
     "iopub.status.busy": "2022-11-27T08:10:30.026814Z",
     "iopub.status.idle": "2022-11-27T08:10:34.332706Z",
     "shell.execute_reply": "2022-11-27T08:10:34.330869Z"
    },
    "papermill": {
     "duration": 4.321294,
     "end_time": "2022-11-27T08:10:34.335050",
     "exception": false,
     "start_time": "2022-11-27T08:10:30.013756",
     "status": "completed"
    },
    "tags": []
   },
   "outputs": [
    {
     "data": {
      "text/plain": [
       "'\\nerr features\\n'"
      ]
     },
     "execution_count": 11,
     "metadata": {},
     "output_type": "execute_result"
    }
   ],
   "source": [
    "\"\"\"\n",
    "new features \n",
    "\"\"\"\n",
    "\n",
    "train['YEAR_COMPONENT'] = train[['YEAR','COMPONENT_ARBITRARY']].apply(lambda x: '-'.join(x.astype(str)),axis=1)\n",
    "test['YEAR_COMPONENT'] = test[['YEAR','COMPONENT_ARBITRARY']].apply(lambda x: '-'.join(x.astype(str)),axis=1)\n",
    "\n",
    "var = [i for i in test.columns.tolist() if i not in ['ID','COMPONENT_ARBITRARY']]\n",
    "train['zero_cnt'] = train[var].apply(lambda x:(x==0).sum(),axis=1)\n",
    "test['zero_cnt'] = test[var].apply(lambda x:(x==0).sum(),axis=1)\n",
    "\n",
    "\"\"\"\n",
    "err features\n",
    "\"\"\"\n",
    "\n",
    "# train['ANONYMOUS_1_2000'] = np.where(train['ANONYMOUS_1']>2000,1,0)\n",
    "# train['ANONYMOUS_2_200'] = np.where(train['ANONYMOUS_2']>200,1,0)\n",
    "# train['CO_1.5'] = np.where(train['CO']>1.5,1,0)\n",
    "# train['CR_100'] = np.where(train['CR']>100,1,0)\n",
    "# train['FE_5000'] = np.where(train['FE']>5000,1,0)\n",
    "# train['MN_5000'] = np.where(train['MN']>55,1,0)\n",
    "# train['NI_14'] = np.where(train['NI']>14,1,0)\n",
    "\n",
    "# test['ANONYMOUS_1_2000'] = np.where(test['ANONYMOUS_1']>2000,1,0)\n",
    "# test['ANONYMOUS_2_200'] = np.where(test['ANONYMOUS_2']>200,1,0)\n",
    "# test['CO_1.5'] = np.where(test['CO']>1.5,1,0)\n",
    "# test['CR_100'] = np.where(test['CR']>100,1,0)\n",
    "# test['FE_5000'] = np.where(test['FE']>5000,1,0)\n",
    "# test['MN_5000'] = np.where(test['MN']>55,1,0)\n",
    "# test['NI_14'] = np.where(test['NI']>14,1,0)"
   ]
  },
  {
   "cell_type": "code",
   "execution_count": 12,
   "id": "6f3ea28e",
   "metadata": {
    "execution": {
     "iopub.execute_input": "2022-11-27T08:10:34.360876Z",
     "iopub.status.busy": "2022-11-27T08:10:34.360560Z",
     "iopub.status.idle": "2022-11-27T08:10:34.374906Z",
     "shell.execute_reply": "2022-11-27T08:10:34.373407Z"
    },
    "papermill": {
     "duration": 0.029801,
     "end_time": "2022-11-27T08:10:34.377098",
     "exception": false,
     "start_time": "2022-11-27T08:10:34.347297",
     "status": "completed"
    },
    "tags": []
   },
   "outputs": [],
   "source": [
    "\"\"\"\n",
    "transformation \n",
    "\"\"\"\n",
    "\n",
    "for var in ['ANONYMOUS_1','PQINDEX','V40','ZN','FE']:\n",
    "    \n",
    "    train[var+'_log1'] = np.log(train[var]+1)\n",
    "    test[var+'_log1'] = np.log(test[var]+1)"
   ]
  },
  {
   "cell_type": "code",
   "execution_count": 13,
   "id": "478a1a78",
   "metadata": {
    "execution": {
     "iopub.execute_input": "2022-11-27T08:10:34.403049Z",
     "iopub.status.busy": "2022-11-27T08:10:34.402498Z",
     "iopub.status.idle": "2022-11-27T08:10:34.417955Z",
     "shell.execute_reply": "2022-11-27T08:10:34.416845Z"
    },
    "papermill": {
     "duration": 0.030672,
     "end_time": "2022-11-27T08:10:34.420179",
     "exception": false,
     "start_time": "2022-11-27T08:10:34.389507",
     "status": "completed"
    },
    "tags": []
   },
   "outputs": [],
   "source": [
    "\"\"\"\n",
    "normalization\n",
    "\"\"\" \n",
    "\n",
    "for var in ['ZN','FE','CU','V40','MO','CR','NI','ANONYMOUS_1','ANONYMOUS_2']:\n",
    "    \n",
    "    ZN_min = train[var].min()\n",
    "    ZN_max = train[var].max()\n",
    "    train[var] = (train[var] - ZN_min) / (ZN_max-ZN_min)\n",
    "    test[var] = (test[var] - ZN_min) / (ZN_max-ZN_min)"
   ]
  },
  {
   "cell_type": "code",
   "execution_count": 14,
   "id": "017820da",
   "metadata": {
    "execution": {
     "iopub.execute_input": "2022-11-27T08:10:34.446276Z",
     "iopub.status.busy": "2022-11-27T08:10:34.445910Z",
     "iopub.status.idle": "2022-11-27T08:10:34.485082Z",
     "shell.execute_reply": "2022-11-27T08:10:34.483723Z"
    },
    "papermill": {
     "duration": 0.054962,
     "end_time": "2022-11-27T08:10:34.487446",
     "exception": false,
     "start_time": "2022-11-27T08:10:34.432484",
     "status": "completed"
    },
    "tags": []
   },
   "outputs": [],
   "source": [
    "\"\"\"\n",
    "feature combination\n",
    "\"\"\"\n",
    "\n",
    "seed_everything(1)\n",
    "\n",
    "from itertools import chain, product \n",
    "candidate_var = ['ZN','FE','CU','V40','MO','CR','NI','ANONYMOUS_1','ANONYMOUS_2']\n",
    "pairs = list(chain(product(candidate_var, candidate_var), product(candidate_var, candidate_var))) \n",
    "pairs = pd.Series([sorted([i,j]) for (i,j) in set(pairs) if i!=j]).drop_duplicates().reset_index(drop=True).tolist()\n",
    "pairs = sorted(pairs)\n",
    "# pairs = pairs.sort_values()\n",
    "# random.shuffle(pairs)\n",
    "# print(pairs)\n",
    "\n",
    "for i in range(len(pairs)):\n",
    "\n",
    "    train[pairs[i][0]+'_'+pairs[i][1]] = train[pairs[i][0]] * train[pairs[i][1]]\n",
    "    test[pairs[i][0]+'_'+pairs[i][1]] = test[pairs[i][0]] * test[pairs[i][1]] "
   ]
  },
  {
   "cell_type": "code",
   "execution_count": 15,
   "id": "2df32baf",
   "metadata": {
    "execution": {
     "iopub.execute_input": "2022-11-27T08:10:34.512669Z",
     "iopub.status.busy": "2022-11-27T08:10:34.512345Z",
     "iopub.status.idle": "2022-11-27T08:10:35.757457Z",
     "shell.execute_reply": "2022-11-27T08:10:35.756480Z"
    },
    "papermill": {
     "duration": 1.260326,
     "end_time": "2022-11-27T08:10:35.759635",
     "exception": false,
     "start_time": "2022-11-27T08:10:34.499309",
     "status": "completed"
    },
    "tags": []
   },
   "outputs": [],
   "source": [
    "\"\"\"\n",
    "woe features \n",
    "\"\"\"\n",
    "\n",
    "for variable in ['ANONYMOUS_1','PQINDEX','V40','ZN','FE']+['ANONYMOUS_1_V40', 'ANONYMOUS_1_CR', 'ANONYMOUS_1_ZN','ANONYMOUS_1_FE']:\n",
    "\n",
    "    optb = OptimalBinning(name=variable, dtype=\"numerical\", solver=\"cp\")\n",
    "\n",
    "    x = train[variable].values\n",
    "    y = train['Y_LABEL']\n",
    "\n",
    "    optb.fit(x, y)\n",
    "\n",
    "    binning_table = optb.binning_table\n",
    "\n",
    "    a1 = binning_table.build()\n",
    "    \n",
    "    # check \n",
    "    # print('iv:',a1['IV'].sum())\n",
    "    # display(a1)\n",
    "    # binning_table.plot(metric=\"event_rate\")\n",
    "\n",
    "    train[variable+'_woe_bin'] = pd.cut(train[variable],bins=optb.splits.tolist()).astype(str)\n",
    "    test[variable+'_woe_bin'] = pd.cut(test[variable],bins=optb.splits.tolist()).astype(str)"
   ]
  },
  {
   "cell_type": "code",
   "execution_count": 16,
   "id": "f2e547c3",
   "metadata": {
    "execution": {
     "iopub.execute_input": "2022-11-27T08:10:35.784764Z",
     "iopub.status.busy": "2022-11-27T08:10:35.784477Z",
     "iopub.status.idle": "2022-11-27T08:10:38.008127Z",
     "shell.execute_reply": "2022-11-27T08:10:38.007453Z"
    },
    "papermill": {
     "duration": 2.238623,
     "end_time": "2022-11-27T08:10:38.010166",
     "exception": false,
     "start_time": "2022-11-27T08:10:35.771543",
     "status": "completed"
    },
    "tags": []
   },
   "outputs": [],
   "source": [
    "\"\"\"\n",
    "group operations\n",
    "\"\"\"\n",
    "\n",
    "opt_numeric_var = ['ANONYMOUS_1_V40', 'ANONYMOUS_1_CR', 'ANONYMOUS_1_ZN','ANONYMOUS_1_FE']\n",
    "\n",
    "for group in ['COMPONENT_ARBITRARY','YEAR_COMPONENT','YEAR']+['FE_woe_bin']:\n",
    "\n",
    "    for numeric_var in ['ZN','FE','V40','PQINDEX','CU','ANONYMOUS_1','ANONYMOUS_2']+opt_numeric_var:\n",
    "        \n",
    "        train = train.copy()\n",
    "        test = test.copy()\n",
    "\n",
    "        a1 = train.groupby([group])[numeric_var].median().to_dict()\n",
    "\n",
    "        train[numeric_var+'_'+group+'_'+'median'] = train[group].map(a1)\n",
    "        test[numeric_var+'_'+group+'_'+'median'] = test[group].map(a1)\n",
    "\n",
    "        train[numeric_var+'_minus_'+numeric_var+'_'+group+'_'+'median'] = train[numeric_var] - train[numeric_var+'_'+group+'_'+'median']\n",
    "        test[numeric_var+'_minus_'+numeric_var+'_'+group+'_'+'median'] = test[numeric_var] - test[numeric_var+'_'+group+'_'+'median']\n",
    "        \n",
    "        train[numeric_var+'_divide_'+numeric_var+'_'+group+'_'+'median'] = np.log(train[numeric_var]+0.00001) / np.log(train[numeric_var+'_'+group+'_'+'median']+0.00001) \n",
    "        test[numeric_var+'_divide_'+numeric_var+'_'+group+'_'+'median'] = np.log(test[numeric_var]+0.00001) / np.log(test[numeric_var+'_'+group+'_'+'median']+0.00001)\n",
    "        \n",
    "        \n",
    "        a1 = train.groupby([group])[numeric_var].max().to_dict()\n",
    "\n",
    "        train[numeric_var+'_'+group+'_'+'max'] = train[group].map(a1)\n",
    "        test[numeric_var+'_'+group+'_'+'max'] = test[group].map(a1)\n",
    "\n",
    "        train[numeric_var+'_minus_'+numeric_var+'_'+group+'_'+'max'] = train[numeric_var] - train[numeric_var+'_'+group+'_'+'max']\n",
    "        test[numeric_var+'_minus_'+numeric_var+'_'+group+'_'+'max'] = test[numeric_var] - test[numeric_var+'_'+group+'_'+'max']\n",
    "        \n",
    "        train[numeric_var+'_divide_'+numeric_var+'_'+group+'_'+'max'] = np.log(train[numeric_var]+0.00001) / np.log(train[numeric_var+'_'+group+'_'+'max']+0.00001)\n",
    "        test[numeric_var+'_divide_'+numeric_var+'_'+group+'_'+'max'] = np.log(test[numeric_var]+0.00001) / np.log(test[numeric_var+'_'+group+'_'+'max']+0.00001)\n",
    "        \n",
    "        \n",
    "        a1 = train.groupby([group])[numeric_var].min().to_dict()\n",
    "\n",
    "        train[numeric_var+'_'+group+'_'+'min'] = train[group].map(a1)\n",
    "        test[numeric_var+'_'+group+'_'+'min'] = test[group].map(a1)\n",
    "\n",
    "        train[numeric_var+'_minus_'+numeric_var+'_'+group+'_'+'min'] = train[numeric_var] - train[numeric_var+'_'+group+'_'+'min']\n",
    "        test[numeric_var+'_minus_'+numeric_var+'_'+group+'_'+'min'] = test[numeric_var] - test[numeric_var+'_'+group+'_'+'min']\n",
    "        \n",
    "        train[numeric_var+'_divide_'+numeric_var+'_'+group+'_'+'min'] = np.log(train[numeric_var]+0.00001) / np.log(train[numeric_var+'_'+group+'_'+'min']+0.00001) \n",
    "        test[numeric_var+'_divide_'+numeric_var+'_'+group+'_'+'min'] = np.log(test[numeric_var]+0.00001) / np.log(test[numeric_var+'_'+group+'_'+'min']+0.00001) \n",
    "        \n",
    "        \n",
    "        a1 = train.groupby([group])[numeric_var].sum().to_dict()\n",
    "\n",
    "        train[numeric_var+'_'+group+'_'+'sum'] = train[group].map(a1)\n",
    "        test[numeric_var+'_'+group+'_'+'sum'] = test[group].map(a1)\n",
    "\n",
    "        train[numeric_var+'_minus_'+numeric_var+'_'+group+'_'+'sum'] = train[numeric_var] - train[numeric_var+'_'+group+'_'+'sum']\n",
    "        test[numeric_var+'_minus_'+numeric_var+'_'+group+'_'+'sum'] = test[numeric_var] - test[numeric_var+'_'+group+'_'+'sum']\n",
    "        \n",
    "        train[numeric_var+'_divide_'+numeric_var+'_'+group+'_'+'sum'] = np.log(train[numeric_var]+0.00001) / np.log(train[numeric_var+'_'+group+'_'+'sum']+0.00001)\n",
    "        test[numeric_var+'_divide_'+numeric_var+'_'+group+'_'+'sum'] = np.log(test[numeric_var]+0.00001) / np.log(test[numeric_var+'_'+group+'_'+'sum']+0.00001)\n",
    "        "
   ]
  },
  {
   "cell_type": "code",
   "execution_count": 17,
   "id": "8021f3b2",
   "metadata": {
    "execution": {
     "iopub.execute_input": "2022-11-27T08:10:38.035674Z",
     "iopub.status.busy": "2022-11-27T08:10:38.034770Z",
     "iopub.status.idle": "2022-11-27T08:10:38.039427Z",
     "shell.execute_reply": "2022-11-27T08:10:38.038834Z"
    },
    "papermill": {
     "duration": 0.01919,
     "end_time": "2022-11-27T08:10:38.041172",
     "exception": false,
     "start_time": "2022-11-27T08:10:38.021982",
     "status": "completed"
    },
    "tags": []
   },
   "outputs": [],
   "source": [
    "# # 테스트중 \n",
    "\n",
    "# for g_fun in ['median']:\n",
    "    \n",
    "#     for fun_name in ['_minus_','_divide_']:\n",
    "\n",
    "#         a1 = [\n",
    "#              'ZN_divide_ZN_YEAR_COMPONENT_median',\n",
    "#              'FE_divide_FE_YEAR_COMPONENT_median',\n",
    "#              'V40_divide_V40_YEAR_COMPONENT_median',\n",
    "#              'CU_divide_CU_YEAR_COMPONENT_median',\n",
    "#              'ANONYMOUS_1_divide_ANONYMOUS_1_YEAR_COMPONENT_median',\n",
    "#              'ANONYMOUS_2_divide_ANONYMOUS_2_YEAR_COMPONENT_median'\n",
    "#         ]\n",
    "\n",
    "#         train[g_fun+fun_name+'diff_g_std'] = train[a1].apply(lambda x:x.std(),axis=1)\n",
    "#         test[g_fun+fun_name+'diff_g_std'] = test[a1].apply(lambda x:x.std(),axis=1)"
   ]
  },
  {
   "cell_type": "code",
   "execution_count": 18,
   "id": "720763f9",
   "metadata": {
    "execution": {
     "iopub.execute_input": "2022-11-27T08:10:38.066219Z",
     "iopub.status.busy": "2022-11-27T08:10:38.065923Z",
     "iopub.status.idle": "2022-11-27T08:10:40.840623Z",
     "shell.execute_reply": "2022-11-27T08:10:40.839693Z"
    },
    "papermill": {
     "duration": 2.789869,
     "end_time": "2022-11-27T08:10:40.842695",
     "exception": false,
     "start_time": "2022-11-27T08:10:38.052826",
     "status": "completed"
    },
    "tags": []
   },
   "outputs": [],
   "source": [
    "\"\"\"\n",
    "count encoding\n",
    "\"\"\"\n",
    "\n",
    "opt_numeric_var = ['ANONYMOUS_1_V40', 'ANONYMOUS_1_CR', 'ANONYMOUS_1_ZN','ANONYMOUS_1_FE']\n",
    "\n",
    "for group in ['COMPONENT_ARBITRARY','YEAR_COMPONENT','YEAR']+['FE_woe_bin']:    \n",
    "    \n",
    "    for numeric_var in ['ZN','FE','V40','PQINDEX','CU','ANONYMOUS_1','ANONYMOUS_2']+opt_numeric_var:\n",
    "        \n",
    "        train = train.copy()\n",
    "        test = test.copy()\n",
    "\n",
    "        a1 = train.groupby([group])[numeric_var].value_counts().to_dict()    \n",
    "        train[var+'_cnt'] = train[var].map(a1)\n",
    "        test[var+'_cnt'] = test[var].map(a1)\n",
    "        \n",
    "        a1 = train.groupby([group])[numeric_var].nunique().to_dict()\n",
    "        train[var+'_nunique'] = train[var].map(a1)\n",
    "        test[var+'_nunique'] = test[var].map(a1)"
   ]
  },
  {
   "cell_type": "code",
   "execution_count": 19,
   "id": "2193e482",
   "metadata": {
    "execution": {
     "iopub.execute_input": "2022-11-27T08:10:40.868496Z",
     "iopub.status.busy": "2022-11-27T08:10:40.867357Z",
     "iopub.status.idle": "2022-11-27T08:10:45.289074Z",
     "shell.execute_reply": "2022-11-27T08:10:45.287499Z"
    },
    "papermill": {
     "duration": 4.436742,
     "end_time": "2022-11-27T08:10:45.291630",
     "exception": false,
     "start_time": "2022-11-27T08:10:40.854888",
     "status": "completed"
    },
    "tags": []
   },
   "outputs": [],
   "source": [
    "\"\"\"\n",
    "clustetring features\n",
    "\"\"\"\n",
    "\n",
    "np.random.seed(1)\n",
    "\n",
    "features = ['ZN','FE','V40','CU','MO']\n",
    "\n",
    "# sc = MinMaxScaler((0, 1))\n",
    "# sc_fit = sc.fit(train[features])\n",
    "# train_scaled = sc_fit.transform(train[features])\n",
    "# kmeans = KMeans(n_clusters=15,n_init=25, max_iter = 600, random_state=1).fit(train_scaled)\n",
    "# test_scaled = sc_fit.transform(test[features])\n",
    "# train[\"cluster_no\"] = kmeans.predict(train_scaled)\n",
    "# test[\"cluster_no\"] = kmeans.predict(test_scaled)\n",
    "\n",
    "# 앞에서 min-max 이미 적용 함 \n",
    "kmeans = KMeans(n_clusters=15,n_init=25, max_iter = 600, random_state=1).fit(train[features])\n",
    "train[\"cluster_no\"] = kmeans.predict(train[features])\n",
    "test[\"cluster_no\"] = kmeans.predict(test[features])\n",
    "\n",
    "# check\n",
    "# print(train['cluster_no'].value_counts())\n",
    "\n",
    "for var in ['ANONYMOUS_1','ANONYMOUS_2']+['ANONYMOUS_1_V40', 'ANONYMOUS_1_CR', 'ANONYMOUS_1_ZN','ANONYMOUS_1_FE']:\n",
    "    \n",
    "    a1 = train.groupby(['cluster_no'])[var].mean().to_dict()\n",
    "    train['cluster_no_by'+'_'+var+'_'+'mean'] = train['cluster_no'].map(a1)\n",
    "    test['cluster_no_by'+'_'+var+'_'+'mean'] = test['cluster_no'].map(a1)\n",
    "    \n",
    "    a1 = train.groupby(['cluster_no'])[var].median().to_dict()\n",
    "    train['cluster_no_by'+'_'+var+'_'+'median'] = train['cluster_no'].map(a1)\n",
    "    test['cluster_no_by'+'_'+var+'_'+'median'] = test['cluster_no'].map(a1)\n",
    "\n",
    "    a1 = train.groupby(['cluster_no'])[var].max().to_dict()\n",
    "    train['cluster_no_by'+'_'+var+'_'+'max'] = train['cluster_no'].map(a1)\n",
    "    test['cluster_no_by'+'_'+var+'_'+'max'] = test['cluster_no'].map(a1)\n",
    "\n",
    "    a1 = train.groupby(['cluster_no'])[var].min().to_dict()\n",
    "    train['cluster_no_by'+'_'+var+'_'+'min'] = train['cluster_no'].map(a1)\n",
    "    test['cluster_no_by'+'_'+var+'_'+'min'] = test['cluster_no'].map(a1)"
   ]
  },
  {
   "cell_type": "code",
   "execution_count": 20,
   "id": "085c6865",
   "metadata": {
    "execution": {
     "iopub.execute_input": "2022-11-27T08:10:45.317260Z",
     "iopub.status.busy": "2022-11-27T08:10:45.316892Z",
     "iopub.status.idle": "2022-11-27T08:10:45.427029Z",
     "shell.execute_reply": "2022-11-27T08:10:45.425943Z"
    },
    "papermill": {
     "duration": 0.126272,
     "end_time": "2022-11-27T08:10:45.430088",
     "exception": false,
     "start_time": "2022-11-27T08:10:45.303816",
     "status": "completed"
    },
    "tags": []
   },
   "outputs": [
    {
     "data": {
      "text/plain": [
       "[]"
      ]
     },
     "execution_count": 20,
     "metadata": {},
     "output_type": "execute_result"
    }
   ],
   "source": [
    "# check inf values \n",
    "a1 = train.select_dtypes(include=['int','float']).apply(lambda x: x.max(),axis=0).reset_index(name='val')\n",
    "a1.loc[a1['val']==np.Inf,'index'].tolist()"
   ]
  },
  {
   "cell_type": "code",
   "execution_count": 21,
   "id": "90a97220",
   "metadata": {
    "execution": {
     "iopub.execute_input": "2022-11-27T08:10:45.456098Z",
     "iopub.status.busy": "2022-11-27T08:10:45.455789Z",
     "iopub.status.idle": "2022-11-27T08:10:45.463317Z",
     "shell.execute_reply": "2022-11-27T08:10:45.461959Z"
    },
    "papermill": {
     "duration": 0.022793,
     "end_time": "2022-11-27T08:10:45.465300",
     "exception": false,
     "start_time": "2022-11-27T08:10:45.442507",
     "status": "completed"
    },
    "tags": []
   },
   "outputs": [
    {
     "data": {
      "text/plain": [
       "\"\\naddtional data \\n\\ntrain_vote = pd.read_csv('/kaggle/input/traintestvote/train_vote.csv')\\ntest_vote = pd.read_csv('/kaggle/input/traintestvote/test_vote.csv')\\n\\na1 = test_vote.loc[test_vote['vote']>30,:]\\nadditional_train1 = test.loc[test['ID'].isin(a1['ID'].tolist()),:].reset_index(drop=True)\\nadditional_train1['Y_LABEL'] = 1\\nprint(len(additional_train1))\\n\\n# a1 = test_vote.loc[test_vote['vote']==0,:]\\n# additional_train0 = test.loc[test['ID'].isin(a1['ID'].tolist()),:].reset_index(drop=True)\\n# additional_train0['Y_LABEL'] = 0\\n# print(len(additional_train0))\\n\\ntrain = pd.concat([train,additional_train1],axis=0).reset_index(drop=True)\\n\""
      ]
     },
     "execution_count": 21,
     "metadata": {},
     "output_type": "execute_result"
    }
   ],
   "source": [
    "\"\"\"\n",
    "addtional data \n",
    "\n",
    "train_vote = pd.read_csv('/kaggle/input/traintestvote/train_vote.csv')\n",
    "test_vote = pd.read_csv('/kaggle/input/traintestvote/test_vote.csv')\n",
    "\n",
    "a1 = test_vote.loc[test_vote['vote']>30,:]\n",
    "additional_train1 = test.loc[test['ID'].isin(a1['ID'].tolist()),:].reset_index(drop=True)\n",
    "additional_train1['Y_LABEL'] = 1\n",
    "print(len(additional_train1))\n",
    "\n",
    "# a1 = test_vote.loc[test_vote['vote']==0,:]\n",
    "# additional_train0 = test.loc[test['ID'].isin(a1['ID'].tolist()),:].reset_index(drop=True)\n",
    "# additional_train0['Y_LABEL'] = 0\n",
    "# print(len(additional_train0))\n",
    "\n",
    "train = pd.concat([train,additional_train1],axis=0).reset_index(drop=True)\n",
    "\"\"\""
   ]
  },
  {
   "cell_type": "markdown",
   "id": "efb66212",
   "metadata": {
    "papermill": {
     "duration": 0.011999,
     "end_time": "2022-11-27T08:10:45.489140",
     "exception": false,
     "start_time": "2022-11-27T08:10:45.477141",
     "status": "completed"
    },
    "tags": []
   },
   "source": [
    "> 모델학습"
   ]
  },
  {
   "cell_type": "code",
   "execution_count": 22,
   "id": "7f3ccb13",
   "metadata": {
    "execution": {
     "iopub.execute_input": "2022-11-27T08:10:45.514892Z",
     "iopub.status.busy": "2022-11-27T08:10:45.514593Z",
     "iopub.status.idle": "2022-11-27T08:10:45.542612Z",
     "shell.execute_reply": "2022-11-27T08:10:45.541917Z"
    },
    "papermill": {
     "duration": 0.043377,
     "end_time": "2022-11-27T08:10:45.544653",
     "exception": false,
     "start_time": "2022-11-27T08:10:45.501276",
     "status": "completed"
    },
    "tags": []
   },
   "outputs": [],
   "source": [
    "def train_model(train,test,params,stratified,num_folds,drop_features,seed_num):\n",
    "    \n",
    "    # start log \n",
    "    print('-'*50)\n",
    "    print('>> seed_num:',seed_num)   \n",
    "    print('>> drop_features:',len(drop_features))\n",
    "    \n",
    "    seed_everything(1)\n",
    "    \n",
    "    # Divide in training/validation and test data\n",
    "    train_df = train.copy()\n",
    "    test_df = test.copy()\n",
    "\n",
    "    # label encoding \n",
    "    encoder = LabelEncoder()\n",
    "    categorical_features = [i for i in train_df.select_dtypes(include=['object','category']).columns.tolist() if i not in ['ID']]\n",
    "    categorical_features = [i for i in categorical_features if i in train_df.columns.tolist()]\n",
    "    for each in categorical_features:\n",
    "        train_df[each] = encoder.fit_transform(train_df[each])\n",
    "        test_df[each] = encoder.fit_transform(test_df[each])\n",
    "\n",
    "    # set training options\n",
    "    stratified = stratified\n",
    "    num_folds = num_folds\n",
    "\n",
    "    # Cross validation model\n",
    "    if stratified:\n",
    "        folds = StratifiedKFold(n_splits= num_folds, shuffle=True, random_state=1)\n",
    "    else:\n",
    "        folds = KFold(n_splits= num_folds, shuffle=True, random_state=1)\n",
    "\n",
    "    # Create arrays and dataframes to store results\n",
    "    oof_preds_lgb = np.zeros(train_df.shape[0])\n",
    "    sub_preds_lgb = np.zeros(test_df.shape[0])\n",
    "    feature_importance_df = pd.DataFrame()\n",
    "    feats = [f for f in train_df.columns if f not in ['Y_LABEL','ID','SAMPLE_TRANSFER_DAY']+drop_features]\n",
    "\n",
    "    for n_fold, (train_idx, valid_idx) in enumerate(folds.split(train_df[feats], train_df['Y_LABEL'])):\n",
    "        train_x, train_y = train_df[feats].iloc[train_idx], train_df['Y_LABEL'].iloc[train_idx]\n",
    "        valid_x, valid_y = train_df[feats].iloc[valid_idx], train_df['Y_LABEL'].iloc[valid_idx]\n",
    "\n",
    "        \"\"\"        \n",
    "        learning_rate=0.02,\n",
    "        num_leaves=34,\n",
    "        colsample_bytree=0.2,\n",
    "        subsample=0.8715623,\n",
    "        max_depth=4,\n",
    "        reg_alpha=0.041545473,\n",
    "        reg_lambda=0.0735294,\n",
    "        min_split_gain=0.0222415,\n",
    "        min_child_weight=39.3259775,\n",
    "        min_child_samples = 10,\n",
    "        \"\"\"\n",
    "\n",
    "        # LightGBM parameters found by Bayesian optimization\n",
    "        clf = LGBMClassifier(\n",
    "            \n",
    "            learning_rate = params['learning_rate'],\n",
    "            num_leaves = int(round(params['num_leaves'])),\n",
    "            colsample_bytree = params['colsample_bytree'],\n",
    "            subsample = params['subsample'],\n",
    "            max_depth = int(round(params['max_depth'])),\n",
    "            reg_alpha = params['reg_alpha'],\n",
    "            reg_lambda = params['reg_lambda'],\n",
    "            min_split_gain = params['min_split_gain'],\n",
    "            min_child_weight = params['min_child_weight'],\n",
    "            min_child_samples = int(round(params['min_child_samples'])),    \n",
    "            \n",
    "            n_jobs = -1,\n",
    "            n_estimators = 10000,            \n",
    "            random_state = seed_num,\n",
    "            silent=-1,\n",
    "            deterministic=True,\n",
    "            verbose=-1\n",
    "        )\n",
    "        \n",
    "        with warnings.catch_warnings():\n",
    "            \n",
    "            warnings.filterwarnings('ignore')\n",
    "\n",
    "            clf.fit(\n",
    "                  train_x\n",
    "                , train_y\n",
    "                , eval_set=[(train_x, train_y), (valid_x, valid_y)]\n",
    "                , eval_metric= 'auc'\n",
    "                , verbose= -1\n",
    "                , early_stopping_rounds= 500\n",
    "            )\n",
    "\n",
    "        oof_preds_lgb[valid_idx] = clf.predict_proba(valid_x, num_iteration=clf.best_iteration_)[:, 1]\n",
    "        sub_preds_lgb += clf.predict_proba(test_df[feats], num_iteration=clf.best_iteration_)[:, 1] / folds.n_splits\n",
    "\n",
    "        fold_importance_df = pd.DataFrame()\n",
    "        fold_importance_df[\"feature\"] = feats\n",
    "        fold_importance_df[\"importance\"] = clf.feature_importances_\n",
    "        fold_importance_df[\"fold\"] = n_fold + 1\n",
    "        feature_importance_df = pd.concat([feature_importance_df, fold_importance_df], axis=0)\n",
    "        print('Fold %2d AUC : %.6f' % (n_fold + 1, roc_auc_score(valid_y, oof_preds_lgb[valid_idx])))\n",
    "\n",
    "    print('Full AUC score %.6f' % roc_auc_score(train_df['Y_LABEL'], oof_preds_lgb))\n",
    "\n",
    "    # Write submission file and plot feature importance\n",
    "    test_df['Y_LABEL_lgb'] = sub_preds_lgb\n",
    "\n",
    "    # vi\n",
    "    # print('-'*50)\n",
    "    display(feature_importance_df.groupby(['feature'])['importance'].sum().sort_values(ascending=False).head(30))\n",
    "    # print('-'*50)\n",
    "    # display_importances(feature_importance_df)\n",
    "    \n",
    "    # train auc\n",
    "    oof_auc = roc_auc_score(train_df['Y_LABEL'], oof_preds_lgb)\n",
    "\n",
    "    \n",
    "    if oof_auc>=0.701:\n",
    "\n",
    "        # find the best thred for f1-score\n",
    "        f1_score_df = pd.DataFrame()\n",
    "        for thred in [i/10000 for i in range(0,10000,1) if (i/10000>0.1) & (i/10000<0.35)]:\n",
    "\n",
    "            a1 = pd.DataFrame()\n",
    "            f1 = f1_score(train_df['Y_LABEL'], np.where(oof_preds_lgb>thred,1,0), average='macro')\n",
    "            a1['f1'] = [f1]\n",
    "            a1['thred'] = [thred]\n",
    "            f1_score_df = pd.concat([f1_score_df, a1], axis=0)\n",
    "\n",
    "        thred = f1_score_df.loc[f1_score_df['f1']==f1_score_df['f1'].max(),'thred'].tolist()[0]\n",
    "        print('thred:',thred)\n",
    "        print('ncol',len(feats))\n",
    "\n",
    "        # train f1\n",
    "        print('auc:',oof_auc)\n",
    "        oof_f1 = f1_score(train_df['Y_LABEL'], np.where(oof_preds_lgb>thred,1,0), average='macro')\n",
    "        print('f1:',oof_f1)\n",
    "        a1 = train_df['Y_LABEL'].value_counts()/len(train_df)\n",
    "        print('Target ratio(real):',(a1[1]))\n",
    "\n",
    "        # test err\n",
    "        test_df['TARGET'] = np.where(test_df['Y_LABEL_lgb']>thred,1,0)\n",
    "        a1 = test_df['TARGET'].value_counts()/len(test_df)\n",
    "        print('Target ratio(pred):',(a1[1]))\n",
    "        target_sum = test_df['TARGET'].sum()\n",
    "        print('Target sum:',target_sum)        \n",
    "        \n",
    "        # save \n",
    "        train_df['Y_LABEL_lgb'] = oof_preds_lgb\n",
    "        a1 = train_df[['ID','YEAR','COMPONENT_ARBITRARY','Y_LABEL_lgb','Y_LABEL']].copy()\n",
    "        a1.to_csv('train_pred_'+str(seed_num)+'_'+str(np.round(oof_f1,10))+'.csv', index= False)    \n",
    "        a1 = test_df[['ID','YEAR','COMPONENT_ARBITRARY','Y_LABEL_lgb']].copy()\n",
    "        a1.to_csv('test_pred_'+str(seed_num)+'_'+str(np.round(oof_f1,10))+'.csv', index= False)\n",
    "\n",
    "        # submit\n",
    "        a1 = test_df[['ID', 'TARGET']].copy()\n",
    "        a1 = a1.rename(columns={'TARGET':'Y_LABEL'})\n",
    "        submission_file_name = 'sample_submission_lgb_'+str(np.round(oof_f1,4))+'.csv'\n",
    "        a1.to_csv(submission_file_name, index= False)"
   ]
  },
  {
   "cell_type": "code",
   "execution_count": 23,
   "id": "9c07d06b",
   "metadata": {
    "execution": {
     "iopub.execute_input": "2022-11-27T08:10:45.571373Z",
     "iopub.status.busy": "2022-11-27T08:10:45.570794Z",
     "iopub.status.idle": "2022-11-27T08:11:13.651265Z",
     "shell.execute_reply": "2022-11-27T08:11:13.650487Z"
    },
    "papermill": {
     "duration": 28.09626,
     "end_time": "2022-11-27T08:11:13.653407",
     "exception": false,
     "start_time": "2022-11-27T08:10:45.557147",
     "status": "completed"
    },
    "tags": []
   },
   "outputs": [
    {
     "name": "stdout",
     "output_type": "stream",
     "text": [
      "--------------------------------------------------\n",
      ">> seed_num: 176\n",
      ">> drop_features: 195\n",
      "Fold  1 AUC : 0.699257\n",
      "Fold  2 AUC : 0.718767\n",
      "Fold  3 AUC : 0.699679\n",
      "Fold  4 AUC : 0.716366\n",
      "Fold  5 AUC : 0.691165\n",
      "Full AUC score 0.704596\n"
     ]
    },
    {
     "data": {
      "text/plain": [
       "feature\n",
       "ANONYMOUS_1_V40_divide_ANONYMOUS_1_V40_YEAR_COMPONENT_median    92\n",
       "FE_minus_FE_YEAR_sum                                            82\n",
       "ZN_minus_ZN_YEAR_median                                         82\n",
       "CU_divide_CU_YEAR_sum                                           72\n",
       "FE_minus_FE_FE_woe_bin_max                                      71\n",
       "ZN_minus_ZN_COMPONENT_ARBITRARY_median                          69\n",
       "PQINDEX_minus_PQINDEX_YEAR_sum                                  67\n",
       "ANONYMOUS_1_divide_ANONYMOUS_1_YEAR_COMPONENT_sum               66\n",
       "ANONYMOUS_1_divide_ANONYMOUS_1_YEAR_COMPONENT_median            60\n",
       "ANONYMOUS_1_ZN_divide_ANONYMOUS_1_ZN_YEAR_max                   59\n",
       "FE_divide_FE_FE_woe_bin_median                                  55\n",
       "ANONYMOUS_2_divide_ANONYMOUS_2_YEAR_COMPONENT_max               55\n",
       "YEAR_COMPONENT                                                  53\n",
       "ZN_divide_ZN_FE_woe_bin_median                                  53\n",
       "CU_divide_CU_YEAR_COMPONENT_median                              53\n",
       "CR_MO                                                           53\n",
       "V40_divide_V40_YEAR_COMPONENT_min                               51\n",
       "CU_minus_CU_YEAR_sum                                            50\n",
       "ANONYMOUS_1_ZN_divide_ANONYMOUS_1_ZN_YEAR_COMPONENT_max         50\n",
       "FE_divide_FE_YEAR_COMPONENT_sum                                 50\n",
       "ANONYMOUS_2_minus_ANONYMOUS_2_YEAR_median                       48\n",
       "ANONYMOUS_1_FE_divide_ANONYMOUS_1_FE_YEAR_COMPONENT_sum         47\n",
       "ANONYMOUS_1_divide_ANONYMOUS_1_COMPONENT_ARBITRARY_median       45\n",
       "ANONYMOUS_1_V40_divide_ANONYMOUS_1_V40_YEAR_median              45\n",
       "ANONYMOUS_1_divide_ANONYMOUS_1_YEAR_median                      44\n",
       "ANONYMOUS_1_minus_ANONYMOUS_1_COMPONENT_ARBITRARY_median        43\n",
       "FE_divide_FE_YEAR_COMPONENT_median                              42\n",
       "FE_minus_FE_FE_woe_bin_sum                                      41\n",
       "ZN_divide_ZN_FE_woe_bin_sum                                     40\n",
       "PQINDEX_minus_PQINDEX_YEAR_max                                  40\n",
       "Name: importance, dtype: int32"
      ]
     },
     "metadata": {},
     "output_type": "display_data"
    },
    {
     "name": "stdout",
     "output_type": "stream",
     "text": [
      "thred: 0.1636\n",
      "ncol 430\n",
      "auc: 0.7045962957432151\n",
      "f1: 0.5922652586883465\n",
      "Target ratio(real): 0.08534941468605889\n",
      "Target ratio(pred): 0.08872703194835292\n",
      "Target sum: 536\n"
     ]
    }
   ],
   "source": [
    "\"\"\"\n",
    "baseline model \n",
    "\"\"\"\n",
    "\n",
    "drop_features_vc1 = ['ZN_minus_ZN_YEAR_COMPONENT_median', 'ANONYMOUS_1_CU', 'ANONYMOUS_1_minus_ANONYMOUS_1_YEAR_COMPONENT_min', 'PQINDEX_divide_PQINDEX_YEAR_min', 'ANONYMOUS_1_CR_minus_ANONYMOUS_1_CR_FE_woe_bin_max', 'ANONYMOUS_1_divide_ANONYMOUS_1_YEAR_COMPONENT_min', 'V40_minus_V40_FE_woe_bin_sum', 'PQINDEX_minus_PQINDEX_FE_woe_bin_sum', 'V40_minus_V40_YEAR_COMPONENT_min', 'ANONYMOUS_1_ZN_divide_ANONYMOUS_1_ZN_YEAR_median', 'PQINDEX_divide_PQINDEX_YEAR_COMPONENT_sum', 'FE_divide_FE_YEAR_max', 'ANONYMOUS_1_ZN_divide_ANONYMOUS_1_ZN_COMPONENT_ARBITRARY_median', 'PQINDEX_minus_PQINDEX_YEAR_COMPONENT_max', 'PQINDEX_minus_PQINDEX_YEAR_COMPONENT_median', 'FE_minus_FE_YEAR_COMPONENT_median', 'ZN_divide_ZN_YEAR_min', 'PQINDEX_divide_PQINDEX_YEAR_median', 'FE_minus_FE_YEAR_COMPONENT_max', 'ZN_divide_ZN_COMPONENT_ARBITRARY_median', 'ANONYMOUS_1_ZN_minus_ANONYMOUS_1_ZN_FE_woe_bin_median', 'ANONYMOUS_1_ZN_YEAR_COMPONENT_max', 'ANONYMOUS_1_V40_minus_ANONYMOUS_1_V40_YEAR_COMPONENT_max', 'ANONYMOUS_1_ZN_divide_ANONYMOUS_1_ZN_YEAR_COMPONENT_sum', 'ANONYMOUS_1_FE_YEAR_median', 'ANONYMOUS_1_CR_minus_ANONYMOUS_1_CR_FE_woe_bin_sum', 'CU_divide_CU_COMPONENT_ARBITRARY_sum', 'FE_divide_FE_YEAR_median', 'ANONYMOUS_2_YEAR_max', 'FE_divide_FE_FE_woe_bin_min', 'ANONYMOUS_1_ZN_divide_ANONYMOUS_1_ZN_FE_woe_bin_sum', 'V40_minus_V40_YEAR_COMPONENT_max', 'ANONYMOUS_1_ZN_minus_ANONYMOUS_1_ZN_YEAR_sum', 'V40_divide_V40_FE_woe_bin_min', 'ANONYMOUS_1_V40_minus_ANONYMOUS_1_V40_YEAR_COMPONENT_median', 'ZN_minus_ZN_YEAR_COMPONENT_min', 'ANONYMOUS_1_FE_divide_ANONYMOUS_1_FE_YEAR_COMPONENT_max', 'V40_YEAR_median', 'V40_minus_V40_YEAR_sum', 'ANONYMOUS_1_divide_ANONYMOUS_1_YEAR_COMPONENT_max', 'NI_V40', 'V40_minus_V40_COMPONENT_ARBITRARY_min', 'PQINDEX_divide_PQINDEX_YEAR_COMPONENT_max', 'ZN_minus_ZN_YEAR_min', 'FE_divide_FE_YEAR_COMPONENT_max', 'ZN_divide_ZN_FE_woe_bin_min', 'ANONYMOUS_1_CR_minus_ANONYMOUS_1_CR_FE_woe_bin_median', 'CU_minus_CU_YEAR_COMPONENT_median', 'ANONYMOUS_1_minus_ANONYMOUS_1_YEAR_max', 'ANONYMOUS_1_FE_minus_ANONYMOUS_1_FE_FE_woe_bin_sum', 'ZN_divide_ZN_YEAR_max', 'ANONYMOUS_1_ZN_divide_ANONYMOUS_1_ZN_FE_woe_bin_max', 'ANONYMOUS_2_divide_ANONYMOUS_2_FE_woe_bin_max', 'ZN_minus_ZN_FE_woe_bin_median', 'ANONYMOUS_1_ZN_minus_ANONYMOUS_1_ZN_COMPONENT_ARBITRARY_max', 'FE_minus_FE_YEAR_max', 'ANONYMOUS_1_FE_divide_ANONYMOUS_1_FE_COMPONENT_ARBITRARY_min', 'CU_YEAR_COMPONENT_median', 'cluster_no_by_ANONYMOUS_1_FE_median', 'ZN_YEAR_COMPONENT_sum', 'CU_minus_CU_FE_woe_bin_max', 'ANONYMOUS_1_CR_minus_ANONYMOUS_1_CR_YEAR_COMPONENT_median', 'ANONYMOUS_1_CR_minus_ANONYMOUS_1_CR_YEAR_median', 'CU_divide_CU_YEAR_COMPONENT_max', 'ANONYMOUS_1_ZN_minus_ANONYMOUS_1_ZN_FE_woe_bin_max', 'ANONYMOUS_1_V40_divide_ANONYMOUS_1_V40_YEAR_COMPONENT_min', 'CU_divide_CU_YEAR_max', 'ZN_divide_ZN_COMPONENT_ARBITRARY_max', 'FE_divide_FE_FE_woe_bin_max', 'cluster_no_by_ANONYMOUS_1_median', 'V40_divide_V40_FE_woe_bin_sum', 'V40_divide_V40_COMPONENT_ARBITRARY_max', 'ANONYMOUS_2_divide_ANONYMOUS_2_YEAR_COMPONENT_sum', 'FE_YEAR_COMPONENT_median', 'ANONYMOUS_1_ZN_minus_ANONYMOUS_1_ZN_COMPONENT_ARBITRARY_median', 'FE_divide_FE_COMPONENT_ARBITRARY_median', 'V40_divide_V40_YEAR_COMPONENT_max', 'V40_minus_V40_YEAR_min', 'ANONYMOUS_2_divide_ANONYMOUS_2_YEAR_median', 'FE_minus_FE_FE_woe_bin_median', 'FE_minus_FE_YEAR_median', 'ANONYMOUS_1_FE_YEAR_COMPONENT_sum', 'ZN_minus_ZN_FE_woe_bin_sum', 'CU_minus_CU_FE_woe_bin_sum', 'V40', 'ANONYMOUS_1_ZN_woe_bin', 'FE_divide_FE_COMPONENT_ARBITRARY_min', 'CU_divide_CU_FE_woe_bin_sum', 'cluster_no_by_ANONYMOUS_2_mean', 'CU', 'V40_minus_V40_COMPONENT_ARBITRARY_max', 'ANONYMOUS_1_minus_ANONYMOUS_1_FE_woe_bin_median', 'V40_divide_V40_YEAR_min', 'ANONYMOUS_1_ZN_divide_ANONYMOUS_1_ZN_COMPONENT_ARBITRARY_sum', 'ZN_minus_ZN_YEAR_COMPONENT_max', 'ANONYMOUS_2_minus_ANONYMOUS_2_YEAR_COMPONENT_median', 'cluster_no_by_ANONYMOUS_1_V40_mean', 'FE_minus_FE_FE_woe_bin_min', 'PQINDEX_divide_PQINDEX_YEAR_max', 'ANONYMOUS_2_minus_ANONYMOUS_2_FE_woe_bin_sum', 'FE_divide_FE_YEAR_sum', 'V40_minus_V40_YEAR_COMPONENT_median', 'ANONYMOUS_1_FE_divide_ANONYMOUS_1_FE_FE_woe_bin_max', 'PQINDEX_divide_PQINDEX_COMPONENT_ARBITRARY_median', 'ANONYMOUS_1_divide_ANONYMOUS_1_YEAR_sum', 'ANONYMOUS_1_V40', 'ZN_divide_ZN_YEAR_sum', 'ANONYMOUS_1_ZN_minus_ANONYMOUS_1_ZN_YEAR_COMPONENT_max', 'ANONYMOUS_1_divide_ANONYMOUS_1_FE_woe_bin_median', 'ANONYMOUS_2_minus_ANONYMOUS_2_COMPONENT_ARBITRARY_sum', 'PQINDEX_minus_PQINDEX_FE_woe_bin_median', 'ANONYMOUS_1_ZN_minus_ANONYMOUS_1_ZN_YEAR_max', 'PQINDEX_divide_PQINDEX_FE_woe_bin_median', 'ANONYMOUS_1_V40_minus_ANONYMOUS_1_V40_YEAR_sum', 'ZN_divide_ZN_YEAR_median', 'ZN_minus_ZN_YEAR_COMPONENT_sum', 'ANONYMOUS_2_divide_ANONYMOUS_2_YEAR_COMPONENT_median', 'V40_minus_V40_YEAR_max', 'ANONYMOUS_1_FE_minus_ANONYMOUS_1_FE_FE_woe_bin_min', 'CR_FE', 'FE_V40', 'FE_divide_FE_YEAR_COMPONENT_min', 'V40_divide_V40_YEAR_COMPONENT_median', 'ANONYMOUS_1_FE', 'FE_divide_FE_COMPONENT_ARBITRARY_max', 'PQINDEX_minus_PQINDEX_YEAR_median', 'ANONYMOUS_1_V40_minus_ANONYMOUS_1_V40_COMPONENT_ARBITRARY_median', 'ZN_divide_ZN_YEAR_COMPONENT_median', 'ANONYMOUS_1_minus_ANONYMOUS_1_COMPONENT_ARBITRARY_max', 'CU_divide_CU_YEAR_median', 'ZN_divide_ZN_YEAR_COMPONENT_min', 'ANONYMOUS_1_CR_divide_ANONYMOUS_1_CR_FE_woe_bin_max', 'PQINDEX_divide_PQINDEX_FE_woe_bin_max', 'ANONYMOUS_1_divide_ANONYMOUS_1_COMPONENT_ARBITRARY_sum', 'ANONYMOUS_1_CR_divide_ANONYMOUS_1_CR_COMPONENT_ARBITRARY_max', 'ANONYMOUS_1_minus_ANONYMOUS_1_YEAR_COMPONENT_max', 'PQINDEX_divide_PQINDEX_YEAR_COMPONENT_median', 'ANONYMOUS_1_MO', 'CU_FE', 'ZN_minus_ZN_YEAR_sum', 'ZN_minus_ZN_COMPONENT_ARBITRARY_max', 'V40_divide_V40_FE_woe_bin_max', 'PQINDEX_divide_PQINDEX_COMPONENT_ARBITRARY_max', 'ANONYMOUS_1_divide_ANONYMOUS_1_FE_woe_bin_sum', 'ANONYMOUS_1_ZN_minus_ANONYMOUS_1_ZN_YEAR_median', 'PQINDEX_divide_PQINDEX_YEAR_COMPONENT_min', 'ANONYMOUS_1_V40_divide_ANONYMOUS_1_V40_YEAR_min', 'PQINDEX_divide_PQINDEX_FE_woe_bin_min', 'PQINDEX_divide_PQINDEX_COMPONENT_ARBITRARY_min', 'ANONYMOUS_2_divide_ANONYMOUS_2_COMPONENT_ARBITRARY_median', 'PQINDEX_YEAR_COMPONENT_sum', 'PQINDEX_divide_PQINDEX_COMPONENT_ARBITRARY_sum', 'ANONYMOUS_1_V40_divide_ANONYMOUS_1_V40_FE_woe_bin_median', 'PQINDEX_minus_PQINDEX_YEAR_COMPONENT_sum', 'ANONYMOUS_1_V40_divide_ANONYMOUS_1_V40_COMPONENT_ARBITRARY_max', 'CU_ZN', 'ANONYMOUS_1_CR_divide_ANONYMOUS_1_CR_YEAR_COMPONENT_max', 'ZN_divide_ZN_YEAR_COMPONENT_max', 'V40_minus_V40_FE_woe_bin_min', 'NI_ZN', 'V40_divide_V40_FE_woe_bin_median', 'ZN_minus_ZN_YEAR_max', 'ANONYMOUS_1_V40_minus_ANONYMOUS_1_V40_YEAR_median', 'ANONYMOUS_1_FE_minus_ANONYMOUS_1_FE_YEAR_max', 'ANONYMOUS_1_ZN', 'PQINDEX_YEAR_median', 'NI', 'FE_ZN', 'ANONYMOUS_1_V40_divide_ANONYMOUS_1_V40_FE_woe_bin_max', 'ANONYMOUS_1_ZN_minus_ANONYMOUS_1_ZN_FE_woe_bin_sum', 'ANONYMOUS_1_FE_divide_ANONYMOUS_1_FE_YEAR_median', 'CR_V40', 'ANONYMOUS_1_CR_divide_ANONYMOUS_1_CR_YEAR_sum', 'ANONYMOUS_1_FE_divide_ANONYMOUS_1_FE_YEAR_COMPONENT_median', 'ANONYMOUS_1_ZN_divide_ANONYMOUS_1_ZN_YEAR_min', 'ANONYMOUS_2_divide_ANONYMOUS_2_COMPONENT_ARBITRARY_max', 'ANONYMOUS_1_V40_divide_ANONYMOUS_1_V40_COMPONENT_ARBITRARY_median', 'ANONYMOUS_1_FE_minus_ANONYMOUS_1_FE_COMPONENT_ARBITRARY_min', 'MO_V40', 'PQINDEX_minus_PQINDEX_FE_woe_bin_max', 'ANONYMOUS_1_V40_minus_ANONYMOUS_1_V40_COMPONENT_ARBITRARY_min', 'ANONYMOUS_1_minus_ANONYMOUS_1_YEAR_median', 'FE_minus_FE_YEAR_COMPONENT_sum', 'ANONYMOUS_1_FE_divide_ANONYMOUS_1_FE_YEAR_max', 'cluster_no_by_ANONYMOUS_1_V40_max', 'ANONYMOUS_1_divide_ANONYMOUS_1_YEAR_max', 'ANONYMOUS_1_FE_minus_ANONYMOUS_1_FE_YEAR_COMPONENT_min', 'ANONYMOUS_1_V40_divide_ANONYMOUS_1_V40_COMPONENT_ARBITRARY_min', 'ANONYMOUS_1_CR_divide_ANONYMOUS_1_CR_FE_woe_bin_median', 'ANONYMOUS_2_MO', 'PQINDEX_log1', 'CU_minus_CU_YEAR_COMPONENT_max', 'FE_NI', 'ANONYMOUS_1_divide_ANONYMOUS_1_FE_woe_bin_max', 'CU_divide_CU_FE_woe_bin_median']\n",
    "drop_features_vc2 = ['PQINDEX_divide_PQINDEX_COMPONENT_ARBITRARY_median', 'ZN_minus_ZN_YEAR_COMPONENT_min', 'ANONYMOUS_1_ZN_minus_ANONYMOUS_1_ZN_YEAR_sum', 'ANONYMOUS_1_ZN_divide_ANONYMOUS_1_ZN_YEAR_median', 'PQINDEX_divide_PQINDEX_YEAR_median', 'ANONYMOUS_2_minus_ANONYMOUS_2_YEAR_COMPONENT_max', 'FE_divide_FE_FE_woe_bin_min', 'V40_divide_V40_COMPONENT_ARBITRARY_median', 'ANONYMOUS_1_divide_ANONYMOUS_1_YEAR_COMPONENT_max', 'ANONYMOUS_1_divide_ANONYMOUS_1_COMPONENT_ARBITRARY_sum', 'ANONYMOUS_1_ZN_divide_ANONYMOUS_1_ZN_FE_woe_bin_sum', 'FE_divide_FE_YEAR_COMPONENT_sum', 'ANONYMOUS_1_V40_divide_ANONYMOUS_1_V40_COMPONENT_ARBITRARY_median', 'FE_divide_FE_COMPONENT_ARBITRARY_max', 'CU_divide_CU_YEAR_max', 'FE_divide_FE_YEAR_sum', 'V40_divide_V40_YEAR_min', 'FE_divide_FE_FE_woe_bin_max', 'PQINDEX_divide_PQINDEX_YEAR_COMPONENT_median', 'ANONYMOUS_1_V40_minus_ANONYMOUS_1_V40_YEAR_COMPONENT_sum', 'ANONYMOUS_2_divide_ANONYMOUS_2_FE_woe_bin_max', 'ANONYMOUS_1_ZN_divide_ANONYMOUS_1_ZN_YEAR_COMPONENT_sum', 'V40_divide_V40_FE_woe_bin_sum', 'ANONYMOUS_1_CR_divide_ANONYMOUS_1_CR_YEAR_COMPONENT_median', 'ANONYMOUS_1_FE_YEAR_median', 'ZN_divide_ZN_YEAR_min', 'ANONYMOUS_1_ZN_divide_ANONYMOUS_1_ZN_YEAR_min', 'ZN_minus_ZN_FE_woe_bin_sum', 'PQINDEX_divide_PQINDEX_YEAR_min', 'ANONYMOUS_1_FE_minus_ANONYMOUS_1_FE_FE_woe_bin_min', 'CU_divide_CU_YEAR_COMPONENT_min', 'ANONYMOUS_2_YEAR_max', 'CU_minus_CU_FE_woe_bin_sum', 'ANONYMOUS_1_FE_minus_ANONYMOUS_1_FE_YEAR_max', 'FE_minus_FE_FE_woe_bin_sum', 'FE_divide_FE_YEAR_max', 'PQINDEX_minus_PQINDEX_FE_woe_bin_max', 'ANONYMOUS_1_ZN_divide_ANONYMOUS_1_ZN_YEAR_sum', 'FE_minus_FE_YEAR_max', 'ANONYMOUS_1_minus_ANONYMOUS_1_YEAR_COMPONENT_min', 'FE_minus_FE_FE_woe_bin_min', 'cluster_no_by_ANONYMOUS_1_FE_median', 'ANONYMOUS_1_CR_minus_ANONYMOUS_1_CR_YEAR_COMPONENT_median', 'ZN_minus_ZN_COMPONENT_ARBITRARY_median', 'ANONYMOUS_1_CR_divide_ANONYMOUS_1_CR_FE_woe_bin_sum', 'ZN_minus_ZN_YEAR_sum', 'NI_V40', 'ANONYMOUS_2_minus_ANONYMOUS_2_YEAR_max', 'CU_minus_CU_YEAR_sum', 'V40_minus_V40_FE_woe_bin_min', 'ANONYMOUS_1_V40_divide_ANONYMOUS_1_V40_FE_woe_bin_median', 'PQINDEX_divide_PQINDEX_FE_woe_bin_max', 'ZN_minus_ZN_FE_woe_bin_max', 'V40_minus_V40_COMPONENT_ARBITRARY_min', 'FE_minus_FE_YEAR_COMPONENT_median', 'ANONYMOUS_1_FE', 'PQINDEX_minus_PQINDEX_FE_woe_bin_median', 'PQINDEX_minus_PQINDEX_YEAR_max', 'FE_YEAR_COMPONENT_median', 'V40_divide_V40_COMPONENT_ARBITRARY_min', 'ANONYMOUS_1_V40_divide_ANONYMOUS_1_V40_FE_woe_bin_sum', 'ZN_minus_ZN_COMPONENT_ARBITRARY_max', 'ANONYMOUS_1_CR', 'CU_minus_CU_YEAR_COMPONENT_max', 'CU_minus_CU_FE_woe_bin_max', 'ANONYMOUS_1_CR_minus_ANONYMOUS_1_CR_YEAR_COMPONENT_max', 'FE', 'V40_minus_V40_YEAR_min', 'ZN_divide_ZN_YEAR_COMPONENT_max', 'V40_divide_V40_YEAR_COMPONENT_median', 'ANONYMOUS_1_FE_divide_ANONYMOUS_1_FE_FE_woe_bin_min', 'V40_divide_V40_COMPONENT_ARBITRARY_max', 'ANONYMOUS_1_ZN_divide_ANONYMOUS_1_ZN_YEAR_max', 'CU_divide_CU_YEAR_COMPONENT_max', 'NI_ZN', 'ANONYMOUS_2_divide_ANONYMOUS_2_YEAR_COMPONENT_sum', 'FE_YEAR_COMPONENT_max', 'FE_divide_FE_YEAR_median', 'ANONYMOUS_1_V40_minus_ANONYMOUS_1_V40_COMPONENT_ARBITRARY_median', 'ANONYMOUS_1_ZN_minus_ANONYMOUS_1_ZN_FE_woe_bin_median', 'ZN_divide_ZN_YEAR_COMPONENT_min', 'CU_divide_CU_YEAR_COMPONENT_sum', 'FE_minus_FE_FE_woe_bin_median', 'ANONYMOUS_2_divide_ANONYMOUS_2_FE_woe_bin_sum', 'CU_divide_CU_FE_woe_bin_sum', 'ANONYMOUS_1_FE_minus_ANONYMOUS_1_FE_COMPONENT_ARBITRARY_median', 'FE_divide_FE_YEAR_COMPONENT_min', 'V40_minus_V40_FE_woe_bin_sum', 'ANONYMOUS_2_divide_ANONYMOUS_2_COMPONENT_ARBITRARY_max', 'V40_divide_V40_COMPONENT_ARBITRARY_sum', 'ANONYMOUS_1_divide_ANONYMOUS_1_YEAR_COMPONENT_median', 'ANONYMOUS_1_CR_divide_ANONYMOUS_1_CR_YEAR_median', 'ANONYMOUS_1_ZN_minus_ANONYMOUS_1_ZN_FE_woe_bin_sum', 'PQINDEX_minus_PQINDEX_FE_woe_bin_sum', 'ANONYMOUS_1_minus_ANONYMOUS_1_YEAR_COMPONENT_max', 'ANONYMOUS_2_minus_ANONYMOUS_2_YEAR_sum', 'CR_ZN', 'ANONYMOUS_1_ZN_minus_ANONYMOUS_1_ZN_YEAR_max', 'CR_V40', 'V40_minus_V40_FE_woe_bin_max', 'V40_minus_V40_YEAR_COMPONENT_sum', 'ZN_divide_ZN_COMPONENT_ARBITRARY_max', 'CU_divide_CU_COMPONENT_ARBITRARY_sum', 'ANONYMOUS_1_FE_divide_ANONYMOUS_1_FE_FE_woe_bin_max', 'ANONYMOUS_1_divide_ANONYMOUS_1_YEAR_COMPONENT_min', 'ZN_minus_ZN_YEAR_COMPONENT_max', 'ANONYMOUS_1_FE_divide_ANONYMOUS_1_FE_YEAR_median', 'ANONYMOUS_1_CR_divide_ANONYMOUS_1_CR_YEAR_COMPONENT_sum', 'PQINDEX_divide_PQINDEX_YEAR_COMPONENT_sum', 'ANONYMOUS_1_FE_divide_ANONYMOUS_1_FE_YEAR_min', 'ANONYMOUS_1_ZN_minus_ANONYMOUS_1_ZN_YEAR_median', 'FE_minus_FE_YEAR_median', 'ANONYMOUS_1_minus_ANONYMOUS_1_COMPONENT_ARBITRARY_min', 'ANONYMOUS_1_V40_minus_ANONYMOUS_1_V40_YEAR_max', 'ANONYMOUS_1_CR_divide_ANONYMOUS_1_CR_COMPONENT_ARBITRARY_max', 'V40_divide_V40_YEAR_max', 'ANONYMOUS_2_MO', 'ANONYMOUS_1_V40_divide_ANONYMOUS_1_V40_YEAR_COMPONENT_sum', 'V40_divide_V40_YEAR_COMPONENT_sum', 'ANONYMOUS_1_FE_divide_ANONYMOUS_1_FE_COMPONENT_ARBITRARY_min', 'PQINDEX_divide_PQINDEX_FE_woe_bin_sum', 'ANONYMOUS_2_divide_ANONYMOUS_2_YEAR_COMPONENT_median', 'MO_NI', 'MO_ZN', 'ANONYMOUS_1_minus_ANONYMOUS_1_FE_woe_bin_median', 'ANONYMOUS_2_minus_ANONYMOUS_2_YEAR_COMPONENT_median', 'ZN_minus_ZN_YEAR_COMPONENT_median', 'CR_MO', 'CR_FE', 'ZN_divide_ZN_FE_woe_bin_max', 'V40_minus_V40_YEAR_COMPONENT_max', 'ANONYMOUS_1_V40_minus_ANONYMOUS_1_V40_YEAR_median', 'FE_divide_FE_YEAR_min', 'PQINDEX_minus_PQINDEX_YEAR_COMPONENT_median', 'V40_woe_bin', 'PQINDEX_divide_PQINDEX_FE_woe_bin_min', 'ANONYMOUS_1_FE_minus_ANONYMOUS_1_FE_YEAR_median', 'CU_YEAR_COMPONENT_max', 'ANONYMOUS_2_YEAR_COMPONENT_max', 'ANONYMOUS_1_ZN_divide_ANONYMOUS_1_ZN_FE_woe_bin_min', 'ANONYMOUS_1_CR_divide_ANONYMOUS_1_CR_FE_woe_bin_max', 'ANONYMOUS_1_CR_minus_ANONYMOUS_1_CR_FE_woe_bin_median', 'ZN_minus_ZN_FE_woe_bin_median', 'ANONYMOUS_2_minus_ANONYMOUS_2_YEAR_COMPONENT_sum', 'PQINDEX_divide_PQINDEX_YEAR_COMPONENT_min', 'ANONYMOUS_1_CR_minus_ANONYMOUS_1_CR_YEAR_sum', 'FE_NI', 'ANONYMOUS_1_divide_ANONYMOUS_1_FE_woe_bin_sum', 'ANONYMOUS_1_V40_divide_ANONYMOUS_1_V40_YEAR_sum', 'ANONYMOUS_1_FE_divide_ANONYMOUS_1_FE_YEAR_COMPONENT_sum', 'ANONYMOUS_1_FE_divide_ANONYMOUS_1_FE_YEAR_sum', 'NI', 'ZN_minus_ZN_YEAR_COMPONENT_sum', 'ANONYMOUS_1_ZN_divide_ANONYMOUS_1_ZN_COMPONENT_ARBITRARY_median', 'ANONYMOUS_1_V40_minus_ANONYMOUS_1_V40_FE_woe_bin_max', 'ANONYMOUS_1_V40_divide_ANONYMOUS_1_V40_FE_woe_bin_max', 'ZN_divide_ZN_YEAR_COMPONENT_median', 'V40_YEAR_median', 'PQINDEX_divide_PQINDEX_COMPONENT_ARBITRARY_sum', 'ANONYMOUS_1_V40_minus_ANONYMOUS_1_V40_COMPONENT_ARBITRARY_min', 'V40_divide_V40_FE_woe_bin_median', 'ANONYMOUS_1_FE_minus_ANONYMOUS_1_FE_YEAR_COMPONENT_max', 'ANONYMOUS_1_V40_minus_ANONYMOUS_1_V40_FE_woe_bin_min', 'ANONYMOUS_1_CU', 'CU_divide_CU_FE_woe_bin_max', 'ANONYMOUS_1_V40_divide_ANONYMOUS_1_V40_COMPONENT_ARBITRARY_sum', 'ANONYMOUS_1_CR_minus_ANONYMOUS_1_CR_FE_woe_bin_max', 'V40', 'ANONYMOUS_1_divide_ANONYMOUS_1_COMPONENT_ARBITRARY_median', 'ANONYMOUS_1_log1', 'ANONYMOUS_2_minus_ANONYMOUS_2_COMPONENT_ARBITRARY_median', 'ANONYMOUS_1_FE_divide_ANONYMOUS_1_FE_YEAR_max', 'V40_divide_V40_FE_woe_bin_min', 'ANONYMOUS_1_FE_divide_ANONYMOUS_1_FE_FE_woe_bin_sum']\n",
    "drop_features_vc3 = ['PQINDEX_divide_PQINDEX_COMPONENT_ARBITRARY_median', 'ZN_minus_ZN_YEAR_COMPONENT_min', 'ANONYMOUS_1_ZN_minus_ANONYMOUS_1_ZN_YEAR_sum', 'ANONYMOUS_1_ZN_divide_ANONYMOUS_1_ZN_YEAR_median', 'PQINDEX_divide_PQINDEX_YEAR_median', 'ANONYMOUS_2_minus_ANONYMOUS_2_YEAR_COMPONENT_max', 'FE_divide_FE_FE_woe_bin_min', 'V40_divide_V40_COMPONENT_ARBITRARY_median', 'ANONYMOUS_1_divide_ANONYMOUS_1_YEAR_COMPONENT_max', 'ANONYMOUS_1_divide_ANONYMOUS_1_COMPONENT_ARBITRARY_sum', 'ANONYMOUS_1_ZN_divide_ANONYMOUS_1_ZN_FE_woe_bin_sum', 'FE_divide_FE_YEAR_COMPONENT_sum', 'ANONYMOUS_1_V40_divide_ANONYMOUS_1_V40_COMPONENT_ARBITRARY_median', 'FE_divide_FE_COMPONENT_ARBITRARY_max', 'CU_divide_CU_YEAR_max', 'FE_divide_FE_YEAR_sum', 'V40_divide_V40_YEAR_min', 'FE_divide_FE_FE_woe_bin_max', 'PQINDEX_divide_PQINDEX_YEAR_COMPONENT_median', 'ANONYMOUS_1_V40_minus_ANONYMOUS_1_V40_YEAR_COMPONENT_sum', 'ANONYMOUS_2_divide_ANONYMOUS_2_FE_woe_bin_max', 'ANONYMOUS_1_ZN_divide_ANONYMOUS_1_ZN_YEAR_COMPONENT_sum', 'V40_divide_V40_FE_woe_bin_sum', 'ANONYMOUS_1_CR_divide_ANONYMOUS_1_CR_YEAR_COMPONENT_median', 'ANONYMOUS_1_FE_YEAR_median', 'ZN_divide_ZN_YEAR_min', 'ANONYMOUS_1_ZN_divide_ANONYMOUS_1_ZN_YEAR_min', 'ZN_minus_ZN_FE_woe_bin_sum', 'PQINDEX_divide_PQINDEX_YEAR_min', 'ANONYMOUS_1_FE_minus_ANONYMOUS_1_FE_FE_woe_bin_min', 'CU_divide_CU_YEAR_COMPONENT_min', 'ANONYMOUS_2_YEAR_max', 'CU_minus_CU_FE_woe_bin_sum', 'ANONYMOUS_1_FE_minus_ANONYMOUS_1_FE_YEAR_max', 'FE_minus_FE_FE_woe_bin_sum', 'FE_divide_FE_YEAR_max', 'PQINDEX_minus_PQINDEX_FE_woe_bin_max', 'ANONYMOUS_1_ZN_divide_ANONYMOUS_1_ZN_YEAR_sum', 'FE_minus_FE_YEAR_max', 'ANONYMOUS_1_minus_ANONYMOUS_1_YEAR_COMPONENT_min', 'FE_minus_FE_FE_woe_bin_min', 'cluster_no_by_ANONYMOUS_1_FE_median', 'ANONYMOUS_1_CR_minus_ANONYMOUS_1_CR_YEAR_COMPONENT_median', 'ZN_minus_ZN_COMPONENT_ARBITRARY_median', 'ANONYMOUS_1_CR_divide_ANONYMOUS_1_CR_FE_woe_bin_sum', 'ZN_minus_ZN_YEAR_sum', 'NI_V40', 'ANONYMOUS_2_minus_ANONYMOUS_2_YEAR_max', 'CU_minus_CU_YEAR_sum', 'V40_minus_V40_FE_woe_bin_min', 'ANONYMOUS_1_V40_divide_ANONYMOUS_1_V40_FE_woe_bin_median', 'PQINDEX_divide_PQINDEX_FE_woe_bin_max', 'ZN_minus_ZN_FE_woe_bin_max', 'V40_minus_V40_COMPONENT_ARBITRARY_min', 'FE_minus_FE_YEAR_COMPONENT_median', 'ANONYMOUS_1_FE', 'PQINDEX_minus_PQINDEX_FE_woe_bin_median', 'PQINDEX_minus_PQINDEX_YEAR_max', 'FE_YEAR_COMPONENT_median', 'V40_divide_V40_COMPONENT_ARBITRARY_min', 'ANONYMOUS_1_V40_divide_ANONYMOUS_1_V40_FE_woe_bin_sum', 'ZN_minus_ZN_COMPONENT_ARBITRARY_max']\n",
    "drop_features_vc4 = ['PQINDEX_divide_PQINDEX_COMPONENT_ARBITRARY_median', 'ZN_minus_ZN_YEAR_COMPONENT_min', 'ANONYMOUS_1_ZN_minus_ANONYMOUS_1_ZN_YEAR_sum', 'ANONYMOUS_1_ZN_divide_ANONYMOUS_1_ZN_YEAR_median', 'PQINDEX_divide_PQINDEX_YEAR_median', 'ANONYMOUS_2_minus_ANONYMOUS_2_YEAR_COMPONENT_max', 'FE_divide_FE_FE_woe_bin_min', 'V40_divide_V40_COMPONENT_ARBITRARY_median', 'ANONYMOUS_1_divide_ANONYMOUS_1_YEAR_COMPONENT_max']\n",
    "\n",
    "params =  {\n",
    "    'learning_rate': 0.07398,\n",
    "    'max_depth': 4.309,\n",
    "    'colsample_bytree': 0.4028,\n",
    "    'subsample': 0.4278,\n",
    "    'min_child_samples': 25.65,\n",
    "    'min_child_weight': 0.6138,\n",
    "    'min_split_gain': 0.7354,\n",
    "    'num_leaves': 62.68,\n",
    "    'reg_alpha': 0.2889,\n",
    "    'reg_lambda': 7.875\n",
    "}\n",
    "\n",
    "# 176\n",
    "# for i in [18,22,82,113,119,155,176,195,196]:\n",
    "train_model(train,test,params,True,5,drop_features_vc1,seed_num=176)"
   ]
  },
  {
   "cell_type": "code",
   "execution_count": 24,
   "id": "f93cbe99",
   "metadata": {
    "execution": {
     "iopub.execute_input": "2022-11-27T08:11:13.680927Z",
     "iopub.status.busy": "2022-11-27T08:11:13.679690Z",
     "iopub.status.idle": "2022-11-27T08:11:13.688966Z",
     "shell.execute_reply": "2022-11-27T08:11:13.687550Z"
    },
    "papermill": {
     "duration": 0.025136,
     "end_time": "2022-11-27T08:11:13.691340",
     "exception": false,
     "start_time": "2022-11-27T08:11:13.666204",
     "status": "completed"
    },
    "tags": []
   },
   "outputs": [
    {
     "data": {
      "text/plain": [
       "'\\n--------------------------------------------------\\n>> seed_num: 176\\n>> drop_features: 195\\nFold  1 AUC : 0.699257\\nFold  2 AUC : 0.718767\\nFold  3 AUC : 0.699679\\nFold  4 AUC : 0.716366\\nFold  5 AUC : 0.691165\\nFull AUC score 0.704596\\nfeature\\nANONYMOUS_1_V40_divide_ANONYMOUS_1_V40_YEAR_COMPONENT_median    92\\nFE_minus_FE_YEAR_sum                                            82\\nZN_minus_ZN_YEAR_median                                         82\\nCU_divide_CU_YEAR_sum                                           72\\nFE_minus_FE_FE_woe_bin_max                                      71\\nZN_minus_ZN_COMPONENT_ARBITRARY_median                          69\\nPQINDEX_minus_PQINDEX_YEAR_sum                                  67\\nANONYMOUS_1_divide_ANONYMOUS_1_YEAR_COMPONENT_sum               66\\nANONYMOUS_1_divide_ANONYMOUS_1_YEAR_COMPONENT_median            60\\nANONYMOUS_1_ZN_divide_ANONYMOUS_1_ZN_YEAR_max                   59\\nFE_divide_FE_FE_woe_bin_median                                  55\\nANONYMOUS_2_divide_ANONYMOUS_2_YEAR_COMPONENT_max               55\\nYEAR_COMPONENT                                                  53\\nZN_divide_ZN_FE_woe_bin_median                                  53\\nCU_divide_CU_YEAR_COMPONENT_median                              53\\nCR_MO                                                           53\\nV40_divide_V40_YEAR_COMPONENT_min                               51\\nCU_minus_CU_YEAR_sum                                            50\\nANONYMOUS_1_ZN_divide_ANONYMOUS_1_ZN_YEAR_COMPONENT_max         50\\nFE_divide_FE_YEAR_COMPONENT_sum                                 50\\nANONYMOUS_2_minus_ANONYMOUS_2_YEAR_median                       48\\nANONYMOUS_1_FE_divide_ANONYMOUS_1_FE_YEAR_COMPONENT_sum         47\\nANONYMOUS_1_divide_ANONYMOUS_1_COMPONENT_ARBITRARY_median       45\\nANONYMOUS_1_V40_divide_ANONYMOUS_1_V40_YEAR_median              45\\nANONYMOUS_1_divide_ANONYMOUS_1_YEAR_median                      44\\nANONYMOUS_1_minus_ANONYMOUS_1_COMPONENT_ARBITRARY_median        43\\nFE_divide_FE_YEAR_COMPONENT_median                              42\\nFE_minus_FE_FE_woe_bin_sum                                      41\\nZN_divide_ZN_FE_woe_bin_sum                                     40\\nPQINDEX_minus_PQINDEX_YEAR_max                                  40\\nName: importance, dtype: int32\\nthred: 0.1636\\nncol 430\\nauc: 0.7045962957432151\\nf1: 0.5922652586883465\\nTarget ratio(real): 0.08534941468605889\\nTarget ratio(pred): 0.08872703194835292\\nTarget sum: 536\\n'"
      ]
     },
     "execution_count": 24,
     "metadata": {},
     "output_type": "execute_result"
    }
   ],
   "source": [
    "\"\"\"\n",
    "--------------------------------------------------\n",
    ">> seed_num: 176\n",
    ">> drop_features: 195\n",
    "Fold  1 AUC : 0.699257\n",
    "Fold  2 AUC : 0.718767\n",
    "Fold  3 AUC : 0.699679\n",
    "Fold  4 AUC : 0.716366\n",
    "Fold  5 AUC : 0.691165\n",
    "Full AUC score 0.704596\n",
    "feature\n",
    "ANONYMOUS_1_V40_divide_ANONYMOUS_1_V40_YEAR_COMPONENT_median    92\n",
    "FE_minus_FE_YEAR_sum                                            82\n",
    "ZN_minus_ZN_YEAR_median                                         82\n",
    "CU_divide_CU_YEAR_sum                                           72\n",
    "FE_minus_FE_FE_woe_bin_max                                      71\n",
    "ZN_minus_ZN_COMPONENT_ARBITRARY_median                          69\n",
    "PQINDEX_minus_PQINDEX_YEAR_sum                                  67\n",
    "ANONYMOUS_1_divide_ANONYMOUS_1_YEAR_COMPONENT_sum               66\n",
    "ANONYMOUS_1_divide_ANONYMOUS_1_YEAR_COMPONENT_median            60\n",
    "ANONYMOUS_1_ZN_divide_ANONYMOUS_1_ZN_YEAR_max                   59\n",
    "FE_divide_FE_FE_woe_bin_median                                  55\n",
    "ANONYMOUS_2_divide_ANONYMOUS_2_YEAR_COMPONENT_max               55\n",
    "YEAR_COMPONENT                                                  53\n",
    "ZN_divide_ZN_FE_woe_bin_median                                  53\n",
    "CU_divide_CU_YEAR_COMPONENT_median                              53\n",
    "CR_MO                                                           53\n",
    "V40_divide_V40_YEAR_COMPONENT_min                               51\n",
    "CU_minus_CU_YEAR_sum                                            50\n",
    "ANONYMOUS_1_ZN_divide_ANONYMOUS_1_ZN_YEAR_COMPONENT_max         50\n",
    "FE_divide_FE_YEAR_COMPONENT_sum                                 50\n",
    "ANONYMOUS_2_minus_ANONYMOUS_2_YEAR_median                       48\n",
    "ANONYMOUS_1_FE_divide_ANONYMOUS_1_FE_YEAR_COMPONENT_sum         47\n",
    "ANONYMOUS_1_divide_ANONYMOUS_1_COMPONENT_ARBITRARY_median       45\n",
    "ANONYMOUS_1_V40_divide_ANONYMOUS_1_V40_YEAR_median              45\n",
    "ANONYMOUS_1_divide_ANONYMOUS_1_YEAR_median                      44\n",
    "ANONYMOUS_1_minus_ANONYMOUS_1_COMPONENT_ARBITRARY_median        43\n",
    "FE_divide_FE_YEAR_COMPONENT_median                              42\n",
    "FE_minus_FE_FE_woe_bin_sum                                      41\n",
    "ZN_divide_ZN_FE_woe_bin_sum                                     40\n",
    "PQINDEX_minus_PQINDEX_YEAR_max                                  40\n",
    "Name: importance, dtype: int32\n",
    "thred: 0.1636\n",
    "ncol 430\n",
    "auc: 0.7045962957432151\n",
    "f1: 0.5922652586883465\n",
    "Target ratio(real): 0.08534941468605889\n",
    "Target ratio(pred): 0.08872703194835292\n",
    "Target sum: 536\n",
    "\"\"\""
   ]
  },
  {
   "cell_type": "code",
   "execution_count": 25,
   "id": "8f008121",
   "metadata": {
    "execution": {
     "iopub.execute_input": "2022-11-27T08:11:13.719006Z",
     "iopub.status.busy": "2022-11-27T08:11:13.718694Z",
     "iopub.status.idle": "2022-11-27T08:11:13.737932Z",
     "shell.execute_reply": "2022-11-27T08:11:13.736678Z"
    },
    "papermill": {
     "duration": 0.035276,
     "end_time": "2022-11-27T08:11:13.739633",
     "exception": false,
     "start_time": "2022-11-27T08:11:13.704357",
     "status": "completed"
    },
    "tags": []
   },
   "outputs": [],
   "source": [
    "def bayes_parameter_opt_lgb(\n",
    "    train, \n",
    "    opt_params, \n",
    "    drop_features,\n",
    "    init_round=15, \n",
    "    opt_round=25, \n",
    "    n_folds=3, \n",
    "    random_seed=1, \n",
    "    n_estimators=10000, \n",
    "    output_process=False\n",
    "    ):   \n",
    "    \n",
    "    seed_everything(1)\n",
    "    \n",
    "    train_df = train.copy()\n",
    "\n",
    "    # label encoding \n",
    "    encoder = LabelEncoder()\n",
    "    categorical_features = [i for i in train_df.select_dtypes(include=['object','category']).columns.tolist() if i not in ['ID']]\n",
    "    categorical_features = [i for i in categorical_features if i in train_df.columns.tolist()]\n",
    "    for each in categorical_features:\n",
    "        train_df[each] = encoder.fit_transform(train_df[each])\n",
    "        \n",
    "    # feats = [f for f in train_df.columns if f not in ['Y_LABEL','ID','SAMPLE_TRANSFER_DAY']]    \n",
    "    # X = train_df[feats].copy()\n",
    "    # y = train_df['Y_LABEL'].copy()\n",
    "    \n",
    "    # prepare data\n",
    "    # train_data = lgb.Dataset(data=X, label=y, free_raw_data=False)\n",
    "    \n",
    "    # parameters\n",
    "    def lgb_eval(\n",
    "          learning_rate\n",
    "        , num_leaves\n",
    "        , colsample_bytree\n",
    "        , subsample\n",
    "        , max_depth\n",
    "        , reg_alpha\n",
    "        , reg_lambda\n",
    "        , min_split_gain\n",
    "        , min_child_weight\n",
    "        , min_child_samples\n",
    "        , drop_features=drop_features\n",
    "\n",
    "    ):\n",
    "        \n",
    "        params = {'application':'binary', 'metric':'auc'}\n",
    "        params['learning_rate'] = max(min(learning_rate, 1), 0)\n",
    "        params[\"num_leaves\"] = int(round(num_leaves))\n",
    "        params['colsample_bytree'] = max(min(colsample_bytree, 1), 0)\n",
    "        params['subsample'] = max(min(subsample, 1), 0)\n",
    "        params['max_depth'] = int(round(max_depth))        \n",
    "        params['reg_alpha'] = reg_alpha\n",
    "        params['reg_lambda'] = reg_lambda        \n",
    "        params['min_split_gain'] = min_split_gain\n",
    "        params['min_child_weight'] = min_child_weight\n",
    "        params['min_child_samples'] = int(round(min_child_samples))\n",
    "               \n",
    "        # -----        \n",
    "        \n",
    "        stratified = True\n",
    "        \n",
    "        # Cross validation model\n",
    "        if stratified:\n",
    "            folds = StratifiedKFold(n_splits= 5, shuffle=True, random_state=1)\n",
    "        else:\n",
    "            folds = KFold(n_splits= 5, shuffle=True, random_state=1)\n",
    "\n",
    "        # Create arrays and dataframes to store results\n",
    "        oof_preds_lgb = np.zeros(train_df.shape[0])\n",
    "\n",
    "        feats = [f for f in train_df.columns if f not in ['Y_LABEL','ID','SAMPLE_TRANSFER_DAY']+drop_features]\n",
    "        # print('drop_features',len(drop_features))\n",
    "        # print('feats',len(feats))\n",
    "\n",
    "        for n_fold, (train_idx, valid_idx) in enumerate(folds.split(train_df[feats], train_df['Y_LABEL'])):\n",
    "            train_x, train_y = train_df[feats].iloc[train_idx], train_df['Y_LABEL'].iloc[train_idx]\n",
    "            valid_x, valid_y = train_df[feats].iloc[valid_idx], train_df['Y_LABEL'].iloc[valid_idx]\n",
    "\n",
    "            # LightGBM parameters found by Bayesian optimization\n",
    "            clf = LGBMClassifier(\n",
    "\n",
    "                **params,\n",
    "\n",
    "                n_jobs = -1,\n",
    "                n_estimators = 10000,            \n",
    "                random_state = random_seed,\n",
    "                silent=True,\n",
    "                deterministic=True,\n",
    "                verbose=-100\n",
    "            )\n",
    "\n",
    "            with warnings.catch_warnings():\n",
    "\n",
    "                warnings.filterwarnings('ignore')\n",
    "\n",
    "                clf.fit(\n",
    "                      train_x\n",
    "                    , train_y\n",
    "                    , eval_set=[(train_x, train_y), (valid_x, valid_y)]\n",
    "                    , eval_metric= 'auc'\n",
    "                    , verbose= False\n",
    "                    , early_stopping_rounds= 500\n",
    "                )\n",
    "\n",
    "            oof_preds_lgb[valid_idx] = clf.predict_proba(valid_x, num_iteration=clf.best_iteration_)[:, 1]\n",
    "\n",
    "        cv_result = roc_auc_score(train_df['Y_LABEL'], oof_preds_lgb)        \n",
    "       \n",
    "        # ----\n",
    "\n",
    "        return cv_result\n",
    "\n",
    "    lgbBO = BayesianOptimization(lgb_eval, opt_params, random_state=random_seed)\n",
    "    \n",
    "    with warnings.catch_warnings():\n",
    "        warnings.filterwarnings('ignore')\n",
    "        lgbBO.maximize(init_points=init_round, n_iter=opt_round, acq='ucb')\n",
    "    \n",
    "    model_auc=[]\n",
    "    for model in range(len( lgbBO.res)):\n",
    "        model_auc.append(lgbBO.res[model]['target'])\n",
    "    \n",
    "    a1 = lgbBO.res[pd.Series(model_auc).idxmax()]['target'],lgbBO.res[pd.Series(model_auc).idxmax()]['params']\n",
    "    file_name = 'res_tune_'+str(len(drop_features))+'_'+str(a1[0])+'.joblib'    \n",
    "    joblib.dump(a1[1],file_name)\n",
    "    \n",
    "    return a1"
   ]
  },
  {
   "cell_type": "code",
   "execution_count": 26,
   "id": "2af12145",
   "metadata": {
    "execution": {
     "iopub.execute_input": "2022-11-27T08:11:13.766454Z",
     "iopub.status.busy": "2022-11-27T08:11:13.765789Z",
     "iopub.status.idle": "2022-11-27T08:11:14.830427Z",
     "shell.execute_reply": "2022-11-27T08:11:14.829455Z"
    },
    "papermill": {
     "duration": 1.080299,
     "end_time": "2022-11-27T08:11:14.832743",
     "exception": false,
     "start_time": "2022-11-27T08:11:13.752444",
     "status": "completed"
    },
    "tags": []
   },
   "outputs": [
    {
     "name": "stdout",
     "output_type": "stream",
     "text": [
      "num feature shape after engineering (16, 81)\n",
      "num feature shape after engineering (16, 81)\n"
     ]
    }
   ],
   "source": [
    "def num_feature(df,num_features):\n",
    "    if num_features[0][:5] == 'rank_':\n",
    "        num_agg_df = df.groupby(\"YEAR\",sort=False)[num_features].agg(['last'])\n",
    "    else:\n",
    "        num_agg_df = df.groupby(\"YEAR\",sort=False)[num_features].agg(['mean', 'std', 'min', 'max', 'sum'])\n",
    "    num_agg_df.columns = ['_'.join(x) for x in num_agg_df.columns]\n",
    "    if num_features[0][:5] != 'rank_':\n",
    "        for col in num_agg_df.columns:\n",
    "            num_agg_df[col] = num_agg_df[col] // 0.01\n",
    "    df = num_agg_df.reset_index()\n",
    "    print('num feature shape after engineering', df.shape )\n",
    "\n",
    "    return df\n",
    "\n",
    "\n",
    "num_features13 = ['AG', 'CO', 'CR', 'CU', 'FE', 'H2O', 'MN', 'MO', 'NI',  'TI', 'V', 'V40', 'ZN']\n",
    "num_features3 = ['ANONYMOUS_1', 'ANONYMOUS_2','PQINDEX'] \n",
    "num_features = num_features13+num_features3\n",
    "\n",
    "a1 = num_feature(train,num_features)\n",
    "train = train.merge(a1,on=['YEAR'])\n",
    "a1 = num_feature(test,num_features)\n",
    "test = test.merge(a1,on=['YEAR'])"
   ]
  },
  {
   "cell_type": "code",
   "execution_count": 27,
   "id": "9cf0a8a3",
   "metadata": {
    "execution": {
     "iopub.execute_input": "2022-11-27T08:11:14.859450Z",
     "iopub.status.busy": "2022-11-27T08:11:14.859107Z",
     "iopub.status.idle": "2022-11-27T08:11:15.988726Z",
     "shell.execute_reply": "2022-11-27T08:11:15.987686Z"
    },
    "papermill": {
     "duration": 1.145507,
     "end_time": "2022-11-27T08:11:15.990913",
     "exception": false,
     "start_time": "2022-11-27T08:11:14.845406",
     "status": "completed"
    },
    "tags": []
   },
   "outputs": [
    {
     "name": "stdout",
     "output_type": "stream",
     "text": [
      "diff feature shape after engineering (16, 81)\n",
      "diff feature shape after engineering (16, 81)\n"
     ]
    }
   ],
   "source": [
    "def diff_feature(df):\n",
    "    diff_num_features = [f'diff_{col}' for col in num_features]\n",
    "    cids = df['YEAR'].values\n",
    "    df = df.groupby('YEAR')[num_features].diff().add_prefix('diff_')\n",
    "    df.insert(0,'YEAR',cids)\n",
    "    num_agg_df = df.groupby(\"YEAR\",sort=False)[diff_num_features].agg(['mean', 'std', 'min', 'max', 'sum'])\n",
    "    num_agg_df.columns = ['_'.join(x) for x in num_agg_df.columns]\n",
    "    for col in num_agg_df.columns:\n",
    "        num_agg_df[col] = num_agg_df[col] // 0.01\n",
    "\n",
    "    df = num_agg_df.reset_index()\n",
    "    print('diff feature shape after engineering', df.shape )\n",
    "\n",
    "    return df\n",
    "\n",
    "num_features13 = ['AG', 'CO', 'CR', 'CU', 'FE', 'H2O', 'MN', 'MO', 'NI',  'TI', 'V', 'V40', 'ZN']\n",
    "num_features3 = ['ANONYMOUS_1', 'ANONYMOUS_2','PQINDEX'] \n",
    "num_features = num_features13+num_features3\n",
    "\n",
    "a1 = diff_feature(train)\n",
    "train = train.merge(a1,on=['YEAR'])\n",
    "a1 = diff_feature(test)\n",
    "test = test.merge(a1,on=['YEAR'])"
   ]
  },
  {
   "cell_type": "code",
   "execution_count": 28,
   "id": "9b2f8df2",
   "metadata": {
    "execution": {
     "iopub.execute_input": "2022-11-27T08:11:16.017516Z",
     "iopub.status.busy": "2022-11-27T08:11:16.017186Z",
     "iopub.status.idle": "2022-11-27T08:11:31.893604Z",
     "shell.execute_reply": "2022-11-27T08:11:31.892293Z"
    },
    "papermill": {
     "duration": 15.892281,
     "end_time": "2022-11-27T08:11:31.895933",
     "exception": false,
     "start_time": "2022-11-27T08:11:16.003652",
     "status": "completed"
    },
    "tags": []
   },
   "outputs": [
    {
     "name": "stdout",
     "output_type": "stream",
     "text": [
      "to_drop: 383\n"
     ]
    },
    {
     "name": "stderr",
     "output_type": "stream",
     "text": [
      "/opt/conda/lib/python3.7/site-packages/ipykernel_launcher.py:3: DeprecationWarning: `np.bool` is a deprecated alias for the builtin `bool`. To silence this warning, use `bool` by itself. Doing this will not modify any behavior and is safe. If you specifically wanted the numpy scalar type, use `np.bool_` here.\n",
      "Deprecated in NumPy 1.20; for more details and guidance: https://numpy.org/devdocs/release/1.20.0-notes.html#deprecations\n",
      "  This is separate from the ipykernel package so we can avoid doing imports until\n"
     ]
    }
   ],
   "source": [
    "all_num_features = [i for i in train.select_dtypes(include=[int,float]).columns if i not in ['Y_LABEL']]\n",
    "cor_matrix = train[all_num_features].corr().abs()\n",
    "upper_tri = cor_matrix.where(np.triu(np.ones(cor_matrix.shape),k=1).astype(np.bool))\n",
    "to_drop = [column for column in upper_tri.columns if any(upper_tri[column] > 0.95)]\n",
    "print('to_drop:',len(to_drop))\n",
    "train = train.drop(columns=to_drop, axis=1)\n",
    "test = test.drop(columns=to_drop, axis=1)"
   ]
  },
  {
   "cell_type": "code",
   "execution_count": null,
   "id": "74dc1e5a",
   "metadata": {
    "papermill": {
     "duration": 0.012878,
     "end_time": "2022-11-27T08:11:31.921943",
     "exception": false,
     "start_time": "2022-11-27T08:11:31.909065",
     "status": "completed"
    },
    "tags": []
   },
   "outputs": [],
   "source": []
  },
  {
   "cell_type": "code",
   "execution_count": null,
   "id": "636d877f",
   "metadata": {
    "papermill": {
     "duration": 0.012709,
     "end_time": "2022-11-27T08:11:31.948084",
     "exception": false,
     "start_time": "2022-11-27T08:11:31.935375",
     "status": "completed"
    },
    "tags": []
   },
   "outputs": [],
   "source": []
  },
  {
   "cell_type": "code",
   "execution_count": null,
   "id": "73224d73",
   "metadata": {
    "papermill": {
     "duration": 0.012899,
     "end_time": "2022-11-27T08:11:31.974205",
     "exception": false,
     "start_time": "2022-11-27T08:11:31.961306",
     "status": "completed"
    },
    "tags": []
   },
   "outputs": [],
   "source": []
  },
  {
   "cell_type": "code",
   "execution_count": 29,
   "id": "99b616ff",
   "metadata": {
    "execution": {
     "iopub.execute_input": "2022-11-27T08:11:32.001826Z",
     "iopub.status.busy": "2022-11-27T08:11:32.001532Z",
     "iopub.status.idle": "2022-11-27T08:11:32.005163Z",
     "shell.execute_reply": "2022-11-27T08:11:32.004470Z"
    },
    "papermill": {
     "duration": 0.020282,
     "end_time": "2022-11-27T08:11:32.007610",
     "exception": false,
     "start_time": "2022-11-27T08:11:31.987328",
     "status": "completed"
    },
    "tags": []
   },
   "outputs": [
    {
     "name": "stdout",
     "output_type": "stream",
     "text": [
      "405\n"
     ]
    }
   ],
   "source": [
    "print(len(train.columns))"
   ]
  },
  {
   "cell_type": "code",
   "execution_count": 30,
   "id": "417f14dc",
   "metadata": {
    "execution": {
     "iopub.execute_input": "2022-11-27T08:11:32.036390Z",
     "iopub.status.busy": "2022-11-27T08:11:32.035965Z",
     "iopub.status.idle": "2022-11-27T08:53:31.055354Z",
     "shell.execute_reply": "2022-11-27T08:53:31.054031Z"
    },
    "papermill": {
     "duration": 2519.036331,
     "end_time": "2022-11-27T08:53:31.057162",
     "exception": false,
     "start_time": "2022-11-27T08:11:32.020831",
     "status": "completed"
    },
    "tags": []
   },
   "outputs": [
    {
     "name": "stdout",
     "output_type": "stream",
     "text": [
      "|   iter    |  target   | colsam... | learni... | max_depth | min_ch... | min_ch... | min_sp... | num_le... | reg_alpha | reg_la... | subsample |\n",
      "-------------------------------------------------------------------------------------------------------------------------------------------------\n",
      "| \u001b[0m 1       \u001b[0m | \u001b[0m 0.69    \u001b[0m | \u001b[0m 0.4145  \u001b[0m | \u001b[0m 0.03276 \u001b[0m | \u001b[0m 4.676   \u001b[0m | \u001b[0m 41.47   \u001b[0m | \u001b[0m 0.8811  \u001b[0m | \u001b[0m 0.8651  \u001b[0m | \u001b[0m 46.63   \u001b[0m | \u001b[0m 6.17    \u001b[0m | \u001b[0m 4.265   \u001b[0m | \u001b[0m 0.3182  \u001b[0m |\n",
      "| \u001b[95m 2       \u001b[0m | \u001b[95m 0.7017  \u001b[0m | \u001b[95m 0.3335  \u001b[0m | \u001b[95m 0.07927 \u001b[0m | \u001b[95m 4.733   \u001b[0m | \u001b[95m 21.94   \u001b[0m | \u001b[95m 0.3311  \u001b[0m | \u001b[95m 0.1729  \u001b[0m | \u001b[95m 77.63   \u001b[0m | \u001b[95m 2.723   \u001b[0m | \u001b[95m 9.365   \u001b[0m | \u001b[95m 0.7622  \u001b[0m |\n",
      "| \u001b[0m 3       \u001b[0m | \u001b[0m 0.6989  \u001b[0m | \u001b[0m 0.3783  \u001b[0m | \u001b[0m 0.04372 \u001b[0m | \u001b[0m 3.792   \u001b[0m | \u001b[0m 31.63   \u001b[0m | \u001b[0m 0.3362  \u001b[0m | \u001b[0m 0.8245  \u001b[0m | \u001b[0m 26.51   \u001b[0m | \u001b[0m 6.938   \u001b[0m | \u001b[0m 1.938   \u001b[0m | \u001b[0m 0.7214  \u001b[0m |\n",
      "| \u001b[0m 4       \u001b[0m | \u001b[0m 0.6888  \u001b[0m | \u001b[0m 0.783   \u001b[0m | \u001b[0m 0.05741 \u001b[0m | \u001b[0m 5.922   \u001b[0m | \u001b[0m 36.85   \u001b[0m | \u001b[0m 0.377   \u001b[0m | \u001b[0m 0.3675  \u001b[0m | \u001b[0m 49.05   \u001b[0m | \u001b[0m 8.657   \u001b[0m | \u001b[0m 6.6     \u001b[0m | \u001b[0m 0.6131  \u001b[0m |\n",
      "| \u001b[0m 5       \u001b[0m | \u001b[0m 0.7002  \u001b[0m | \u001b[0m 0.3783  \u001b[0m | \u001b[0m 0.06092 \u001b[0m | \u001b[0m 3.57    \u001b[0m | \u001b[0m 29.36   \u001b[0m | \u001b[0m 0.5373  \u001b[0m | \u001b[0m 0.5422  \u001b[0m | \u001b[0m 49.93   \u001b[0m | \u001b[0m 6.243   \u001b[0m | \u001b[0m 7.428   \u001b[0m | \u001b[0m 0.4804  \u001b[0m |\n",
      "| \u001b[0m 6       \u001b[0m | \u001b[0m 0.6983  \u001b[0m | \u001b[0m 0.4352  \u001b[0m | \u001b[0m 0.02703 \u001b[0m | \u001b[0m 4.69    \u001b[0m | \u001b[0m 35.45   \u001b[0m | \u001b[0m 0.8387  \u001b[0m | \u001b[0m 0.7666  \u001b[0m | \u001b[0m 28.7    \u001b[0m | \u001b[0m 3.723   \u001b[0m | \u001b[0m 1.036   \u001b[0m | \u001b[0m 0.6947  \u001b[0m |\n",
      "| \u001b[0m 7       \u001b[0m | \u001b[0m 0.6915  \u001b[0m | \u001b[0m 0.7799  \u001b[0m | \u001b[0m 0.05754 \u001b[0m | \u001b[0m 7.732   \u001b[0m | \u001b[0m 23.12   \u001b[0m | \u001b[0m 0.1753  \u001b[0m | \u001b[0m 0.02657 \u001b[0m | \u001b[0m 50.75   \u001b[0m | \u001b[0m 9.254   \u001b[0m | \u001b[0m 3.355   \u001b[0m | \u001b[0m 0.3702  \u001b[0m |\n",
      "| \u001b[0m 8       \u001b[0m | \u001b[0m 0.6983  \u001b[0m | \u001b[0m 0.5771  \u001b[0m | \u001b[0m 0.04545 \u001b[0m | \u001b[0m 5.341   \u001b[0m | \u001b[0m 17.48   \u001b[0m | \u001b[0m 0.7409  \u001b[0m | \u001b[0m 0.5311  \u001b[0m | \u001b[0m 43.56   \u001b[0m | \u001b[0m 9.323   \u001b[0m | \u001b[0m 5.109   \u001b[0m | \u001b[0m 0.6329  \u001b[0m |\n",
      "| \u001b[0m 9       \u001b[0m | \u001b[0m 0.6986  \u001b[0m | \u001b[0m 0.3199  \u001b[0m | \u001b[0m 0.06809 \u001b[0m | \u001b[0m 3.962   \u001b[0m | \u001b[0m 47.64   \u001b[0m | \u001b[0m 0.5646  \u001b[0m | \u001b[0m 0.4813  \u001b[0m | \u001b[0m 51.78   \u001b[0m | \u001b[0m 6.986   \u001b[0m | \u001b[0m 2.947   \u001b[0m | \u001b[0m 0.7343  \u001b[0m |\n",
      "| \u001b[0m 10      \u001b[0m | \u001b[0m 0.699   \u001b[0m | \u001b[0m 0.5064  \u001b[0m | \u001b[0m 0.03814 \u001b[0m | \u001b[0m 6.025   \u001b[0m | \u001b[0m 10.36   \u001b[0m | \u001b[0m 0.9805  \u001b[0m | \u001b[0m 0.9942  \u001b[0m | \u001b[0m 49.59   \u001b[0m | \u001b[0m 0.7819  \u001b[0m | \u001b[0m 7.087   \u001b[0m | \u001b[0m 0.4698  \u001b[0m |\n",
      "| \u001b[0m 11      \u001b[0m | \u001b[0m 0.6937  \u001b[0m | \u001b[0m 0.3766  \u001b[0m | \u001b[0m 0.06339 \u001b[0m | \u001b[0m 3.238   \u001b[0m | \u001b[0m 46.4    \u001b[0m | \u001b[0m 0.6646  \u001b[0m | \u001b[0m 0.08921 \u001b[0m | \u001b[0m 50.16   \u001b[0m | \u001b[0m 8.743   \u001b[0m | \u001b[0m 7.267   \u001b[0m | \u001b[0m 0.4577  \u001b[0m |\n",
      "| \u001b[0m 12      \u001b[0m | \u001b[0m 0.6987  \u001b[0m | \u001b[0m 0.744   \u001b[0m | \u001b[0m 0.03449 \u001b[0m | \u001b[0m 4.264   \u001b[0m | \u001b[0m 40.61   \u001b[0m | \u001b[0m 0.8744  \u001b[0m | \u001b[0m 0.5942  \u001b[0m | \u001b[0m 77.91   \u001b[0m | \u001b[0m 0.8303  \u001b[0m | \u001b[0m 6.551   \u001b[0m | \u001b[0m 0.3668  \u001b[0m |\n",
      "| \u001b[0m 13      \u001b[0m | \u001b[0m 0.6984  \u001b[0m | \u001b[0m 0.298   \u001b[0m | \u001b[0m 0.02569 \u001b[0m | \u001b[0m 5.186   \u001b[0m | \u001b[0m 35.44   \u001b[0m | \u001b[0m 0.9339  \u001b[0m | \u001b[0m 0.1433  \u001b[0m | \u001b[0m 77.25   \u001b[0m | \u001b[0m 9.494   \u001b[0m | \u001b[0m 5.399   \u001b[0m | \u001b[0m 0.4829  \u001b[0m |\n",
      "| \u001b[0m 14      \u001b[0m | \u001b[0m 0.6995  \u001b[0m | \u001b[0m 0.2858  \u001b[0m | \u001b[0m 0.04935 \u001b[0m | \u001b[0m 6.879   \u001b[0m | \u001b[0m 30.17   \u001b[0m | \u001b[0m 0.1062  \u001b[0m | \u001b[0m 0.8979  \u001b[0m | \u001b[0m 74.01   \u001b[0m | \u001b[0m 6.98    \u001b[0m | \u001b[0m 1.02    \u001b[0m | \u001b[0m 0.5656  \u001b[0m |\n",
      "| \u001b[0m 15      \u001b[0m | \u001b[0m 0.6973  \u001b[0m | \u001b[0m 0.7471  \u001b[0m | \u001b[0m 0.05422 \u001b[0m | \u001b[0m 6.063   \u001b[0m | \u001b[0m 43.1    \u001b[0m | \u001b[0m 0.2948  \u001b[0m | \u001b[0m 0.1293  \u001b[0m | \u001b[0m 75.32   \u001b[0m | \u001b[0m 5.013   \u001b[0m | \u001b[0m 8.046   \u001b[0m | \u001b[0m 0.2254  \u001b[0m |\n",
      "| \u001b[0m 16      \u001b[0m | \u001b[0m 0.6975  \u001b[0m | \u001b[0m 0.5793  \u001b[0m | \u001b[0m 0.05821 \u001b[0m | \u001b[0m 6.679   \u001b[0m | \u001b[0m 10.51   \u001b[0m | \u001b[0m 0.1818  \u001b[0m | \u001b[0m 0.5318  \u001b[0m | \u001b[0m 77.89   \u001b[0m | \u001b[0m 0.1149  \u001b[0m | \u001b[0m 3.12    \u001b[0m | \u001b[0m 0.7263  \u001b[0m |\n",
      "| \u001b[0m 17      \u001b[0m | \u001b[0m 0.6979  \u001b[0m | \u001b[0m 0.5049  \u001b[0m | \u001b[0m 0.05205 \u001b[0m | \u001b[0m 7.905   \u001b[0m | \u001b[0m 39.13   \u001b[0m | \u001b[0m 0.889   \u001b[0m | \u001b[0m 0.3854  \u001b[0m | \u001b[0m 59.55   \u001b[0m | \u001b[0m 8.34    \u001b[0m | \u001b[0m 4.493   \u001b[0m | \u001b[0m 0.2901  \u001b[0m |\n",
      "| \u001b[0m 18      \u001b[0m | \u001b[0m 0.7005  \u001b[0m | \u001b[0m 0.3982  \u001b[0m | \u001b[0m 0.06413 \u001b[0m | \u001b[0m 4.469   \u001b[0m | \u001b[0m 27.02   \u001b[0m | \u001b[0m 0.639   \u001b[0m | \u001b[0m 0.9671  \u001b[0m | \u001b[0m 28.34   \u001b[0m | \u001b[0m 2.214   \u001b[0m | \u001b[0m 1.084   \u001b[0m | \u001b[0m 0.3446  \u001b[0m |\n",
      "| \u001b[0m 19      \u001b[0m | \u001b[0m 0.697   \u001b[0m | \u001b[0m 0.4716  \u001b[0m | \u001b[0m 0.06588 \u001b[0m | \u001b[0m 7.681   \u001b[0m | \u001b[0m 26.96   \u001b[0m | \u001b[0m 0.01878 \u001b[0m | \u001b[0m 0.7501  \u001b[0m | \u001b[0m 28.4    \u001b[0m | \u001b[0m 6.968   \u001b[0m | \u001b[0m 9.82    \u001b[0m | \u001b[0m 0.2845  \u001b[0m |\n",
      "| \u001b[0m 20      \u001b[0m | \u001b[0m 0.6993  \u001b[0m | \u001b[0m 0.5363  \u001b[0m | \u001b[0m 0.05598 \u001b[0m | \u001b[0m 6.666   \u001b[0m | \u001b[0m 19.44   \u001b[0m | \u001b[0m 0.133   \u001b[0m | \u001b[0m 0.9086  \u001b[0m | \u001b[0m 63.97   \u001b[0m | \u001b[0m 5.435   \u001b[0m | \u001b[0m 4.483   \u001b[0m | \u001b[0m 0.2077  \u001b[0m |\n",
      "| \u001b[0m 21      \u001b[0m | \u001b[0m 0.6984  \u001b[0m | \u001b[0m 0.2015  \u001b[0m | \u001b[0m 0.02779 \u001b[0m | \u001b[0m 7.274   \u001b[0m | \u001b[0m 12.94   \u001b[0m | \u001b[0m 0.6272  \u001b[0m | \u001b[0m 0.6705  \u001b[0m | \u001b[0m 30.31   \u001b[0m | \u001b[0m 8.508   \u001b[0m | \u001b[0m 8.722   \u001b[0m | \u001b[0m 0.368   \u001b[0m |\n",
      "| \u001b[0m 22      \u001b[0m | \u001b[0m 0.695   \u001b[0m | \u001b[0m 0.7801  \u001b[0m | \u001b[0m 0.03382 \u001b[0m | \u001b[0m 7.905   \u001b[0m | \u001b[0m 11.06   \u001b[0m | \u001b[0m 0.09212 \u001b[0m | \u001b[0m 0.7808  \u001b[0m | \u001b[0m 73.21   \u001b[0m | \u001b[0m 8.649   \u001b[0m | \u001b[0m 7.163   \u001b[0m | \u001b[0m 0.3853  \u001b[0m |\n",
      "| \u001b[0m 23      \u001b[0m | \u001b[0m 0.6982  \u001b[0m | \u001b[0m 0.6085  \u001b[0m | \u001b[0m 0.02867 \u001b[0m | \u001b[0m 5.517   \u001b[0m | \u001b[0m 20.74   \u001b[0m | \u001b[0m 0.009052\u001b[0m | \u001b[0m 0.3641  \u001b[0m | \u001b[0m 30.16   \u001b[0m | \u001b[0m 9.21    \u001b[0m | \u001b[0m 9.321   \u001b[0m | \u001b[0m 0.5005  \u001b[0m |\n",
      "| \u001b[0m 24      \u001b[0m | \u001b[0m 0.6961  \u001b[0m | \u001b[0m 0.5962  \u001b[0m | \u001b[0m 0.03007 \u001b[0m | \u001b[0m 7.729   \u001b[0m | \u001b[0m 36.56   \u001b[0m | \u001b[0m 0.3887  \u001b[0m | \u001b[0m 0.3474  \u001b[0m | \u001b[0m 70.35   \u001b[0m | \u001b[0m 7.357   \u001b[0m | \u001b[0m 4.941   \u001b[0m | \u001b[0m 0.2658  \u001b[0m |\n",
      "| \u001b[0m 25      \u001b[0m | \u001b[0m 0.6956  \u001b[0m | \u001b[0m 0.2091  \u001b[0m | \u001b[0m 0.02455 \u001b[0m | \u001b[0m 3.353   \u001b[0m | \u001b[0m 39.31   \u001b[0m | \u001b[0m 0.3778  \u001b[0m | \u001b[0m 0.04572 \u001b[0m | \u001b[0m 76.7    \u001b[0m | \u001b[0m 7.369   \u001b[0m | \u001b[0m 7.533   \u001b[0m | \u001b[0m 0.6608  \u001b[0m |\n",
      "| \u001b[0m 26      \u001b[0m | \u001b[0m 0.6988  \u001b[0m | \u001b[0m 0.4625  \u001b[0m | \u001b[0m 0.04961 \u001b[0m | \u001b[0m 5.886   \u001b[0m | \u001b[0m 35.97   \u001b[0m | \u001b[0m 0.02654 \u001b[0m | \u001b[0m 0.7376  \u001b[0m | \u001b[0m 39.78   \u001b[0m | \u001b[0m 1.571   \u001b[0m | \u001b[0m 9.94    \u001b[0m | \u001b[0m 0.298   \u001b[0m |\n",
      "| \u001b[0m 27      \u001b[0m | \u001b[0m 0.6951  \u001b[0m | \u001b[0m 0.6285  \u001b[0m | \u001b[0m 0.02914 \u001b[0m | \u001b[0m 3.465   \u001b[0m | \u001b[0m 32.46   \u001b[0m | \u001b[0m 0.1927  \u001b[0m | \u001b[0m 0.4289  \u001b[0m | \u001b[0m 66.38   \u001b[0m | \u001b[0m 5.933   \u001b[0m | \u001b[0m 6.352   \u001b[0m | \u001b[0m 0.6502  \u001b[0m |\n",
      "| \u001b[0m 28      \u001b[0m | \u001b[0m 0.6997  \u001b[0m | \u001b[0m 0.7017  \u001b[0m | \u001b[0m 0.04771 \u001b[0m | \u001b[0m 4.654   \u001b[0m | \u001b[0m 14.01   \u001b[0m | \u001b[0m 0.2806  \u001b[0m | \u001b[0m 0.8526  \u001b[0m | \u001b[0m 62.44   \u001b[0m | \u001b[0m 3.227   \u001b[0m | \u001b[0m 6.645   \u001b[0m | \u001b[0m 0.3956  \u001b[0m |\n",
      "| \u001b[0m 29      \u001b[0m | \u001b[0m 0.7005  \u001b[0m | \u001b[0m 0.3401  \u001b[0m | \u001b[0m 0.03458 \u001b[0m | \u001b[0m 3.84    \u001b[0m | \u001b[0m 30.63   \u001b[0m | \u001b[0m 0.2212  \u001b[0m | \u001b[0m 0.1396  \u001b[0m | \u001b[0m 52.47   \u001b[0m | \u001b[0m 1.554   \u001b[0m | \u001b[0m 1.483   \u001b[0m | \u001b[0m 0.2101  \u001b[0m |\n",
      "| \u001b[0m 30      \u001b[0m | \u001b[0m 0.6959  \u001b[0m | \u001b[0m 0.62    \u001b[0m | \u001b[0m 0.03442 \u001b[0m | \u001b[0m 7.113   \u001b[0m | \u001b[0m 39.53   \u001b[0m | \u001b[0m 0.08563 \u001b[0m | \u001b[0m 0.09529 \u001b[0m | \u001b[0m 68.34   \u001b[0m | \u001b[0m 6.24    \u001b[0m | \u001b[0m 4.786   \u001b[0m | \u001b[0m 0.6146  \u001b[0m |\n",
      "| \u001b[0m 31      \u001b[0m | \u001b[0m 0.694   \u001b[0m | \u001b[0m 0.4236  \u001b[0m | \u001b[0m 0.03137 \u001b[0m | \u001b[0m 5.133   \u001b[0m | \u001b[0m 25.66   \u001b[0m | \u001b[0m 0.2472  \u001b[0m | \u001b[0m 0.6852  \u001b[0m | \u001b[0m 56.5    \u001b[0m | \u001b[0m 4.647   \u001b[0m | \u001b[0m 4.129   \u001b[0m | \u001b[0m 0.3098  \u001b[0m |\n",
      "| \u001b[0m 32      \u001b[0m | \u001b[0m 0.6974  \u001b[0m | \u001b[0m 0.6247  \u001b[0m | \u001b[0m 0.0524  \u001b[0m | \u001b[0m 6.295   \u001b[0m | \u001b[0m 40.77   \u001b[0m | \u001b[0m 0.6645  \u001b[0m | \u001b[0m 0.6991  \u001b[0m | \u001b[0m 74.43   \u001b[0m | \u001b[0m 3.199   \u001b[0m | \u001b[0m 4.22    \u001b[0m | \u001b[0m 0.6884  \u001b[0m |\n",
      "| \u001b[0m 33      \u001b[0m | \u001b[0m 0.6976  \u001b[0m | \u001b[0m 0.2413  \u001b[0m | \u001b[0m 0.03079 \u001b[0m | \u001b[0m 6.738   \u001b[0m | \u001b[0m 44.66   \u001b[0m | \u001b[0m 0.1858  \u001b[0m | \u001b[0m 0.6848  \u001b[0m | \u001b[0m 32.11   \u001b[0m | \u001b[0m 9.286   \u001b[0m | \u001b[0m 6.298   \u001b[0m | \u001b[0m 0.2954  \u001b[0m |\n",
      "| \u001b[0m 34      \u001b[0m | \u001b[0m 0.6982  \u001b[0m | \u001b[0m 0.6595  \u001b[0m | \u001b[0m 0.0582  \u001b[0m | \u001b[0m 4.074   \u001b[0m | \u001b[0m 14.31   \u001b[0m | \u001b[0m 0.3409  \u001b[0m | \u001b[0m 0.4877  \u001b[0m | \u001b[0m 46.39   \u001b[0m | \u001b[0m 4.896   \u001b[0m | \u001b[0m 1.193   \u001b[0m | \u001b[0m 0.6355  \u001b[0m |\n",
      "| \u001b[0m 35      \u001b[0m | \u001b[0m 0.6972  \u001b[0m | \u001b[0m 0.7407  \u001b[0m | \u001b[0m 0.06448 \u001b[0m | \u001b[0m 5.425   \u001b[0m | \u001b[0m 38.51   \u001b[0m | \u001b[0m 0.6223  \u001b[0m | \u001b[0m 0.733   \u001b[0m | \u001b[0m 76.16   \u001b[0m | \u001b[0m 7.482   \u001b[0m | \u001b[0m 2.147   \u001b[0m | \u001b[0m 0.3347  \u001b[0m |\n",
      "| \u001b[0m 36      \u001b[0m | \u001b[0m 0.6938  \u001b[0m | \u001b[0m 0.7874  \u001b[0m | \u001b[0m 0.07477 \u001b[0m | \u001b[0m 5.689   \u001b[0m | \u001b[0m 26.22   \u001b[0m | \u001b[0m 0.3807  \u001b[0m | \u001b[0m 0.2779  \u001b[0m | \u001b[0m 76.9    \u001b[0m | \u001b[0m 3.708   \u001b[0m | \u001b[0m 5.806   \u001b[0m | \u001b[0m 0.782   \u001b[0m |\n",
      "| \u001b[0m 37      \u001b[0m | \u001b[0m 0.6995  \u001b[0m | \u001b[0m 0.365   \u001b[0m | \u001b[0m 0.06213 \u001b[0m | \u001b[0m 4.934   \u001b[0m | \u001b[0m 36.45   \u001b[0m | \u001b[0m 0.309   \u001b[0m | \u001b[0m 0.5098  \u001b[0m | \u001b[0m 42.46   \u001b[0m | \u001b[0m 8.106   \u001b[0m | \u001b[0m 3.469   \u001b[0m | \u001b[0m 0.6575  \u001b[0m |\n",
      "| \u001b[0m 38      \u001b[0m | \u001b[0m 0.6993  \u001b[0m | \u001b[0m 0.3622  \u001b[0m | \u001b[0m 0.03273 \u001b[0m | \u001b[0m 7.104   \u001b[0m | \u001b[0m 16.97   \u001b[0m | \u001b[0m 0.05381 \u001b[0m | \u001b[0m 0.3643  \u001b[0m | \u001b[0m 56.29   \u001b[0m | \u001b[0m 9.294   \u001b[0m | \u001b[0m 2.767   \u001b[0m | \u001b[0m 0.7978  \u001b[0m |\n",
      "| \u001b[0m 39      \u001b[0m | \u001b[0m 0.699   \u001b[0m | \u001b[0m 0.376   \u001b[0m | \u001b[0m 0.0429  \u001b[0m | \u001b[0m 5.765   \u001b[0m | \u001b[0m 11.8    \u001b[0m | \u001b[0m 0.02698 \u001b[0m | \u001b[0m 0.202   \u001b[0m | \u001b[0m 60.55   \u001b[0m | \u001b[0m 5.103   \u001b[0m | \u001b[0m 9.969   \u001b[0m | \u001b[0m 0.5533  \u001b[0m |\n",
      "| \u001b[0m 40      \u001b[0m | \u001b[0m 0.6989  \u001b[0m | \u001b[0m 0.5503  \u001b[0m | \u001b[0m 0.0474  \u001b[0m | \u001b[0m 7.53    \u001b[0m | \u001b[0m 40.39   \u001b[0m | \u001b[0m 0.05043 \u001b[0m | \u001b[0m 0.8928  \u001b[0m | \u001b[0m 55.84   \u001b[0m | \u001b[0m 5.178   \u001b[0m | \u001b[0m 8.92    \u001b[0m | \u001b[0m 0.5957  \u001b[0m |\n",
      "| \u001b[0m 41      \u001b[0m | \u001b[0m 0.6973  \u001b[0m | \u001b[0m 0.305   \u001b[0m | \u001b[0m 0.04453 \u001b[0m | \u001b[0m 3.412   \u001b[0m | \u001b[0m 46.1    \u001b[0m | \u001b[0m 0.7171  \u001b[0m | \u001b[0m 0.8513  \u001b[0m | \u001b[0m 54.26   \u001b[0m | \u001b[0m 0.7297  \u001b[0m | \u001b[0m 9.414   \u001b[0m | \u001b[0m 0.3492  \u001b[0m |\n",
      "| \u001b[0m 42      \u001b[0m | \u001b[0m 0.6917  \u001b[0m | \u001b[0m 0.7289  \u001b[0m | \u001b[0m 0.06797 \u001b[0m | \u001b[0m 7.356   \u001b[0m | \u001b[0m 10.42   \u001b[0m | \u001b[0m 0.7783  \u001b[0m | \u001b[0m 0.4046  \u001b[0m | \u001b[0m 53.75   \u001b[0m | \u001b[0m 4.502   \u001b[0m | \u001b[0m 4.546   \u001b[0m | \u001b[0m 0.7197  \u001b[0m |\n",
      "| \u001b[0m 43      \u001b[0m | \u001b[0m 0.6888  \u001b[0m | \u001b[0m 0.5669  \u001b[0m | \u001b[0m 0.03013 \u001b[0m | \u001b[0m 5.299   \u001b[0m | \u001b[0m 30.12   \u001b[0m | \u001b[0m 0.6608  \u001b[0m | \u001b[0m 0.2011  \u001b[0m | \u001b[0m 34.78   \u001b[0m | \u001b[0m 7.576   \u001b[0m | \u001b[0m 7.803   \u001b[0m | \u001b[0m 0.7577  \u001b[0m |\n",
      "| \u001b[0m 44      \u001b[0m | \u001b[0m 0.7003  \u001b[0m | \u001b[0m 0.7287  \u001b[0m | \u001b[0m 0.03584 \u001b[0m | \u001b[0m 4.877   \u001b[0m | \u001b[0m 45.0    \u001b[0m | \u001b[0m 0.9301  \u001b[0m | \u001b[0m 0.4235  \u001b[0m | \u001b[0m 69.79   \u001b[0m | \u001b[0m 0.1125  \u001b[0m | \u001b[0m 4.207   \u001b[0m | \u001b[0m 0.5542  \u001b[0m |\n",
      "| \u001b[0m 45      \u001b[0m | \u001b[0m 0.6909  \u001b[0m | \u001b[0m 0.4562  \u001b[0m | \u001b[0m 0.03587 \u001b[0m | \u001b[0m 7.548   \u001b[0m | \u001b[0m 32.45   \u001b[0m | \u001b[0m 0.113   \u001b[0m | \u001b[0m 0.08895 \u001b[0m | \u001b[0m 71.24   \u001b[0m | \u001b[0m 9.586   \u001b[0m | \u001b[0m 5.669   \u001b[0m | \u001b[0m 0.2451  \u001b[0m |\n",
      "| \u001b[0m 46      \u001b[0m | \u001b[0m 0.6991  \u001b[0m | \u001b[0m 0.6339  \u001b[0m | \u001b[0m 0.06263 \u001b[0m | \u001b[0m 5.291   \u001b[0m | \u001b[0m 11.3    \u001b[0m | \u001b[0m 0.7815  \u001b[0m | \u001b[0m 0.7133  \u001b[0m | \u001b[0m 77.43   \u001b[0m | \u001b[0m 1.56    \u001b[0m | \u001b[0m 2.944   \u001b[0m | \u001b[0m 0.7236  \u001b[0m |\n",
      "| \u001b[0m 47      \u001b[0m | \u001b[0m 0.6979  \u001b[0m | \u001b[0m 0.2569  \u001b[0m | \u001b[0m 0.07401 \u001b[0m | \u001b[0m 6.904   \u001b[0m | \u001b[0m 11.84   \u001b[0m | \u001b[0m 0.2985  \u001b[0m | \u001b[0m 0.1933  \u001b[0m | \u001b[0m 39.05   \u001b[0m | \u001b[0m 9.206   \u001b[0m | \u001b[0m 5.362   \u001b[0m | \u001b[0m 0.5576  \u001b[0m |\n",
      "| \u001b[0m 48      \u001b[0m | \u001b[0m 0.6966  \u001b[0m | \u001b[0m 0.6482  \u001b[0m | \u001b[0m 0.03528 \u001b[0m | \u001b[0m 7.126   \u001b[0m | \u001b[0m 34.02   \u001b[0m | \u001b[0m 0.701   \u001b[0m | \u001b[0m 0.3705  \u001b[0m | \u001b[0m 55.38   \u001b[0m | \u001b[0m 7.539   \u001b[0m | \u001b[0m 4.804   \u001b[0m | \u001b[0m 0.4503  \u001b[0m |\n",
      "| \u001b[95m 49      \u001b[0m | \u001b[95m 0.7024  \u001b[0m | \u001b[95m 0.5055  \u001b[0m | \u001b[95m 0.06632 \u001b[0m | \u001b[95m 5.108   \u001b[0m | \u001b[95m 26.43   \u001b[0m | \u001b[95m 0.5948  \u001b[0m | \u001b[95m 0.3586  \u001b[0m | \u001b[95m 61.08   \u001b[0m | \u001b[95m 6.885   \u001b[0m | \u001b[95m 7.647   \u001b[0m | \u001b[95m 0.7952  \u001b[0m |\n",
      "| \u001b[0m 50      \u001b[0m | \u001b[0m 0.6962  \u001b[0m | \u001b[0m 0.211   \u001b[0m | \u001b[0m 0.02957 \u001b[0m | \u001b[0m 3.069   \u001b[0m | \u001b[0m 26.83   \u001b[0m | \u001b[0m 0.2496  \u001b[0m | \u001b[0m 0.2057  \u001b[0m | \u001b[0m 66.08   \u001b[0m | \u001b[0m 7.255   \u001b[0m | \u001b[0m 6.781   \u001b[0m | \u001b[0m 0.2645  \u001b[0m |\n",
      "| \u001b[0m 51      \u001b[0m | \u001b[0m 0.6966  \u001b[0m | \u001b[0m 0.5151  \u001b[0m | \u001b[0m 0.05995 \u001b[0m | \u001b[0m 3.491   \u001b[0m | \u001b[0m 18.67   \u001b[0m | \u001b[0m 0.5939  \u001b[0m | \u001b[0m 0.2377  \u001b[0m | \u001b[0m 63.89   \u001b[0m | \u001b[0m 6.327   \u001b[0m | \u001b[0m 3.828   \u001b[0m | \u001b[0m 0.6587  \u001b[0m |\n",
      "| \u001b[0m 52      \u001b[0m | \u001b[0m 0.6964  \u001b[0m | \u001b[0m 0.554   \u001b[0m | \u001b[0m 0.068   \u001b[0m | \u001b[0m 4.421   \u001b[0m | \u001b[0m 41.36   \u001b[0m | \u001b[0m 0.4206  \u001b[0m | \u001b[0m 0.6592  \u001b[0m | \u001b[0m 52.83   \u001b[0m | \u001b[0m 7.857   \u001b[0m | \u001b[0m 6.104   \u001b[0m | \u001b[0m 0.6038  \u001b[0m |\n",
      "| \u001b[0m 53      \u001b[0m | \u001b[0m 0.7016  \u001b[0m | \u001b[0m 0.2927  \u001b[0m | \u001b[0m 0.03786 \u001b[0m | \u001b[0m 5.37    \u001b[0m | \u001b[0m 10.93   \u001b[0m | \u001b[0m 0.3957  \u001b[0m | \u001b[0m 0.1548  \u001b[0m | \u001b[0m 49.65   \u001b[0m | \u001b[0m 5.493   \u001b[0m | \u001b[0m 5.61    \u001b[0m | \u001b[0m 0.3629  \u001b[0m |\n",
      "| \u001b[0m 54      \u001b[0m | \u001b[0m 0.6962  \u001b[0m | \u001b[0m 0.3424  \u001b[0m | \u001b[0m 0.07187 \u001b[0m | \u001b[0m 7.379   \u001b[0m | \u001b[0m 25.87   \u001b[0m | \u001b[0m 0.6268  \u001b[0m | \u001b[0m 0.7487  \u001b[0m | \u001b[0m 64.51   \u001b[0m | \u001b[0m 1.728   \u001b[0m | \u001b[0m 3.445   \u001b[0m | \u001b[0m 0.6044  \u001b[0m |\n",
      "| \u001b[0m 55      \u001b[0m | \u001b[0m 0.695   \u001b[0m | \u001b[0m 0.3409  \u001b[0m | \u001b[0m 0.04916 \u001b[0m | \u001b[0m 3.089   \u001b[0m | \u001b[0m 43.44   \u001b[0m | \u001b[0m 0.3606  \u001b[0m | \u001b[0m 0.2205  \u001b[0m | \u001b[0m 34.78   \u001b[0m | \u001b[0m 8.993   \u001b[0m | \u001b[0m 3.949   \u001b[0m | \u001b[0m 0.3672  \u001b[0m |\n",
      "| \u001b[0m 56      \u001b[0m | \u001b[0m 0.6922  \u001b[0m | \u001b[0m 0.3083  \u001b[0m | \u001b[0m 0.0669  \u001b[0m | \u001b[0m 5.325   \u001b[0m | \u001b[0m 45.68   \u001b[0m | \u001b[0m 0.03665 \u001b[0m | \u001b[0m 0.546   \u001b[0m | \u001b[0m 58.29   \u001b[0m | \u001b[0m 9.382   \u001b[0m | \u001b[0m 5.499   \u001b[0m | \u001b[0m 0.5644  \u001b[0m |\n",
      "| \u001b[0m 57      \u001b[0m | \u001b[0m 0.6998  \u001b[0m | \u001b[0m 0.4053  \u001b[0m | \u001b[0m 0.04616 \u001b[0m | \u001b[0m 5.771   \u001b[0m | \u001b[0m 10.97   \u001b[0m | \u001b[0m 0.2961  \u001b[0m | \u001b[0m 0.8475  \u001b[0m | \u001b[0m 41.38   \u001b[0m | \u001b[0m 6.349   \u001b[0m | \u001b[0m 8.774   \u001b[0m | \u001b[0m 0.3197  \u001b[0m |\n",
      "| \u001b[0m 58      \u001b[0m | \u001b[0m 0.6978  \u001b[0m | \u001b[0m 0.2693  \u001b[0m | \u001b[0m 0.07797 \u001b[0m | \u001b[0m 7.891   \u001b[0m | \u001b[0m 32.01   \u001b[0m | \u001b[0m 0.4527  \u001b[0m | \u001b[0m 0.8599  \u001b[0m | \u001b[0m 70.29   \u001b[0m | \u001b[0m 2.968   \u001b[0m | \u001b[0m 5.006   \u001b[0m | \u001b[0m 0.5091  \u001b[0m |\n",
      "| \u001b[0m 59      \u001b[0m | \u001b[0m 0.6973  \u001b[0m | \u001b[0m 0.5419  \u001b[0m | \u001b[0m 0.07383 \u001b[0m | \u001b[0m 5.804   \u001b[0m | \u001b[0m 39.84   \u001b[0m | \u001b[0m 0.667   \u001b[0m | \u001b[0m 0.7337  \u001b[0m | \u001b[0m 77.2    \u001b[0m | \u001b[0m 3.802   \u001b[0m | \u001b[0m 5.628   \u001b[0m | \u001b[0m 0.4075  \u001b[0m |\n",
      "| \u001b[0m 60      \u001b[0m | \u001b[0m 0.6998  \u001b[0m | \u001b[0m 0.4698  \u001b[0m | \u001b[0m 0.07571 \u001b[0m | \u001b[0m 5.902   \u001b[0m | \u001b[0m 10.07   \u001b[0m | \u001b[0m 0.4238  \u001b[0m | \u001b[0m 0.3737  \u001b[0m | \u001b[0m 76.56   \u001b[0m | \u001b[0m 3.364   \u001b[0m | \u001b[0m 4.614   \u001b[0m | \u001b[0m 0.2302  \u001b[0m |\n",
      "| \u001b[0m 61      \u001b[0m | \u001b[0m 0.6885  \u001b[0m | \u001b[0m 0.3556  \u001b[0m | \u001b[0m 0.07935 \u001b[0m | \u001b[0m 5.304   \u001b[0m | \u001b[0m 41.77   \u001b[0m | \u001b[0m 0.3515  \u001b[0m | \u001b[0m 0.7981  \u001b[0m | \u001b[0m 48.29   \u001b[0m | \u001b[0m 7.013   \u001b[0m | \u001b[0m 6.003   \u001b[0m | \u001b[0m 0.2436  \u001b[0m |\n",
      "| \u001b[0m 62      \u001b[0m | \u001b[0m 0.7007  \u001b[0m | \u001b[0m 0.7211  \u001b[0m | \u001b[0m 0.07634 \u001b[0m | \u001b[0m 3.724   \u001b[0m | \u001b[0m 32.47   \u001b[0m | \u001b[0m 0.1117  \u001b[0m | \u001b[0m 0.8451  \u001b[0m | \u001b[0m 59.63   \u001b[0m | \u001b[0m 0.06596 \u001b[0m | \u001b[0m 9.446   \u001b[0m | \u001b[0m 0.6754  \u001b[0m |\n",
      "| \u001b[0m 63      \u001b[0m | \u001b[0m 0.6994  \u001b[0m | \u001b[0m 0.6864  \u001b[0m | \u001b[0m 0.03525 \u001b[0m | \u001b[0m 5.91    \u001b[0m | \u001b[0m 46.79   \u001b[0m | \u001b[0m 0.9208  \u001b[0m | \u001b[0m 0.57    \u001b[0m | \u001b[0m 42.22   \u001b[0m | \u001b[0m 8.049   \u001b[0m | \u001b[0m 3.599   \u001b[0m | \u001b[0m 0.7326  \u001b[0m |\n",
      "| \u001b[0m 64      \u001b[0m | \u001b[0m 0.7002  \u001b[0m | \u001b[0m 0.6987  \u001b[0m | \u001b[0m 0.03046 \u001b[0m | \u001b[0m 6.821   \u001b[0m | \u001b[0m 36.9    \u001b[0m | \u001b[0m 0.9592  \u001b[0m | \u001b[0m 0.7598  \u001b[0m | \u001b[0m 44.49   \u001b[0m | \u001b[0m 4.327   \u001b[0m | \u001b[0m 9.77    \u001b[0m | \u001b[0m 0.7155  \u001b[0m |\n",
      "| \u001b[0m 65      \u001b[0m | \u001b[0m 0.6953  \u001b[0m | \u001b[0m 0.4671  \u001b[0m | \u001b[0m 0.04688 \u001b[0m | \u001b[0m 6.274   \u001b[0m | \u001b[0m 15.99   \u001b[0m | \u001b[0m 0.6948  \u001b[0m | \u001b[0m 0.516   \u001b[0m | \u001b[0m 26.03   \u001b[0m | \u001b[0m 8.552   \u001b[0m | \u001b[0m 3.231   \u001b[0m | \u001b[0m 0.3939  \u001b[0m |\n",
      "| \u001b[0m 66      \u001b[0m | \u001b[0m 0.7022  \u001b[0m | \u001b[0m 0.6215  \u001b[0m | \u001b[0m 0.04696 \u001b[0m | \u001b[0m 4.615   \u001b[0m | \u001b[0m 23.14   \u001b[0m | \u001b[0m 0.7124  \u001b[0m | \u001b[0m 0.4445  \u001b[0m | \u001b[0m 72.24   \u001b[0m | \u001b[0m 2.553   \u001b[0m | \u001b[0m 1.444   \u001b[0m | \u001b[0m 0.7793  \u001b[0m |\n",
      "| \u001b[0m 67      \u001b[0m | \u001b[0m 0.6984  \u001b[0m | \u001b[0m 0.7527  \u001b[0m | \u001b[0m 0.02275 \u001b[0m | \u001b[0m 7.42    \u001b[0m | \u001b[0m 17.75   \u001b[0m | \u001b[0m 0.3529  \u001b[0m | \u001b[0m 0.03762 \u001b[0m | \u001b[0m 68.9    \u001b[0m | \u001b[0m 5.739   \u001b[0m | \u001b[0m 9.097   \u001b[0m | \u001b[0m 0.4608  \u001b[0m |\n",
      "| \u001b[0m 68      \u001b[0m | \u001b[0m 0.6942  \u001b[0m | \u001b[0m 0.6896  \u001b[0m | \u001b[0m 0.06553 \u001b[0m | \u001b[0m 7.046   \u001b[0m | \u001b[0m 21.95   \u001b[0m | \u001b[0m 0.4484  \u001b[0m | \u001b[0m 0.6512  \u001b[0m | \u001b[0m 30.75   \u001b[0m | \u001b[0m 6.915   \u001b[0m | \u001b[0m 4.777   \u001b[0m | \u001b[0m 0.3304  \u001b[0m |\n",
      "| \u001b[0m 69      \u001b[0m | \u001b[0m 0.6994  \u001b[0m | \u001b[0m 0.2463  \u001b[0m | \u001b[0m 0.0679  \u001b[0m | \u001b[0m 7.086   \u001b[0m | \u001b[0m 30.93   \u001b[0m | \u001b[0m 0.9469  \u001b[0m | \u001b[0m 0.2465  \u001b[0m | \u001b[0m 33.47   \u001b[0m | \u001b[0m 4.45    \u001b[0m | \u001b[0m 8.859   \u001b[0m | \u001b[0m 0.4354  \u001b[0m |\n",
      "| \u001b[0m 70      \u001b[0m | \u001b[0m 0.6986  \u001b[0m | \u001b[0m 0.5351  \u001b[0m | \u001b[0m 0.04268 \u001b[0m | \u001b[0m 4.711   \u001b[0m | \u001b[0m 44.51   \u001b[0m | \u001b[0m 0.4646  \u001b[0m | \u001b[0m 0.08424 \u001b[0m | \u001b[0m 29.08   \u001b[0m | \u001b[0m 0.06616 \u001b[0m | \u001b[0m 2.008   \u001b[0m | \u001b[0m 0.512   \u001b[0m |\n",
      "| \u001b[0m 71      \u001b[0m | \u001b[0m 0.6965  \u001b[0m | \u001b[0m 0.2191  \u001b[0m | \u001b[0m 0.05431 \u001b[0m | \u001b[0m 5.798   \u001b[0m | \u001b[0m 39.15   \u001b[0m | \u001b[0m 0.444   \u001b[0m | \u001b[0m 0.6321  \u001b[0m | \u001b[0m 34.4    \u001b[0m | \u001b[0m 9.812   \u001b[0m | \u001b[0m 4.8     \u001b[0m | \u001b[0m 0.5621  \u001b[0m |\n",
      "| \u001b[0m 72      \u001b[0m | \u001b[0m 0.6908  \u001b[0m | \u001b[0m 0.4618  \u001b[0m | \u001b[0m 0.03807 \u001b[0m | \u001b[0m 5.879   \u001b[0m | \u001b[0m 13.71   \u001b[0m | \u001b[0m 0.9203  \u001b[0m | \u001b[0m 0.7579  \u001b[0m | \u001b[0m 68.02   \u001b[0m | \u001b[0m 9.788   \u001b[0m | \u001b[0m 6.645   \u001b[0m | \u001b[0m 0.2625  \u001b[0m |\n",
      "| \u001b[0m 73      \u001b[0m | \u001b[0m 0.696   \u001b[0m | \u001b[0m 0.4702  \u001b[0m | \u001b[0m 0.07585 \u001b[0m | \u001b[0m 7.2     \u001b[0m | \u001b[0m 32.69   \u001b[0m | \u001b[0m 0.03987 \u001b[0m | \u001b[0m 0.5384  \u001b[0m | \u001b[0m 64.43   \u001b[0m | \u001b[0m 1.698   \u001b[0m | \u001b[0m 9.66    \u001b[0m | \u001b[0m 0.6513  \u001b[0m |\n",
      "| \u001b[0m 74      \u001b[0m | \u001b[0m 0.7003  \u001b[0m | \u001b[0m 0.5322  \u001b[0m | \u001b[0m 0.06592 \u001b[0m | \u001b[0m 3.791   \u001b[0m | \u001b[0m 42.56   \u001b[0m | \u001b[0m 0.04473 \u001b[0m | \u001b[0m 0.1656  \u001b[0m | \u001b[0m 67.37   \u001b[0m | \u001b[0m 3.342   \u001b[0m | \u001b[0m 7.904   \u001b[0m | \u001b[0m 0.6949  \u001b[0m |\n",
      "| \u001b[0m 75      \u001b[0m | \u001b[0m 0.6991  \u001b[0m | \u001b[0m 0.6662  \u001b[0m | \u001b[0m 0.03449 \u001b[0m | \u001b[0m 7.859   \u001b[0m | \u001b[0m 25.78   \u001b[0m | \u001b[0m 0.555   \u001b[0m | \u001b[0m 0.3333  \u001b[0m | \u001b[0m 55.27   \u001b[0m | \u001b[0m 6.021   \u001b[0m | \u001b[0m 9.196   \u001b[0m | \u001b[0m 0.2654  \u001b[0m |\n",
      "| \u001b[0m 76      \u001b[0m | \u001b[0m 0.6969  \u001b[0m | \u001b[0m 0.6314  \u001b[0m | \u001b[0m 0.06508 \u001b[0m | \u001b[0m 5.875   \u001b[0m | \u001b[0m 42.87   \u001b[0m | \u001b[0m 0.7689  \u001b[0m | \u001b[0m 0.1354  \u001b[0m | \u001b[0m 78.04   \u001b[0m | \u001b[0m 4.728   \u001b[0m | \u001b[0m 2.882   \u001b[0m | \u001b[0m 0.2644  \u001b[0m |\n",
      "| \u001b[0m 77      \u001b[0m | \u001b[0m 0.6942  \u001b[0m | \u001b[0m 0.4763  \u001b[0m | \u001b[0m 0.05086 \u001b[0m | \u001b[0m 6.727   \u001b[0m | \u001b[0m 36.69   \u001b[0m | \u001b[0m 0.7716  \u001b[0m | \u001b[0m 0.7831  \u001b[0m | \u001b[0m 78.45   \u001b[0m | \u001b[0m 8.212   \u001b[0m | \u001b[0m 1.37    \u001b[0m | \u001b[0m 0.2462  \u001b[0m |\n",
      "| \u001b[0m 78      \u001b[0m | \u001b[0m 0.6981  \u001b[0m | \u001b[0m 0.251   \u001b[0m | \u001b[0m 0.03941 \u001b[0m | \u001b[0m 3.965   \u001b[0m | \u001b[0m 30.72   \u001b[0m | \u001b[0m 0.4436  \u001b[0m | \u001b[0m 0.9779  \u001b[0m | \u001b[0m 55.69   \u001b[0m | \u001b[0m 6.462   \u001b[0m | \u001b[0m 3.641   \u001b[0m | \u001b[0m 0.7733  \u001b[0m |\n",
      "| \u001b[0m 79      \u001b[0m | \u001b[0m 0.6969  \u001b[0m | \u001b[0m 0.4476  \u001b[0m | \u001b[0m 0.05165 \u001b[0m | \u001b[0m 4.205   \u001b[0m | \u001b[0m 33.86   \u001b[0m | \u001b[0m 0.4568  \u001b[0m | \u001b[0m 0.1171  \u001b[0m | \u001b[0m 70.4    \u001b[0m | \u001b[0m 8.005   \u001b[0m | \u001b[0m 9.772   \u001b[0m | \u001b[0m 0.4392  \u001b[0m |\n",
      "| \u001b[0m 80      \u001b[0m | \u001b[0m 0.6974  \u001b[0m | \u001b[0m 0.6951  \u001b[0m | \u001b[0m 0.0478  \u001b[0m | \u001b[0m 6.199   \u001b[0m | \u001b[0m 11.83   \u001b[0m | \u001b[0m 0.288   \u001b[0m | \u001b[0m 0.2767  \u001b[0m | \u001b[0m 50.6    \u001b[0m | \u001b[0m 2.913   \u001b[0m | \u001b[0m 5.35    \u001b[0m | \u001b[0m 0.3882  \u001b[0m |\n",
      "| \u001b[0m 81      \u001b[0m | \u001b[0m 0.6945  \u001b[0m | \u001b[0m 0.3467  \u001b[0m | \u001b[0m 0.04668 \u001b[0m | \u001b[0m 3.061   \u001b[0m | \u001b[0m 19.98   \u001b[0m | \u001b[0m 0.57    \u001b[0m | \u001b[0m 0.6775  \u001b[0m | \u001b[0m 65.56   \u001b[0m | \u001b[0m 7.519   \u001b[0m | \u001b[0m 6.415   \u001b[0m | \u001b[0m 0.3135  \u001b[0m |\n",
      "| \u001b[0m 82      \u001b[0m | \u001b[0m 0.6972  \u001b[0m | \u001b[0m 0.3053  \u001b[0m | \u001b[0m 0.05981 \u001b[0m | \u001b[0m 6.262   \u001b[0m | \u001b[0m 12.57   \u001b[0m | \u001b[0m 0.6898  \u001b[0m | \u001b[0m 0.3344  \u001b[0m | \u001b[0m 47.29   \u001b[0m | \u001b[0m 1.241   \u001b[0m | \u001b[0m 7.743   \u001b[0m | \u001b[0m 0.5467  \u001b[0m |\n",
      "| \u001b[0m 83      \u001b[0m | \u001b[0m 0.6961  \u001b[0m | \u001b[0m 0.5045  \u001b[0m | \u001b[0m 0.0613  \u001b[0m | \u001b[0m 4.308   \u001b[0m | \u001b[0m 19.16   \u001b[0m | \u001b[0m 0.4505  \u001b[0m | \u001b[0m 0.2502  \u001b[0m | \u001b[0m 46.61   \u001b[0m | \u001b[0m 9.52    \u001b[0m | \u001b[0m 4.249   \u001b[0m | \u001b[0m 0.2916  \u001b[0m |\n",
      "| \u001b[0m 84      \u001b[0m | \u001b[0m 0.685   \u001b[0m | \u001b[0m 0.3164  \u001b[0m | \u001b[0m 0.05908 \u001b[0m | \u001b[0m 4.689   \u001b[0m | \u001b[0m 15.22   \u001b[0m | \u001b[0m 0.3735  \u001b[0m | \u001b[0m 0.9073  \u001b[0m | \u001b[0m 53.14   \u001b[0m | \u001b[0m 7.842   \u001b[0m | \u001b[0m 6.536   \u001b[0m | \u001b[0m 0.3578  \u001b[0m |\n",
      "| \u001b[0m 85      \u001b[0m | \u001b[0m 0.6909  \u001b[0m | \u001b[0m 0.6881  \u001b[0m | \u001b[0m 0.0759  \u001b[0m | \u001b[0m 5.628   \u001b[0m | \u001b[0m 19.73   \u001b[0m | \u001b[0m 0.6349  \u001b[0m | \u001b[0m 0.8478  \u001b[0m | \u001b[0m 39.23   \u001b[0m | \u001b[0m 9.954   \u001b[0m | \u001b[0m 4.489   \u001b[0m | \u001b[0m 0.2678  \u001b[0m |\n",
      "| \u001b[0m 86      \u001b[0m | \u001b[0m 0.6967  \u001b[0m | \u001b[0m 0.6329  \u001b[0m | \u001b[0m 0.0261  \u001b[0m | \u001b[0m 3.288   \u001b[0m | \u001b[0m 12.35   \u001b[0m | \u001b[0m 0.5801  \u001b[0m | \u001b[0m 0.06102 \u001b[0m | \u001b[0m 31.81   \u001b[0m | \u001b[0m 7.559   \u001b[0m | \u001b[0m 5.27    \u001b[0m | \u001b[0m 0.3668  \u001b[0m |\n",
      "| \u001b[95m 87      \u001b[0m | \u001b[95m 0.7029  \u001b[0m | \u001b[95m 0.6792  \u001b[0m | \u001b[95m 0.06085 \u001b[0m | \u001b[95m 4.011   \u001b[0m | \u001b[95m 10.19   \u001b[0m | \u001b[95m 0.9571  \u001b[0m | \u001b[95m 0.5624  \u001b[0m | \u001b[95m 55.58   \u001b[0m | \u001b[95m 0.2409  \u001b[0m | \u001b[95m 8.335   \u001b[0m | \u001b[95m 0.7994  \u001b[0m |\n",
      "| \u001b[0m 88      \u001b[0m | \u001b[0m 0.7001  \u001b[0m | \u001b[0m 0.4734  \u001b[0m | \u001b[0m 0.05166 \u001b[0m | \u001b[0m 4.65    \u001b[0m | \u001b[0m 27.8    \u001b[0m | \u001b[0m 0.9617  \u001b[0m | \u001b[0m 0.6941  \u001b[0m | \u001b[0m 75.39   \u001b[0m | \u001b[0m 4.1     \u001b[0m | \u001b[0m 1.366   \u001b[0m | \u001b[0m 0.7435  \u001b[0m |\n",
      "| \u001b[0m 89      \u001b[0m | \u001b[0m 0.694   \u001b[0m | \u001b[0m 0.3188  \u001b[0m | \u001b[0m 0.05194 \u001b[0m | \u001b[0m 3.084   \u001b[0m | \u001b[0m 41.81   \u001b[0m | \u001b[0m 0.749   \u001b[0m | \u001b[0m 0.4083  \u001b[0m | \u001b[0m 67.68   \u001b[0m | \u001b[0m 7.392   \u001b[0m | \u001b[0m 8.242   \u001b[0m | \u001b[0m 0.6894  \u001b[0m |\n",
      "| \u001b[0m 90      \u001b[0m | \u001b[0m 0.6962  \u001b[0m | \u001b[0m 0.22    \u001b[0m | \u001b[0m 0.07157 \u001b[0m | \u001b[0m 4.813   \u001b[0m | \u001b[0m 34.96   \u001b[0m | \u001b[0m 0.229   \u001b[0m | \u001b[0m 0.05466 \u001b[0m | \u001b[0m 71.53   \u001b[0m | \u001b[0m 8.546   \u001b[0m | \u001b[0m 9.17    \u001b[0m | \u001b[0m 0.4801  \u001b[0m |\n",
      "| \u001b[0m 91      \u001b[0m | \u001b[0m 0.6934  \u001b[0m | \u001b[0m 0.7223  \u001b[0m | \u001b[0m 0.02595 \u001b[0m | \u001b[0m 4.268   \u001b[0m | \u001b[0m 29.55   \u001b[0m | \u001b[0m 0.9428  \u001b[0m | \u001b[0m 0.9578  \u001b[0m | \u001b[0m 58.82   \u001b[0m | \u001b[0m 9.544   \u001b[0m | \u001b[0m 5.699   \u001b[0m | \u001b[0m 0.4913  \u001b[0m |\n",
      "| \u001b[0m 92      \u001b[0m | \u001b[0m 0.6919  \u001b[0m | \u001b[0m 0.6722  \u001b[0m | \u001b[0m 0.0466  \u001b[0m | \u001b[0m 6.616   \u001b[0m | \u001b[0m 15.43   \u001b[0m | \u001b[0m 0.9777  \u001b[0m | \u001b[0m 0.9827  \u001b[0m | \u001b[0m 68.07   \u001b[0m | \u001b[0m 9.765   \u001b[0m | \u001b[0m 1.435   \u001b[0m | \u001b[0m 0.3528  \u001b[0m |\n",
      "| \u001b[0m 93      \u001b[0m | \u001b[0m 0.6979  \u001b[0m | \u001b[0m 0.448   \u001b[0m | \u001b[0m 0.06061 \u001b[0m | \u001b[0m 7.262   \u001b[0m | \u001b[0m 31.39   \u001b[0m | \u001b[0m 0.6102  \u001b[0m | \u001b[0m 0.273   \u001b[0m | \u001b[0m 79.35   \u001b[0m | \u001b[0m 3.049   \u001b[0m | \u001b[0m 7.655   \u001b[0m | \u001b[0m 0.6333  \u001b[0m |\n",
      "| \u001b[0m 94      \u001b[0m | \u001b[0m 0.6985  \u001b[0m | \u001b[0m 0.5778  \u001b[0m | \u001b[0m 0.05702 \u001b[0m | \u001b[0m 7.185   \u001b[0m | \u001b[0m 48.8    \u001b[0m | \u001b[0m 0.7042  \u001b[0m | \u001b[0m 0.1593  \u001b[0m | \u001b[0m 28.31   \u001b[0m | \u001b[0m 0.9733  \u001b[0m | \u001b[0m 6.104   \u001b[0m | \u001b[0m 0.3826  \u001b[0m |\n",
      "| \u001b[0m 95      \u001b[0m | \u001b[0m 0.6985  \u001b[0m | \u001b[0m 0.4308  \u001b[0m | \u001b[0m 0.04859 \u001b[0m | \u001b[0m 6.703   \u001b[0m | \u001b[0m 41.72   \u001b[0m | \u001b[0m 0.3612  \u001b[0m | \u001b[0m 0.3032  \u001b[0m | \u001b[0m 79.57   \u001b[0m | \u001b[0m 1.93    \u001b[0m | \u001b[0m 4.389   \u001b[0m | \u001b[0m 0.5608  \u001b[0m |\n",
      "| \u001b[0m 96      \u001b[0m | \u001b[0m 0.6994  \u001b[0m | \u001b[0m 0.5798  \u001b[0m | \u001b[0m 0.02217 \u001b[0m | \u001b[0m 3.994   \u001b[0m | \u001b[0m 24.2    \u001b[0m | \u001b[0m 0.2487  \u001b[0m | \u001b[0m 0.9662  \u001b[0m | \u001b[0m 33.48   \u001b[0m | \u001b[0m 3.794   \u001b[0m | \u001b[0m 9.502   \u001b[0m | \u001b[0m 0.7208  \u001b[0m |\n",
      "| \u001b[0m 97      \u001b[0m | \u001b[0m 0.6983  \u001b[0m | \u001b[0m 0.7497  \u001b[0m | \u001b[0m 0.04421 \u001b[0m | \u001b[0m 7.214   \u001b[0m | \u001b[0m 34.02   \u001b[0m | \u001b[0m 0.8775  \u001b[0m | \u001b[0m 0.6843  \u001b[0m | \u001b[0m 24.51   \u001b[0m | \u001b[0m 7.438   \u001b[0m | \u001b[0m 6.408   \u001b[0m | \u001b[0m 0.7115  \u001b[0m |\n",
      "| \u001b[0m 98      \u001b[0m | \u001b[0m 0.691   \u001b[0m | \u001b[0m 0.4442  \u001b[0m | \u001b[0m 0.07694 \u001b[0m | \u001b[0m 7.525   \u001b[0m | \u001b[0m 12.88   \u001b[0m | \u001b[0m 0.2162  \u001b[0m | \u001b[0m 0.7936  \u001b[0m | \u001b[0m 35.27   \u001b[0m | \u001b[0m 6.467   \u001b[0m | \u001b[0m 1.507   \u001b[0m | \u001b[0m 0.3069  \u001b[0m |\n",
      "| \u001b[0m 99      \u001b[0m | \u001b[0m 0.6968  \u001b[0m | \u001b[0m 0.5589  \u001b[0m | \u001b[0m 0.06304 \u001b[0m | \u001b[0m 5.146   \u001b[0m | \u001b[0m 25.49   \u001b[0m | \u001b[0m 0.8048  \u001b[0m | \u001b[0m 0.644   \u001b[0m | \u001b[0m 50.22   \u001b[0m | \u001b[0m 9.725   \u001b[0m | \u001b[0m 5.509   \u001b[0m | \u001b[0m 0.6227  \u001b[0m |\n",
      "| \u001b[0m 100     \u001b[0m | \u001b[0m 0.6992  \u001b[0m | \u001b[0m 0.4211  \u001b[0m | \u001b[0m 0.0245  \u001b[0m | \u001b[0m 7.68    \u001b[0m | \u001b[0m 48.63   \u001b[0m | \u001b[0m 0.5472  \u001b[0m | \u001b[0m 0.9452  \u001b[0m | \u001b[0m 78.09   \u001b[0m | \u001b[0m 3.176   \u001b[0m | \u001b[0m 8.231   \u001b[0m | \u001b[0m 0.2213  \u001b[0m |\n",
      "| \u001b[0m 101     \u001b[0m | \u001b[0m 0.7004  \u001b[0m | \u001b[0m 0.6146  \u001b[0m | \u001b[0m 0.07506 \u001b[0m | \u001b[0m 5.047   \u001b[0m | \u001b[0m 11.63   \u001b[0m | \u001b[0m 0.9059  \u001b[0m | \u001b[0m 0.206   \u001b[0m | \u001b[0m 53.81   \u001b[0m | \u001b[0m 0.177   \u001b[0m | \u001b[0m 8.157   \u001b[0m | \u001b[0m 0.6492  \u001b[0m |\n",
      "| \u001b[0m 102     \u001b[0m | \u001b[0m 0.6983  \u001b[0m | \u001b[0m 0.7508  \u001b[0m | \u001b[0m 0.06291 \u001b[0m | \u001b[0m 4.474   \u001b[0m | \u001b[0m 11.83   \u001b[0m | \u001b[0m 0.4953  \u001b[0m | \u001b[0m 0.6062  \u001b[0m | \u001b[0m 56.76   \u001b[0m | \u001b[0m 0.3359  \u001b[0m | \u001b[0m 9.394   \u001b[0m | \u001b[0m 0.4815  \u001b[0m |\n",
      "| \u001b[0m 103     \u001b[0m | \u001b[0m 0.7006  \u001b[0m | \u001b[0m 0.2315  \u001b[0m | \u001b[0m 0.02531 \u001b[0m | \u001b[0m 4.876   \u001b[0m | \u001b[0m 10.02   \u001b[0m | \u001b[0m 0.4241  \u001b[0m | \u001b[0m 0.2094  \u001b[0m | \u001b[0m 47.51   \u001b[0m | \u001b[0m 5.238   \u001b[0m | \u001b[0m 5.818   \u001b[0m | \u001b[0m 0.3088  \u001b[0m |\n",
      "| \u001b[0m 104     \u001b[0m | \u001b[0m 0.7002  \u001b[0m | \u001b[0m 0.3902  \u001b[0m | \u001b[0m 0.04103 \u001b[0m | \u001b[0m 4.761   \u001b[0m | \u001b[0m 25.42   \u001b[0m | \u001b[0m 0.8242  \u001b[0m | \u001b[0m 0.778   \u001b[0m | \u001b[0m 72.56   \u001b[0m | \u001b[0m 3.636   \u001b[0m | \u001b[0m 1.0     \u001b[0m | \u001b[0m 0.6892  \u001b[0m |\n",
      "| \u001b[0m 105     \u001b[0m | \u001b[0m 0.693   \u001b[0m | \u001b[0m 0.5759  \u001b[0m | \u001b[0m 0.07808 \u001b[0m | \u001b[0m 6.102   \u001b[0m | \u001b[0m 25.66   \u001b[0m | \u001b[0m 0.552   \u001b[0m | \u001b[0m 0.1667  \u001b[0m | \u001b[0m 60.53   \u001b[0m | \u001b[0m 6.199   \u001b[0m | \u001b[0m 9.536   \u001b[0m | \u001b[0m 0.8     \u001b[0m |\n",
      "| \u001b[0m 106     \u001b[0m | \u001b[0m 0.6932  \u001b[0m | \u001b[0m 0.4285  \u001b[0m | \u001b[0m 0.07738 \u001b[0m | \u001b[0m 4.525   \u001b[0m | \u001b[0m 26.39   \u001b[0m | \u001b[0m 0.5987  \u001b[0m | \u001b[0m 0.4431  \u001b[0m | \u001b[0m 61.83   \u001b[0m | \u001b[0m 7.008   \u001b[0m | \u001b[0m 6.164   \u001b[0m | \u001b[0m 0.8     \u001b[0m |\n",
      "| \u001b[0m 107     \u001b[0m | \u001b[0m 0.6929  \u001b[0m | \u001b[0m 0.4931  \u001b[0m | \u001b[0m 0.07853 \u001b[0m | \u001b[0m 6.118   \u001b[0m | \u001b[0m 10.46   \u001b[0m | \u001b[0m 0.9515  \u001b[0m | \u001b[0m 0.4811  \u001b[0m | \u001b[0m 48.24   \u001b[0m | \u001b[0m 6.16    \u001b[0m | \u001b[0m 5.732   \u001b[0m | \u001b[0m 0.4781  \u001b[0m |\n",
      "| \u001b[0m 108     \u001b[0m | \u001b[0m 0.7007  \u001b[0m | \u001b[0m 0.2571  \u001b[0m | \u001b[0m 0.06007 \u001b[0m | \u001b[0m 5.629   \u001b[0m | \u001b[0m 43.12   \u001b[0m | \u001b[0m 0.07275 \u001b[0m | \u001b[0m 0.5829  \u001b[0m | \u001b[0m 32.47   \u001b[0m | \u001b[0m 0.5469  \u001b[0m | \u001b[0m 4.212   \u001b[0m | \u001b[0m 0.2987  \u001b[0m |\n",
      "| \u001b[0m 109     \u001b[0m | \u001b[0m 0.6978  \u001b[0m | \u001b[0m 0.4599  \u001b[0m | \u001b[0m 0.05985 \u001b[0m | \u001b[0m 3.875   \u001b[0m | \u001b[0m 13.47   \u001b[0m | \u001b[0m 0.4771  \u001b[0m | \u001b[0m 0.9629  \u001b[0m | \u001b[0m 46.63   \u001b[0m | \u001b[0m 4.601   \u001b[0m | \u001b[0m 1.192   \u001b[0m | \u001b[0m 0.2926  \u001b[0m |\n",
      "| \u001b[0m 110     \u001b[0m | \u001b[0m 0.7005  \u001b[0m | \u001b[0m 0.7392  \u001b[0m | \u001b[0m 0.0659  \u001b[0m | \u001b[0m 4.46    \u001b[0m | \u001b[0m 22.56   \u001b[0m | \u001b[0m 0.1621  \u001b[0m | \u001b[0m 0.02056 \u001b[0m | \u001b[0m 72.14   \u001b[0m | \u001b[0m 1.986   \u001b[0m | \u001b[0m 1.856   \u001b[0m | \u001b[0m 0.6294  \u001b[0m |\n",
      "| \u001b[0m 111     \u001b[0m | \u001b[0m 0.6996  \u001b[0m | \u001b[0m 0.6027  \u001b[0m | \u001b[0m 0.06582 \u001b[0m | \u001b[0m 4.871   \u001b[0m | \u001b[0m 24.23   \u001b[0m | \u001b[0m 0.418   \u001b[0m | \u001b[0m 0.01962 \u001b[0m | \u001b[0m 72.78   \u001b[0m | \u001b[0m 3.041   \u001b[0m | \u001b[0m 2.054   \u001b[0m | \u001b[0m 0.2076  \u001b[0m |\n",
      "| \u001b[0m 112     \u001b[0m | \u001b[0m 0.7004  \u001b[0m | \u001b[0m 0.4386  \u001b[0m | \u001b[0m 0.02232 \u001b[0m | \u001b[0m 3.745   \u001b[0m | \u001b[0m 11.19   \u001b[0m | \u001b[0m 0.4631  \u001b[0m | \u001b[0m 0.2524  \u001b[0m | \u001b[0m 48.76   \u001b[0m | \u001b[0m 4.902   \u001b[0m | \u001b[0m 5.498   \u001b[0m | \u001b[0m 0.5347  \u001b[0m |\n",
      "| \u001b[0m 113     \u001b[0m | \u001b[0m 0.6991  \u001b[0m | \u001b[0m 0.6116  \u001b[0m | \u001b[0m 0.0465  \u001b[0m | \u001b[0m 5.641   \u001b[0m | \u001b[0m 21.9    \u001b[0m | \u001b[0m 0.2082  \u001b[0m | \u001b[0m 0.7945  \u001b[0m | \u001b[0m 77.75   \u001b[0m | \u001b[0m 3.544   \u001b[0m | \u001b[0m 8.686   \u001b[0m | \u001b[0m 0.3457  \u001b[0m |\n",
      "| \u001b[0m 114     \u001b[0m | \u001b[0m 0.6901  \u001b[0m | \u001b[0m 0.5777  \u001b[0m | \u001b[0m 0.04544 \u001b[0m | \u001b[0m 5.71    \u001b[0m | \u001b[0m 25.85   \u001b[0m | \u001b[0m 0.9546  \u001b[0m | \u001b[0m 0.5734  \u001b[0m | \u001b[0m 61.13   \u001b[0m | \u001b[0m 7.941   \u001b[0m | \u001b[0m 8.051   \u001b[0m | \u001b[0m 0.2458  \u001b[0m |\n",
      "| \u001b[0m 115     \u001b[0m | \u001b[0m 0.6994  \u001b[0m | \u001b[0m 0.4232  \u001b[0m | \u001b[0m 0.05126 \u001b[0m | \u001b[0m 5.096   \u001b[0m | \u001b[0m 10.57   \u001b[0m | \u001b[0m 0.5741  \u001b[0m | \u001b[0m 0.5812  \u001b[0m | \u001b[0m 47.01   \u001b[0m | \u001b[0m 4.843   \u001b[0m | \u001b[0m 5.492   \u001b[0m | \u001b[0m 0.6198  \u001b[0m |\n",
      "| \u001b[0m 116     \u001b[0m | \u001b[0m 0.6987  \u001b[0m | \u001b[0m 0.3543  \u001b[0m | \u001b[0m 0.06343 \u001b[0m | \u001b[0m 5.023   \u001b[0m | \u001b[0m 24.36   \u001b[0m | \u001b[0m 0.3655  \u001b[0m | \u001b[0m 0.2328  \u001b[0m | \u001b[0m 71.34   \u001b[0m | \u001b[0m 2.483   \u001b[0m | \u001b[0m 1.923   \u001b[0m | \u001b[0m 0.7586  \u001b[0m |\n",
      "| \u001b[95m 117     \u001b[0m | \u001b[95m 0.7032  \u001b[0m | \u001b[95m 0.6026  \u001b[0m | \u001b[95m 0.063   \u001b[0m | \u001b[95m 4.026   \u001b[0m | \u001b[95m 11.43   \u001b[0m | \u001b[95m 0.2327  \u001b[0m | \u001b[95m 0.372   \u001b[0m | \u001b[95m 53.74   \u001b[0m | \u001b[95m 0.1047  \u001b[0m | \u001b[95m 8.682   \u001b[0m | \u001b[95m 0.3601  \u001b[0m |\n",
      "| \u001b[0m 118     \u001b[0m | \u001b[0m 0.7005  \u001b[0m | \u001b[0m 0.2987  \u001b[0m | \u001b[0m 0.04256 \u001b[0m | \u001b[0m 4.113   \u001b[0m | \u001b[0m 10.82   \u001b[0m | \u001b[0m 0.4748  \u001b[0m | \u001b[0m 0.6576  \u001b[0m | \u001b[0m 56.25   \u001b[0m | \u001b[0m 1.238   \u001b[0m | \u001b[0m 7.868   \u001b[0m | \u001b[0m 0.4585  \u001b[0m |\n",
      "| \u001b[0m 119     \u001b[0m | \u001b[0m 0.7001  \u001b[0m | \u001b[0m 0.7695  \u001b[0m | \u001b[0m 0.07515 \u001b[0m | \u001b[0m 5.74    \u001b[0m | \u001b[0m 11.09   \u001b[0m | \u001b[0m 0.2095  \u001b[0m | \u001b[0m 0.2318  \u001b[0m | \u001b[0m 55.77   \u001b[0m | \u001b[0m 0.2856  \u001b[0m | \u001b[0m 8.026   \u001b[0m | \u001b[0m 0.5908  \u001b[0m |\n",
      "| \u001b[0m 120     \u001b[0m | \u001b[0m 0.7028  \u001b[0m | \u001b[0m 0.5941  \u001b[0m | \u001b[0m 0.05994 \u001b[0m | \u001b[0m 4.106   \u001b[0m | \u001b[0m 10.89   \u001b[0m | \u001b[0m 0.3305  \u001b[0m | \u001b[0m 0.4642  \u001b[0m | \u001b[0m 54.79   \u001b[0m | \u001b[0m 0.3208  \u001b[0m | \u001b[0m 8.417   \u001b[0m | \u001b[0m 0.4735  \u001b[0m |\n",
      "| \u001b[0m 121     \u001b[0m | \u001b[0m 0.702   \u001b[0m | \u001b[0m 0.231   \u001b[0m | \u001b[0m 0.06762 \u001b[0m | \u001b[0m 4.146   \u001b[0m | \u001b[0m 11.96   \u001b[0m | \u001b[0m 0.3863  \u001b[0m | \u001b[0m 0.4306  \u001b[0m | \u001b[0m 53.67   \u001b[0m | \u001b[0m 0.7583  \u001b[0m | \u001b[0m 8.312   \u001b[0m | \u001b[0m 0.3859  \u001b[0m |\n",
      "| \u001b[0m 122     \u001b[0m | \u001b[0m 0.6989  \u001b[0m | \u001b[0m 0.5417  \u001b[0m | \u001b[0m 0.06837 \u001b[0m | \u001b[0m 4.105   \u001b[0m | \u001b[0m 11.29   \u001b[0m | \u001b[0m 0.01211 \u001b[0m | \u001b[0m 0.7611  \u001b[0m | \u001b[0m 54.76   \u001b[0m | \u001b[0m 2.134   \u001b[0m | \u001b[0m 9.384   \u001b[0m | \u001b[0m 0.3717  \u001b[0m |\n",
      "| \u001b[0m 123     \u001b[0m | \u001b[0m 0.7001  \u001b[0m | \u001b[0m 0.4766  \u001b[0m | \u001b[0m 0.07003 \u001b[0m | \u001b[0m 4.77    \u001b[0m | \u001b[0m 27.15   \u001b[0m | \u001b[0m 0.3363  \u001b[0m | \u001b[0m 0.1972  \u001b[0m | \u001b[0m 60.7    \u001b[0m | \u001b[0m 6.239   \u001b[0m | \u001b[0m 7.811   \u001b[0m | \u001b[0m 0.8     \u001b[0m |\n",
      "| \u001b[0m 124     \u001b[0m | \u001b[0m 0.7016  \u001b[0m | \u001b[0m 0.7278  \u001b[0m | \u001b[0m 0.02697 \u001b[0m | \u001b[0m 4.118   \u001b[0m | \u001b[0m 10.38   \u001b[0m | \u001b[0m 0.2554  \u001b[0m | \u001b[0m 0.4554  \u001b[0m | \u001b[0m 49.7    \u001b[0m | \u001b[0m 4.349   \u001b[0m | \u001b[0m 6.217   \u001b[0m | \u001b[0m 0.2815  \u001b[0m |\n",
      "| \u001b[0m 125     \u001b[0m | \u001b[0m 0.6979  \u001b[0m | \u001b[0m 0.5115  \u001b[0m | \u001b[0m 0.05853 \u001b[0m | \u001b[0m 3.431   \u001b[0m | \u001b[0m 10.01   \u001b[0m | \u001b[0m 0.7802  \u001b[0m | \u001b[0m 0.7689  \u001b[0m | \u001b[0m 49.09   \u001b[0m | \u001b[0m 4.957   \u001b[0m | \u001b[0m 7.106   \u001b[0m | \u001b[0m 0.6249  \u001b[0m |\n",
      "| \u001b[0m 126     \u001b[0m | \u001b[0m 0.7023  \u001b[0m | \u001b[0m 0.2588  \u001b[0m | \u001b[0m 0.06475 \u001b[0m | \u001b[0m 4.611   \u001b[0m | \u001b[0m 11.07   \u001b[0m | \u001b[0m 0.4674  \u001b[0m | \u001b[0m 0.5481  \u001b[0m | \u001b[0m 50.66   \u001b[0m | \u001b[0m 4.178   \u001b[0m | \u001b[0m 6.119   \u001b[0m | \u001b[0m 0.2127  \u001b[0m |\n",
      "| \u001b[0m 127     \u001b[0m | \u001b[0m 0.699   \u001b[0m | \u001b[0m 0.7056  \u001b[0m | \u001b[0m 0.02617 \u001b[0m | \u001b[0m 3.665   \u001b[0m | \u001b[0m 23.73   \u001b[0m | \u001b[0m 0.5029  \u001b[0m | \u001b[0m 1.0     \u001b[0m | \u001b[0m 72.84   \u001b[0m | \u001b[0m 2.532   \u001b[0m | \u001b[0m 1.0     \u001b[0m | \u001b[0m 0.8     \u001b[0m |\n",
      "| \u001b[0m 128     \u001b[0m | \u001b[0m 0.7011  \u001b[0m | \u001b[0m 0.303   \u001b[0m | \u001b[0m 0.06526 \u001b[0m | \u001b[0m 3.25    \u001b[0m | \u001b[0m 10.9    \u001b[0m | \u001b[0m 1.0     \u001b[0m | \u001b[0m 0.6585  \u001b[0m | \u001b[0m 54.11   \u001b[0m | \u001b[0m 0.2145  \u001b[0m | \u001b[0m 8.407   \u001b[0m | \u001b[0m 0.8     \u001b[0m |\n",
      "| \u001b[0m 129     \u001b[0m | \u001b[0m 0.7022  \u001b[0m | \u001b[0m 0.3372  \u001b[0m | \u001b[0m 0.07515 \u001b[0m | \u001b[0m 5.18    \u001b[0m | \u001b[0m 10.17   \u001b[0m | \u001b[0m 0.1506  \u001b[0m | \u001b[0m 0.7752  \u001b[0m | \u001b[0m 50.84   \u001b[0m | \u001b[0m 4.243   \u001b[0m | \u001b[0m 6.07    \u001b[0m | \u001b[0m 0.7941  \u001b[0m |\n",
      "| \u001b[0m 130     \u001b[0m | \u001b[0m 0.6968  \u001b[0m | \u001b[0m 0.2     \u001b[0m | \u001b[0m 0.02    \u001b[0m | \u001b[0m 4.588   \u001b[0m | \u001b[0m 10.36   \u001b[0m | \u001b[0m 0.001   \u001b[0m | \u001b[0m 0.01    \u001b[0m | \u001b[0m 50.32   \u001b[0m | \u001b[0m 4.71    \u001b[0m | \u001b[0m 5.096   \u001b[0m | \u001b[0m 0.3579  \u001b[0m |\n",
      "| \u001b[0m 131     \u001b[0m | \u001b[0m 0.6996  \u001b[0m | \u001b[0m 0.7048  \u001b[0m | \u001b[0m 0.04626 \u001b[0m | \u001b[0m 4.535   \u001b[0m | \u001b[0m 12.3    \u001b[0m | \u001b[0m 0.1599  \u001b[0m | \u001b[0m 0.1586  \u001b[0m | \u001b[0m 49.75   \u001b[0m | \u001b[0m 5.544   \u001b[0m | \u001b[0m 6.81    \u001b[0m | \u001b[0m 0.7554  \u001b[0m |\n",
      "| \u001b[0m 132     \u001b[0m | \u001b[0m 0.7015  \u001b[0m | \u001b[0m 0.6657  \u001b[0m | \u001b[0m 0.04032 \u001b[0m | \u001b[0m 4.671   \u001b[0m | \u001b[0m 10.46   \u001b[0m | \u001b[0m 0.6951  \u001b[0m | \u001b[0m 0.25    \u001b[0m | \u001b[0m 53.64   \u001b[0m | \u001b[0m 0.9574  \u001b[0m | \u001b[0m 9.358   \u001b[0m | \u001b[0m 0.6185  \u001b[0m |\n",
      "| \u001b[0m 133     \u001b[0m | \u001b[0m 0.7028  \u001b[0m | \u001b[0m 0.3508  \u001b[0m | \u001b[0m 0.07687 \u001b[0m | \u001b[0m 4.99    \u001b[0m | \u001b[0m 10.67   \u001b[0m | \u001b[0m 0.7422  \u001b[0m | \u001b[0m 0.8549  \u001b[0m | \u001b[0m 54.83   \u001b[0m | \u001b[0m 0.6782  \u001b[0m | \u001b[0m 7.395   \u001b[0m | \u001b[0m 0.7214  \u001b[0m |\n",
      "| \u001b[0m 134     \u001b[0m | \u001b[0m 0.6999  \u001b[0m | \u001b[0m 0.5205  \u001b[0m | \u001b[0m 0.04125 \u001b[0m | \u001b[0m 4.398   \u001b[0m | \u001b[0m 10.41   \u001b[0m | \u001b[0m 0.1042  \u001b[0m | \u001b[0m 1.0     \u001b[0m | \u001b[0m 53.69   \u001b[0m | \u001b[0m 0.5475  \u001b[0m | \u001b[0m 8.008   \u001b[0m | \u001b[0m 0.2     \u001b[0m |\n",
      "| \u001b[0m 135     \u001b[0m | \u001b[0m 0.7014  \u001b[0m | \u001b[0m 0.7136  \u001b[0m | \u001b[0m 0.06448 \u001b[0m | \u001b[0m 3.787   \u001b[0m | \u001b[0m 11.56   \u001b[0m | \u001b[0m 0.2962  \u001b[0m | \u001b[0m 0.3273  \u001b[0m | \u001b[0m 50.79   \u001b[0m | \u001b[0m 3.342   \u001b[0m | \u001b[0m 6.92    \u001b[0m | \u001b[0m 0.4259  \u001b[0m |\n",
      "| \u001b[0m 136     \u001b[0m | \u001b[0m 0.701   \u001b[0m | \u001b[0m 0.2773  \u001b[0m | \u001b[0m 0.0388  \u001b[0m | \u001b[0m 4.874   \u001b[0m | \u001b[0m 10.63   \u001b[0m | \u001b[0m 0.5811  \u001b[0m | \u001b[0m 0.2107  \u001b[0m | \u001b[0m 51.06   \u001b[0m | \u001b[0m 3.385   \u001b[0m | \u001b[0m 6.226   \u001b[0m | \u001b[0m 0.5268  \u001b[0m |\n",
      "| \u001b[0m 137     \u001b[0m | \u001b[0m 0.7007  \u001b[0m | \u001b[0m 0.2167  \u001b[0m | \u001b[0m 0.03168 \u001b[0m | \u001b[0m 4.895   \u001b[0m | \u001b[0m 10.23   \u001b[0m | \u001b[0m 0.6656  \u001b[0m | \u001b[0m 0.9332  \u001b[0m | \u001b[0m 51.16   \u001b[0m | \u001b[0m 3.387   \u001b[0m | \u001b[0m 8.341   \u001b[0m | \u001b[0m 0.3301  \u001b[0m |\n",
      "| \u001b[0m 138     \u001b[0m | \u001b[0m 0.7014  \u001b[0m | \u001b[0m 0.5256  \u001b[0m | \u001b[0m 0.02147 \u001b[0m | \u001b[0m 4.188   \u001b[0m | \u001b[0m 12.59   \u001b[0m | \u001b[0m 0.1059  \u001b[0m | \u001b[0m 0.547   \u001b[0m | \u001b[0m 52.24   \u001b[0m | \u001b[0m 2.059   \u001b[0m | \u001b[0m 7.788   \u001b[0m | \u001b[0m 0.6916  \u001b[0m |\n",
      "| \u001b[0m 139     \u001b[0m | \u001b[0m 0.7022  \u001b[0m | \u001b[0m 0.6003  \u001b[0m | \u001b[0m 0.03701 \u001b[0m | \u001b[0m 3.774   \u001b[0m | \u001b[0m 10.18   \u001b[0m | \u001b[0m 0.824   \u001b[0m | \u001b[0m 0.3587  \u001b[0m | \u001b[0m 54.22   \u001b[0m | \u001b[0m 2.174   \u001b[0m | \u001b[0m 7.634   \u001b[0m | \u001b[0m 0.3083  \u001b[0m |\n",
      "| \u001b[0m 140     \u001b[0m | \u001b[0m 0.699   \u001b[0m | \u001b[0m 0.4695  \u001b[0m | \u001b[0m 0.06113 \u001b[0m | \u001b[0m 5.412   \u001b[0m | \u001b[0m 10.09   \u001b[0m | \u001b[0m 0.9846  \u001b[0m | \u001b[0m 0.7925  \u001b[0m | \u001b[0m 50.35   \u001b[0m | \u001b[0m 4.054   \u001b[0m | \u001b[0m 7.068   \u001b[0m | \u001b[0m 0.2617  \u001b[0m |\n",
      "| \u001b[0m 141     \u001b[0m | \u001b[0m 0.6997  \u001b[0m | \u001b[0m 0.2137  \u001b[0m | \u001b[0m 0.0526  \u001b[0m | \u001b[0m 3.093   \u001b[0m | \u001b[0m 11.65   \u001b[0m | \u001b[0m 0.2212  \u001b[0m | \u001b[0m 0.8059  \u001b[0m | \u001b[0m 53.39   \u001b[0m | \u001b[0m 2.905   \u001b[0m | \u001b[0m 6.812   \u001b[0m | \u001b[0m 0.6007  \u001b[0m |\n",
      "| \u001b[0m 142     \u001b[0m | \u001b[0m 0.7013  \u001b[0m | \u001b[0m 0.4162  \u001b[0m | \u001b[0m 0.05404 \u001b[0m | \u001b[0m 4.515   \u001b[0m | \u001b[0m 10.87   \u001b[0m | \u001b[0m 0.5659  \u001b[0m | \u001b[0m 0.7425  \u001b[0m | \u001b[0m 52.02   \u001b[0m | \u001b[0m 1.845   \u001b[0m | \u001b[0m 6.805   \u001b[0m | \u001b[0m 0.5499  \u001b[0m |\n",
      "| \u001b[0m 143     \u001b[0m | \u001b[0m 0.7014  \u001b[0m | \u001b[0m 0.8     \u001b[0m | \u001b[0m 0.08    \u001b[0m | \u001b[0m 3.685   \u001b[0m | \u001b[0m 11.02   \u001b[0m | \u001b[0m 0.6401  \u001b[0m | \u001b[0m 0.01    \u001b[0m | \u001b[0m 52.63   \u001b[0m | \u001b[0m 1.854   \u001b[0m | \u001b[0m 8.319   \u001b[0m | \u001b[0m 0.669   \u001b[0m |\n",
      "| \u001b[0m 144     \u001b[0m | \u001b[0m 0.7021  \u001b[0m | \u001b[0m 0.5397  \u001b[0m | \u001b[0m 0.05808 \u001b[0m | \u001b[0m 4.072   \u001b[0m | \u001b[0m 10.58   \u001b[0m | \u001b[0m 0.7816  \u001b[0m | \u001b[0m 0.1241  \u001b[0m | \u001b[0m 54.57   \u001b[0m | \u001b[0m 0.7074  \u001b[0m | \u001b[0m 5.374   \u001b[0m | \u001b[0m 0.4695  \u001b[0m |\n",
      "| \u001b[0m 145     \u001b[0m | \u001b[0m 0.696   \u001b[0m | \u001b[0m 0.8     \u001b[0m | \u001b[0m 0.08    \u001b[0m | \u001b[0m 4.545   \u001b[0m | \u001b[0m 10.92   \u001b[0m | \u001b[0m 0.001   \u001b[0m | \u001b[0m 1.0     \u001b[0m | \u001b[0m 51.64   \u001b[0m | \u001b[0m 4.244   \u001b[0m | \u001b[0m 7.023   \u001b[0m | \u001b[0m 0.8     \u001b[0m |\n",
      "| \u001b[0m 146     \u001b[0m | \u001b[0m 0.6988  \u001b[0m | \u001b[0m 0.3136  \u001b[0m | \u001b[0m 0.05944 \u001b[0m | \u001b[0m 3.24    \u001b[0m | \u001b[0m 12.18   \u001b[0m | \u001b[0m 0.4032  \u001b[0m | \u001b[0m 0.8228  \u001b[0m | \u001b[0m 51.46   \u001b[0m | \u001b[0m 1.432   \u001b[0m | \u001b[0m 6.722   \u001b[0m | \u001b[0m 0.4459  \u001b[0m |\n",
      "| \u001b[0m 147     \u001b[0m | \u001b[0m 0.7014  \u001b[0m | \u001b[0m 0.7108  \u001b[0m | \u001b[0m 0.03358 \u001b[0m | \u001b[0m 5.898   \u001b[0m | \u001b[0m 10.39   \u001b[0m | \u001b[0m 0.4729  \u001b[0m | \u001b[0m 0.44    \u001b[0m | \u001b[0m 54.22   \u001b[0m | \u001b[0m 0.6912  \u001b[0m | \u001b[0m 5.209   \u001b[0m | \u001b[0m 0.3782  \u001b[0m |\n",
      "| \u001b[0m 148     \u001b[0m | \u001b[0m 0.7007  \u001b[0m | \u001b[0m 0.5678  \u001b[0m | \u001b[0m 0.05224 \u001b[0m | \u001b[0m 3.437   \u001b[0m | \u001b[0m 10.9    \u001b[0m | \u001b[0m 0.04547 \u001b[0m | \u001b[0m 0.1508  \u001b[0m | \u001b[0m 54.23   \u001b[0m | \u001b[0m 1.267   \u001b[0m | \u001b[0m 6.3     \u001b[0m | \u001b[0m 0.2479  \u001b[0m |\n",
      "| \u001b[0m 149     \u001b[0m | \u001b[0m 0.7002  \u001b[0m | \u001b[0m 0.467   \u001b[0m | \u001b[0m 0.05866 \u001b[0m | \u001b[0m 5.896   \u001b[0m | \u001b[0m 10.29   \u001b[0m | \u001b[0m 0.7748  \u001b[0m | \u001b[0m 0.1451  \u001b[0m | \u001b[0m 53.32   \u001b[0m | \u001b[0m 1.098   \u001b[0m | \u001b[0m 7.306   \u001b[0m | \u001b[0m 0.6087  \u001b[0m |\n",
      "| \u001b[0m 150     \u001b[0m | \u001b[0m 0.7016  \u001b[0m | \u001b[0m 0.6665  \u001b[0m | \u001b[0m 0.03308 \u001b[0m | \u001b[0m 3.929   \u001b[0m | \u001b[0m 11.29   \u001b[0m | \u001b[0m 0.9624  \u001b[0m | \u001b[0m 0.3058  \u001b[0m | \u001b[0m 52.18   \u001b[0m | \u001b[0m 0.5802  \u001b[0m | \u001b[0m 8.657   \u001b[0m | \u001b[0m 0.2057  \u001b[0m |\n",
      "| \u001b[95m 151     \u001b[0m | \u001b[95m 0.7039  \u001b[0m | \u001b[95m 0.3106  \u001b[0m | \u001b[95m 0.07025 \u001b[0m | \u001b[95m 3.938   \u001b[0m | \u001b[95m 12.24   \u001b[0m | \u001b[95m 0.8856  \u001b[0m | \u001b[95m 0.4103  \u001b[0m | \u001b[95m 52.68   \u001b[0m | \u001b[95m 0.7369  \u001b[0m | \u001b[95m 9.153   \u001b[0m | \u001b[95m 0.3989  \u001b[0m |\n",
      "| \u001b[0m 152     \u001b[0m | \u001b[0m 0.7001  \u001b[0m | \u001b[0m 0.3213  \u001b[0m | \u001b[0m 0.04345 \u001b[0m | \u001b[0m 5.163   \u001b[0m | \u001b[0m 12.39   \u001b[0m | \u001b[0m 0.3759  \u001b[0m | \u001b[0m 0.945   \u001b[0m | \u001b[0m 51.49   \u001b[0m | \u001b[0m 2.26    \u001b[0m | \u001b[0m 9.382   \u001b[0m | \u001b[0m 0.6259  \u001b[0m |\n",
      "| \u001b[0m 153     \u001b[0m | \u001b[0m 0.6999  \u001b[0m | \u001b[0m 0.4557  \u001b[0m | \u001b[0m 0.05836 \u001b[0m | \u001b[0m 5.923   \u001b[0m | \u001b[0m 22.6    \u001b[0m | \u001b[0m 0.1441  \u001b[0m | \u001b[0m 0.9529  \u001b[0m | \u001b[0m 72.85   \u001b[0m | \u001b[0m 2.32    \u001b[0m | \u001b[0m 1.915   \u001b[0m | \u001b[0m 0.6567  \u001b[0m |\n",
      "| \u001b[0m 154     \u001b[0m | \u001b[0m 0.6997  \u001b[0m | \u001b[0m 0.772   \u001b[0m | \u001b[0m 0.03927 \u001b[0m | \u001b[0m 4.95    \u001b[0m | \u001b[0m 11.63   \u001b[0m | \u001b[0m 0.7534  \u001b[0m | \u001b[0m 0.8383  \u001b[0m | \u001b[0m 54.32   \u001b[0m | \u001b[0m 1.193   \u001b[0m | \u001b[0m 5.71    \u001b[0m | \u001b[0m 0.2338  \u001b[0m |\n",
      "| \u001b[0m 155     \u001b[0m | \u001b[0m 0.7006  \u001b[0m | \u001b[0m 0.7713  \u001b[0m | \u001b[0m 0.06459 \u001b[0m | \u001b[0m 4.328   \u001b[0m | \u001b[0m 13.55   \u001b[0m | \u001b[0m 0.368   \u001b[0m | \u001b[0m 0.5549  \u001b[0m | \u001b[0m 52.56   \u001b[0m | \u001b[0m 1.159   \u001b[0m | \u001b[0m 9.447   \u001b[0m | \u001b[0m 0.334   \u001b[0m |\n",
      "| \u001b[0m 156     \u001b[0m | \u001b[0m 0.6998  \u001b[0m | \u001b[0m 0.5963  \u001b[0m | \u001b[0m 0.04351 \u001b[0m | \u001b[0m 3.745   \u001b[0m | \u001b[0m 21.89   \u001b[0m | \u001b[0m 0.6555  \u001b[0m | \u001b[0m 0.938   \u001b[0m | \u001b[0m 71.33   \u001b[0m | \u001b[0m 3.05    \u001b[0m | \u001b[0m 1.026   \u001b[0m | \u001b[0m 0.7441  \u001b[0m |\n",
      "| \u001b[0m 157     \u001b[0m | \u001b[0m 0.7008  \u001b[0m | \u001b[0m 0.6775  \u001b[0m | \u001b[0m 0.07734 \u001b[0m | \u001b[0m 4.758   \u001b[0m | \u001b[0m 10.3    \u001b[0m | \u001b[0m 0.2139  \u001b[0m | \u001b[0m 0.03185 \u001b[0m | \u001b[0m 49.39   \u001b[0m | \u001b[0m 2.639   \u001b[0m | \u001b[0m 6.666   \u001b[0m | \u001b[0m 0.3739  \u001b[0m |\n",
      "| \u001b[0m 158     \u001b[0m | \u001b[0m 0.701   \u001b[0m | \u001b[0m 0.4821  \u001b[0m | \u001b[0m 0.02333 \u001b[0m | \u001b[0m 4.379   \u001b[0m | \u001b[0m 10.17   \u001b[0m | \u001b[0m 0.1428  \u001b[0m | \u001b[0m 0.6366  \u001b[0m | \u001b[0m 53.92   \u001b[0m | \u001b[0m 0.99    \u001b[0m | \u001b[0m 5.122   \u001b[0m | \u001b[0m 0.7472  \u001b[0m |\n",
      "| \u001b[0m 159     \u001b[0m | \u001b[0m 0.699   \u001b[0m | \u001b[0m 0.4621  \u001b[0m | \u001b[0m 0.0368  \u001b[0m | \u001b[0m 3.003   \u001b[0m | \u001b[0m 12.05   \u001b[0m | \u001b[0m 0.01097 \u001b[0m | \u001b[0m 0.0495  \u001b[0m | \u001b[0m 53.05   \u001b[0m | \u001b[0m 0.1176  \u001b[0m | \u001b[0m 8.585   \u001b[0m | \u001b[0m 0.6902  \u001b[0m |\n",
      "| \u001b[0m 160     \u001b[0m | \u001b[0m 0.7015  \u001b[0m | \u001b[0m 0.7706  \u001b[0m | \u001b[0m 0.02857 \u001b[0m | \u001b[0m 4.826   \u001b[0m | \u001b[0m 12.21   \u001b[0m | \u001b[0m 0.388   \u001b[0m | \u001b[0m 0.6701  \u001b[0m | \u001b[0m 53.54   \u001b[0m | \u001b[0m 1.392   \u001b[0m | \u001b[0m 9.92    \u001b[0m | \u001b[0m 0.3694  \u001b[0m |\n",
      "| \u001b[0m 161     \u001b[0m | \u001b[0m 0.7014  \u001b[0m | \u001b[0m 0.2342  \u001b[0m | \u001b[0m 0.04491 \u001b[0m | \u001b[0m 3.98    \u001b[0m | \u001b[0m 12.49   \u001b[0m | \u001b[0m 0.7618  \u001b[0m | \u001b[0m 0.5579  \u001b[0m | \u001b[0m 52.39   \u001b[0m | \u001b[0m 2.372   \u001b[0m | \u001b[0m 8.894   \u001b[0m | \u001b[0m 0.3382  \u001b[0m |\n",
      "| \u001b[0m 162     \u001b[0m | \u001b[0m 0.6997  \u001b[0m | \u001b[0m 0.5232  \u001b[0m | \u001b[0m 0.06762 \u001b[0m | \u001b[0m 5.449   \u001b[0m | \u001b[0m 12.06   \u001b[0m | \u001b[0m 0.08313 \u001b[0m | \u001b[0m 0.5194  \u001b[0m | \u001b[0m 49.45   \u001b[0m | \u001b[0m 4.707   \u001b[0m | \u001b[0m 5.873   \u001b[0m | \u001b[0m 0.5238  \u001b[0m |\n",
      "| \u001b[0m 163     \u001b[0m | \u001b[0m 0.7018  \u001b[0m | \u001b[0m 0.525   \u001b[0m | \u001b[0m 0.05693 \u001b[0m | \u001b[0m 3.544   \u001b[0m | \u001b[0m 10.21   \u001b[0m | \u001b[0m 0.9848  \u001b[0m | \u001b[0m 0.07333 \u001b[0m | \u001b[0m 53.42   \u001b[0m | \u001b[0m 1.772   \u001b[0m | \u001b[0m 6.581   \u001b[0m | \u001b[0m 0.6401  \u001b[0m |\n",
      "| \u001b[0m 164     \u001b[0m | \u001b[0m 0.6999  \u001b[0m | \u001b[0m 0.2522  \u001b[0m | \u001b[0m 0.03224 \u001b[0m | \u001b[0m 5.511   \u001b[0m | \u001b[0m 10.37   \u001b[0m | \u001b[0m 0.8423  \u001b[0m | \u001b[0m 0.5651  \u001b[0m | \u001b[0m 51.24   \u001b[0m | \u001b[0m 1.779   \u001b[0m | \u001b[0m 9.589   \u001b[0m | \u001b[0m 0.6853  \u001b[0m |\n",
      "| \u001b[0m 165     \u001b[0m | \u001b[0m 0.6989  \u001b[0m | \u001b[0m 0.6536  \u001b[0m | \u001b[0m 0.07085 \u001b[0m | \u001b[0m 5.297   \u001b[0m | \u001b[0m 11.02   \u001b[0m | \u001b[0m 0.7337  \u001b[0m | \u001b[0m 0.5998  \u001b[0m | \u001b[0m 56.45   \u001b[0m | \u001b[0m 0.6646  \u001b[0m | \u001b[0m 5.338   \u001b[0m | \u001b[0m 0.4987  \u001b[0m |\n",
      "| \u001b[0m 166     \u001b[0m | \u001b[0m 0.6993  \u001b[0m | \u001b[0m 0.8     \u001b[0m | \u001b[0m 0.02    \u001b[0m | \u001b[0m 5.334   \u001b[0m | \u001b[0m 22.56   \u001b[0m | \u001b[0m 1.0     \u001b[0m | \u001b[0m 0.01    \u001b[0m | \u001b[0m 72.39   \u001b[0m | \u001b[0m 3.845   \u001b[0m | \u001b[0m 1.0     \u001b[0m | \u001b[0m 0.8     \u001b[0m |\n",
      "| \u001b[0m 167     \u001b[0m | \u001b[0m 0.7014  \u001b[0m | \u001b[0m 0.2     \u001b[0m | \u001b[0m 0.02    \u001b[0m | \u001b[0m 4.0     \u001b[0m | \u001b[0m 10.18   \u001b[0m | \u001b[0m 0.001   \u001b[0m | \u001b[0m 0.01    \u001b[0m | \u001b[0m 47.4    \u001b[0m | \u001b[0m 3.595   \u001b[0m | \u001b[0m 6.215   \u001b[0m | \u001b[0m 0.2     \u001b[0m |\n",
      "| \u001b[0m 168     \u001b[0m | \u001b[0m 0.6994  \u001b[0m | \u001b[0m 0.5323  \u001b[0m | \u001b[0m 0.06762 \u001b[0m | \u001b[0m 3.61    \u001b[0m | \u001b[0m 11.77   \u001b[0m | \u001b[0m 0.6183  \u001b[0m | \u001b[0m 0.8175  \u001b[0m | \u001b[0m 49.29   \u001b[0m | \u001b[0m 3.934   \u001b[0m | \u001b[0m 6.379   \u001b[0m | \u001b[0m 0.3782  \u001b[0m |\n",
      "| \u001b[0m 169     \u001b[0m | \u001b[0m 0.7023  \u001b[0m | \u001b[0m 0.3392  \u001b[0m | \u001b[0m 0.03542 \u001b[0m | \u001b[0m 4.44    \u001b[0m | \u001b[0m 12.29   \u001b[0m | \u001b[0m 0.83    \u001b[0m | \u001b[0m 0.7882  \u001b[0m | \u001b[0m 52.39   \u001b[0m | \u001b[0m 1.022   \u001b[0m | \u001b[0m 9.968   \u001b[0m | \u001b[0m 0.7047  \u001b[0m |\n",
      "| \u001b[0m 170     \u001b[0m | \u001b[0m 0.6997  \u001b[0m | \u001b[0m 0.2     \u001b[0m | \u001b[0m 0.08    \u001b[0m | \u001b[0m 4.366   \u001b[0m | \u001b[0m 21.35   \u001b[0m | \u001b[0m 0.5792  \u001b[0m | \u001b[0m 0.01577 \u001b[0m | \u001b[0m 77.7    \u001b[0m | \u001b[0m 1.041   \u001b[0m | \u001b[0m 10.0    \u001b[0m | \u001b[0m 0.8     \u001b[0m |\n",
      "| \u001b[0m 171     \u001b[0m | \u001b[0m 0.6992  \u001b[0m | \u001b[0m 0.2     \u001b[0m | \u001b[0m 0.04028 \u001b[0m | \u001b[0m 3.081   \u001b[0m | \u001b[0m 22.31   \u001b[0m | \u001b[0m 0.5193  \u001b[0m | \u001b[0m 0.01    \u001b[0m | \u001b[0m 77.95   \u001b[0m | \u001b[0m 3.309   \u001b[0m | \u001b[0m 10.0    \u001b[0m | \u001b[0m 0.8     \u001b[0m |\n",
      "| \u001b[0m 172     \u001b[0m | \u001b[0m 0.6985  \u001b[0m | \u001b[0m 0.6427  \u001b[0m | \u001b[0m 0.03815 \u001b[0m | \u001b[0m 3.449   \u001b[0m | \u001b[0m 11.25   \u001b[0m | \u001b[0m 0.4888  \u001b[0m | \u001b[0m 0.7129  \u001b[0m | \u001b[0m 50.54   \u001b[0m | \u001b[0m 1.933   \u001b[0m | \u001b[0m 9.232   \u001b[0m | \u001b[0m 0.3545  \u001b[0m |\n",
      "| \u001b[0m 173     \u001b[0m | \u001b[0m 0.701   \u001b[0m | \u001b[0m 0.6131  \u001b[0m | \u001b[0m 0.05062 \u001b[0m | \u001b[0m 4.348   \u001b[0m | \u001b[0m 43.84   \u001b[0m | \u001b[0m 0.466   \u001b[0m | \u001b[0m 0.2999  \u001b[0m | \u001b[0m 68.5    \u001b[0m | \u001b[0m 1.792   \u001b[0m | \u001b[0m 6.217   \u001b[0m | \u001b[0m 0.628   \u001b[0m |\n",
      "| \u001b[0m 174     \u001b[0m | \u001b[0m 0.6987  \u001b[0m | \u001b[0m 0.7118  \u001b[0m | \u001b[0m 0.06872 \u001b[0m | \u001b[0m 3.3     \u001b[0m | \u001b[0m 41.99   \u001b[0m | \u001b[0m 0.1046  \u001b[0m | \u001b[0m 0.4884  \u001b[0m | \u001b[0m 68.63   \u001b[0m | \u001b[0m 1.475   \u001b[0m | \u001b[0m 7.21    \u001b[0m | \u001b[0m 0.2478  \u001b[0m |\n",
      "| \u001b[0m 175     \u001b[0m | \u001b[0m 0.7018  \u001b[0m | \u001b[0m 0.2     \u001b[0m | \u001b[0m 0.02    \u001b[0m | \u001b[0m 5.296   \u001b[0m | \u001b[0m 23.23   \u001b[0m | \u001b[0m 1.0     \u001b[0m | \u001b[0m 0.01    \u001b[0m | \u001b[0m 72.81   \u001b[0m | \u001b[0m 1.23    \u001b[0m | \u001b[0m 1.0     \u001b[0m | \u001b[0m 0.8     \u001b[0m |\n",
      "| \u001b[0m 176     \u001b[0m | \u001b[0m 0.6989  \u001b[0m | \u001b[0m 0.3596  \u001b[0m | \u001b[0m 0.07052 \u001b[0m | \u001b[0m 3.378   \u001b[0m | \u001b[0m 45.56   \u001b[0m | \u001b[0m 0.0269  \u001b[0m | \u001b[0m 0.6139  \u001b[0m | \u001b[0m 69.3    \u001b[0m | \u001b[0m 0.8893  \u001b[0m | \u001b[0m 6.136   \u001b[0m | \u001b[0m 0.5361  \u001b[0m |\n",
      "| \u001b[0m 177     \u001b[0m | \u001b[0m 0.7036  \u001b[0m | \u001b[0m 0.5868  \u001b[0m | \u001b[0m 0.05683 \u001b[0m | \u001b[0m 5.281   \u001b[0m | \u001b[0m 44.25   \u001b[0m | \u001b[0m 0.4003  \u001b[0m | \u001b[0m 0.01    \u001b[0m | \u001b[0m 67.01   \u001b[0m | \u001b[0m 2.213   \u001b[0m | \u001b[0m 7.48    \u001b[0m | \u001b[0m 0.8     \u001b[0m |\n",
      "| \u001b[0m 178     \u001b[0m | \u001b[0m 0.7018  \u001b[0m | \u001b[0m 0.2429  \u001b[0m | \u001b[0m 0.03992 \u001b[0m | \u001b[0m 4.211   \u001b[0m | \u001b[0m 44.11   \u001b[0m | \u001b[0m 0.1845  \u001b[0m | \u001b[0m 0.4215  \u001b[0m | \u001b[0m 67.03   \u001b[0m | \u001b[0m 1.12    \u001b[0m | \u001b[0m 7.356   \u001b[0m | \u001b[0m 0.7902  \u001b[0m |\n",
      "| \u001b[0m 179     \u001b[0m | \u001b[0m 0.6914  \u001b[0m | \u001b[0m 0.7611  \u001b[0m | \u001b[0m 0.07426 \u001b[0m | \u001b[0m 4.803   \u001b[0m | \u001b[0m 44.79   \u001b[0m | \u001b[0m 0.419   \u001b[0m | \u001b[0m 0.4741  \u001b[0m | \u001b[0m 67.69   \u001b[0m | \u001b[0m 3.754   \u001b[0m | \u001b[0m 8.228   \u001b[0m | \u001b[0m 0.3737  \u001b[0m |\n",
      "| \u001b[0m 180     \u001b[0m | \u001b[0m 0.6934  \u001b[0m | \u001b[0m 0.5927  \u001b[0m | \u001b[0m 0.07374 \u001b[0m | \u001b[0m 6.92    \u001b[0m | \u001b[0m 44.07   \u001b[0m | \u001b[0m 0.7337  \u001b[0m | \u001b[0m 0.3839  \u001b[0m | \u001b[0m 65.54   \u001b[0m | \u001b[0m 1.544   \u001b[0m | \u001b[0m 6.799   \u001b[0m | \u001b[0m 0.2783  \u001b[0m |\n",
      "| \u001b[0m 181     \u001b[0m | \u001b[0m 0.6953  \u001b[0m | \u001b[0m 0.2     \u001b[0m | \u001b[0m 0.02    \u001b[0m | \u001b[0m 5.202   \u001b[0m | \u001b[0m 22.53   \u001b[0m | \u001b[0m 1.0     \u001b[0m | \u001b[0m 1.0     \u001b[0m | \u001b[0m 71.48   \u001b[0m | \u001b[0m 1.389   \u001b[0m | \u001b[0m 1.0     \u001b[0m | \u001b[0m 0.8     \u001b[0m |\n",
      "| \u001b[0m 182     \u001b[0m | \u001b[0m 0.6998  \u001b[0m | \u001b[0m 0.7958  \u001b[0m | \u001b[0m 0.02852 \u001b[0m | \u001b[0m 5.398   \u001b[0m | \u001b[0m 42.9    \u001b[0m | \u001b[0m 0.3173  \u001b[0m | \u001b[0m 0.439   \u001b[0m | \u001b[0m 67.66   \u001b[0m | \u001b[0m 1.62    \u001b[0m | \u001b[0m 5.957   \u001b[0m | \u001b[0m 0.4636  \u001b[0m |\n",
      "| \u001b[0m 183     \u001b[0m | \u001b[0m 0.7025  \u001b[0m | \u001b[0m 0.2     \u001b[0m | \u001b[0m 0.08    \u001b[0m | \u001b[0m 4.084   \u001b[0m | \u001b[0m 11.8    \u001b[0m | \u001b[0m 1.0     \u001b[0m | \u001b[0m 0.2659  \u001b[0m | \u001b[0m 53.57   \u001b[0m | \u001b[0m 0.01    \u001b[0m | \u001b[0m 9.943   \u001b[0m | \u001b[0m 0.2     \u001b[0m |\n",
      "| \u001b[0m 184     \u001b[0m | \u001b[0m 0.6983  \u001b[0m | \u001b[0m 0.3305  \u001b[0m | \u001b[0m 0.03597 \u001b[0m | \u001b[0m 3.205   \u001b[0m | \u001b[0m 42.92   \u001b[0m | \u001b[0m 0.9736  \u001b[0m | \u001b[0m 0.056   \u001b[0m | \u001b[0m 67.03   \u001b[0m | \u001b[0m 2.13    \u001b[0m | \u001b[0m 6.242   \u001b[0m | \u001b[0m 0.4893  \u001b[0m |\n",
      "| \u001b[0m 185     \u001b[0m | \u001b[0m 0.7019  \u001b[0m | \u001b[0m 0.6806  \u001b[0m | \u001b[0m 0.03831 \u001b[0m | \u001b[0m 5.807   \u001b[0m | \u001b[0m 22.91   \u001b[0m | \u001b[0m 0.7849  \u001b[0m | \u001b[0m 0.2542  \u001b[0m | \u001b[0m 74.22   \u001b[0m | \u001b[0m 0.767   \u001b[0m | \u001b[0m 2.425   \u001b[0m | \u001b[0m 0.4191  \u001b[0m |\n",
      "| \u001b[0m 186     \u001b[0m | \u001b[0m 0.6984  \u001b[0m | \u001b[0m 0.7551  \u001b[0m | \u001b[0m 0.05385 \u001b[0m | \u001b[0m 5.371   \u001b[0m | \u001b[0m 43.41   \u001b[0m | \u001b[0m 0.736   \u001b[0m | \u001b[0m 0.2413  \u001b[0m | \u001b[0m 67.34   \u001b[0m | \u001b[0m 2.118   \u001b[0m | \u001b[0m 8.144   \u001b[0m | \u001b[0m 0.3362  \u001b[0m |\n",
      "| \u001b[0m 187     \u001b[0m | \u001b[0m 0.6962  \u001b[0m | \u001b[0m 0.5357  \u001b[0m | \u001b[0m 0.02505 \u001b[0m | \u001b[0m 6.609   \u001b[0m | \u001b[0m 24.03   \u001b[0m | \u001b[0m 0.9446  \u001b[0m | \u001b[0m 0.0835  \u001b[0m | \u001b[0m 74.47   \u001b[0m | \u001b[0m 2.314   \u001b[0m | \u001b[0m 2.006   \u001b[0m | \u001b[0m 0.2759  \u001b[0m |\n",
      "| \u001b[0m 188     \u001b[0m | \u001b[0m 0.6982  \u001b[0m | \u001b[0m 0.2     \u001b[0m | \u001b[0m 0.08    \u001b[0m | \u001b[0m 4.747   \u001b[0m | \u001b[0m 21.91   \u001b[0m | \u001b[0m 0.001   \u001b[0m | \u001b[0m 0.01    \u001b[0m | \u001b[0m 75.93   \u001b[0m | \u001b[0m 2.627   \u001b[0m | \u001b[0m 9.826   \u001b[0m | \u001b[0m 0.8     \u001b[0m |\n",
      "| \u001b[0m 189     \u001b[0m | \u001b[0m 0.6969  \u001b[0m | \u001b[0m 0.2268  \u001b[0m | \u001b[0m 0.0751  \u001b[0m | \u001b[0m 4.514   \u001b[0m | \u001b[0m 10.03   \u001b[0m | \u001b[0m 0.9397  \u001b[0m | \u001b[0m 0.6471  \u001b[0m | \u001b[0m 55.12   \u001b[0m | \u001b[0m 2.466   \u001b[0m | \u001b[0m 5.149   \u001b[0m | \u001b[0m 0.5011  \u001b[0m |\n",
      "| \u001b[0m 190     \u001b[0m | \u001b[0m 0.7     \u001b[0m | \u001b[0m 0.7126  \u001b[0m | \u001b[0m 0.07925 \u001b[0m | \u001b[0m 4.72    \u001b[0m | \u001b[0m 10.3    \u001b[0m | \u001b[0m 0.06519 \u001b[0m | \u001b[0m 0.8498  \u001b[0m | \u001b[0m 55.73   \u001b[0m | \u001b[0m 0.223   \u001b[0m | \u001b[0m 7.607   \u001b[0m | \u001b[0m 0.3042  \u001b[0m |\n",
      "| \u001b[0m 191     \u001b[0m | \u001b[0m 0.6981  \u001b[0m | \u001b[0m 0.2     \u001b[0m | \u001b[0m 0.08    \u001b[0m | \u001b[0m 4.559   \u001b[0m | \u001b[0m 11.98   \u001b[0m | \u001b[0m 0.1128  \u001b[0m | \u001b[0m 1.0     \u001b[0m | \u001b[0m 52.82   \u001b[0m | \u001b[0m 0.03461 \u001b[0m | \u001b[0m 9.411   \u001b[0m | \u001b[0m 0.2     \u001b[0m |\n",
      "| \u001b[0m 192     \u001b[0m | \u001b[0m 0.6987  \u001b[0m | \u001b[0m 0.6111  \u001b[0m | \u001b[0m 0.07188 \u001b[0m | \u001b[0m 3.239   \u001b[0m | \u001b[0m 45.14   \u001b[0m | \u001b[0m 0.2495  \u001b[0m | \u001b[0m 0.09416 \u001b[0m | \u001b[0m 66.3    \u001b[0m | \u001b[0m 1.699   \u001b[0m | \u001b[0m 7.359   \u001b[0m | \u001b[0m 0.4759  \u001b[0m |\n",
      "| \u001b[0m 193     \u001b[0m | \u001b[0m 0.6964  \u001b[0m | \u001b[0m 0.6088  \u001b[0m | \u001b[0m 0.08    \u001b[0m | \u001b[0m 4.554   \u001b[0m | \u001b[0m 22.59   \u001b[0m | \u001b[0m 1.0     \u001b[0m | \u001b[0m 0.01    \u001b[0m | \u001b[0m 73.84   \u001b[0m | \u001b[0m 1.541   \u001b[0m | \u001b[0m 1.753   \u001b[0m | \u001b[0m 0.8     \u001b[0m |\n",
      "| \u001b[0m 194     \u001b[0m | \u001b[0m 0.6983  \u001b[0m | \u001b[0m 0.6714  \u001b[0m | \u001b[0m 0.02008 \u001b[0m | \u001b[0m 6.778   \u001b[0m | \u001b[0m 23.13   \u001b[0m | \u001b[0m 0.8009  \u001b[0m | \u001b[0m 0.9646  \u001b[0m | \u001b[0m 73.29   \u001b[0m | \u001b[0m 0.06068 \u001b[0m | \u001b[0m 1.738   \u001b[0m | \u001b[0m 0.6242  \u001b[0m |\n",
      "| \u001b[0m 195     \u001b[0m | \u001b[0m 0.7004  \u001b[0m | \u001b[0m 0.8     \u001b[0m | \u001b[0m 0.02    \u001b[0m | \u001b[0m 3.824   \u001b[0m | \u001b[0m 11.92   \u001b[0m | \u001b[0m 1.0     \u001b[0m | \u001b[0m 0.01    \u001b[0m | \u001b[0m 53.42   \u001b[0m | \u001b[0m 1.025   \u001b[0m | \u001b[0m 9.485   \u001b[0m | \u001b[0m 0.7798  \u001b[0m |\n",
      "| \u001b[0m 196     \u001b[0m | \u001b[0m 0.7001  \u001b[0m | \u001b[0m 0.6738  \u001b[0m | \u001b[0m 0.02832 \u001b[0m | \u001b[0m 4.273   \u001b[0m | \u001b[0m 11.16   \u001b[0m | \u001b[0m 0.4083  \u001b[0m | \u001b[0m 0.02868 \u001b[0m | \u001b[0m 54.64   \u001b[0m | \u001b[0m 1.127   \u001b[0m | \u001b[0m 6.653   \u001b[0m | \u001b[0m 0.587   \u001b[0m |\n",
      "| \u001b[0m 197     \u001b[0m | \u001b[0m 0.7007  \u001b[0m | \u001b[0m 0.3787  \u001b[0m | \u001b[0m 0.05376 \u001b[0m | \u001b[0m 4.646   \u001b[0m | \u001b[0m 13.2    \u001b[0m | \u001b[0m 0.8574  \u001b[0m | \u001b[0m 0.9244  \u001b[0m | \u001b[0m 53.77   \u001b[0m | \u001b[0m 0.7608  \u001b[0m | \u001b[0m 9.427   \u001b[0m | \u001b[0m 0.6825  \u001b[0m |\n",
      "| \u001b[0m 198     \u001b[0m | \u001b[0m 0.6993  \u001b[0m | \u001b[0m 0.2403  \u001b[0m | \u001b[0m 0.06693 \u001b[0m | \u001b[0m 4.02    \u001b[0m | \u001b[0m 23.1    \u001b[0m | \u001b[0m 0.5304  \u001b[0m | \u001b[0m 0.093   \u001b[0m | \u001b[0m 78.18   \u001b[0m | \u001b[0m 1.973   \u001b[0m | \u001b[0m 9.313   \u001b[0m | \u001b[0m 0.619   \u001b[0m |\n",
      "| \u001b[0m 199     \u001b[0m | \u001b[0m 0.7012  \u001b[0m | \u001b[0m 0.2473  \u001b[0m | \u001b[0m 0.06591 \u001b[0m | \u001b[0m 5.005   \u001b[0m | \u001b[0m 11.45   \u001b[0m | \u001b[0m 0.6636  \u001b[0m | \u001b[0m 0.4198  \u001b[0m | \u001b[0m 53.25   \u001b[0m | \u001b[0m 1.411   \u001b[0m | \u001b[0m 8.609   \u001b[0m | \u001b[0m 0.3549  \u001b[0m |\n",
      "| \u001b[0m 200     \u001b[0m | \u001b[0m 0.7014  \u001b[0m | \u001b[0m 0.6474  \u001b[0m | \u001b[0m 0.04126 \u001b[0m | \u001b[0m 4.485   \u001b[0m | \u001b[0m 11.56   \u001b[0m | \u001b[0m 0.1013  \u001b[0m | \u001b[0m 0.159   \u001b[0m | \u001b[0m 52.3    \u001b[0m | \u001b[0m 0.5039  \u001b[0m | \u001b[0m 5.87    \u001b[0m | \u001b[0m 0.4707  \u001b[0m |\n",
      "=================================================================================================================================================\n",
      "{'colsample_bytree': 0.31057107553716445, 'learning_rate': 0.0702450132962882, 'max_depth': 3.93792978158818, 'min_child_samples': 12.237015536898053, 'min_child_weight': 0.8855849299360076, 'min_split_gain': 0.41028796649475724, 'num_leaves': 52.679400883451486, 'reg_alpha': 0.7369237913884384, 'reg_lambda': 9.152940525658105, 'subsample': 0.39890168424402683}\n",
      "--------------------------------------------------\n",
      ">> seed_num: 176\n",
      ">> drop_features: 195\n",
      "Fold  1 AUC : 0.678394\n",
      "Fold  2 AUC : 0.716268\n",
      "Fold  3 AUC : 0.690070\n",
      "Fold  4 AUC : 0.712769\n",
      "Fold  5 AUC : 0.722104\n",
      "Full AUC score 0.703742\n"
     ]
    },
    {
     "data": {
      "text/plain": [
       "feature\n",
       "ANONYMOUS_1_divide_ANONYMOUS_1_COMPONENT_ARBITRARY_median          160\n",
       "ANONYMOUS_1                                                        141\n",
       "FE_divide_FE_FE_woe_bin_median                                     136\n",
       "CU_divide_CU_YEAR_sum                                              105\n",
       "ANONYMOUS_1_divide_ANONYMOUS_1_YEAR_min                            102\n",
       "ANONYMOUS_1_ZN_divide_ANONYMOUS_1_ZN_YEAR_max                       99\n",
       "V40_divide_V40_YEAR_COMPONENT_min                                   99\n",
       "FE_divide_FE_YEAR_COMPONENT_sum                                     95\n",
       "ANONYMOUS_1_V40_divide_ANONYMOUS_1_V40_YEAR_COMPONENT_max           93\n",
       "ANONYMOUS_1_log1                                                    92\n",
       "ANONYMOUS_1_V40_divide_ANONYMOUS_1_V40_YEAR_max                     92\n",
       "ANONYMOUS_1_ZN_divide_ANONYMOUS_1_ZN_YEAR_COMPONENT_max             91\n",
       "ANONYMOUS_1_V40_divide_ANONYMOUS_1_V40_YEAR_sum                     88\n",
       "ANONYMOUS_2                                                         81\n",
       "ZN_minus_ZN_COMPONENT_ARBITRARY_median                              78\n",
       "ZN_minus_ZN_YEAR_median                                             78\n",
       "ANONYMOUS_1_FE_divide_ANONYMOUS_1_FE_YEAR_sum                       77\n",
       "CU_divide_CU_FE_woe_bin_max                                         77\n",
       "CR_MO                                                               74\n",
       "V40_log1                                                            74\n",
       "ZN_divide_ZN_FE_woe_bin_median                                      73\n",
       "ANONYMOUS_1_V40_divide_ANONYMOUS_1_V40_FE_woe_bin_sum               71\n",
       "ANONYMOUS_2_divide_ANONYMOUS_2_YEAR_sum                             68\n",
       "ANONYMOUS_1_divide_ANONYMOUS_1_YEAR_COMPONENT_sum                   68\n",
       "CU_divide_CU_YEAR_COMPONENT_median                                  66\n",
       "ANONYMOUS_1_ZN_divide_ANONYMOUS_1_ZN_YEAR_sum                       66\n",
       "ANONYMOUS_1_ZN_divide_ANONYMOUS_1_ZN_FE_woe_bin_median              65\n",
       "ANONYMOUS_1_FE_divide_ANONYMOUS_1_FE_YEAR_COMPONENT_sum             65\n",
       "ANONYMOUS_1_CR_divide_ANONYMOUS_1_CR_COMPONENT_ARBITRARY_median     63\n",
       "CU_divide_CU_YEAR_COMPONENT_sum                                     63\n",
       "Name: importance, dtype: int32"
      ]
     },
     "metadata": {},
     "output_type": "display_data"
    },
    {
     "name": "stdout",
     "output_type": "stream",
     "text": [
      "thred: 0.1659\n",
      "ncol 310\n",
      "auc: 0.7037415059414243\n",
      "f1: 0.5895183191182717\n",
      "Target ratio(real): 0.08534941468605889\n",
      "Target ratio(pred): 0.0759807978811455\n",
      "Target sum: 459\n",
      "CPU times: user 2h 39min 14s, sys: 1min 35s, total: 2h 40min 50s\n",
      "Wall time: 41min 58s\n"
     ]
    }
   ],
   "source": [
    "%%time \n",
    "\n",
    "\"\"\"\n",
    "모델 튜닝 \n",
    "\n",
    "// reference params\n",
    "'learning_rate': 0.07398,\n",
    "'max_depth': 4.309,\n",
    "'colsample_bytree': 0.4028,\n",
    "'subsample': 0.4278,\n",
    "'min_child_samples': 25.65,\n",
    "'min_child_weight': 0.6138,\n",
    "'min_split_gain': 0.7354,\n",
    "'num_leaves': 62.68,\n",
    "'reg_alpha': 0.2889,\n",
    "'reg_lambda': 7.875\n",
    "\"\"\"\n",
    "\n",
    "drop_features_vc1 = ['ZN_minus_ZN_YEAR_COMPONENT_median', 'ANONYMOUS_1_CU', 'ANONYMOUS_1_minus_ANONYMOUS_1_YEAR_COMPONENT_min', 'PQINDEX_divide_PQINDEX_YEAR_min', 'ANONYMOUS_1_CR_minus_ANONYMOUS_1_CR_FE_woe_bin_max', 'ANONYMOUS_1_divide_ANONYMOUS_1_YEAR_COMPONENT_min', 'V40_minus_V40_FE_woe_bin_sum', 'PQINDEX_minus_PQINDEX_FE_woe_bin_sum', 'V40_minus_V40_YEAR_COMPONENT_min', 'ANONYMOUS_1_ZN_divide_ANONYMOUS_1_ZN_YEAR_median', 'PQINDEX_divide_PQINDEX_YEAR_COMPONENT_sum', 'FE_divide_FE_YEAR_max', 'ANONYMOUS_1_ZN_divide_ANONYMOUS_1_ZN_COMPONENT_ARBITRARY_median', 'PQINDEX_minus_PQINDEX_YEAR_COMPONENT_max', 'PQINDEX_minus_PQINDEX_YEAR_COMPONENT_median', 'FE_minus_FE_YEAR_COMPONENT_median', 'ZN_divide_ZN_YEAR_min', 'PQINDEX_divide_PQINDEX_YEAR_median', 'FE_minus_FE_YEAR_COMPONENT_max', 'ZN_divide_ZN_COMPONENT_ARBITRARY_median', 'ANONYMOUS_1_ZN_minus_ANONYMOUS_1_ZN_FE_woe_bin_median', 'ANONYMOUS_1_ZN_YEAR_COMPONENT_max', 'ANONYMOUS_1_V40_minus_ANONYMOUS_1_V40_YEAR_COMPONENT_max', 'ANONYMOUS_1_ZN_divide_ANONYMOUS_1_ZN_YEAR_COMPONENT_sum', 'ANONYMOUS_1_FE_YEAR_median', 'ANONYMOUS_1_CR_minus_ANONYMOUS_1_CR_FE_woe_bin_sum', 'CU_divide_CU_COMPONENT_ARBITRARY_sum', 'FE_divide_FE_YEAR_median', 'ANONYMOUS_2_YEAR_max', 'FE_divide_FE_FE_woe_bin_min', 'ANONYMOUS_1_ZN_divide_ANONYMOUS_1_ZN_FE_woe_bin_sum', 'V40_minus_V40_YEAR_COMPONENT_max', 'ANONYMOUS_1_ZN_minus_ANONYMOUS_1_ZN_YEAR_sum', 'V40_divide_V40_FE_woe_bin_min', 'ANONYMOUS_1_V40_minus_ANONYMOUS_1_V40_YEAR_COMPONENT_median', 'ZN_minus_ZN_YEAR_COMPONENT_min', 'ANONYMOUS_1_FE_divide_ANONYMOUS_1_FE_YEAR_COMPONENT_max', 'V40_YEAR_median', 'V40_minus_V40_YEAR_sum', 'ANONYMOUS_1_divide_ANONYMOUS_1_YEAR_COMPONENT_max', 'NI_V40', 'V40_minus_V40_COMPONENT_ARBITRARY_min', 'PQINDEX_divide_PQINDEX_YEAR_COMPONENT_max', 'ZN_minus_ZN_YEAR_min', 'FE_divide_FE_YEAR_COMPONENT_max', 'ZN_divide_ZN_FE_woe_bin_min', 'ANONYMOUS_1_CR_minus_ANONYMOUS_1_CR_FE_woe_bin_median', 'CU_minus_CU_YEAR_COMPONENT_median', 'ANONYMOUS_1_minus_ANONYMOUS_1_YEAR_max', 'ANONYMOUS_1_FE_minus_ANONYMOUS_1_FE_FE_woe_bin_sum', 'ZN_divide_ZN_YEAR_max', 'ANONYMOUS_1_ZN_divide_ANONYMOUS_1_ZN_FE_woe_bin_max', 'ANONYMOUS_2_divide_ANONYMOUS_2_FE_woe_bin_max', 'ZN_minus_ZN_FE_woe_bin_median', 'ANONYMOUS_1_ZN_minus_ANONYMOUS_1_ZN_COMPONENT_ARBITRARY_max', 'FE_minus_FE_YEAR_max', 'ANONYMOUS_1_FE_divide_ANONYMOUS_1_FE_COMPONENT_ARBITRARY_min', 'CU_YEAR_COMPONENT_median', 'cluster_no_by_ANONYMOUS_1_FE_median', 'ZN_YEAR_COMPONENT_sum', 'CU_minus_CU_FE_woe_bin_max', 'ANONYMOUS_1_CR_minus_ANONYMOUS_1_CR_YEAR_COMPONENT_median', 'ANONYMOUS_1_CR_minus_ANONYMOUS_1_CR_YEAR_median', 'CU_divide_CU_YEAR_COMPONENT_max', 'ANONYMOUS_1_ZN_minus_ANONYMOUS_1_ZN_FE_woe_bin_max', 'ANONYMOUS_1_V40_divide_ANONYMOUS_1_V40_YEAR_COMPONENT_min', 'CU_divide_CU_YEAR_max', 'ZN_divide_ZN_COMPONENT_ARBITRARY_max', 'FE_divide_FE_FE_woe_bin_max', 'cluster_no_by_ANONYMOUS_1_median', 'V40_divide_V40_FE_woe_bin_sum', 'V40_divide_V40_COMPONENT_ARBITRARY_max', 'ANONYMOUS_2_divide_ANONYMOUS_2_YEAR_COMPONENT_sum', 'FE_YEAR_COMPONENT_median', 'ANONYMOUS_1_ZN_minus_ANONYMOUS_1_ZN_COMPONENT_ARBITRARY_median', 'FE_divide_FE_COMPONENT_ARBITRARY_median', 'V40_divide_V40_YEAR_COMPONENT_max', 'V40_minus_V40_YEAR_min', 'ANONYMOUS_2_divide_ANONYMOUS_2_YEAR_median', 'FE_minus_FE_FE_woe_bin_median', 'FE_minus_FE_YEAR_median', 'ANONYMOUS_1_FE_YEAR_COMPONENT_sum', 'ZN_minus_ZN_FE_woe_bin_sum', 'CU_minus_CU_FE_woe_bin_sum', 'V40', 'ANONYMOUS_1_ZN_woe_bin', 'FE_divide_FE_COMPONENT_ARBITRARY_min', 'CU_divide_CU_FE_woe_bin_sum', 'cluster_no_by_ANONYMOUS_2_mean', 'CU', 'V40_minus_V40_COMPONENT_ARBITRARY_max', 'ANONYMOUS_1_minus_ANONYMOUS_1_FE_woe_bin_median', 'V40_divide_V40_YEAR_min', 'ANONYMOUS_1_ZN_divide_ANONYMOUS_1_ZN_COMPONENT_ARBITRARY_sum', 'ZN_minus_ZN_YEAR_COMPONENT_max', 'ANONYMOUS_2_minus_ANONYMOUS_2_YEAR_COMPONENT_median', 'cluster_no_by_ANONYMOUS_1_V40_mean', 'FE_minus_FE_FE_woe_bin_min', 'PQINDEX_divide_PQINDEX_YEAR_max', 'ANONYMOUS_2_minus_ANONYMOUS_2_FE_woe_bin_sum', 'FE_divide_FE_YEAR_sum', 'V40_minus_V40_YEAR_COMPONENT_median', 'ANONYMOUS_1_FE_divide_ANONYMOUS_1_FE_FE_woe_bin_max', 'PQINDEX_divide_PQINDEX_COMPONENT_ARBITRARY_median', 'ANONYMOUS_1_divide_ANONYMOUS_1_YEAR_sum', 'ANONYMOUS_1_V40', 'ZN_divide_ZN_YEAR_sum', 'ANONYMOUS_1_ZN_minus_ANONYMOUS_1_ZN_YEAR_COMPONENT_max', 'ANONYMOUS_1_divide_ANONYMOUS_1_FE_woe_bin_median', 'ANONYMOUS_2_minus_ANONYMOUS_2_COMPONENT_ARBITRARY_sum', 'PQINDEX_minus_PQINDEX_FE_woe_bin_median', 'ANONYMOUS_1_ZN_minus_ANONYMOUS_1_ZN_YEAR_max', 'PQINDEX_divide_PQINDEX_FE_woe_bin_median', 'ANONYMOUS_1_V40_minus_ANONYMOUS_1_V40_YEAR_sum', 'ZN_divide_ZN_YEAR_median', 'ZN_minus_ZN_YEAR_COMPONENT_sum', 'ANONYMOUS_2_divide_ANONYMOUS_2_YEAR_COMPONENT_median', 'V40_minus_V40_YEAR_max', 'ANONYMOUS_1_FE_minus_ANONYMOUS_1_FE_FE_woe_bin_min', 'CR_FE', 'FE_V40', 'FE_divide_FE_YEAR_COMPONENT_min', 'V40_divide_V40_YEAR_COMPONENT_median', 'ANONYMOUS_1_FE', 'FE_divide_FE_COMPONENT_ARBITRARY_max', 'PQINDEX_minus_PQINDEX_YEAR_median', 'ANONYMOUS_1_V40_minus_ANONYMOUS_1_V40_COMPONENT_ARBITRARY_median', 'ZN_divide_ZN_YEAR_COMPONENT_median', 'ANONYMOUS_1_minus_ANONYMOUS_1_COMPONENT_ARBITRARY_max', 'CU_divide_CU_YEAR_median', 'ZN_divide_ZN_YEAR_COMPONENT_min', 'ANONYMOUS_1_CR_divide_ANONYMOUS_1_CR_FE_woe_bin_max', 'PQINDEX_divide_PQINDEX_FE_woe_bin_max', 'ANONYMOUS_1_divide_ANONYMOUS_1_COMPONENT_ARBITRARY_sum', 'ANONYMOUS_1_CR_divide_ANONYMOUS_1_CR_COMPONENT_ARBITRARY_max', 'ANONYMOUS_1_minus_ANONYMOUS_1_YEAR_COMPONENT_max', 'PQINDEX_divide_PQINDEX_YEAR_COMPONENT_median', 'ANONYMOUS_1_MO', 'CU_FE', 'ZN_minus_ZN_YEAR_sum', 'ZN_minus_ZN_COMPONENT_ARBITRARY_max', 'V40_divide_V40_FE_woe_bin_max', 'PQINDEX_divide_PQINDEX_COMPONENT_ARBITRARY_max', 'ANONYMOUS_1_divide_ANONYMOUS_1_FE_woe_bin_sum', 'ANONYMOUS_1_ZN_minus_ANONYMOUS_1_ZN_YEAR_median', 'PQINDEX_divide_PQINDEX_YEAR_COMPONENT_min', 'ANONYMOUS_1_V40_divide_ANONYMOUS_1_V40_YEAR_min', 'PQINDEX_divide_PQINDEX_FE_woe_bin_min', 'PQINDEX_divide_PQINDEX_COMPONENT_ARBITRARY_min', 'ANONYMOUS_2_divide_ANONYMOUS_2_COMPONENT_ARBITRARY_median', 'PQINDEX_YEAR_COMPONENT_sum', 'PQINDEX_divide_PQINDEX_COMPONENT_ARBITRARY_sum', 'ANONYMOUS_1_V40_divide_ANONYMOUS_1_V40_FE_woe_bin_median', 'PQINDEX_minus_PQINDEX_YEAR_COMPONENT_sum', 'ANONYMOUS_1_V40_divide_ANONYMOUS_1_V40_COMPONENT_ARBITRARY_max', 'CU_ZN', 'ANONYMOUS_1_CR_divide_ANONYMOUS_1_CR_YEAR_COMPONENT_max', 'ZN_divide_ZN_YEAR_COMPONENT_max', 'V40_minus_V40_FE_woe_bin_min', 'NI_ZN', 'V40_divide_V40_FE_woe_bin_median', 'ZN_minus_ZN_YEAR_max', 'ANONYMOUS_1_V40_minus_ANONYMOUS_1_V40_YEAR_median', 'ANONYMOUS_1_FE_minus_ANONYMOUS_1_FE_YEAR_max', 'ANONYMOUS_1_ZN', 'PQINDEX_YEAR_median', 'NI', 'FE_ZN', 'ANONYMOUS_1_V40_divide_ANONYMOUS_1_V40_FE_woe_bin_max', 'ANONYMOUS_1_ZN_minus_ANONYMOUS_1_ZN_FE_woe_bin_sum', 'ANONYMOUS_1_FE_divide_ANONYMOUS_1_FE_YEAR_median', 'CR_V40', 'ANONYMOUS_1_CR_divide_ANONYMOUS_1_CR_YEAR_sum', 'ANONYMOUS_1_FE_divide_ANONYMOUS_1_FE_YEAR_COMPONENT_median', 'ANONYMOUS_1_ZN_divide_ANONYMOUS_1_ZN_YEAR_min', 'ANONYMOUS_2_divide_ANONYMOUS_2_COMPONENT_ARBITRARY_max', 'ANONYMOUS_1_V40_divide_ANONYMOUS_1_V40_COMPONENT_ARBITRARY_median', 'ANONYMOUS_1_FE_minus_ANONYMOUS_1_FE_COMPONENT_ARBITRARY_min', 'MO_V40', 'PQINDEX_minus_PQINDEX_FE_woe_bin_max', 'ANONYMOUS_1_V40_minus_ANONYMOUS_1_V40_COMPONENT_ARBITRARY_min', 'ANONYMOUS_1_minus_ANONYMOUS_1_YEAR_median', 'FE_minus_FE_YEAR_COMPONENT_sum', 'ANONYMOUS_1_FE_divide_ANONYMOUS_1_FE_YEAR_max', 'cluster_no_by_ANONYMOUS_1_V40_max', 'ANONYMOUS_1_divide_ANONYMOUS_1_YEAR_max', 'ANONYMOUS_1_FE_minus_ANONYMOUS_1_FE_YEAR_COMPONENT_min', 'ANONYMOUS_1_V40_divide_ANONYMOUS_1_V40_COMPONENT_ARBITRARY_min', 'ANONYMOUS_1_CR_divide_ANONYMOUS_1_CR_FE_woe_bin_median', 'ANONYMOUS_2_MO', 'PQINDEX_log1', 'CU_minus_CU_YEAR_COMPONENT_max', 'FE_NI', 'ANONYMOUS_1_divide_ANONYMOUS_1_FE_woe_bin_max', 'CU_divide_CU_FE_woe_bin_median']\n",
    "drop_features_vc2 = ['PQINDEX_divide_PQINDEX_COMPONENT_ARBITRARY_median', 'ZN_minus_ZN_YEAR_COMPONENT_min', 'ANONYMOUS_1_ZN_minus_ANONYMOUS_1_ZN_YEAR_sum', 'ANONYMOUS_1_ZN_divide_ANONYMOUS_1_ZN_YEAR_median', 'PQINDEX_divide_PQINDEX_YEAR_median', 'ANONYMOUS_2_minus_ANONYMOUS_2_YEAR_COMPONENT_max', 'FE_divide_FE_FE_woe_bin_min', 'V40_divide_V40_COMPONENT_ARBITRARY_median', 'ANONYMOUS_1_divide_ANONYMOUS_1_YEAR_COMPONENT_max', 'ANONYMOUS_1_divide_ANONYMOUS_1_COMPONENT_ARBITRARY_sum', 'ANONYMOUS_1_ZN_divide_ANONYMOUS_1_ZN_FE_woe_bin_sum', 'FE_divide_FE_YEAR_COMPONENT_sum', 'ANONYMOUS_1_V40_divide_ANONYMOUS_1_V40_COMPONENT_ARBITRARY_median', 'FE_divide_FE_COMPONENT_ARBITRARY_max', 'CU_divide_CU_YEAR_max', 'FE_divide_FE_YEAR_sum', 'V40_divide_V40_YEAR_min', 'FE_divide_FE_FE_woe_bin_max', 'PQINDEX_divide_PQINDEX_YEAR_COMPONENT_median', 'ANONYMOUS_1_V40_minus_ANONYMOUS_1_V40_YEAR_COMPONENT_sum', 'ANONYMOUS_2_divide_ANONYMOUS_2_FE_woe_bin_max', 'ANONYMOUS_1_ZN_divide_ANONYMOUS_1_ZN_YEAR_COMPONENT_sum', 'V40_divide_V40_FE_woe_bin_sum', 'ANONYMOUS_1_CR_divide_ANONYMOUS_1_CR_YEAR_COMPONENT_median', 'ANONYMOUS_1_FE_YEAR_median', 'ZN_divide_ZN_YEAR_min', 'ANONYMOUS_1_ZN_divide_ANONYMOUS_1_ZN_YEAR_min', 'ZN_minus_ZN_FE_woe_bin_sum', 'PQINDEX_divide_PQINDEX_YEAR_min', 'ANONYMOUS_1_FE_minus_ANONYMOUS_1_FE_FE_woe_bin_min', 'CU_divide_CU_YEAR_COMPONENT_min', 'ANONYMOUS_2_YEAR_max', 'CU_minus_CU_FE_woe_bin_sum', 'ANONYMOUS_1_FE_minus_ANONYMOUS_1_FE_YEAR_max', 'FE_minus_FE_FE_woe_bin_sum', 'FE_divide_FE_YEAR_max', 'PQINDEX_minus_PQINDEX_FE_woe_bin_max', 'ANONYMOUS_1_ZN_divide_ANONYMOUS_1_ZN_YEAR_sum', 'FE_minus_FE_YEAR_max', 'ANONYMOUS_1_minus_ANONYMOUS_1_YEAR_COMPONENT_min', 'FE_minus_FE_FE_woe_bin_min', 'cluster_no_by_ANONYMOUS_1_FE_median', 'ANONYMOUS_1_CR_minus_ANONYMOUS_1_CR_YEAR_COMPONENT_median', 'ZN_minus_ZN_COMPONENT_ARBITRARY_median', 'ANONYMOUS_1_CR_divide_ANONYMOUS_1_CR_FE_woe_bin_sum', 'ZN_minus_ZN_YEAR_sum', 'NI_V40', 'ANONYMOUS_2_minus_ANONYMOUS_2_YEAR_max', 'CU_minus_CU_YEAR_sum', 'V40_minus_V40_FE_woe_bin_min', 'ANONYMOUS_1_V40_divide_ANONYMOUS_1_V40_FE_woe_bin_median', 'PQINDEX_divide_PQINDEX_FE_woe_bin_max', 'ZN_minus_ZN_FE_woe_bin_max', 'V40_minus_V40_COMPONENT_ARBITRARY_min', 'FE_minus_FE_YEAR_COMPONENT_median', 'ANONYMOUS_1_FE', 'PQINDEX_minus_PQINDEX_FE_woe_bin_median', 'PQINDEX_minus_PQINDEX_YEAR_max', 'FE_YEAR_COMPONENT_median', 'V40_divide_V40_COMPONENT_ARBITRARY_min', 'ANONYMOUS_1_V40_divide_ANONYMOUS_1_V40_FE_woe_bin_sum', 'ZN_minus_ZN_COMPONENT_ARBITRARY_max', 'ANONYMOUS_1_CR', 'CU_minus_CU_YEAR_COMPONENT_max', 'CU_minus_CU_FE_woe_bin_max', 'ANONYMOUS_1_CR_minus_ANONYMOUS_1_CR_YEAR_COMPONENT_max', 'FE', 'V40_minus_V40_YEAR_min', 'ZN_divide_ZN_YEAR_COMPONENT_max', 'V40_divide_V40_YEAR_COMPONENT_median', 'ANONYMOUS_1_FE_divide_ANONYMOUS_1_FE_FE_woe_bin_min', 'V40_divide_V40_COMPONENT_ARBITRARY_max', 'ANONYMOUS_1_ZN_divide_ANONYMOUS_1_ZN_YEAR_max', 'CU_divide_CU_YEAR_COMPONENT_max', 'NI_ZN', 'ANONYMOUS_2_divide_ANONYMOUS_2_YEAR_COMPONENT_sum', 'FE_YEAR_COMPONENT_max', 'FE_divide_FE_YEAR_median', 'ANONYMOUS_1_V40_minus_ANONYMOUS_1_V40_COMPONENT_ARBITRARY_median', 'ANONYMOUS_1_ZN_minus_ANONYMOUS_1_ZN_FE_woe_bin_median', 'ZN_divide_ZN_YEAR_COMPONENT_min', 'CU_divide_CU_YEAR_COMPONENT_sum', 'FE_minus_FE_FE_woe_bin_median', 'ANONYMOUS_2_divide_ANONYMOUS_2_FE_woe_bin_sum', 'CU_divide_CU_FE_woe_bin_sum', 'ANONYMOUS_1_FE_minus_ANONYMOUS_1_FE_COMPONENT_ARBITRARY_median', 'FE_divide_FE_YEAR_COMPONENT_min', 'V40_minus_V40_FE_woe_bin_sum', 'ANONYMOUS_2_divide_ANONYMOUS_2_COMPONENT_ARBITRARY_max', 'V40_divide_V40_COMPONENT_ARBITRARY_sum', 'ANONYMOUS_1_divide_ANONYMOUS_1_YEAR_COMPONENT_median', 'ANONYMOUS_1_CR_divide_ANONYMOUS_1_CR_YEAR_median', 'ANONYMOUS_1_ZN_minus_ANONYMOUS_1_ZN_FE_woe_bin_sum', 'PQINDEX_minus_PQINDEX_FE_woe_bin_sum', 'ANONYMOUS_1_minus_ANONYMOUS_1_YEAR_COMPONENT_max', 'ANONYMOUS_2_minus_ANONYMOUS_2_YEAR_sum', 'CR_ZN', 'ANONYMOUS_1_ZN_minus_ANONYMOUS_1_ZN_YEAR_max', 'CR_V40', 'V40_minus_V40_FE_woe_bin_max', 'V40_minus_V40_YEAR_COMPONENT_sum', 'ZN_divide_ZN_COMPONENT_ARBITRARY_max', 'CU_divide_CU_COMPONENT_ARBITRARY_sum', 'ANONYMOUS_1_FE_divide_ANONYMOUS_1_FE_FE_woe_bin_max', 'ANONYMOUS_1_divide_ANONYMOUS_1_YEAR_COMPONENT_min', 'ZN_minus_ZN_YEAR_COMPONENT_max', 'ANONYMOUS_1_FE_divide_ANONYMOUS_1_FE_YEAR_median', 'ANONYMOUS_1_CR_divide_ANONYMOUS_1_CR_YEAR_COMPONENT_sum', 'PQINDEX_divide_PQINDEX_YEAR_COMPONENT_sum', 'ANONYMOUS_1_FE_divide_ANONYMOUS_1_FE_YEAR_min', 'ANONYMOUS_1_ZN_minus_ANONYMOUS_1_ZN_YEAR_median', 'FE_minus_FE_YEAR_median', 'ANONYMOUS_1_minus_ANONYMOUS_1_COMPONENT_ARBITRARY_min', 'ANONYMOUS_1_V40_minus_ANONYMOUS_1_V40_YEAR_max', 'ANONYMOUS_1_CR_divide_ANONYMOUS_1_CR_COMPONENT_ARBITRARY_max', 'V40_divide_V40_YEAR_max', 'ANONYMOUS_2_MO', 'ANONYMOUS_1_V40_divide_ANONYMOUS_1_V40_YEAR_COMPONENT_sum', 'V40_divide_V40_YEAR_COMPONENT_sum', 'ANONYMOUS_1_FE_divide_ANONYMOUS_1_FE_COMPONENT_ARBITRARY_min', 'PQINDEX_divide_PQINDEX_FE_woe_bin_sum', 'ANONYMOUS_2_divide_ANONYMOUS_2_YEAR_COMPONENT_median', 'MO_NI', 'MO_ZN', 'ANONYMOUS_1_minus_ANONYMOUS_1_FE_woe_bin_median', 'ANONYMOUS_2_minus_ANONYMOUS_2_YEAR_COMPONENT_median', 'ZN_minus_ZN_YEAR_COMPONENT_median', 'CR_MO', 'CR_FE', 'ZN_divide_ZN_FE_woe_bin_max', 'V40_minus_V40_YEAR_COMPONENT_max', 'ANONYMOUS_1_V40_minus_ANONYMOUS_1_V40_YEAR_median', 'FE_divide_FE_YEAR_min', 'PQINDEX_minus_PQINDEX_YEAR_COMPONENT_median', 'V40_woe_bin', 'PQINDEX_divide_PQINDEX_FE_woe_bin_min', 'ANONYMOUS_1_FE_minus_ANONYMOUS_1_FE_YEAR_median', 'CU_YEAR_COMPONENT_max', 'ANONYMOUS_2_YEAR_COMPONENT_max', 'ANONYMOUS_1_ZN_divide_ANONYMOUS_1_ZN_FE_woe_bin_min', 'ANONYMOUS_1_CR_divide_ANONYMOUS_1_CR_FE_woe_bin_max', 'ANONYMOUS_1_CR_minus_ANONYMOUS_1_CR_FE_woe_bin_median', 'ZN_minus_ZN_FE_woe_bin_median', 'ANONYMOUS_2_minus_ANONYMOUS_2_YEAR_COMPONENT_sum', 'PQINDEX_divide_PQINDEX_YEAR_COMPONENT_min', 'ANONYMOUS_1_CR_minus_ANONYMOUS_1_CR_YEAR_sum', 'FE_NI', 'ANONYMOUS_1_divide_ANONYMOUS_1_FE_woe_bin_sum', 'ANONYMOUS_1_V40_divide_ANONYMOUS_1_V40_YEAR_sum', 'ANONYMOUS_1_FE_divide_ANONYMOUS_1_FE_YEAR_COMPONENT_sum', 'ANONYMOUS_1_FE_divide_ANONYMOUS_1_FE_YEAR_sum', 'NI', 'ZN_minus_ZN_YEAR_COMPONENT_sum', 'ANONYMOUS_1_ZN_divide_ANONYMOUS_1_ZN_COMPONENT_ARBITRARY_median', 'ANONYMOUS_1_V40_minus_ANONYMOUS_1_V40_FE_woe_bin_max', 'ANONYMOUS_1_V40_divide_ANONYMOUS_1_V40_FE_woe_bin_max', 'ZN_divide_ZN_YEAR_COMPONENT_median', 'V40_YEAR_median', 'PQINDEX_divide_PQINDEX_COMPONENT_ARBITRARY_sum', 'ANONYMOUS_1_V40_minus_ANONYMOUS_1_V40_COMPONENT_ARBITRARY_min', 'V40_divide_V40_FE_woe_bin_median', 'ANONYMOUS_1_FE_minus_ANONYMOUS_1_FE_YEAR_COMPONENT_max', 'ANONYMOUS_1_V40_minus_ANONYMOUS_1_V40_FE_woe_bin_min', 'ANONYMOUS_1_CU', 'CU_divide_CU_FE_woe_bin_max', 'ANONYMOUS_1_V40_divide_ANONYMOUS_1_V40_COMPONENT_ARBITRARY_sum', 'ANONYMOUS_1_CR_minus_ANONYMOUS_1_CR_FE_woe_bin_max', 'V40', 'ANONYMOUS_1_divide_ANONYMOUS_1_COMPONENT_ARBITRARY_median', 'ANONYMOUS_1_log1', 'ANONYMOUS_2_minus_ANONYMOUS_2_COMPONENT_ARBITRARY_median', 'ANONYMOUS_1_FE_divide_ANONYMOUS_1_FE_YEAR_max', 'V40_divide_V40_FE_woe_bin_min', 'ANONYMOUS_1_FE_divide_ANONYMOUS_1_FE_FE_woe_bin_sum']\n",
    "drop_features_vc3 = ['PQINDEX_divide_PQINDEX_COMPONENT_ARBITRARY_median', 'ZN_minus_ZN_YEAR_COMPONENT_min', 'ANONYMOUS_1_ZN_minus_ANONYMOUS_1_ZN_YEAR_sum', 'ANONYMOUS_1_ZN_divide_ANONYMOUS_1_ZN_YEAR_median', 'PQINDEX_divide_PQINDEX_YEAR_median', 'ANONYMOUS_2_minus_ANONYMOUS_2_YEAR_COMPONENT_max', 'FE_divide_FE_FE_woe_bin_min', 'V40_divide_V40_COMPONENT_ARBITRARY_median', 'ANONYMOUS_1_divide_ANONYMOUS_1_YEAR_COMPONENT_max', 'ANONYMOUS_1_divide_ANONYMOUS_1_COMPONENT_ARBITRARY_sum', 'ANONYMOUS_1_ZN_divide_ANONYMOUS_1_ZN_FE_woe_bin_sum', 'FE_divide_FE_YEAR_COMPONENT_sum', 'ANONYMOUS_1_V40_divide_ANONYMOUS_1_V40_COMPONENT_ARBITRARY_median', 'FE_divide_FE_COMPONENT_ARBITRARY_max', 'CU_divide_CU_YEAR_max', 'FE_divide_FE_YEAR_sum', 'V40_divide_V40_YEAR_min', 'FE_divide_FE_FE_woe_bin_max', 'PQINDEX_divide_PQINDEX_YEAR_COMPONENT_median', 'ANONYMOUS_1_V40_minus_ANONYMOUS_1_V40_YEAR_COMPONENT_sum', 'ANONYMOUS_2_divide_ANONYMOUS_2_FE_woe_bin_max', 'ANONYMOUS_1_ZN_divide_ANONYMOUS_1_ZN_YEAR_COMPONENT_sum', 'V40_divide_V40_FE_woe_bin_sum', 'ANONYMOUS_1_CR_divide_ANONYMOUS_1_CR_YEAR_COMPONENT_median', 'ANONYMOUS_1_FE_YEAR_median', 'ZN_divide_ZN_YEAR_min', 'ANONYMOUS_1_ZN_divide_ANONYMOUS_1_ZN_YEAR_min', 'ZN_minus_ZN_FE_woe_bin_sum', 'PQINDEX_divide_PQINDEX_YEAR_min', 'ANONYMOUS_1_FE_minus_ANONYMOUS_1_FE_FE_woe_bin_min', 'CU_divide_CU_YEAR_COMPONENT_min', 'ANONYMOUS_2_YEAR_max', 'CU_minus_CU_FE_woe_bin_sum', 'ANONYMOUS_1_FE_minus_ANONYMOUS_1_FE_YEAR_max', 'FE_minus_FE_FE_woe_bin_sum', 'FE_divide_FE_YEAR_max', 'PQINDEX_minus_PQINDEX_FE_woe_bin_max', 'ANONYMOUS_1_ZN_divide_ANONYMOUS_1_ZN_YEAR_sum', 'FE_minus_FE_YEAR_max', 'ANONYMOUS_1_minus_ANONYMOUS_1_YEAR_COMPONENT_min', 'FE_minus_FE_FE_woe_bin_min', 'cluster_no_by_ANONYMOUS_1_FE_median', 'ANONYMOUS_1_CR_minus_ANONYMOUS_1_CR_YEAR_COMPONENT_median', 'ZN_minus_ZN_COMPONENT_ARBITRARY_median', 'ANONYMOUS_1_CR_divide_ANONYMOUS_1_CR_FE_woe_bin_sum', 'ZN_minus_ZN_YEAR_sum', 'NI_V40', 'ANONYMOUS_2_minus_ANONYMOUS_2_YEAR_max', 'CU_minus_CU_YEAR_sum', 'V40_minus_V40_FE_woe_bin_min', 'ANONYMOUS_1_V40_divide_ANONYMOUS_1_V40_FE_woe_bin_median', 'PQINDEX_divide_PQINDEX_FE_woe_bin_max', 'ZN_minus_ZN_FE_woe_bin_max', 'V40_minus_V40_COMPONENT_ARBITRARY_min', 'FE_minus_FE_YEAR_COMPONENT_median', 'ANONYMOUS_1_FE', 'PQINDEX_minus_PQINDEX_FE_woe_bin_median', 'PQINDEX_minus_PQINDEX_YEAR_max', 'FE_YEAR_COMPONENT_median', 'V40_divide_V40_COMPONENT_ARBITRARY_min', 'ANONYMOUS_1_V40_divide_ANONYMOUS_1_V40_FE_woe_bin_sum', 'ZN_minus_ZN_COMPONENT_ARBITRARY_max']\n",
    "drop_features_vc4 = ['PQINDEX_divide_PQINDEX_COMPONENT_ARBITRARY_median', 'ZN_minus_ZN_YEAR_COMPONENT_min', 'ANONYMOUS_1_ZN_minus_ANONYMOUS_1_ZN_YEAR_sum', 'ANONYMOUS_1_ZN_divide_ANONYMOUS_1_ZN_YEAR_median', 'PQINDEX_divide_PQINDEX_YEAR_median', 'ANONYMOUS_2_minus_ANONYMOUS_2_YEAR_COMPONENT_max', 'FE_divide_FE_FE_woe_bin_min', 'V40_divide_V40_COMPONENT_ARBITRARY_median', 'ANONYMOUS_1_divide_ANONYMOUS_1_YEAR_COMPONENT_max']\n",
    "\n",
    "opt_params = {\n",
    "    'learning_rate': (0.02, 0.08),\n",
    "    'num_leaves': (24, 80),\n",
    "    'colsample_bytree': (0.2, 0.8),\n",
    "    'subsample': (0.2, 0.8),\n",
    "    'max_depth': (3, 8),\n",
    "    'reg_alpha': (0.01, 10),\n",
    "    'reg_lambda': (1, 10),\n",
    "    'min_split_gain': (0.01, 1),\n",
    "    'min_child_weight': (0.001,1), # (0.001,50) <- 이 부분 제거하고 튜닝해보기 ...   \n",
    "    'min_child_samples':(10, 50)\n",
    "}\n",
    "    \n",
    "# tune\n",
    "opt_params = bayes_parameter_opt_lgb(train, opt_params, drop_features_vc1, init_round=100, opt_round=100, n_folds=5, random_seed=176, n_estimators=10000)\n",
    "\n",
    "# check \n",
    "print(opt_params[1])\n",
    "\n",
    "# re-train ml with the best one\n",
    "train_model(train,test,opt_params[1],True,5,drop_features_vc1,seed_num=176)"
   ]
  },
  {
   "cell_type": "code",
   "execution_count": null,
   "id": "69f91753",
   "metadata": {
    "papermill": {
     "duration": 0.02534,
     "end_time": "2022-11-27T08:53:31.106929",
     "exception": false,
     "start_time": "2022-11-27T08:53:31.081589",
     "status": "completed"
    },
    "tags": []
   },
   "outputs": [],
   "source": []
  },
  {
   "cell_type": "code",
   "execution_count": null,
   "id": "718e1c3d",
   "metadata": {
    "papermill": {
     "duration": 0.024442,
     "end_time": "2022-11-27T08:53:31.156074",
     "exception": false,
     "start_time": "2022-11-27T08:53:31.131632",
     "status": "completed"
    },
    "tags": []
   },
   "outputs": [],
   "source": []
  },
  {
   "cell_type": "code",
   "execution_count": null,
   "id": "3eca04ec",
   "metadata": {
    "papermill": {
     "duration": 0.024253,
     "end_time": "2022-11-27T08:53:31.204873",
     "exception": false,
     "start_time": "2022-11-27T08:53:31.180620",
     "status": "completed"
    },
    "tags": []
   },
   "outputs": [],
   "source": []
  },
  {
   "cell_type": "code",
   "execution_count": null,
   "id": "e740276b",
   "metadata": {
    "papermill": {
     "duration": 0.024262,
     "end_time": "2022-11-27T08:53:31.253794",
     "exception": false,
     "start_time": "2022-11-27T08:53:31.229532",
     "status": "completed"
    },
    "tags": []
   },
   "outputs": [],
   "source": []
  },
  {
   "cell_type": "code",
   "execution_count": null,
   "id": "0d2dfe2b",
   "metadata": {
    "papermill": {
     "duration": 0.024326,
     "end_time": "2022-11-27T08:53:31.302915",
     "exception": false,
     "start_time": "2022-11-27T08:53:31.278589",
     "status": "completed"
    },
    "tags": []
   },
   "outputs": [],
   "source": []
  },
  {
   "cell_type": "code",
   "execution_count": null,
   "id": "dcc8c24c",
   "metadata": {
    "papermill": {
     "duration": 0.024434,
     "end_time": "2022-11-27T08:53:31.351903",
     "exception": false,
     "start_time": "2022-11-27T08:53:31.327469",
     "status": "completed"
    },
    "tags": []
   },
   "outputs": [],
   "source": []
  },
  {
   "cell_type": "code",
   "execution_count": null,
   "id": "4bf69815",
   "metadata": {
    "papermill": {
     "duration": 0.024108,
     "end_time": "2022-11-27T08:53:31.400494",
     "exception": false,
     "start_time": "2022-11-27T08:53:31.376386",
     "status": "completed"
    },
    "tags": []
   },
   "outputs": [],
   "source": []
  },
  {
   "cell_type": "code",
   "execution_count": null,
   "id": "509e9ea5",
   "metadata": {
    "papermill": {
     "duration": 0.024223,
     "end_time": "2022-11-27T08:53:31.448960",
     "exception": false,
     "start_time": "2022-11-27T08:53:31.424737",
     "status": "completed"
    },
    "tags": []
   },
   "outputs": [],
   "source": []
  },
  {
   "cell_type": "code",
   "execution_count": null,
   "id": "0ac403b2",
   "metadata": {
    "papermill": {
     "duration": 0.025691,
     "end_time": "2022-11-27T08:53:31.498884",
     "exception": false,
     "start_time": "2022-11-27T08:53:31.473193",
     "status": "completed"
    },
    "tags": []
   },
   "outputs": [],
   "source": []
  },
  {
   "cell_type": "code",
   "execution_count": null,
   "id": "4338013b",
   "metadata": {
    "papermill": {
     "duration": 0.024194,
     "end_time": "2022-11-27T08:53:31.548988",
     "exception": false,
     "start_time": "2022-11-27T08:53:31.524794",
     "status": "completed"
    },
    "tags": []
   },
   "outputs": [],
   "source": []
  },
  {
   "cell_type": "code",
   "execution_count": null,
   "id": "96a61b15",
   "metadata": {
    "papermill": {
     "duration": 0.024188,
     "end_time": "2022-11-27T08:53:31.597865",
     "exception": false,
     "start_time": "2022-11-27T08:53:31.573677",
     "status": "completed"
    },
    "tags": []
   },
   "outputs": [],
   "source": []
  },
  {
   "cell_type": "code",
   "execution_count": null,
   "id": "d6f4bc14",
   "metadata": {
    "papermill": {
     "duration": 0.023887,
     "end_time": "2022-11-27T08:53:31.646084",
     "exception": false,
     "start_time": "2022-11-27T08:53:31.622197",
     "status": "completed"
    },
    "tags": []
   },
   "outputs": [],
   "source": []
  },
  {
   "cell_type": "code",
   "execution_count": null,
   "id": "17c79b6c",
   "metadata": {
    "papermill": {
     "duration": 0.024212,
     "end_time": "2022-11-27T08:53:31.694675",
     "exception": false,
     "start_time": "2022-11-27T08:53:31.670463",
     "status": "completed"
    },
    "tags": []
   },
   "outputs": [],
   "source": []
  }
 ],
 "metadata": {
  "kernelspec": {
   "display_name": "Python 3",
   "language": "python",
   "name": "python3"
  },
  "language_info": {
   "codemirror_mode": {
    "name": "ipython",
    "version": 3
   },
   "file_extension": ".py",
   "mimetype": "text/x-python",
   "name": "python",
   "nbconvert_exporter": "python",
   "pygments_lexer": "ipython3",
   "version": "3.7.12"
  },
  "papermill": {
   "default_parameters": {},
   "duration": 2610.286391,
   "end_time": "2022-11-27T08:53:32.746043",
   "environment_variables": {},
   "exception": null,
   "input_path": "__notebook__.ipynb",
   "output_path": "__notebook__.ipynb",
   "parameters": {},
   "start_time": "2022-11-27T08:10:02.459652",
   "version": "2.3.4"
  }
 },
 "nbformat": 4,
 "nbformat_minor": 5
}

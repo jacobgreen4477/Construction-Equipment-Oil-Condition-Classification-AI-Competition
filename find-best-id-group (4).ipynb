{
 "cells": [
  {
   "cell_type": "code",
   "execution_count": 1,
   "id": "94383d01",
   "metadata": {
    "execution": {
     "iopub.execute_input": "2022-11-25T15:08:04.464210Z",
     "iopub.status.busy": "2022-11-25T15:08:04.463580Z",
     "iopub.status.idle": "2022-11-25T15:08:16.281445Z",
     "shell.execute_reply": "2022-11-25T15:08:16.280285Z"
    },
    "papermill": {
     "duration": 11.831598,
     "end_time": "2022-11-25T15:08:16.284610",
     "exception": false,
     "start_time": "2022-11-25T15:08:04.453012",
     "status": "completed"
    },
    "tags": []
   },
   "outputs": [
    {
     "data": {
      "text/html": [
       "<style type='text/css'>\n",
       ".datatable table.frame { margin-bottom: 0; }\n",
       ".datatable table.frame thead { border-bottom: none; }\n",
       ".datatable table.frame tr.coltypes td {  color: #FFFFFF;  line-height: 6px;  padding: 0 0.5em;}\n",
       ".datatable .bool    { background: #DDDD99; }\n",
       ".datatable .object  { background: #565656; }\n",
       ".datatable .int     { background: #5D9E5D; }\n",
       ".datatable .float   { background: #4040CC; }\n",
       ".datatable .str     { background: #CC4040; }\n",
       ".datatable .time    { background: #40CC40; }\n",
       ".datatable .row_index {  background: var(--jp-border-color3);  border-right: 1px solid var(--jp-border-color0);  color: var(--jp-ui-font-color3);  font-size: 9px;}\n",
       ".datatable .frame tbody td { text-align: left; }\n",
       ".datatable .frame tr.coltypes .row_index {  background: var(--jp-border-color0);}\n",
       ".datatable th:nth-child(2) { padding-left: 12px; }\n",
       ".datatable .hellipsis {  color: var(--jp-cell-editor-border-color);}\n",
       ".datatable .vellipsis {  background: var(--jp-layout-color0);  color: var(--jp-cell-editor-border-color);}\n",
       ".datatable .na {  color: var(--jp-cell-editor-border-color);  font-size: 80%;}\n",
       ".datatable .sp {  opacity: 0.25;}\n",
       ".datatable .footer { font-size: 9px; }\n",
       ".datatable .frame_dimensions {  background: var(--jp-border-color3);  border-top: 1px solid var(--jp-border-color0);  color: var(--jp-ui-font-color3);  display: inline-block;  opacity: 0.6;  padding: 1px 10px 1px 5px;}\n",
       "</style>\n"
      ],
      "text/plain": [
       "<IPython.core.display.HTML object>"
      ]
     },
     "metadata": {},
     "output_type": "display_data"
    }
   ],
   "source": [
    "import joblib\n",
    "import numpy as np\n",
    "import pandas as pd\n",
    "import gc\n",
    "import time\n",
    "import os\n",
    "import sys\n",
    "from contextlib import contextmanager\n",
    "from lightgbm import LGBMClassifier\n",
    "import lightgbm as lgb\n",
    "import xgboost as xgb\n",
    "from xgboost import XGBClassifier\n",
    "from sklearn.metrics import roc_auc_score, roc_curve, f1_score\n",
    "from sklearn.model_selection import KFold, StratifiedKFold, train_test_split, cross_val_score\n",
    "import matplotlib.pyplot as plt\n",
    "import seaborn as sns\n",
    "from sklearn.preprocessing import LabelEncoder\n",
    "from sklearn.preprocessing import StandardScaler\n",
    "from bayes_opt import BayesianOptimization\n",
    "from skopt import BayesSearchCV \n",
    "# from optbinning import OptimalBinning\n",
    "from sklearn.cluster import KMeans\n",
    "from sklearn.preprocessing import MinMaxScaler\n",
    "from yellowbrick.cluster import KElbowVisualizer\n",
    "from scipy.cluster.hierarchy import linkage\n",
    "from scipy.cluster.hierarchy import dendrogram\n",
    "from sklearn.decomposition import PCA\n",
    "import random\n",
    "import torch\n",
    "import torch.nn as nn\n",
    "import torch.nn.functional as F\n",
    "import torch.optim as optim\n",
    "from torch.utils.data import DataLoader, Dataset\n",
    "from tqdm.auto import tqdm\n",
    "import random\n",
    "import eli5\n",
    "import matplotlib.gridspec as gridspec\n",
    "from IPython.display import display\n",
    "from eli5.permutation_importance import get_score_importances\n",
    "from eli5.sklearn import PermutationImportance\n",
    "import itertools\n",
    "import warnings\n",
    "warnings.simplefilter(action='ignore', category=FutureWarning)"
   ]
  },
  {
   "cell_type": "code",
   "execution_count": 2,
   "id": "480cdf43",
   "metadata": {
    "execution": {
     "iopub.execute_input": "2022-11-25T15:08:16.302473Z",
     "iopub.status.busy": "2022-11-25T15:08:16.301192Z",
     "iopub.status.idle": "2022-11-25T15:08:16.306776Z",
     "shell.execute_reply": "2022-11-25T15:08:16.305944Z"
    },
    "papermill": {
     "duration": 0.016308,
     "end_time": "2022-11-25T15:08:16.309075",
     "exception": false,
     "start_time": "2022-11-25T15:08:16.292767",
     "status": "completed"
    },
    "tags": []
   },
   "outputs": [],
   "source": [
    "pd.set_option('display.max_rows', 500)"
   ]
  },
  {
   "cell_type": "code",
   "execution_count": 3,
   "id": "1b96fb0d",
   "metadata": {
    "execution": {
     "iopub.execute_input": "2022-11-25T15:08:16.326074Z",
     "iopub.status.busy": "2022-11-25T15:08:16.325038Z",
     "iopub.status.idle": "2022-11-25T15:08:16.334963Z",
     "shell.execute_reply": "2022-11-25T15:08:16.333681Z"
    },
    "papermill": {
     "duration": 0.021316,
     "end_time": "2022-11-25T15:08:16.337568",
     "exception": false,
     "start_time": "2022-11-25T15:08:16.316252",
     "status": "completed"
    },
    "tags": []
   },
   "outputs": [],
   "source": [
    "def seed_everything(seed):\n",
    "    random.seed(seed)\n",
    "    os.environ['PYTHONHASHSEED'] = str(seed)\n",
    "    np.random.seed(seed)\n",
    "    torch.manual_seed(seed)\n",
    "    torch.cuda.manual_seed(seed)\n",
    "    torch.backends.cudnn.deterministic = True\n",
    "    torch.backends.cudnn.benchmark = True\n",
    "\n",
    "seed_everything(1)"
   ]
  },
  {
   "cell_type": "code",
   "execution_count": 4,
   "id": "f561a369",
   "metadata": {
    "execution": {
     "iopub.execute_input": "2022-11-25T15:08:16.353571Z",
     "iopub.status.busy": "2022-11-25T15:08:16.353139Z",
     "iopub.status.idle": "2022-11-25T15:08:16.360284Z",
     "shell.execute_reply": "2022-11-25T15:08:16.359020Z"
    },
    "papermill": {
     "duration": 0.017755,
     "end_time": "2022-11-25T15:08:16.362439",
     "exception": false,
     "start_time": "2022-11-25T15:08:16.344684",
     "status": "completed"
    },
    "tags": []
   },
   "outputs": [],
   "source": [
    "def display_importances(feature_importance_df_):\n",
    "    cols = feature_importance_df_[[\"feature\", \"importance\"]].groupby(\"feature\").mean().sort_values(by=\"importance\", ascending=False)[:40].index\n",
    "    best_features = feature_importance_df_.loc[feature_importance_df_.feature.isin(cols)]\n",
    "    plt.figure(figsize=(8, 10))\n",
    "    sns.barplot(x=\"importance\", y=\"feature\", data=best_features.sort_values(by=\"importance\", ascending=False))\n",
    "    plt.title('LightGBM Features (avg over folds)')\n",
    "    plt.tight_layout()\n",
    "    plt.savefig('lgbm_importances01.png')"
   ]
  },
  {
   "cell_type": "code",
   "execution_count": 5,
   "id": "cd1c1277",
   "metadata": {
    "execution": {
     "iopub.execute_input": "2022-11-25T15:08:16.379843Z",
     "iopub.status.busy": "2022-11-25T15:08:16.379114Z",
     "iopub.status.idle": "2022-11-25T15:08:16.408514Z",
     "shell.execute_reply": "2022-11-25T15:08:16.407156Z"
    },
    "papermill": {
     "duration": 0.041541,
     "end_time": "2022-11-25T15:08:16.411340",
     "exception": false,
     "start_time": "2022-11-25T15:08:16.369799",
     "status": "completed"
    },
    "tags": []
   },
   "outputs": [],
   "source": [
    "def train_model(train,test,params,stratified,num_folds,drop_features,seed_num):\n",
    "    \n",
    "    # start log \n",
    "    print('-'*50)\n",
    "    print('>> seed_num:',seed_num)   \n",
    "    print('>> drop_features:',len(drop_features))\n",
    "    \n",
    "    seed_everything(1)\n",
    "    \n",
    "    # Divide in training/validation and test data\n",
    "    train_df = train.copy()\n",
    "    test_df = test.copy()\n",
    "\n",
    "    # label encoding \n",
    "    encoder = LabelEncoder()\n",
    "    categorical_features = [i for i in train_df.select_dtypes(include=['object','category']).columns.tolist() if i not in ['ID']]\n",
    "    categorical_features = [i for i in categorical_features if i in train_df.columns.tolist()]\n",
    "    for each in categorical_features:\n",
    "        train_df[each] = encoder.fit_transform(train_df[each])\n",
    "        test_df[each] = encoder.fit_transform(test_df[each])\n",
    "\n",
    "    # set training options\n",
    "    stratified = stratified\n",
    "    num_folds = num_folds\n",
    "\n",
    "    # Cross validation model\n",
    "    if stratified:\n",
    "        folds = StratifiedKFold(n_splits= num_folds, shuffle=True, random_state=1)\n",
    "    else:\n",
    "        folds = KFold(n_splits= num_folds, shuffle=True, random_state=1)\n",
    "\n",
    "    # Create arrays and dataframes to store results\n",
    "    oof_preds_lgb = np.zeros(train_df.shape[0])\n",
    "    sub_preds_lgb = np.zeros(test_df.shape[0])\n",
    "    feature_importance_df = pd.DataFrame()\n",
    "    feats = [f for f in train_df.columns if f not in ['Y_LABEL','ID','SAMPLE_TRANSFER_DAY']+drop_features]\n",
    "\n",
    "    for n_fold, (train_idx, valid_idx) in enumerate(folds.split(train_df[feats], train_df['Y_LABEL'])):\n",
    "        \n",
    "        train_x, train_y = train_df[feats].iloc[train_idx], train_df['Y_LABEL'].iloc[train_idx]\n",
    "        valid_x, valid_y = train_df[feats].iloc[valid_idx], train_df['Y_LABEL'].iloc[valid_idx]\n",
    "\n",
    "        categorical_feature = []        \n",
    "        lgb_train = lgb.Dataset(data=train_x, label=train_y, categorical_feature=categorical_feature)\n",
    "        lgb_valid = lgb.Dataset(data=valid_x, label=valid_y, reference=lgb_train, categorical_feature=categorical_feature)\n",
    "        \n",
    "        with warnings.catch_warnings():\n",
    "            \n",
    "            warnings.filterwarnings('ignore')  \n",
    "            \n",
    "            clf = lgb.train(\n",
    "\n",
    "                params,                \n",
    "                train_set = lgb_train,\n",
    "                valid_sets = [lgb_train,lgb_valid],\n",
    "                verbose_eval = -1,\n",
    "                num_boost_round = 10000,\n",
    "                categorical_feature = categorical_feature\n",
    "            )\n",
    "\n",
    "        oof_preds_lgb[valid_idx] = clf.predict(valid_x, num_iteration=clf.best_iteration)\n",
    "        sub_preds_lgb += clf.predict(test_df[feats], num_iteration=clf.best_iteration) / folds.n_splits\n",
    "        \n",
    "        fold_importance_df = pd.DataFrame()\n",
    "        fold_importance_df[\"feature\"] = feats\n",
    "        fold_importance_df[\"importance_gain\"] = clf.feature_importance(importance_type='gain')\n",
    "        fold_importance_df[\"importance_split\"] = clf.feature_importance(importance_type='split')\n",
    "        fold_importance_df[\"fold\"] = n_fold + 1\n",
    "        feature_importance_df = pd.concat([feature_importance_df, fold_importance_df], axis=0)\n",
    "        print('Fold %2d AUC : %.6f' % (n_fold + 1, roc_auc_score(valid_y, oof_preds_lgb[valid_idx])))\n",
    "\n",
    "    print('Full AUC score %.6f' % roc_auc_score(train_df['Y_LABEL'], oof_preds_lgb))\n",
    "\n",
    "    # Write submission file and plot feature importance\n",
    "    test_df['Y_LABEL_lgb'] = sub_preds_lgb\n",
    "\n",
    "    # vi\n",
    "    # print('-'*50)\n",
    "    display(feature_importance_df.groupby(['feature'])['importance_gain'].sum().sort_values(ascending=False).head(30))\n",
    "    # print('-'*50)\n",
    "    # display_importances(feature_importance_df)\n",
    "    \n",
    "    # train auc\n",
    "    oof_auc = roc_auc_score(train_df['Y_LABEL'], oof_preds_lgb)\n",
    "\n",
    "    \n",
    "    if oof_auc>=0.703:\n",
    "\n",
    "        # find the best thred for f1-score\n",
    "        f1_score_df = pd.DataFrame()\n",
    "        for thred in [i/10000 for i in range(0,10000,1) if (i/10000>0.1) & (i/10000<0.3)]:\n",
    "\n",
    "            a1 = pd.DataFrame()\n",
    "            f1 = f1_score(train_df['Y_LABEL'], np.where(oof_preds_lgb>=thred,1,0), average='macro')\n",
    "            a1['f1'] = [f1]\n",
    "            a1['thred'] = [thred]\n",
    "            f1_score_df = pd.concat([f1_score_df, a1], axis=0)\n",
    "\n",
    "        thred = f1_score_df.loc[f1_score_df['f1']==f1_score_df['f1'].max(),'thred'].tolist()[0]\n",
    "        print('thred:',thred)\n",
    "        print('ncol',len(feats))\n",
    "\n",
    "        # train f1\n",
    "        print('auc:',oof_auc)\n",
    "        oof_f1 = f1_score(train_df['Y_LABEL'], np.where(oof_preds_lgb>thred,1,0), average='macro')\n",
    "        print('f1:',oof_f1)\n",
    "        a1 = train_df['Y_LABEL'].value_counts()/len(train_df)\n",
    "        print('Target ratio(real):',(a1[1]))\n",
    "\n",
    "        # test err\n",
    "        test_df['TARGET'] = np.where(test_df['Y_LABEL_lgb']>thred,1,0)\n",
    "        a1 = test_df['TARGET'].value_counts()/len(test_df)\n",
    "        print('Target ratio(pred):',(a1[1]))\n",
    "        target_sum = test_df['TARGET'].sum()\n",
    "        print('Target sum:',target_sum)\n",
    "        \n",
    "        if (target_sum>=510) & (target_sum<590):\n",
    "\n",
    "            # save \n",
    "            train_df['Y_LABEL_lgb'] = oof_preds_lgb\n",
    "            a1 = train_df[['ID','YEAR','COMPONENT_ARBITRARY','Y_LABEL_lgb','Y_LABEL']].copy()\n",
    "            a1.to_csv('train_pred_'+str(seed_num)+'_'+str(np.round(oof_f1,10))+'.csv', index= False)    \n",
    "            a1 = test_df[['ID','YEAR','COMPONENT_ARBITRARY','Y_LABEL_lgb']].copy()\n",
    "            a1.to_csv('test_pred_'+str(seed_num)+'_'+str(np.round(oof_f1,10))+'.csv', index= False)\n",
    "\n",
    "            # submit\n",
    "            a1 = test_df[['ID', 'TARGET']].copy()\n",
    "            a1 = a1.rename(columns={'TARGET':'Y_LABEL'})\n",
    "            submission_file_name = 'sample_submission_lgb_'+str(np.round(oof_f1,4))+'.csv'\n",
    "            a1.to_csv(submission_file_name, index= False)"
   ]
  },
  {
   "cell_type": "code",
   "execution_count": 6,
   "id": "e5bae872",
   "metadata": {
    "execution": {
     "iopub.execute_input": "2022-11-25T15:08:16.428468Z",
     "iopub.status.busy": "2022-11-25T15:08:16.427737Z",
     "iopub.status.idle": "2022-11-25T15:08:16.444528Z",
     "shell.execute_reply": "2022-11-25T15:08:16.443126Z"
    },
    "papermill": {
     "duration": 0.028646,
     "end_time": "2022-11-25T15:08:16.447389",
     "exception": false,
     "start_time": "2022-11-25T15:08:16.418743",
     "status": "completed"
    },
    "tags": []
   },
   "outputs": [],
   "source": [
    "def permutation_lgb_vi(train, params, drop_features):\n",
    "    \n",
    "    params = {'application':'binary', 'metric':'auc'}\n",
    "    params['learning_rate'] = max(min(best_params['learning_rate'], 1), 0)\n",
    "    params[\"num_leaves\"] = int(round(best_params['num_leaves']))\n",
    "    params['colsample_bytree'] = max(min(best_params['colsample_bytree'], 1), 0)\n",
    "    params['subsample'] = max(min(best_params['subsample'], 1), 0)\n",
    "    params['max_depth'] = int(round(best_params['max_depth']))        \n",
    "    params['reg_alpha'] = best_params['reg_alpha']\n",
    "    params['reg_lambda'] = best_params['reg_lambda']        \n",
    "    params['min_split_gain'] = best_params['min_split_gain']\n",
    "    params['min_child_weight'] = best_params['min_child_weight']\n",
    "    params['min_child_samples'] = int(round(best_params['min_child_samples']))\n",
    "\n",
    "    train_df = train.copy()\n",
    "\n",
    "    # label encoding \n",
    "    encoder = LabelEncoder()\n",
    "    categorical_features = [i for i in train_df.select_dtypes(include=['object','category']).columns.tolist() if i not in ['ID']]\n",
    "    categorical_features = [i for i in categorical_features if i in train_df.columns.tolist()]\n",
    "    for each in categorical_features:\n",
    "        train_df[each] = encoder.fit_transform(train_df[each])\n",
    "\n",
    "    stratified = True\n",
    "\n",
    "    if stratified:\n",
    "        folds = StratifiedKFold(n_splits= 5, shuffle=True, random_state=1)\n",
    "    else:\n",
    "        folds = KFold(n_splits= 5, shuffle=True, random_state=1)\n",
    "\n",
    "    FEATURES = [f for f in train_df.columns if f not in ['Y_LABEL','ID','SAMPLE_TRANSFER_DAY']+drop_features]\n",
    "    TARGET_COL = 'Y_LABEL'\n",
    "    feature_importance_df = pd.DataFrame()\n",
    "    for fold, (train_idx, valid_idx) in enumerate(folds.split(train_df, train_df[TARGET_COL])):\n",
    "        clf = LGBMClassifier(\n",
    "            **params, \n",
    "            random_state=1, \n",
    "            n_jobs = -1,\n",
    "            silent=True,\n",
    "            n_estimators=10000\n",
    "        )\n",
    "\n",
    "        with warnings.catch_warnings():\n",
    "\n",
    "            warnings.filterwarnings('ignore')\n",
    "\n",
    "            clf.fit(\n",
    "                train_df.loc[train_idx, FEATURES], \n",
    "                train_df.loc[train_idx, TARGET_COL], \n",
    "                eval_metric=\"auc\", \n",
    "                verbose=False,\n",
    "                early_stopping_rounds=500,\n",
    "                eval_set=[(train_df.loc[valid_idx, FEATURES],train_df.loc[valid_idx, TARGET_COL])]\n",
    "            )    \n",
    "            \n",
    "        # scoring = 'f1'\n",
    "        perm = PermutationImportance(clf, n_iter=60, scoring='roc_auc',random_state=1).fit(train_df.loc[valid_idx, FEATURES],train_df.loc[valid_idx, TARGET_COL])\n",
    "        fold_importance_df = eli5.explain_weights_df(perm, top = len(FEATURES), feature_names = FEATURES)\n",
    "        fold_importance_df[\"fold\"] = fold + 1\n",
    "        feature_importance_df = pd.concat([feature_importance_df, fold_importance_df], axis=0)\n",
    "        print(f\"Permutation importance for fold {fold}\")\n",
    "    \n",
    "    return feature_importance_df"
   ]
  },
  {
   "cell_type": "code",
   "execution_count": 7,
   "id": "43394a34",
   "metadata": {
    "execution": {
     "iopub.execute_input": "2022-11-25T15:08:16.463788Z",
     "iopub.status.busy": "2022-11-25T15:08:16.462983Z",
     "iopub.status.idle": "2022-11-25T15:08:16.641279Z",
     "shell.execute_reply": "2022-11-25T15:08:16.639918Z"
    },
    "papermill": {
     "duration": 0.190662,
     "end_time": "2022-11-25T15:08:16.645111",
     "exception": false,
     "start_time": "2022-11-25T15:08:16.454449",
     "status": "completed"
    },
    "tags": []
   },
   "outputs": [],
   "source": [
    "# read data\n",
    "train = pd.read_csv('/kaggle/input/dacon001/open/train.csv')\n",
    "test = pd.read_csv('/kaggle/input/dacon001/open/test.csv')\n",
    "sample_submission = pd.read_csv('/kaggle/input/dacon001/open/sample_submission.csv')\n",
    "original_columns = test.columns.tolist()"
   ]
  },
  {
   "cell_type": "code",
   "execution_count": 8,
   "id": "3c8c5e0c",
   "metadata": {
    "execution": {
     "iopub.execute_input": "2022-11-25T15:08:16.663292Z",
     "iopub.status.busy": "2022-11-25T15:08:16.662876Z",
     "iopub.status.idle": "2022-11-25T15:08:16.683327Z",
     "shell.execute_reply": "2022-11-25T15:08:16.681943Z"
    },
    "papermill": {
     "duration": 0.031866,
     "end_time": "2022-11-25T15:08:16.686182",
     "exception": false,
     "start_time": "2022-11-25T15:08:16.654316",
     "status": "completed"
    },
    "tags": []
   },
   "outputs": [],
   "source": [
    "# test데이터셋에 있는 변수만 선택 \n",
    "train = train[test.columns.to_list()+['Y_LABEL','SAMPLE_TRANSFER_DAY']].copy()"
   ]
  },
  {
   "cell_type": "code",
   "execution_count": 9,
   "id": "c1e302dd",
   "metadata": {
    "execution": {
     "iopub.execute_input": "2022-11-25T15:08:16.702846Z",
     "iopub.status.busy": "2022-11-25T15:08:16.702057Z",
     "iopub.status.idle": "2022-11-25T15:08:16.711207Z",
     "shell.execute_reply": "2022-11-25T15:08:16.710302Z"
    },
    "papermill": {
     "duration": 0.02038,
     "end_time": "2022-11-25T15:08:16.713659",
     "exception": false,
     "start_time": "2022-11-25T15:08:16.693279",
     "status": "completed"
    },
    "tags": []
   },
   "outputs": [],
   "source": [
    "cat_features  = ['YEAR','COMPONENT_ARBITRARY']\n",
    "num_features13 = ['AG', 'CO', 'CR', 'CU', 'FE', 'H2O', 'MN', 'MO', 'NI',  'TI', 'V', 'V40', 'ZN']\n",
    "num_features3 = ['ANONYMOUS_1', 'ANONYMOUS_2','PQINDEX'] \n",
    "all_num_features = num_features13 + num_features3\n",
    "\n",
    "변수중요도높은변수 = ['V40','FE','ZN','CU'] # 변수중요도 높은 원소들 \n",
    "타겟과음의상관관계 = ['ZN','H2O'] # 타겟과 마이너스 상관관계 \n",
    "\n",
    "제로비율이높은변수 = ['AG','CO','H2O','TI','V']+['NI']\n",
    "제로비율이절반변수 = ['CR','MN','MO']\n",
    "제로비율이낮은변수 = ['ANONYMOUS_1','ANONYMOUS_2','PQINDEX ','V40','FE','ZN','CU']"
   ]
  },
  {
   "cell_type": "code",
   "execution_count": 10,
   "id": "93982d9f",
   "metadata": {
    "execution": {
     "iopub.execute_input": "2022-11-25T15:08:16.730218Z",
     "iopub.status.busy": "2022-11-25T15:08:16.729405Z",
     "iopub.status.idle": "2022-11-25T15:08:16.734403Z",
     "shell.execute_reply": "2022-11-25T15:08:16.733453Z"
    },
    "papermill": {
     "duration": 0.015867,
     "end_time": "2022-11-25T15:08:16.736675",
     "exception": false,
     "start_time": "2022-11-25T15:08:16.720808",
     "status": "completed"
    },
    "tags": []
   },
   "outputs": [],
   "source": [
    "# # 타겟과 음의 상관관꼐 변수들\n",
    "# train['ZN'] = (-train['ZN'])\n",
    "# train['H2O'] = (-train['H2O'])\n",
    "# test['ZN'] = (-test['ZN'])\n",
    "# test['H2O'] = (-test['H2O'])"
   ]
  },
  {
   "cell_type": "code",
   "execution_count": 11,
   "id": "08812345",
   "metadata": {
    "execution": {
     "iopub.execute_input": "2022-11-25T15:08:16.753093Z",
     "iopub.status.busy": "2022-11-25T15:08:16.752297Z",
     "iopub.status.idle": "2022-11-25T15:24:02.621178Z",
     "shell.execute_reply": "2022-11-25T15:24:02.619787Z"
    },
    "papermill": {
     "duration": 945.887777,
     "end_time": "2022-11-25T15:24:02.631536",
     "exception": false,
     "start_time": "2022-11-25T15:08:16.743759",
     "status": "completed"
    },
    "tags": []
   },
   "outputs": [
    {
     "name": "stdout",
     "output_type": "stream",
     "text": [
      "CPU times: user 15min 30s, sys: 14.7 s, total: 15min 45s\n",
      "Wall time: 15min 45s\n"
     ]
    }
   ],
   "source": [
    "%%time\n",
    "\n",
    "\"\"\"\n",
    "make psudo id\n",
    "\"\"\"\n",
    "\n",
    "group_features = num_features13\n",
    "group_features = list(set(group_features))\n",
    "\n",
    "for c1, c2 in [i for i in itertools.combinations(group_features,2)]:\n",
    "    new_c = f'{c1}_{c2}_id'\n",
    "    train[new_c] = train[[c1,c2]].apply(lambda x: ''.join(np.where(x==0,'1','0')),axis=1)\n",
    "    test[new_c] = test[[c1,c2]].apply(lambda x: ''.join(np.where(x==0,'1','0')),axis=1)\n",
    "    \n",
    "    a1 = train[new_c].value_counts().reset_index(name='cnt')\n",
    "    low_cnt = a1.loc[a1['cnt']<10,'index'].to_list()\n",
    "\n",
    "    a1 = train.groupby([new_c])['Y_LABEL'].mean().reset_index(name='ratio')\n",
    "    zero_ratio = a1.loc[a1['ratio']==0,new_c].tolist()\n",
    "\n",
    "    others = list(set(low_cnt+zero_ratio))\n",
    "\n",
    "    train[new_c] = np.where(train[new_c].isin(others),'others',train[new_c])\n",
    "    test[new_c] = np.where(test[new_c].isin(others),'others',test[new_c])\n",
    "    \n",
    "for c1, c2, c3 in [i for i in itertools.combinations(group_features,3)]:\n",
    "    new_c = f'{c1}_{c2}_{c3}_id'\n",
    "    train[new_c] = train[[c1,c2,c3]].apply(lambda x: ''.join(np.where(x==0,'1','0')),axis=1)\n",
    "    test[new_c] = test[[c1,c2,c3]].apply(lambda x: ''.join(np.where(x==0,'1','0')),axis=1)\n",
    "    \n",
    "    a1 = train[new_c].value_counts().reset_index(name='cnt')\n",
    "    low_cnt = a1.loc[a1['cnt']<10,'index'].to_list()\n",
    "\n",
    "    a1 = train.groupby([new_c])['Y_LABEL'].mean().reset_index(name='ratio')\n",
    "    zero_ratio = a1.loc[a1['ratio']==0,new_c].tolist()\n",
    "\n",
    "    others = list(set(low_cnt+zero_ratio))\n",
    "    \n",
    "    train[new_c] = np.where(train[new_c].isin(others),'others',train[new_c])\n",
    "    test[new_c] = np.where(test[new_c].isin(others),'others',test[new_c])"
   ]
  },
  {
   "cell_type": "code",
   "execution_count": 12,
   "id": "9d8e5d54",
   "metadata": {
    "execution": {
     "iopub.execute_input": "2022-11-25T15:24:02.648143Z",
     "iopub.status.busy": "2022-11-25T15:24:02.647682Z",
     "iopub.status.idle": "2022-11-25T15:41:49.877099Z",
     "shell.execute_reply": "2022-11-25T15:41:49.875613Z"
    },
    "papermill": {
     "duration": 1067.247048,
     "end_time": "2022-11-25T15:41:49.885833",
     "exception": false,
     "start_time": "2022-11-25T15:24:02.638785",
     "status": "completed"
    },
    "tags": []
   },
   "outputs": [
    {
     "name": "stdout",
     "output_type": "stream",
     "text": [
      "CPU times: user 17min, sys: 45.7 s, total: 17min 46s\n",
      "Wall time: 17min 47s\n"
     ]
    }
   ],
   "source": [
    "%%time\n",
    "\n",
    "\"\"\"\n",
    "make psudo id2 (중앙값보다 높은거)\n",
    "\"\"\"\n",
    "\n",
    "group_features = num_features13\n",
    "group_features = list(set(group_features))\n",
    "\n",
    "med_dict = train[group_features].apply(lambda x: x.median()).to_dict()\n",
    "for i,j in med_dict.items():\n",
    "    \n",
    "    # greater than median\n",
    "    train[i+'_gtm'] = np.where(train[i]>j,1,0)\n",
    "    test[i+'_gtm'] = np.where(test[i]>j,1,0)\n",
    "\n",
    "    \n",
    "group_features = train.columns[train.columns.str.contains('_gtm')].tolist()\n",
    "group_features = list(set(group_features))\n",
    "\n",
    "for c1, c2 in [i for i in itertools.combinations(group_features,2)]:\n",
    "    new_c = f'{c1}_{c2}_id2'\n",
    "    train[new_c] = train[[c1,c2]].apply(lambda x: ''.join(np.where(x==0,'1','0')),axis=1)\n",
    "    test[new_c] = test[[c1,c2]].apply(lambda x: ''.join(np.where(x==0,'1','0')),axis=1)\n",
    "    \n",
    "    a1 = train[new_c].value_counts().reset_index(name='cnt')\n",
    "    low_cnt = a1.loc[a1['cnt']<10,'index'].to_list()\n",
    "\n",
    "    a1 = train.groupby([new_c])['Y_LABEL'].mean().reset_index(name='ratio')\n",
    "    zero_ratio = a1.loc[a1['ratio']==0,new_c].tolist()\n",
    "\n",
    "    others = list(set(low_cnt+zero_ratio))\n",
    "\n",
    "    train[new_c] = np.where(train[new_c].isin(others),'others',train[new_c])\n",
    "    test[new_c] = np.where(test[new_c].isin(others),'others',test[new_c])\n",
    "    \n",
    "for c1, c2, c3 in [i for i in itertools.combinations(group_features,3)]:\n",
    "    new_c = f'{c1}_{c2}_{c3}_id2'\n",
    "    train[new_c] = train[[c1,c2,c3]].apply(lambda x: ''.join(np.where(x==0,'1','0')),axis=1)\n",
    "    test[new_c] = test[[c1,c2,c3]].apply(lambda x: ''.join(np.where(x==0,'1','0')),axis=1)\n",
    "    \n",
    "    a1 = train[new_c].value_counts().reset_index(name='cnt')\n",
    "    low_cnt = a1.loc[a1['cnt']<10,'index'].to_list()\n",
    "\n",
    "    a1 = train.groupby([new_c])['Y_LABEL'].mean().reset_index(name='ratio')\n",
    "    zero_ratio = a1.loc[a1['ratio']==0,new_c].tolist()\n",
    "\n",
    "    others = list(set(low_cnt+zero_ratio))\n",
    "    \n",
    "    train[new_c] = np.where(train[new_c].isin(others),'others',train[new_c])\n",
    "    test[new_c] = np.where(test[new_c].isin(others),'others',test[new_c])"
   ]
  },
  {
   "cell_type": "code",
   "execution_count": 13,
   "id": "d3ac7849",
   "metadata": {
    "execution": {
     "iopub.execute_input": "2022-11-25T15:41:49.903488Z",
     "iopub.status.busy": "2022-11-25T15:41:49.903095Z",
     "iopub.status.idle": "2022-11-25T15:41:54.421240Z",
     "shell.execute_reply": "2022-11-25T15:41:54.420010Z"
    },
    "papermill": {
     "duration": 4.530568,
     "end_time": "2022-11-25T15:41:54.424176",
     "exception": false,
     "start_time": "2022-11-25T15:41:49.893608",
     "status": "completed"
    },
    "tags": []
   },
   "outputs": [],
   "source": [
    "train.to_csv('./train_w_group.csv',index=False)\n",
    "test.to_csv('./train_w_group.csv',index=False)"
   ]
  },
  {
   "cell_type": "code",
   "execution_count": null,
   "id": "643b2c10",
   "metadata": {
    "papermill": {
     "duration": 0.007019,
     "end_time": "2022-11-25T15:41:54.438712",
     "exception": false,
     "start_time": "2022-11-25T15:41:54.431693",
     "status": "completed"
    },
    "tags": []
   },
   "outputs": [],
   "source": []
  },
  {
   "cell_type": "code",
   "execution_count": null,
   "id": "27efdff4",
   "metadata": {
    "papermill": {
     "duration": 0.007063,
     "end_time": "2022-11-25T15:41:54.453588",
     "exception": false,
     "start_time": "2022-11-25T15:41:54.446525",
     "status": "completed"
    },
    "tags": []
   },
   "outputs": [],
   "source": []
  },
  {
   "cell_type": "markdown",
   "id": "4f38ba5f",
   "metadata": {
    "execution": {
     "iopub.execute_input": "2022-11-25T13:04:02.119389Z",
     "iopub.status.busy": "2022-11-25T13:04:02.119042Z",
     "iopub.status.idle": "2022-11-25T13:04:02.134996Z",
     "shell.execute_reply": "2022-11-25T13:04:02.133513Z",
     "shell.execute_reply.started": "2022-11-25T13:04:02.119349Z"
    },
    "papermill": {
     "duration": 0.007103,
     "end_time": "2022-11-25T15:41:54.468062",
     "exception": false,
     "start_time": "2022-11-25T15:41:54.460959",
     "status": "completed"
    },
    "tags": []
   },
   "source": [
    "> lgb vi"
   ]
  },
  {
   "cell_type": "code",
   "execution_count": 14,
   "id": "952b0c58",
   "metadata": {
    "execution": {
     "iopub.execute_input": "2022-11-25T15:41:54.485160Z",
     "iopub.status.busy": "2022-11-25T15:41:54.484770Z",
     "iopub.status.idle": "2022-11-25T17:49:08.867774Z",
     "shell.execute_reply": "2022-11-25T17:49:08.866493Z"
    },
    "papermill": {
     "duration": 7634.400657,
     "end_time": "2022-11-25T17:49:08.876571",
     "exception": false,
     "start_time": "2022-11-25T15:41:54.475914",
     "status": "completed"
    },
    "tags": []
   },
   "outputs": [
    {
     "name": "stdout",
     "output_type": "stream",
     "text": [
      "Permutation importance for fold 0\n",
      "Permutation importance for fold 1\n",
      "Permutation importance for fold 2\n",
      "Permutation importance for fold 3\n",
      "Permutation importance for fold 4\n",
      "CPU times: user 6h 29min 41s, sys: 1min 8s, total: 6h 30min 49s\n",
      "Wall time: 2h 7min 14s\n"
     ]
    },
    {
     "data": {
      "text/html": [
       "<div>\n",
       "<style scoped>\n",
       "    .dataframe tbody tr th:only-of-type {\n",
       "        vertical-align: middle;\n",
       "    }\n",
       "\n",
       "    .dataframe tbody tr th {\n",
       "        vertical-align: top;\n",
       "    }\n",
       "\n",
       "    .dataframe thead th {\n",
       "        text-align: right;\n",
       "    }\n",
       "</style>\n",
       "<table border=\"1\" class=\"dataframe\">\n",
       "  <thead>\n",
       "    <tr style=\"text-align: right;\">\n",
       "      <th></th>\n",
       "      <th>feature</th>\n",
       "      <th>weight</th>\n",
       "      <th>std</th>\n",
       "      <th>fold</th>\n",
       "    </tr>\n",
       "  </thead>\n",
       "  <tbody>\n",
       "    <tr>\n",
       "      <th>0</th>\n",
       "      <td>CU_NI_MO_id</td>\n",
       "      <td>0.022620</td>\n",
       "      <td>0.009859</td>\n",
       "      <td>1</td>\n",
       "    </tr>\n",
       "    <tr>\n",
       "      <th>1</th>\n",
       "      <td>CR_gtm_MO_gtm_CU_gtm_id2</td>\n",
       "      <td>0.018194</td>\n",
       "      <td>0.005477</td>\n",
       "      <td>1</td>\n",
       "    </tr>\n",
       "    <tr>\n",
       "      <th>2</th>\n",
       "      <td>CU_MN_TI_id</td>\n",
       "      <td>0.016265</td>\n",
       "      <td>0.009004</td>\n",
       "      <td>1</td>\n",
       "    </tr>\n",
       "    <tr>\n",
       "      <th>3</th>\n",
       "      <td>CU_NI_CR_id</td>\n",
       "      <td>0.012699</td>\n",
       "      <td>0.009735</td>\n",
       "      <td>1</td>\n",
       "    </tr>\n",
       "    <tr>\n",
       "      <th>4</th>\n",
       "      <td>MN_gtm_TI_gtm_ZN_gtm_id2</td>\n",
       "      <td>0.010515</td>\n",
       "      <td>0.004174</td>\n",
       "      <td>1</td>\n",
       "    </tr>\n",
       "  </tbody>\n",
       "</table>\n",
       "</div>"
      ],
      "text/plain": [
       "                    feature    weight       std  fold\n",
       "0               CU_NI_MO_id  0.022620  0.009859     1\n",
       "1  CR_gtm_MO_gtm_CU_gtm_id2  0.018194  0.005477     1\n",
       "2               CU_MN_TI_id  0.016265  0.009004     1\n",
       "3               CU_NI_CR_id  0.012699  0.009735     1\n",
       "4  MN_gtm_TI_gtm_ZN_gtm_id2  0.010515  0.004174     1"
      ]
     },
     "execution_count": 14,
     "metadata": {},
     "output_type": "execute_result"
    }
   ],
   "source": [
    "%%time \n",
    "\n",
    "# CPU times: user 30min 55s, sys: 2.93 s, total: 30min 58s\n",
    "# Wall time: 8min 45s\n",
    "\n",
    "best_params =  {\n",
    "    'learning_rate': 0.07398,\n",
    "    'max_depth': 4.309,\n",
    "    'colsample_bytree': 0.4028,\n",
    "    'subsample': 0.4278,\n",
    "    'min_child_samples': 25.65,\n",
    "    'min_child_weight': 0.6138,\n",
    "    'min_split_gain': 0.7354,\n",
    "    'num_leaves': 62.68,\n",
    "    'reg_alpha': 0.2889,\n",
    "    'reg_lambda': 7.875\n",
    "}\n",
    "\n",
    "drop_features = all_num_features + ['YEAR','COMPONENT_ARBITRARY']\n",
    "\n",
    "permutation_importance_lgb = permutation_lgb_vi(train, best_params, drop_features)\n",
    "\n",
    "# save\n",
    "permutation_importance_lgb.to_csv('permutation_importance_lgb.csv',index=False)\n",
    "\n",
    "# check \n",
    "permutation_importance_lgb.head()"
   ]
  },
  {
   "cell_type": "code",
   "execution_count": 15,
   "id": "cab58db7",
   "metadata": {
    "execution": {
     "iopub.execute_input": "2022-11-25T17:49:08.894769Z",
     "iopub.status.busy": "2022-11-25T17:49:08.894299Z",
     "iopub.status.idle": "2022-11-25T17:49:08.909817Z",
     "shell.execute_reply": "2022-11-25T17:49:08.908961Z"
    },
    "papermill": {
     "duration": 0.027329,
     "end_time": "2022-11-25T17:49:08.912032",
     "exception": false,
     "start_time": "2022-11-25T17:49:08.884703",
     "status": "completed"
    },
    "tags": []
   },
   "outputs": [
    {
     "data": {
      "text/html": [
       "<div>\n",
       "<style scoped>\n",
       "    .dataframe tbody tr th:only-of-type {\n",
       "        vertical-align: middle;\n",
       "    }\n",
       "\n",
       "    .dataframe tbody tr th {\n",
       "        vertical-align: top;\n",
       "    }\n",
       "\n",
       "    .dataframe thead th {\n",
       "        text-align: right;\n",
       "    }\n",
       "</style>\n",
       "<table border=\"1\" class=\"dataframe\">\n",
       "  <thead>\n",
       "    <tr style=\"text-align: right;\">\n",
       "      <th></th>\n",
       "      <th>feature</th>\n",
       "      <th>weight</th>\n",
       "    </tr>\n",
       "  </thead>\n",
       "  <tbody>\n",
       "    <tr>\n",
       "      <th>164</th>\n",
       "      <td>CU_NI_MO_id</td>\n",
       "      <td>0.014702</td>\n",
       "    </tr>\n",
       "    <tr>\n",
       "      <th>445</th>\n",
       "      <td>MN_gtm_ZN_gtm_id2</td>\n",
       "      <td>0.006393</td>\n",
       "    </tr>\n",
       "    <tr>\n",
       "      <th>88</th>\n",
       "      <td>CR_gtm_MO_gtm_CU_gtm_id2</td>\n",
       "      <td>0.003791</td>\n",
       "    </tr>\n",
       "    <tr>\n",
       "      <th>155</th>\n",
       "      <td>CU_MN_TI_id</td>\n",
       "      <td>0.003253</td>\n",
       "    </tr>\n",
       "    <tr>\n",
       "      <th>739</th>\n",
       "      <td>ZN_gtm_V40_gtm_MO_gtm_id2</td>\n",
       "      <td>0.002852</td>\n",
       "    </tr>\n",
       "    <tr>\n",
       "      <th>261</th>\n",
       "      <td>H2O_CO_MN_id</td>\n",
       "      <td>0.002823</td>\n",
       "    </tr>\n",
       "    <tr>\n",
       "      <th>162</th>\n",
       "      <td>CU_NI_CR_id</td>\n",
       "      <td>0.002540</td>\n",
       "    </tr>\n",
       "    <tr>\n",
       "      <th>496</th>\n",
       "      <td>NI_gtm_CO_gtm_V40_gtm_id2</td>\n",
       "      <td>0.002207</td>\n",
       "    </tr>\n",
       "    <tr>\n",
       "      <th>424</th>\n",
       "      <td>MN_gtm_TI_gtm_ZN_gtm_id2</td>\n",
       "      <td>0.002061</td>\n",
       "    </tr>\n",
       "    <tr>\n",
       "      <th>19</th>\n",
       "      <td>CO_CR_MO_id</td>\n",
       "      <td>0.002059</td>\n",
       "    </tr>\n",
       "  </tbody>\n",
       "</table>\n",
       "</div>"
      ],
      "text/plain": [
       "                       feature    weight\n",
       "164                CU_NI_MO_id  0.014702\n",
       "445          MN_gtm_ZN_gtm_id2  0.006393\n",
       "88    CR_gtm_MO_gtm_CU_gtm_id2  0.003791\n",
       "155                CU_MN_TI_id  0.003253\n",
       "739  ZN_gtm_V40_gtm_MO_gtm_id2  0.002852\n",
       "261               H2O_CO_MN_id  0.002823\n",
       "162                CU_NI_CR_id  0.002540\n",
       "496  NI_gtm_CO_gtm_V40_gtm_id2  0.002207\n",
       "424   MN_gtm_TI_gtm_ZN_gtm_id2  0.002061\n",
       "19                 CO_CR_MO_id  0.002059"
      ]
     },
     "execution_count": 15,
     "metadata": {},
     "output_type": "execute_result"
    }
   ],
   "source": [
    "# vi\n",
    "vi = permutation_importance_lgb.groupby(['feature'])['weight'].mean().reset_index()\n",
    "vi = vi.sort_values(['weight'],ascending=False)\n",
    "vi.head(10)"
   ]
  },
  {
   "cell_type": "code",
   "execution_count": 16,
   "id": "419a53a2",
   "metadata": {
    "execution": {
     "iopub.execute_input": "2022-11-25T17:49:08.930747Z",
     "iopub.status.busy": "2022-11-25T17:49:08.930070Z",
     "iopub.status.idle": "2022-11-25T17:49:20.364739Z",
     "shell.execute_reply": "2022-11-25T17:49:20.363721Z"
    },
    "papermill": {
     "duration": 11.449392,
     "end_time": "2022-11-25T17:49:20.369747",
     "exception": false,
     "start_time": "2022-11-25T17:49:08.920355",
     "status": "completed"
    },
    "tags": []
   },
   "outputs": [
    {
     "data": {
      "image/png": "[encoded data removed]",
      "text/plain": [
       "<Figure size 720x720 with 1 Axes>"
      ]
     },
     "metadata": {},
     "output_type": "display_data"
    }
   ],
   "source": [
    "# plot\n",
    "f, ax = plt.subplots(figsize=(10, 10))\n",
    "ax = sns.barplot(x=vi['weight'], y=vi['feature'])\n",
    "ax.set_title(\"Visualize feature scores of the features\")\n",
    "ax.set_yticklabels(vi['feature'])\n",
    "ax.set_xlabel(\"Feature importance score\")\n",
    "ax.set_ylabel(\"Features\")\n",
    "plt.show()"
   ]
  },
  {
   "cell_type": "code",
   "execution_count": null,
   "id": "8d3742a6",
   "metadata": {
    "papermill": {
     "duration": 0.011924,
     "end_time": "2022-11-25T17:49:20.394475",
     "exception": false,
     "start_time": "2022-11-25T17:49:20.382551",
     "status": "completed"
    },
    "tags": []
   },
   "outputs": [],
   "source": []
  },
  {
   "cell_type": "code",
   "execution_count": null,
   "id": "2b1473ee",
   "metadata": {
    "papermill": {
     "duration": 0.011482,
     "end_time": "2022-11-25T17:49:20.418270",
     "exception": false,
     "start_time": "2022-11-25T17:49:20.406788",
     "status": "completed"
    },
    "tags": []
   },
   "outputs": [],
   "source": []
  },
  {
   "cell_type": "markdown",
   "id": "047ba533",
   "metadata": {
    "papermill": {
     "duration": 0.012008,
     "end_time": "2022-11-25T17:49:20.442066",
     "exception": false,
     "start_time": "2022-11-25T17:49:20.430058",
     "status": "completed"
    },
    "tags": []
   },
   "source": [
    "> rf vi"
   ]
  },
  {
   "cell_type": "code",
   "execution_count": 17,
   "id": "c83ab5a6",
   "metadata": {
    "execution": {
     "iopub.execute_input": "2022-11-25T17:49:20.467866Z",
     "iopub.status.busy": "2022-11-25T17:49:20.467440Z",
     "iopub.status.idle": "2022-11-25T17:49:20.480944Z",
     "shell.execute_reply": "2022-11-25T17:49:20.479398Z"
    },
    "papermill": {
     "duration": 0.029392,
     "end_time": "2022-11-25T17:49:20.483713",
     "exception": false,
     "start_time": "2022-11-25T17:49:20.454321",
     "status": "completed"
    },
    "tags": []
   },
   "outputs": [],
   "source": [
    "def permutation_rf_vi(train, drop_features):    \n",
    "\n",
    "    train_df = train.copy()\n",
    "\n",
    "    # label encoding \n",
    "    encoder = LabelEncoder()\n",
    "    categorical_features = [i for i in train_df.select_dtypes(include=['object','category']).columns.tolist() if i not in ['ID']]\n",
    "    categorical_features = [i for i in categorical_features if i in train_df.columns.tolist()]\n",
    "    for each in categorical_features:\n",
    "        train_df[each] = encoder.fit_transform(train_df[each])\n",
    "\n",
    "    stratified = True\n",
    "\n",
    "    if stratified:\n",
    "        folds = StratifiedKFold(n_splits= 5, shuffle=True, random_state=1)\n",
    "    else:\n",
    "        folds = KFold(n_splits= 5, shuffle=True, random_state=1)\n",
    "\n",
    "    FEATURES = [f for f in train_df.columns if f not in ['Y_LABEL','ID','SAMPLE_TRANSFER_DAY']+drop_features]\n",
    "    TARGET_COL = 'Y_LABEL'\n",
    "    feature_importance_df = pd.DataFrame()\n",
    "    for fold, (train_idx, valid_idx) in enumerate(folds.split(train_df, train_df[TARGET_COL])): \n",
    "\n",
    "        with warnings.catch_warnings():\n",
    "\n",
    "            warnings.filterwarnings('ignore')\n",
    "            \n",
    "            clf = RandomForestClassifier(n_estimators=1000, random_state=1)\n",
    "            \n",
    "        # scoring = 'f1'\n",
    "        perm = PermutationImportance(clf, n_iter=100, scoring='roc_auc',random_state=1).fit(train_df.loc[valid_idx, FEATURES],train_df.loc[valid_idx, TARGET_COL])\n",
    "        fold_importance_df = eli5.explain_weights_df(perm, top = len(FEATURES), feature_names = FEATURES)\n",
    "        fold_importance_df[\"fold\"] = fold + 1\n",
    "        feature_importance_df = pd.concat([feature_importance_df, fold_importance_df], axis=0)\n",
    "        print(f\"Permutation importance for fold {fold}\")\n",
    "    \n",
    "    return feature_importance_df"
   ]
  },
  {
   "cell_type": "code",
   "execution_count": 18,
   "id": "14218a31",
   "metadata": {
    "execution": {
     "iopub.execute_input": "2022-11-25T17:49:20.509961Z",
     "iopub.status.busy": "2022-11-25T17:49:20.509319Z",
     "iopub.status.idle": "2022-11-25T17:50:53.206831Z",
     "shell.execute_reply": "2022-11-25T17:50:53.205415Z"
    },
    "papermill": {
     "duration": 92.724634,
     "end_time": "2022-11-25T17:50:53.220566",
     "exception": false,
     "start_time": "2022-11-25T17:49:20.495932",
     "status": "completed"
    },
    "tags": []
   },
   "outputs": [
    {
     "ename": "NameError",
     "evalue": "name 'RandomForestClassifier' is not defined",
     "output_type": "error",
     "traceback": [
      "\u001b[0;31m---------------------------------------------------------------------------\u001b[0m",
      "\u001b[0;31mNameError\u001b[0m                                 Traceback (most recent call last)",
      "\u001b[0;32m<timed exec>\u001b[0m in \u001b[0;36m<module>\u001b[0;34m\u001b[0m\n",
      "\u001b[0;32m/tmp/ipykernel_19/1172386267.py\u001b[0m in \u001b[0;36mpermutation_rf_vi\u001b[0;34m(train, drop_features)\u001b[0m\n\u001b[1;32m     26\u001b[0m             \u001b[0mwarnings\u001b[0m\u001b[0;34m.\u001b[0m\u001b[0mfilterwarnings\u001b[0m\u001b[0;34m(\u001b[0m\u001b[0;34m'ignore'\u001b[0m\u001b[0;34m)\u001b[0m\u001b[0;34m\u001b[0m\u001b[0;34m\u001b[0m\u001b[0m\n\u001b[1;32m     27\u001b[0m \u001b[0;34m\u001b[0m\u001b[0m\n\u001b[0;32m---> 28\u001b[0;31m             \u001b[0mclf\u001b[0m \u001b[0;34m=\u001b[0m \u001b[0mRandomForestClassifier\u001b[0m\u001b[0;34m(\u001b[0m\u001b[0mn_estimators\u001b[0m\u001b[0;34m=\u001b[0m\u001b[0;36m1000\u001b[0m\u001b[0;34m,\u001b[0m \u001b[0mrandom_state\u001b[0m\u001b[0;34m=\u001b[0m\u001b[0;36m1\u001b[0m\u001b[0;34m)\u001b[0m\u001b[0;34m\u001b[0m\u001b[0;34m\u001b[0m\u001b[0m\n\u001b[0m\u001b[1;32m     29\u001b[0m \u001b[0;34m\u001b[0m\u001b[0m\n\u001b[1;32m     30\u001b[0m         \u001b[0;31m# scoring = 'f1'\u001b[0m\u001b[0;34m\u001b[0m\u001b[0;34m\u001b[0m\u001b[0;34m\u001b[0m\u001b[0m\n",
      "\u001b[0;31mNameError\u001b[0m: name 'RandomForestClassifier' is not defined"
     ]
    }
   ],
   "source": [
    "%%time \n",
    "\n",
    "# CPU times: user 30min 55s, sys: 2.93 s, total: 30min 58s\n",
    "# Wall time: 8min 45s\n",
    "\n",
    "drop_features = all_num_features + ['YEAR','COMPONENT_ARBITRARY']\n",
    "\n",
    "permutation_importance_rf = permutation_rf_vi(train, drop_features)\n",
    "\n",
    "# save\n",
    "permutation_importance_rf.to_csv('permutation_importance_rf.csv',index=False)\n",
    "\n",
    "# check \n",
    "permutation_importance_rf.head()"
   ]
  },
  {
   "cell_type": "code",
   "execution_count": 19,
   "id": "17f43acf",
   "metadata": {
    "execution": {
     "iopub.execute_input": "2022-11-25T17:50:53.246522Z",
     "iopub.status.busy": "2022-11-25T17:50:53.246078Z",
     "iopub.status.idle": "2022-11-25T17:50:53.277243Z",
     "shell.execute_reply": "2022-11-25T17:50:53.275570Z"
    },
    "papermill": {
     "duration": 0.046792,
     "end_time": "2022-11-25T17:50:53.279482",
     "exception": true,
     "start_time": "2022-11-25T17:50:53.232690",
     "status": "failed"
    },
    "tags": []
   },
   "outputs": [
    {
     "ename": "NameError",
     "evalue": "name 'permutation_importance_rf' is not defined",
     "output_type": "error",
     "traceback": [
      "\u001b[0;31m---------------------------------------------------------------------------\u001b[0m",
      "\u001b[0;31mNameError\u001b[0m                                 Traceback (most recent call last)",
      "\u001b[0;32m/tmp/ipykernel_19/153984254.py\u001b[0m in \u001b[0;36m<module>\u001b[0;34m\u001b[0m\n\u001b[1;32m      1\u001b[0m \u001b[0;31m# vi\u001b[0m\u001b[0;34m\u001b[0m\u001b[0;34m\u001b[0m\u001b[0;34m\u001b[0m\u001b[0m\n\u001b[0;32m----> 2\u001b[0;31m \u001b[0mvi\u001b[0m \u001b[0;34m=\u001b[0m \u001b[0mpermutation_importance_rf\u001b[0m\u001b[0;34m.\u001b[0m\u001b[0mgroupby\u001b[0m\u001b[0;34m(\u001b[0m\u001b[0;34m[\u001b[0m\u001b[0;34m'feature'\u001b[0m\u001b[0;34m]\u001b[0m\u001b[0;34m)\u001b[0m\u001b[0;34m[\u001b[0m\u001b[0;34m'weight'\u001b[0m\u001b[0;34m]\u001b[0m\u001b[0;34m.\u001b[0m\u001b[0mmean\u001b[0m\u001b[0;34m(\u001b[0m\u001b[0;34m)\u001b[0m\u001b[0;34m.\u001b[0m\u001b[0mreset_index\u001b[0m\u001b[0;34m(\u001b[0m\u001b[0;34m)\u001b[0m\u001b[0;34m\u001b[0m\u001b[0;34m\u001b[0m\u001b[0m\n\u001b[0m\u001b[1;32m      3\u001b[0m \u001b[0mvi\u001b[0m \u001b[0;34m=\u001b[0m \u001b[0mvi\u001b[0m\u001b[0;34m.\u001b[0m\u001b[0msort_values\u001b[0m\u001b[0;34m(\u001b[0m\u001b[0;34m[\u001b[0m\u001b[0;34m'weight'\u001b[0m\u001b[0;34m]\u001b[0m\u001b[0;34m,\u001b[0m\u001b[0mascending\u001b[0m\u001b[0;34m=\u001b[0m\u001b[0;32mFalse\u001b[0m\u001b[0;34m)\u001b[0m\u001b[0;34m\u001b[0m\u001b[0;34m\u001b[0m\u001b[0m\n\u001b[1;32m      4\u001b[0m \u001b[0mvi\u001b[0m\u001b[0;34m.\u001b[0m\u001b[0mhead\u001b[0m\u001b[0;34m(\u001b[0m\u001b[0;36m10\u001b[0m\u001b[0;34m)\u001b[0m\u001b[0;34m\u001b[0m\u001b[0;34m\u001b[0m\u001b[0m\n",
      "\u001b[0;31mNameError\u001b[0m: name 'permutation_importance_rf' is not defined"
     ]
    }
   ],
   "source": [
    "# vi\n",
    "vi = permutation_importance_rf.groupby(['feature'])['weight'].mean().reset_index()\n",
    "vi = vi.sort_values(['weight'],ascending=False)\n",
    "vi.head(10)"
   ]
  },
  {
   "cell_type": "code",
   "execution_count": null,
   "id": "72a7806f",
   "metadata": {
    "papermill": {
     "duration": null,
     "end_time": null,
     "exception": null,
     "start_time": null,
     "status": "pending"
    },
    "tags": []
   },
   "outputs": [],
   "source": [
    "# plot\n",
    "f, ax = plt.subplots(figsize=(10, 10))\n",
    "ax = sns.barplot(x=vi['weight'], y=vi['feature'])\n",
    "ax.set_title(\"Visualize feature scores of the features\")\n",
    "ax.set_yticklabels(vi['feature'])\n",
    "ax.set_xlabel(\"Feature importance score\")\n",
    "ax.set_ylabel(\"Features\")\n",
    "plt.show()"
   ]
  },
  {
   "cell_type": "code",
   "execution_count": null,
   "id": "a01d8582",
   "metadata": {
    "papermill": {
     "duration": null,
     "end_time": null,
     "exception": null,
     "start_time": null,
     "status": "pending"
    },
    "tags": []
   },
   "outputs": [],
   "source": []
  },
  {
   "cell_type": "code",
   "execution_count": null,
   "id": "7c6a37af",
   "metadata": {
    "papermill": {
     "duration": null,
     "end_time": null,
     "exception": null,
     "start_time": null,
     "status": "pending"
    },
    "tags": []
   },
   "outputs": [],
   "source": []
  },
  {
   "cell_type": "code",
   "execution_count": null,
   "id": "53cd116b",
   "metadata": {
    "papermill": {
     "duration": null,
     "end_time": null,
     "exception": null,
     "start_time": null,
     "status": "pending"
    },
    "tags": []
   },
   "outputs": [],
   "source": []
  },
  {
   "cell_type": "code",
   "execution_count": null,
   "id": "b1add500",
   "metadata": {
    "papermill": {
     "duration": null,
     "end_time": null,
     "exception": null,
     "start_time": null,
     "status": "pending"
    },
    "tags": []
   },
   "outputs": [],
   "source": []
  }
 ],
 "metadata": {
  "kernelspec": {
   "display_name": "Python 3",
   "language": "python",
   "name": "python3"
  },
  "language_info": {
   "codemirror_mode": {
    "name": "ipython",
    "version": 3
   },
   "file_extension": ".py",
   "mimetype": "text/x-python",
   "name": "python",
   "nbconvert_exporter": "python",
   "pygments_lexer": "ipython3",
   "version": "3.7.12"
  },
  "papermill": {
   "default_parameters": {},
   "duration": 9780.985793,
   "end_time": "2022-11-25T17:50:56.150827",
   "environment_variables": {},
   "exception": true,
   "input_path": "__notebook__.ipynb",
   "output_path": "__notebook__.ipynb",
   "parameters": {},
   "start_time": "2022-11-25T15:07:55.165034",
   "version": "2.3.4"
  }
 },
 "nbformat": 4,
 "nbformat_minor": 5
}

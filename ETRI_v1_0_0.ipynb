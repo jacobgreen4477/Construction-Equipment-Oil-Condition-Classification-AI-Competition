{
  "nbformat": 4,
  "nbformat_minor": 0,
  "metadata": {
    "colab": {
      "provenance": [],
      "authorship_tag": "ABX9TyP2lfQpQnXgGbrb5J7QQT+A",
      "include_colab_link": true
    },
    "kernelspec": {
      "name": "python3",
      "display_name": "Python 3"
    },
    "language_info": {
      "name": "python"
    }
  },
  "cells": [
    {
      "cell_type": "markdown",
      "metadata": {
        "id": "view-in-github",
        "colab_type": "text"
      },
      "source": [
        "<a href=\"https://colab.research.google.com/github/jacobgreen4477/Construction-Equipment-Oil-Condition-Classification-AI-Competition/blob/main/ETRI_v1_0_0.ipynb\" target=\"_parent\"><img src=\"https://colab.research.google.com/assets/colab-badge.svg\" alt=\"Open In Colab\"/></a>"
      ]
    },
    {
      "cell_type": "markdown",
      "source": [
        "> title : 제 4회 ETRI 휴먼이해 인공지능 논문경진대회 <br>\n",
        "> author : hjy <br>"
      ],
      "metadata": {
        "id": "cTgURBTcpY0Q"
      }
    },
    {
      "cell_type": "code",
      "source": [
        "import pandas as pd\n",
        "import numpy as np\n",
        "import os\n",
        "import sys"
      ],
      "metadata": {
        "id": "MN6iwVhQpR_a"
      },
      "execution_count": null,
      "outputs": []
    },
    {
      "cell_type": "code",
      "source": [
        "from google.colab import drive\n",
        "drive.mount('/content/drive')"
      ],
      "metadata": {
        "colab": {
          "base_uri": "https://localhost:8080/"
        },
        "id": "8iVOoFq7pSCM",
        "outputId": "a8778b47-4fae-4e95-9c9c-c514ea3cc2d9"
      },
      "execution_count": null,
      "outputs": [
        {
          "output_type": "stream",
          "name": "stdout",
          "text": [
            "Mounted at /content/drive\n"
          ]
        }
      ]
    },
    {
      "cell_type": "code",
      "source": [
        "path = '/content/drive/MyDrive/data/ch2025_data_items/'\n",
        "ch2025_mACStatus = pd.read_parquet(path+'ch2025_mACStatus.parquet')\n",
        "ch2025_mActivity = pd.read_parquet(path+'ch2025_mActivity.parquet')\n",
        "ch2025_mAmbience = pd.read_parquet(path+'ch2025_mAmbience.parquet')\n",
        "ch2025_mBle = pd.read_parquet(path+'ch2025_mBle.parquet')\n",
        "ch2025_mGps = pd.read_parquet(path+'ch2025_mGps.parquet')\n",
        "ch2025_mLight = pd.read_parquet(path+'ch2025_mLight.parquet')\n",
        "ch2025_mScreenStatus = pd.read_parquet(path+'ch2025_mScreenStatus.parquet')\n",
        "ch2025_mUsageStats = pd.read_parquet(path+'ch2025_mUsageStats.parquet')\n",
        "ch2025_mWifi = pd.read_parquet(path+'ch2025_mWifi.parquet')\n",
        "ch2025_wHr = pd.read_parquet(path+'ch2025_wHr.parquet')\n",
        "ch2025_wLight = pd.read_parquet(path+'ch2025_wLight.parquet')\n",
        "ch2025_wPedo = pd.read_parquet(path+'ch2025_wPedo.parquet')"
      ],
      "metadata": {
        "id": "jw0cx3wwpSE2"
      },
      "execution_count": null,
      "outputs": []
    },
    {
      "cell_type": "code",
      "source": [],
      "metadata": {
        "id": "Uw-5Ms-mpSM8"
      },
      "execution_count": null,
      "outputs": []
    },
    {
      "cell_type": "code",
      "source": [],
      "metadata": {
        "id": "AXgRZ2gupSPs"
      },
      "execution_count": null,
      "outputs": []
    },
    {
      "cell_type": "code",
      "source": [],
      "metadata": {
        "id": "XR9lOZW-pSSh"
      },
      "execution_count": null,
      "outputs": []
    },
    {
      "cell_type": "code",
      "source": [],
      "metadata": {
        "id": "AFG724VzpSVD"
      },
      "execution_count": null,
      "outputs": []
    },
    {
      "cell_type": "code",
      "source": [],
      "metadata": {
        "id": "UExuUkskpSXs"
      },
      "execution_count": null,
      "outputs": []
    },
    {
      "cell_type": "code",
      "source": [],
      "metadata": {
        "id": "EfJSH6VhpSac"
      },
      "execution_count": null,
      "outputs": []
    },
    {
      "cell_type": "code",
      "source": [],
      "metadata": {
        "id": "FJHeu7wQpSdL"
      },
      "execution_count": null,
      "outputs": []
    },
    {
      "cell_type": "code",
      "source": [],
      "metadata": {
        "id": "JApa_DpNpSf8"
      },
      "execution_count": null,
      "outputs": []
    },
    {
      "cell_type": "code",
      "source": [],
      "metadata": {
        "id": "gZJLTIdupSiv"
      },
      "execution_count": null,
      "outputs": []
    },
    {
      "cell_type": "code",
      "source": [],
      "metadata": {
        "id": "928GgDMEpSlr"
      },
      "execution_count": null,
      "outputs": []
    },
    {
      "cell_type": "code",
      "source": [],
      "metadata": {
        "id": "KCkzm9hupSoY"
      },
      "execution_count": null,
      "outputs": []
    }
  ]
}
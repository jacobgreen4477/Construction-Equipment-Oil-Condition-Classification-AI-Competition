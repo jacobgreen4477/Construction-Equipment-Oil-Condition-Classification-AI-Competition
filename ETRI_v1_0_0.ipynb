{
  "nbformat": 4,
  "nbformat_minor": 0,
  "metadata": {
    "colab": {
      "provenance": [],
      "toc_visible": true,
      "authorship_tag": "ABX9TyMpUJER8dzQHhOKwV8k0mTy",
      "include_colab_link": true
    },
    "kernelspec": {
      "name": "python3",
      "display_name": "Python 3"
    },
    "language_info": {
      "name": "python"
    }
  },
  "cells": [
    {
      "cell_type": "markdown",
      "metadata": {
        "id": "view-in-github",
        "colab_type": "text"
      },
      "source": [
        "<a href=\"https://colab.research.google.com/github/jacobgreen4477/Construction-Equipment-Oil-Condition-Classification-AI-Competition/blob/main/ETRI_v1_0_0.ipynb\" target=\"_parent\"><img src=\"https://colab.research.google.com/assets/colab-badge.svg\" alt=\"Open In Colab\"/></a>"
      ]
    },
    {
      "cell_type": "markdown",
      "source": [
        "> title : 제 4회 ETRI 휴먼이해 인공지능 논문경진대회 <br>\n",
        "> author : hjy <br>"
      ],
      "metadata": {
        "id": "cTgURBTcpY0Q"
      }
    },
    {
      "cell_type": "markdown",
      "source": [
        "In our study, we used smartphones, smartwatches, sleep sensors, and self-recording apps to collect daily life logs and sleep health records of study participants in 2024.The data collection procedures and methods followed a similar approach to those used in previous studies. Here, we pu﻿blicly provide the following 12 data items, which comprise a total of 700 days' worth of lifelog data, strictly for non-commercial and academic research purposes only.\n",
        "- mACStatus: Indicates whether the smartphone is currently being charged.\n",
        "- mActivity: Value calculated by the Google Activity Recognition API.\n",
        "- mAmbience: Ambient sound identification labels and their respective probabilities.\n",
        "- mBle: Bluetooth devices around individual subject.\n",
        "- mGps: Multiple GPS coordinates measured within a single minute using the smartphone.\n",
        "- mLight: Ambient light measured by the smartphone.\n",
        "- mScreenStatus: Indicates whether the smartphone screen is in use.\n",
        "- mUsageStats: Indicates which apps were used on the smartphone and for how long.\n",
        "- mWifi: Wifi devices around individual subject.\n",
        "- wHr: Heart rate readings recorded by the smartwatch.\n",
        "- wLight: Ambient light measured by the smartwatch.\n",
        "- wPedo: Step data recorded by the smartwatch."
      ],
      "metadata": {
        "id": "2QhncbejZIfV"
      }
    },
    {
      "cell_type": "markdown",
      "source": [
        "For the purpose of training a learning model to predict sleep health, fatigue, and stress, the following six metrics were derived from sleep sensor data and self-reported survey records. Each metric consists of values categorized into either two levels (0, 1) or three levels (0, 1, 2), depending on the specific metric. The detailed classification criteria for each metric's levels will be provided in a separate document.\n",
        "- Q1: Overall sleep quality as perceived by a subject immediately after waking up.\n",
        "- Q2: Physical fatigue of a subject just before sleep.\n",
        "- Q3: Stress level experienced by a subject just before sleep.\n",
        "- S1: Adherence to sleep guidelines for total sleep time (TST).\n",
        "- S2: Adherence to sleep guidelines for sleep efficiency (SE).\n",
        "- S3: Adherence to sleep guidelines for sleep onset latency (SOL, or SL)."
      ],
      "metadata": {
        "id": "QkY5S7k0ZLFG"
      }
    },
    {
      "cell_type": "markdown",
      "source": [
        "### 📦 라이브러리"
      ],
      "metadata": {
        "id": "sDVNXLQtLU6X"
      }
    },
    {
      "cell_type": "code",
      "source": [
        "! pip install haversine\n",
        "import pandas as pd\n",
        "import numpy as np\n",
        "import os\n",
        "import sys\n",
        "import matplotlib.pyplot as plt\n",
        "from datetime import datetime, timedelta\n",
        "import warnings\n",
        "from tqdm.auto import tqdm\n",
        "from collections import Counter\n",
        "from scipy.stats import entropy\n",
        "from haversine import haversine  # 설치 필요: pip install haversine\n",
        "\n",
        "warnings.filterwarnings('ignore')"
      ],
      "metadata": {
        "id": "MN6iwVhQpR_a",
        "colab": {
          "base_uri": "https://localhost:8080/"
        },
        "outputId": "81a7cab0-9827-4159-add8-4792b0c237d6"
      },
      "execution_count": 1,
      "outputs": [
        {
          "output_type": "stream",
          "name": "stdout",
          "text": [
            "Requirement already satisfied: haversine in /usr/local/lib/python3.11/dist-packages (2.9.0)\n"
          ]
        }
      ]
    },
    {
      "cell_type": "code",
      "source": [
        "import re\n",
        "import ast\n",
        "from tqdm import tqdm  # ← 추가\n",
        "from math import radians, cos, sin, asin, sqrt\n",
        "from datetime import time\n",
        "from datetime import timedelta\n",
        "from functools import reduce"
      ],
      "metadata": {
        "id": "cFvEVmxWsRH4"
      },
      "execution_count": 2,
      "outputs": []
    },
    {
      "cell_type": "code",
      "source": [
        "from google.colab import drive\n",
        "drive.mount('/content/drive')"
      ],
      "metadata": {
        "colab": {
          "base_uri": "https://localhost:8080/"
        },
        "id": "8iVOoFq7pSCM",
        "outputId": "bcfe6af4-14a9-482f-b403-fabff41c9dfb"
      },
      "execution_count": 3,
      "outputs": [
        {
          "output_type": "stream",
          "name": "stdout",
          "text": [
            "Drive already mounted at /content/drive; to attempt to forcibly remount, call drive.mount(\"/content/drive\", force_remount=True).\n"
          ]
        }
      ]
    },
    {
      "cell_type": "code",
      "source": [
        "# pandas 옵션\n",
        "pd.set_option('display.max_columns', 999)\n",
        "pd.set_option('display.max_rows', 999)\n",
        "pd.set_option('display.max_colwidth', None)\n",
        "pd.set_option('display.float_format', lambda x: '%0.4f' % x)"
      ],
      "metadata": {
        "id": "gIbC9LQkv6T4"
      },
      "execution_count": 4,
      "outputs": []
    },
    {
      "cell_type": "code",
      "source": [],
      "metadata": {
        "id": "38uzdH-UYh_3"
      },
      "execution_count": 4,
      "outputs": []
    },
    {
      "cell_type": "code",
      "source": [],
      "metadata": {
        "id": "S_ZQfubWYiCk"
      },
      "execution_count": 4,
      "outputs": []
    },
    {
      "cell_type": "code",
      "source": [],
      "metadata": {
        "id": "8ikO0GN_KxyQ"
      },
      "execution_count": 4,
      "outputs": []
    },
    {
      "cell_type": "code",
      "source": [],
      "metadata": {
        "id": "WEHsA6naKx0G"
      },
      "execution_count": 4,
      "outputs": []
    },
    {
      "cell_type": "markdown",
      "source": [
        "### 📦 데이터 읽기"
      ],
      "metadata": {
        "id": "BodxdJFiv_DJ"
      }
    },
    {
      "cell_type": "code",
      "source": [
        "path = '/content/drive/MyDrive/data/ch2025_data_items/'\n",
        "\n",
        "# 1\n",
        "mACStatus = pd.read_parquet(path+'ch2025_mACStatus.parquet')\n",
        "mActivity = pd.read_parquet(path+'ch2025_mActivity.parquet')\n",
        "mAmbience = pd.read_parquet(path+'ch2025_mAmbience.parquet')\n",
        "mBle = pd.read_parquet(path+'ch2025_mBle.parquet')\n",
        "mGps = pd.read_parquet(path+'ch2025_mGps.parquet')\n",
        "mLight = pd.read_parquet(path+'ch2025_mLight.parquet')\n",
        "mScreenStatus = pd.read_parquet(path+'ch2025_mScreenStatus.parquet')\n",
        "mUsageStats = pd.read_parquet(path+'ch2025_mUsageStats.parquet')\n",
        "mWifi = pd.read_parquet(path+'ch2025_mWifi.parquet')\n",
        "wHr = pd.read_parquet(path+'ch2025_wHr.parquet')\n",
        "wLight = pd.read_parquet(path+'ch2025_wLight.parquet')\n",
        "wPedo = pd.read_parquet(path+'ch2025_wPedo.parquet')\n",
        "\n",
        "# 2\n",
        "train = pd.read_csv('/content/drive/MyDrive/data/ch2025_metrics_train.csv')\n",
        "test = pd.read_csv('/content/drive/MyDrive/data/ch2025_submission_sample.csv')"
      ],
      "metadata": {
        "id": "jw0cx3wwpSE2"
      },
      "execution_count": 5,
      "outputs": []
    },
    {
      "cell_type": "code",
      "source": [],
      "metadata": {
        "id": "Tk45v0V5xiay"
      },
      "execution_count": 5,
      "outputs": []
    },
    {
      "cell_type": "code",
      "source": [],
      "metadata": {
        "id": "prr7ohi9xigF"
      },
      "execution_count": 5,
      "outputs": []
    },
    {
      "cell_type": "code",
      "source": [],
      "metadata": {
        "id": "C4xrmW1wxik-"
      },
      "execution_count": 5,
      "outputs": []
    },
    {
      "cell_type": "code",
      "source": [],
      "metadata": {
        "id": "ykbdRSk-fv-V"
      },
      "execution_count": 5,
      "outputs": []
    },
    {
      "cell_type": "markdown",
      "source": [
        "### ✅ mACStatus 핸드폰 충전상태\n",
        "- Indicates whether the smartphone is currently being charged.\n",
        "- m_charging : 0/1 상태\n",
        "- 핸드폰이 오랫 동안 충전했다는 의미?\n",
        " - 한 자리에 장시간 머물러 있었다.\n",
        " - 핸드폰을 장시간 사용하지 않았다.  "
      ],
      "metadata": {
        "id": "3W53JPEe7Oq9"
      }
    },
    {
      "cell_type": "code",
      "source": [
        "mACStatus['lifelog_date'] = mACStatus['timestamp'].astype(str).str[:10]\n",
        "mACStatus.head(1)"
      ],
      "metadata": {
        "id": "KbbCp8nmfwCH",
        "colab": {
          "base_uri": "https://localhost:8080/",
          "height": 81
        },
        "outputId": "8d7e8c5c-4b0d-4439-8fd5-878295315852"
      },
      "execution_count": 6,
      "outputs": [
        {
          "output_type": "execute_result",
          "data": {
            "text/plain": [
              "  subject_id           timestamp  m_charging lifelog_date\n",
              "0       id01 2024-06-26 12:03:00           0   2024-06-26"
            ],
            "text/html": [
              "\n",
              "  <div id=\"df-8599c076-0ac6-4a5e-8462-8943704c0091\" class=\"colab-df-container\">\n",
              "    <div>\n",
              "<style scoped>\n",
              "    .dataframe tbody tr th:only-of-type {\n",
              "        vertical-align: middle;\n",
              "    }\n",
              "\n",
              "    .dataframe tbody tr th {\n",
              "        vertical-align: top;\n",
              "    }\n",
              "\n",
              "    .dataframe thead th {\n",
              "        text-align: right;\n",
              "    }\n",
              "</style>\n",
              "<table border=\"1\" class=\"dataframe\">\n",
              "  <thead>\n",
              "    <tr style=\"text-align: right;\">\n",
              "      <th></th>\n",
              "      <th>subject_id</th>\n",
              "      <th>timestamp</th>\n",
              "      <th>m_charging</th>\n",
              "      <th>lifelog_date</th>\n",
              "    </tr>\n",
              "  </thead>\n",
              "  <tbody>\n",
              "    <tr>\n",
              "      <th>0</th>\n",
              "      <td>id01</td>\n",
              "      <td>2024-06-26 12:03:00</td>\n",
              "      <td>0</td>\n",
              "      <td>2024-06-26</td>\n",
              "    </tr>\n",
              "  </tbody>\n",
              "</table>\n",
              "</div>\n",
              "    <div class=\"colab-df-buttons\">\n",
              "\n",
              "  <div class=\"colab-df-container\">\n",
              "    <button class=\"colab-df-convert\" onclick=\"convertToInteractive('df-8599c076-0ac6-4a5e-8462-8943704c0091')\"\n",
              "            title=\"Convert this dataframe to an interactive table.\"\n",
              "            style=\"display:none;\">\n",
              "\n",
              "  <svg xmlns=\"http://www.w3.org/2000/svg\" height=\"24px\" viewBox=\"0 -960 960 960\">\n",
              "    <path d=\"M120-120v-720h720v720H120Zm60-500h600v-160H180v160Zm220 220h160v-160H400v160Zm0 220h160v-160H400v160ZM180-400h160v-160H180v160Zm440 0h160v-160H620v160ZM180-180h160v-160H180v160Zm440 0h160v-160H620v160Z\"/>\n",
              "  </svg>\n",
              "    </button>\n",
              "\n",
              "  <style>\n",
              "    .colab-df-container {\n",
              "      display:flex;\n",
              "      gap: 12px;\n",
              "    }\n",
              "\n",
              "    .colab-df-convert {\n",
              "      background-color: #E8F0FE;\n",
              "      border: none;\n",
              "      border-radius: 50%;\n",
              "      cursor: pointer;\n",
              "      display: none;\n",
              "      fill: #1967D2;\n",
              "      height: 32px;\n",
              "      padding: 0 0 0 0;\n",
              "      width: 32px;\n",
              "    }\n",
              "\n",
              "    .colab-df-convert:hover {\n",
              "      background-color: #E2EBFA;\n",
              "      box-shadow: 0px 1px 2px rgba(60, 64, 67, 0.3), 0px 1px 3px 1px rgba(60, 64, 67, 0.15);\n",
              "      fill: #174EA6;\n",
              "    }\n",
              "\n",
              "    .colab-df-buttons div {\n",
              "      margin-bottom: 4px;\n",
              "    }\n",
              "\n",
              "    [theme=dark] .colab-df-convert {\n",
              "      background-color: #3B4455;\n",
              "      fill: #D2E3FC;\n",
              "    }\n",
              "\n",
              "    [theme=dark] .colab-df-convert:hover {\n",
              "      background-color: #434B5C;\n",
              "      box-shadow: 0px 1px 3px 1px rgba(0, 0, 0, 0.15);\n",
              "      filter: drop-shadow(0px 1px 2px rgba(0, 0, 0, 0.3));\n",
              "      fill: #FFFFFF;\n",
              "    }\n",
              "  </style>\n",
              "\n",
              "    <script>\n",
              "      const buttonEl =\n",
              "        document.querySelector('#df-8599c076-0ac6-4a5e-8462-8943704c0091 button.colab-df-convert');\n",
              "      buttonEl.style.display =\n",
              "        google.colab.kernel.accessAllowed ? 'block' : 'none';\n",
              "\n",
              "      async function convertToInteractive(key) {\n",
              "        const element = document.querySelector('#df-8599c076-0ac6-4a5e-8462-8943704c0091');\n",
              "        const dataTable =\n",
              "          await google.colab.kernel.invokeFunction('convertToInteractive',\n",
              "                                                    [key], {});\n",
              "        if (!dataTable) return;\n",
              "\n",
              "        const docLinkHtml = 'Like what you see? Visit the ' +\n",
              "          '<a target=\"_blank\" href=https://colab.research.google.com/notebooks/data_table.ipynb>data table notebook</a>'\n",
              "          + ' to learn more about interactive tables.';\n",
              "        element.innerHTML = '';\n",
              "        dataTable['output_type'] = 'display_data';\n",
              "        await google.colab.output.renderOutput(dataTable, element);\n",
              "        const docLink = document.createElement('div');\n",
              "        docLink.innerHTML = docLinkHtml;\n",
              "        element.appendChild(docLink);\n",
              "      }\n",
              "    </script>\n",
              "  </div>\n",
              "\n",
              "\n",
              "    </div>\n",
              "  </div>\n"
            ],
            "application/vnd.google.colaboratory.intrinsic+json": {
              "type": "dataframe",
              "variable_name": "mACStatus"
            }
          },
          "metadata": {},
          "execution_count": 6
        }
      ]
    },
    {
      "cell_type": "code",
      "source": [
        "def process_mACStatus(df):\n",
        "    df['timestamp'] = pd.to_datetime(df['timestamp'])\n",
        "    df = df.sort_values(['subject_id', 'timestamp'])\n",
        "\n",
        "    results = []\n",
        "\n",
        "    for (subj, lifelog_date), group in df.groupby(['subject_id', 'lifelog_date']):\n",
        "        status = group['m_charging'].values  # 0/1 상태\n",
        "        times = group['timestamp'].values\n",
        "\n",
        "        ratio_charging = status.mean()\n",
        "        sum_charging = status.sum()\n",
        "\n",
        "        # 상태 전이 횟수\n",
        "        transitions = (status[1:] != status[:-1]).sum()\n",
        "\n",
        "        # 연속된 1 상태 길이들\n",
        "        lengths = []\n",
        "        current_len = 0\n",
        "        for val in status:\n",
        "            if val == 1:\n",
        "                current_len += 1\n",
        "            elif current_len > 0:\n",
        "                lengths.append(current_len)\n",
        "                current_len = 0\n",
        "        if current_len > 0:\n",
        "            lengths.append(current_len)\n",
        "\n",
        "        avg_charging_duration = np.mean(lengths) if lengths else 0\n",
        "        max_charging_duration = np.max(lengths) if lengths else 0\n",
        "\n",
        "        results.append({\n",
        "            'subject_id': subj,\n",
        "            'lifelog_date': lifelog_date,\n",
        "            'charging_ratio': ratio_charging,\n",
        "            'charging_sum': sum_charging,\n",
        "            'charging_transitions': transitions,\n",
        "            'avg_charging_duration': avg_charging_duration,\n",
        "            'max_charging_duration': max_charging_duration,\n",
        "        })\n",
        "\n",
        "    return pd.DataFrame(results)\n",
        "\n",
        "mACStatus2 = process_mACStatus(mACStatus)\n",
        "\n",
        "# check\n",
        "print(f'# mACStatus2 shape: {mACStatus2.shape}')\n",
        "mACStatus2.head(1)"
      ],
      "metadata": {
        "colab": {
          "base_uri": "https://localhost:8080/",
          "height": 119
        },
        "id": "PxT8eg447Ztu",
        "outputId": "5f748d9d-fbc8-4feb-de47-afb7d410fded"
      },
      "execution_count": 7,
      "outputs": [
        {
          "output_type": "stream",
          "name": "stdout",
          "text": [
            "# mACStatus2 shape: (700, 7)\n"
          ]
        },
        {
          "output_type": "execute_result",
          "data": {
            "text/plain": [
              "  subject_id lifelog_date  charging_ratio  charging_sum  charging_transitions  \\\n",
              "0       id01   2024-06-26          0.2159           147                    22   \n",
              "\n",
              "   avg_charging_duration  max_charging_duration  \n",
              "0                13.3636                     41  "
            ],
            "text/html": [
              "\n",
              "  <div id=\"df-c7a94e06-14cf-4dfa-bcbd-d53efe83a695\" class=\"colab-df-container\">\n",
              "    <div>\n",
              "<style scoped>\n",
              "    .dataframe tbody tr th:only-of-type {\n",
              "        vertical-align: middle;\n",
              "    }\n",
              "\n",
              "    .dataframe tbody tr th {\n",
              "        vertical-align: top;\n",
              "    }\n",
              "\n",
              "    .dataframe thead th {\n",
              "        text-align: right;\n",
              "    }\n",
              "</style>\n",
              "<table border=\"1\" class=\"dataframe\">\n",
              "  <thead>\n",
              "    <tr style=\"text-align: right;\">\n",
              "      <th></th>\n",
              "      <th>subject_id</th>\n",
              "      <th>lifelog_date</th>\n",
              "      <th>charging_ratio</th>\n",
              "      <th>charging_sum</th>\n",
              "      <th>charging_transitions</th>\n",
              "      <th>avg_charging_duration</th>\n",
              "      <th>max_charging_duration</th>\n",
              "    </tr>\n",
              "  </thead>\n",
              "  <tbody>\n",
              "    <tr>\n",
              "      <th>0</th>\n",
              "      <td>id01</td>\n",
              "      <td>2024-06-26</td>\n",
              "      <td>0.2159</td>\n",
              "      <td>147</td>\n",
              "      <td>22</td>\n",
              "      <td>13.3636</td>\n",
              "      <td>41</td>\n",
              "    </tr>\n",
              "  </tbody>\n",
              "</table>\n",
              "</div>\n",
              "    <div class=\"colab-df-buttons\">\n",
              "\n",
              "  <div class=\"colab-df-container\">\n",
              "    <button class=\"colab-df-convert\" onclick=\"convertToInteractive('df-c7a94e06-14cf-4dfa-bcbd-d53efe83a695')\"\n",
              "            title=\"Convert this dataframe to an interactive table.\"\n",
              "            style=\"display:none;\">\n",
              "\n",
              "  <svg xmlns=\"http://www.w3.org/2000/svg\" height=\"24px\" viewBox=\"0 -960 960 960\">\n",
              "    <path d=\"M120-120v-720h720v720H120Zm60-500h600v-160H180v160Zm220 220h160v-160H400v160Zm0 220h160v-160H400v160ZM180-400h160v-160H180v160Zm440 0h160v-160H620v160ZM180-180h160v-160H180v160Zm440 0h160v-160H620v160Z\"/>\n",
              "  </svg>\n",
              "    </button>\n",
              "\n",
              "  <style>\n",
              "    .colab-df-container {\n",
              "      display:flex;\n",
              "      gap: 12px;\n",
              "    }\n",
              "\n",
              "    .colab-df-convert {\n",
              "      background-color: #E8F0FE;\n",
              "      border: none;\n",
              "      border-radius: 50%;\n",
              "      cursor: pointer;\n",
              "      display: none;\n",
              "      fill: #1967D2;\n",
              "      height: 32px;\n",
              "      padding: 0 0 0 0;\n",
              "      width: 32px;\n",
              "    }\n",
              "\n",
              "    .colab-df-convert:hover {\n",
              "      background-color: #E2EBFA;\n",
              "      box-shadow: 0px 1px 2px rgba(60, 64, 67, 0.3), 0px 1px 3px 1px rgba(60, 64, 67, 0.15);\n",
              "      fill: #174EA6;\n",
              "    }\n",
              "\n",
              "    .colab-df-buttons div {\n",
              "      margin-bottom: 4px;\n",
              "    }\n",
              "\n",
              "    [theme=dark] .colab-df-convert {\n",
              "      background-color: #3B4455;\n",
              "      fill: #D2E3FC;\n",
              "    }\n",
              "\n",
              "    [theme=dark] .colab-df-convert:hover {\n",
              "      background-color: #434B5C;\n",
              "      box-shadow: 0px 1px 3px 1px rgba(0, 0, 0, 0.15);\n",
              "      filter: drop-shadow(0px 1px 2px rgba(0, 0, 0, 0.3));\n",
              "      fill: #FFFFFF;\n",
              "    }\n",
              "  </style>\n",
              "\n",
              "    <script>\n",
              "      const buttonEl =\n",
              "        document.querySelector('#df-c7a94e06-14cf-4dfa-bcbd-d53efe83a695 button.colab-df-convert');\n",
              "      buttonEl.style.display =\n",
              "        google.colab.kernel.accessAllowed ? 'block' : 'none';\n",
              "\n",
              "      async function convertToInteractive(key) {\n",
              "        const element = document.querySelector('#df-c7a94e06-14cf-4dfa-bcbd-d53efe83a695');\n",
              "        const dataTable =\n",
              "          await google.colab.kernel.invokeFunction('convertToInteractive',\n",
              "                                                    [key], {});\n",
              "        if (!dataTable) return;\n",
              "\n",
              "        const docLinkHtml = 'Like what you see? Visit the ' +\n",
              "          '<a target=\"_blank\" href=https://colab.research.google.com/notebooks/data_table.ipynb>data table notebook</a>'\n",
              "          + ' to learn more about interactive tables.';\n",
              "        element.innerHTML = '';\n",
              "        dataTable['output_type'] = 'display_data';\n",
              "        await google.colab.output.renderOutput(dataTable, element);\n",
              "        const docLink = document.createElement('div');\n",
              "        docLink.innerHTML = docLinkHtml;\n",
              "        element.appendChild(docLink);\n",
              "      }\n",
              "    </script>\n",
              "  </div>\n",
              "\n",
              "\n",
              "    </div>\n",
              "  </div>\n"
            ],
            "application/vnd.google.colaboratory.intrinsic+json": {
              "type": "dataframe",
              "variable_name": "mACStatus2",
              "summary": "{\n  \"name\": \"mACStatus2\",\n  \"rows\": 700,\n  \"fields\": [\n    {\n      \"column\": \"subject_id\",\n      \"properties\": {\n        \"dtype\": \"category\",\n        \"num_unique_values\": 10,\n        \"samples\": [\n          \"id09\",\n          \"id02\",\n          \"id06\"\n        ],\n        \"semantic_type\": \"\",\n        \"description\": \"\"\n      }\n    },\n    {\n      \"column\": \"lifelog_date\",\n      \"properties\": {\n        \"dtype\": \"object\",\n        \"num_unique_values\": 166,\n        \"samples\": [\n          \"2024-10-08\",\n          \"2024-11-14\",\n          \"2024-09-05\"\n        ],\n        \"semantic_type\": \"\",\n        \"description\": \"\"\n      }\n    },\n    {\n      \"column\": \"charging_ratio\",\n      \"properties\": {\n        \"dtype\": \"number\",\n        \"std\": 0.17958458546743697,\n        \"min\": 0.0,\n        \"max\": 0.9717948717948718,\n        \"num_unique_values\": 677,\n        \"samples\": [\n          0.23286713286713287,\n          0.39647887323943665,\n          0.22206605762473647\n        ],\n        \"semantic_type\": \"\",\n        \"description\": \"\"\n      }\n    },\n    {\n      \"column\": \"charging_sum\",\n      \"properties\": {\n        \"dtype\": \"number\",\n        \"std\": 245,\n        \"min\": 0,\n        \"max\": 1186,\n        \"num_unique_values\": 471,\n        \"samples\": [\n          176,\n          425,\n          348\n        ],\n        \"semantic_type\": \"\",\n        \"description\": \"\"\n      }\n    },\n    {\n      \"column\": \"charging_transitions\",\n      \"properties\": {\n        \"dtype\": \"number\",\n        \"std\": 8,\n        \"min\": 0,\n        \"max\": 56,\n        \"num_unique_values\": 45,\n        \"samples\": [\n          36,\n          16,\n          11\n        ],\n        \"semantic_type\": \"\",\n        \"description\": \"\"\n      }\n    },\n    {\n      \"column\": \"avg_charging_duration\",\n      \"properties\": {\n        \"dtype\": \"number\",\n        \"std\": 83.1108565221616,\n        \"min\": 0.0,\n        \"max\": 501.0,\n        \"num_unique_values\": 600,\n        \"samples\": [\n          192.66666666666666,\n          116.33333333333333,\n          118.0\n        ],\n        \"semantic_type\": \"\",\n        \"description\": \"\"\n      }\n    },\n    {\n      \"column\": \"max_charging_duration\",\n      \"properties\": {\n        \"dtype\": \"number\",\n        \"std\": 169,\n        \"min\": 0,\n        \"max\": 789,\n        \"num_unique_values\": 356,\n        \"samples\": [\n          314,\n          351,\n          177\n        ],\n        \"semantic_type\": \"\",\n        \"description\": \"\"\n      }\n    }\n  ]\n}"
            }
          },
          "metadata": {},
          "execution_count": 7
        }
      ]
    },
    {
      "cell_type": "code",
      "source": [],
      "metadata": {
        "id": "dIe2M-fE7Zwm"
      },
      "execution_count": 7,
      "outputs": []
    },
    {
      "cell_type": "code",
      "source": [],
      "metadata": {
        "id": "LlMDuFeK7ZzZ"
      },
      "execution_count": 7,
      "outputs": []
    },
    {
      "cell_type": "code",
      "source": [],
      "metadata": {
        "id": "8uvGhvN07Z4l"
      },
      "execution_count": 7,
      "outputs": []
    },
    {
      "cell_type": "code",
      "source": [],
      "metadata": {
        "id": "D09tdsYf7Z7R"
      },
      "execution_count": 7,
      "outputs": []
    },
    {
      "cell_type": "markdown",
      "source": [
        "### ✅ mActivity 추정행동\n",
        "- Value calculated by the Google Activity Recognition API.\n",
        " - 0 : IN_VEHICLE\n",
        " - 1 : ON_BICYCLE\n",
        " - 2 : ON_FOOT\n",
        " - 3 : STILL (not moving)\n",
        " - 8 : RUNNING\n",
        " - 3 : TILTING (This often occurs when a device is picked up from a desk or a user who is sitting stands up.)\n",
        " - 4 : UNKNOWN\n",
        " - 7 : WALKING\n",
        "\n",
        "- 근무시간   : 오전 7시부터 오후 6시까지\n",
        "- 근무외시간 : 오후6시부터 12시까지"
      ],
      "metadata": {
        "id": "dHrp0dO_--pm"
      }
    },
    {
      "cell_type": "code",
      "source": [
        "mActivity['lifelog_date'] = mActivity['timestamp'].astype(str).str[:10]\n",
        "mActivity.head(1)"
      ],
      "metadata": {
        "id": "8Qy8JcbJfwEA",
        "colab": {
          "base_uri": "https://localhost:8080/",
          "height": 81
        },
        "outputId": "664b2cd2-659f-4d66-88a9-aeed0996624f"
      },
      "execution_count": 8,
      "outputs": [
        {
          "output_type": "execute_result",
          "data": {
            "text/plain": [
              "  subject_id           timestamp  m_activity lifelog_date\n",
              "0       id01 2024-06-26 12:03:00           4   2024-06-26"
            ],
            "text/html": [
              "\n",
              "  <div id=\"df-98e9708e-1b8d-4393-ae9d-f8a109b742e5\" class=\"colab-df-container\">\n",
              "    <div>\n",
              "<style scoped>\n",
              "    .dataframe tbody tr th:only-of-type {\n",
              "        vertical-align: middle;\n",
              "    }\n",
              "\n",
              "    .dataframe tbody tr th {\n",
              "        vertical-align: top;\n",
              "    }\n",
              "\n",
              "    .dataframe thead th {\n",
              "        text-align: right;\n",
              "    }\n",
              "</style>\n",
              "<table border=\"1\" class=\"dataframe\">\n",
              "  <thead>\n",
              "    <tr style=\"text-align: right;\">\n",
              "      <th></th>\n",
              "      <th>subject_id</th>\n",
              "      <th>timestamp</th>\n",
              "      <th>m_activity</th>\n",
              "      <th>lifelog_date</th>\n",
              "    </tr>\n",
              "  </thead>\n",
              "  <tbody>\n",
              "    <tr>\n",
              "      <th>0</th>\n",
              "      <td>id01</td>\n",
              "      <td>2024-06-26 12:03:00</td>\n",
              "      <td>4</td>\n",
              "      <td>2024-06-26</td>\n",
              "    </tr>\n",
              "  </tbody>\n",
              "</table>\n",
              "</div>\n",
              "    <div class=\"colab-df-buttons\">\n",
              "\n",
              "  <div class=\"colab-df-container\">\n",
              "    <button class=\"colab-df-convert\" onclick=\"convertToInteractive('df-98e9708e-1b8d-4393-ae9d-f8a109b742e5')\"\n",
              "            title=\"Convert this dataframe to an interactive table.\"\n",
              "            style=\"display:none;\">\n",
              "\n",
              "  <svg xmlns=\"http://www.w3.org/2000/svg\" height=\"24px\" viewBox=\"0 -960 960 960\">\n",
              "    <path d=\"M120-120v-720h720v720H120Zm60-500h600v-160H180v160Zm220 220h160v-160H400v160Zm0 220h160v-160H400v160ZM180-400h160v-160H180v160Zm440 0h160v-160H620v160ZM180-180h160v-160H180v160Zm440 0h160v-160H620v160Z\"/>\n",
              "  </svg>\n",
              "    </button>\n",
              "\n",
              "  <style>\n",
              "    .colab-df-container {\n",
              "      display:flex;\n",
              "      gap: 12px;\n",
              "    }\n",
              "\n",
              "    .colab-df-convert {\n",
              "      background-color: #E8F0FE;\n",
              "      border: none;\n",
              "      border-radius: 50%;\n",
              "      cursor: pointer;\n",
              "      display: none;\n",
              "      fill: #1967D2;\n",
              "      height: 32px;\n",
              "      padding: 0 0 0 0;\n",
              "      width: 32px;\n",
              "    }\n",
              "\n",
              "    .colab-df-convert:hover {\n",
              "      background-color: #E2EBFA;\n",
              "      box-shadow: 0px 1px 2px rgba(60, 64, 67, 0.3), 0px 1px 3px 1px rgba(60, 64, 67, 0.15);\n",
              "      fill: #174EA6;\n",
              "    }\n",
              "\n",
              "    .colab-df-buttons div {\n",
              "      margin-bottom: 4px;\n",
              "    }\n",
              "\n",
              "    [theme=dark] .colab-df-convert {\n",
              "      background-color: #3B4455;\n",
              "      fill: #D2E3FC;\n",
              "    }\n",
              "\n",
              "    [theme=dark] .colab-df-convert:hover {\n",
              "      background-color: #434B5C;\n",
              "      box-shadow: 0px 1px 3px 1px rgba(0, 0, 0, 0.15);\n",
              "      filter: drop-shadow(0px 1px 2px rgba(0, 0, 0, 0.3));\n",
              "      fill: #FFFFFF;\n",
              "    }\n",
              "  </style>\n",
              "\n",
              "    <script>\n",
              "      const buttonEl =\n",
              "        document.querySelector('#df-98e9708e-1b8d-4393-ae9d-f8a109b742e5 button.colab-df-convert');\n",
              "      buttonEl.style.display =\n",
              "        google.colab.kernel.accessAllowed ? 'block' : 'none';\n",
              "\n",
              "      async function convertToInteractive(key) {\n",
              "        const element = document.querySelector('#df-98e9708e-1b8d-4393-ae9d-f8a109b742e5');\n",
              "        const dataTable =\n",
              "          await google.colab.kernel.invokeFunction('convertToInteractive',\n",
              "                                                    [key], {});\n",
              "        if (!dataTable) return;\n",
              "\n",
              "        const docLinkHtml = 'Like what you see? Visit the ' +\n",
              "          '<a target=\"_blank\" href=https://colab.research.google.com/notebooks/data_table.ipynb>data table notebook</a>'\n",
              "          + ' to learn more about interactive tables.';\n",
              "        element.innerHTML = '';\n",
              "        dataTable['output_type'] = 'display_data';\n",
              "        await google.colab.output.renderOutput(dataTable, element);\n",
              "        const docLink = document.createElement('div');\n",
              "        docLink.innerHTML = docLinkHtml;\n",
              "        element.appendChild(docLink);\n",
              "      }\n",
              "    </script>\n",
              "  </div>\n",
              "\n",
              "\n",
              "    </div>\n",
              "  </div>\n"
            ],
            "application/vnd.google.colaboratory.intrinsic+json": {
              "type": "dataframe",
              "variable_name": "mActivity"
            }
          },
          "metadata": {},
          "execution_count": 8
        }
      ]
    },
    {
      "cell_type": "code",
      "source": [
        "def process_mActivity_by_timezones(df):\n",
        "    df = df.copy()\n",
        "    df['timestamp'] = pd.to_datetime(df['timestamp'])\n",
        "    df['lifelog_date'] = df['timestamp'].dt.date\n",
        "    df['hour'] = df['timestamp'].dt.hour\n",
        "\n",
        "    def summarize(group_df, prefix=''):\n",
        "        summary = []\n",
        "        for (subj, date), group in group_df.groupby(['subject_id', 'lifelog_date']):\n",
        "            counts = group['m_activity'].value_counts(normalize=True)\n",
        "            counts2 = group['m_activity'].value_counts()\n",
        "            row = {'subject_id': subj, 'lifelog_date': date}\n",
        "\n",
        "            for i in range(9):\n",
        "                row[f'{prefix}activity_{i}_ratio'] = counts.get(i, 0)\n",
        "                row[f'{prefix}activity_{i}_count'] = counts2.get(i, 0)\n",
        "\n",
        "            row[f'{prefix}dominant_activity'] = group['m_activity'].mode()[0] if not group['m_activity'].mode().empty else None\n",
        "            row[f'{prefix}num_unique_activities'] = group['m_activity'].nunique()\n",
        "\n",
        "            summary.append(row)\n",
        "        return pd.DataFrame(summary)\n",
        "\n",
        "    # 전체 데이터 요약 (prefix 없음)\n",
        "    total_summary = summarize(df)\n",
        "\n",
        "    # 근무시간 (07:00 ~ 18:00)\n",
        "    worktime_df = df[(df['hour'] >= 7) & (df['hour'] < 18)]\n",
        "    worktime_summary = summarize(worktime_df, prefix='worktime_')\n",
        "\n",
        "    # 근무외시간 (18:00 ~ 24:00)\n",
        "    afterwork_df = df[(df['hour'] >= 18) & (df['hour'] < 24)]\n",
        "    afterwork_summary = summarize(afterwork_df, prefix='afterwork_')\n",
        "\n",
        "    # 취침시간 (00:00 ~ 07:00)\n",
        "    sleeptime_df = df[(df['hour'] >= 0) & (df['hour'] < 7)]\n",
        "    sleeptime_summary = summarize(sleeptime_df, prefix='sleeptime_')\n",
        "\n",
        "    # subject_id와 lifelog_date 기준으로 모두 합치기\n",
        "    result = total_summary.copy()\n",
        "    result = pd.merge(result, worktime_summary, on=['subject_id', 'lifelog_date'], how='left')\n",
        "    result = pd.merge(result, afterwork_summary, on=['subject_id', 'lifelog_date'], how='left')\n",
        "    result = pd.merge(result, sleeptime_summary, on=['subject_id', 'lifelog_date'], how='left')\n",
        "\n",
        "    # 컬럼 정렬\n",
        "    cols = ['subject_id', 'lifelog_date'] + [col for col in result.columns if col not in ['subject_id', 'lifelog_date']]\n",
        "    result = result[cols]\n",
        "\n",
        "    # 결측 처리\n",
        "    result = result.fillna(0)\n",
        "\n",
        "    return result\n",
        "\n",
        "mActivity2 = process_mActivity_by_timezones(mActivity)\n",
        "\n",
        "# check\n",
        "print(f'# mActivity2 shape: {mActivity2.shape}')\n",
        "mActivity2.head(1)"
      ],
      "metadata": {
        "colab": {
          "base_uri": "https://localhost:8080/",
          "height": 119
        },
        "id": "hnxKmHia7rF_",
        "outputId": "a23a9210-f6bd-4320-b3a4-eba64c116387"
      },
      "execution_count": 9,
      "outputs": [
        {
          "output_type": "stream",
          "name": "stdout",
          "text": [
            "# mActivity2 shape: (700, 82)\n"
          ]
        },
        {
          "output_type": "execute_result",
          "data": {
            "text/plain": [
              "  subject_id lifelog_date  activity_0_ratio  activity_0_count  \\\n",
              "0       id01   2024-06-26            0.1252                89   \n",
              "\n",
              "   activity_1_ratio  activity_1_count  activity_2_ratio  activity_2_count  \\\n",
              "0            0.0014                 1                 0                 0   \n",
              "\n",
              "   activity_3_ratio  activity_3_count  activity_4_ratio  activity_4_count  \\\n",
              "0            0.6723               478            0.1575               112   \n",
              "\n",
              "   activity_5_ratio  activity_5_count  activity_6_ratio  activity_6_count  \\\n",
              "0                 0                 0                 0                 0   \n",
              "\n",
              "   activity_7_ratio  activity_7_count  activity_8_ratio  activity_8_count  \\\n",
              "0            0.0436                31            0.0000                 0   \n",
              "\n",
              "   dominant_activity  num_unique_activities  worktime_activity_0_ratio  \\\n",
              "0                  3                      5                     0.0700   \n",
              "\n",
              "   worktime_activity_0_count  worktime_activity_1_ratio  \\\n",
              "0                    25.0000                     0.0028   \n",
              "\n",
              "   worktime_activity_1_count  worktime_activity_2_ratio  \\\n",
              "0                     1.0000                     0.0000   \n",
              "\n",
              "   worktime_activity_2_count  worktime_activity_3_ratio  \\\n",
              "0                     0.0000                     0.8768   \n",
              "\n",
              "   worktime_activity_3_count  worktime_activity_4_ratio  \\\n",
              "0                   313.0000                     0.0028   \n",
              "\n",
              "   worktime_activity_4_count  worktime_activity_5_ratio  \\\n",
              "0                     1.0000                     0.0000   \n",
              "\n",
              "   worktime_activity_5_count  worktime_activity_6_ratio  \\\n",
              "0                     0.0000                     0.0000   \n",
              "\n",
              "   worktime_activity_6_count  worktime_activity_7_ratio  \\\n",
              "0                     0.0000                     0.0476   \n",
              "\n",
              "   worktime_activity_7_count  worktime_activity_8_ratio  \\\n",
              "0                    17.0000                     0.0000   \n",
              "\n",
              "   worktime_activity_8_count  worktime_dominant_activity  \\\n",
              "0                     0.0000                      3.0000   \n",
              "\n",
              "   worktime_num_unique_activities  afterwork_activity_0_ratio  \\\n",
              "0                          5.0000                      0.1808   \n",
              "\n",
              "   afterwork_activity_0_count  afterwork_activity_1_ratio  \\\n",
              "0                     64.0000                      0.0000   \n",
              "\n",
              "   afterwork_activity_1_count  afterwork_activity_2_ratio  \\\n",
              "0                      0.0000                      0.0000   \n",
              "\n",
              "   afterwork_activity_2_count  afterwork_activity_3_ratio  \\\n",
              "0                      0.0000                      0.4661   \n",
              "\n",
              "   afterwork_activity_3_count  afterwork_activity_4_ratio  \\\n",
              "0                    165.0000                      0.3136   \n",
              "\n",
              "   afterwork_activity_4_count  afterwork_activity_5_ratio  \\\n",
              "0                    111.0000                      0.0000   \n",
              "\n",
              "   afterwork_activity_5_count  afterwork_activity_6_ratio  \\\n",
              "0                      0.0000                      0.0000   \n",
              "\n",
              "   afterwork_activity_6_count  afterwork_activity_7_ratio  \\\n",
              "0                      0.0000                      0.0395   \n",
              "\n",
              "   afterwork_activity_7_count  afterwork_activity_8_ratio  \\\n",
              "0                     14.0000                      0.0000   \n",
              "\n",
              "   afterwork_activity_8_count  afterwork_dominant_activity  \\\n",
              "0                      0.0000                       3.0000   \n",
              "\n",
              "   afterwork_num_unique_activities  sleeptime_activity_0_ratio  \\\n",
              "0                           4.0000                      0.0000   \n",
              "\n",
              "   sleeptime_activity_0_count  sleeptime_activity_1_ratio  \\\n",
              "0                      0.0000                      0.0000   \n",
              "\n",
              "   sleeptime_activity_1_count  sleeptime_activity_2_ratio  \\\n",
              "0                      0.0000                      0.0000   \n",
              "\n",
              "   sleeptime_activity_2_count  sleeptime_activity_3_ratio  \\\n",
              "0                      0.0000                      0.0000   \n",
              "\n",
              "   sleeptime_activity_3_count  sleeptime_activity_4_ratio  \\\n",
              "0                      0.0000                      0.0000   \n",
              "\n",
              "   sleeptime_activity_4_count  sleeptime_activity_5_ratio  \\\n",
              "0                      0.0000                      0.0000   \n",
              "\n",
              "   sleeptime_activity_5_count  sleeptime_activity_6_ratio  \\\n",
              "0                      0.0000                      0.0000   \n",
              "\n",
              "   sleeptime_activity_6_count  sleeptime_activity_7_ratio  \\\n",
              "0                      0.0000                      0.0000   \n",
              "\n",
              "   sleeptime_activity_7_count  sleeptime_activity_8_ratio  \\\n",
              "0                      0.0000                      0.0000   \n",
              "\n",
              "   sleeptime_activity_8_count  sleeptime_dominant_activity  \\\n",
              "0                      0.0000                       0.0000   \n",
              "\n",
              "   sleeptime_num_unique_activities  \n",
              "0                           0.0000  "
            ],
            "text/html": [
              "\n",
              "  <div id=\"df-71f32c67-9234-4d5c-8f2a-8fcd03b7500d\" class=\"colab-df-container\">\n",
              "    <div>\n",
              "<style scoped>\n",
              "    .dataframe tbody tr th:only-of-type {\n",
              "        vertical-align: middle;\n",
              "    }\n",
              "\n",
              "    .dataframe tbody tr th {\n",
              "        vertical-align: top;\n",
              "    }\n",
              "\n",
              "    .dataframe thead th {\n",
              "        text-align: right;\n",
              "    }\n",
              "</style>\n",
              "<table border=\"1\" class=\"dataframe\">\n",
              "  <thead>\n",
              "    <tr style=\"text-align: right;\">\n",
              "      <th></th>\n",
              "      <th>subject_id</th>\n",
              "      <th>lifelog_date</th>\n",
              "      <th>activity_0_ratio</th>\n",
              "      <th>activity_0_count</th>\n",
              "      <th>activity_1_ratio</th>\n",
              "      <th>activity_1_count</th>\n",
              "      <th>activity_2_ratio</th>\n",
              "      <th>activity_2_count</th>\n",
              "      <th>activity_3_ratio</th>\n",
              "      <th>activity_3_count</th>\n",
              "      <th>activity_4_ratio</th>\n",
              "      <th>activity_4_count</th>\n",
              "      <th>activity_5_ratio</th>\n",
              "      <th>activity_5_count</th>\n",
              "      <th>activity_6_ratio</th>\n",
              "      <th>activity_6_count</th>\n",
              "      <th>activity_7_ratio</th>\n",
              "      <th>activity_7_count</th>\n",
              "      <th>activity_8_ratio</th>\n",
              "      <th>activity_8_count</th>\n",
              "      <th>dominant_activity</th>\n",
              "      <th>num_unique_activities</th>\n",
              "      <th>worktime_activity_0_ratio</th>\n",
              "      <th>worktime_activity_0_count</th>\n",
              "      <th>worktime_activity_1_ratio</th>\n",
              "      <th>worktime_activity_1_count</th>\n",
              "      <th>worktime_activity_2_ratio</th>\n",
              "      <th>worktime_activity_2_count</th>\n",
              "      <th>worktime_activity_3_ratio</th>\n",
              "      <th>worktime_activity_3_count</th>\n",
              "      <th>worktime_activity_4_ratio</th>\n",
              "      <th>worktime_activity_4_count</th>\n",
              "      <th>worktime_activity_5_ratio</th>\n",
              "      <th>worktime_activity_5_count</th>\n",
              "      <th>worktime_activity_6_ratio</th>\n",
              "      <th>worktime_activity_6_count</th>\n",
              "      <th>worktime_activity_7_ratio</th>\n",
              "      <th>worktime_activity_7_count</th>\n",
              "      <th>worktime_activity_8_ratio</th>\n",
              "      <th>worktime_activity_8_count</th>\n",
              "      <th>worktime_dominant_activity</th>\n",
              "      <th>worktime_num_unique_activities</th>\n",
              "      <th>afterwork_activity_0_ratio</th>\n",
              "      <th>afterwork_activity_0_count</th>\n",
              "      <th>afterwork_activity_1_ratio</th>\n",
              "      <th>afterwork_activity_1_count</th>\n",
              "      <th>afterwork_activity_2_ratio</th>\n",
              "      <th>afterwork_activity_2_count</th>\n",
              "      <th>afterwork_activity_3_ratio</th>\n",
              "      <th>afterwork_activity_3_count</th>\n",
              "      <th>afterwork_activity_4_ratio</th>\n",
              "      <th>afterwork_activity_4_count</th>\n",
              "      <th>afterwork_activity_5_ratio</th>\n",
              "      <th>afterwork_activity_5_count</th>\n",
              "      <th>afterwork_activity_6_ratio</th>\n",
              "      <th>afterwork_activity_6_count</th>\n",
              "      <th>afterwork_activity_7_ratio</th>\n",
              "      <th>afterwork_activity_7_count</th>\n",
              "      <th>afterwork_activity_8_ratio</th>\n",
              "      <th>afterwork_activity_8_count</th>\n",
              "      <th>afterwork_dominant_activity</th>\n",
              "      <th>afterwork_num_unique_activities</th>\n",
              "      <th>sleeptime_activity_0_ratio</th>\n",
              "      <th>sleeptime_activity_0_count</th>\n",
              "      <th>sleeptime_activity_1_ratio</th>\n",
              "      <th>sleeptime_activity_1_count</th>\n",
              "      <th>sleeptime_activity_2_ratio</th>\n",
              "      <th>sleeptime_activity_2_count</th>\n",
              "      <th>sleeptime_activity_3_ratio</th>\n",
              "      <th>sleeptime_activity_3_count</th>\n",
              "      <th>sleeptime_activity_4_ratio</th>\n",
              "      <th>sleeptime_activity_4_count</th>\n",
              "      <th>sleeptime_activity_5_ratio</th>\n",
              "      <th>sleeptime_activity_5_count</th>\n",
              "      <th>sleeptime_activity_6_ratio</th>\n",
              "      <th>sleeptime_activity_6_count</th>\n",
              "      <th>sleeptime_activity_7_ratio</th>\n",
              "      <th>sleeptime_activity_7_count</th>\n",
              "      <th>sleeptime_activity_8_ratio</th>\n",
              "      <th>sleeptime_activity_8_count</th>\n",
              "      <th>sleeptime_dominant_activity</th>\n",
              "      <th>sleeptime_num_unique_activities</th>\n",
              "    </tr>\n",
              "  </thead>\n",
              "  <tbody>\n",
              "    <tr>\n",
              "      <th>0</th>\n",
              "      <td>id01</td>\n",
              "      <td>2024-06-26</td>\n",
              "      <td>0.1252</td>\n",
              "      <td>89</td>\n",
              "      <td>0.0014</td>\n",
              "      <td>1</td>\n",
              "      <td>0</td>\n",
              "      <td>0</td>\n",
              "      <td>0.6723</td>\n",
              "      <td>478</td>\n",
              "      <td>0.1575</td>\n",
              "      <td>112</td>\n",
              "      <td>0</td>\n",
              "      <td>0</td>\n",
              "      <td>0</td>\n",
              "      <td>0</td>\n",
              "      <td>0.0436</td>\n",
              "      <td>31</td>\n",
              "      <td>0.0000</td>\n",
              "      <td>0</td>\n",
              "      <td>3</td>\n",
              "      <td>5</td>\n",
              "      <td>0.0700</td>\n",
              "      <td>25.0000</td>\n",
              "      <td>0.0028</td>\n",
              "      <td>1.0000</td>\n",
              "      <td>0.0000</td>\n",
              "      <td>0.0000</td>\n",
              "      <td>0.8768</td>\n",
              "      <td>313.0000</td>\n",
              "      <td>0.0028</td>\n",
              "      <td>1.0000</td>\n",
              "      <td>0.0000</td>\n",
              "      <td>0.0000</td>\n",
              "      <td>0.0000</td>\n",
              "      <td>0.0000</td>\n",
              "      <td>0.0476</td>\n",
              "      <td>17.0000</td>\n",
              "      <td>0.0000</td>\n",
              "      <td>0.0000</td>\n",
              "      <td>3.0000</td>\n",
              "      <td>5.0000</td>\n",
              "      <td>0.1808</td>\n",
              "      <td>64.0000</td>\n",
              "      <td>0.0000</td>\n",
              "      <td>0.0000</td>\n",
              "      <td>0.0000</td>\n",
              "      <td>0.0000</td>\n",
              "      <td>0.4661</td>\n",
              "      <td>165.0000</td>\n",
              "      <td>0.3136</td>\n",
              "      <td>111.0000</td>\n",
              "      <td>0.0000</td>\n",
              "      <td>0.0000</td>\n",
              "      <td>0.0000</td>\n",
              "      <td>0.0000</td>\n",
              "      <td>0.0395</td>\n",
              "      <td>14.0000</td>\n",
              "      <td>0.0000</td>\n",
              "      <td>0.0000</td>\n",
              "      <td>3.0000</td>\n",
              "      <td>4.0000</td>\n",
              "      <td>0.0000</td>\n",
              "      <td>0.0000</td>\n",
              "      <td>0.0000</td>\n",
              "      <td>0.0000</td>\n",
              "      <td>0.0000</td>\n",
              "      <td>0.0000</td>\n",
              "      <td>0.0000</td>\n",
              "      <td>0.0000</td>\n",
              "      <td>0.0000</td>\n",
              "      <td>0.0000</td>\n",
              "      <td>0.0000</td>\n",
              "      <td>0.0000</td>\n",
              "      <td>0.0000</td>\n",
              "      <td>0.0000</td>\n",
              "      <td>0.0000</td>\n",
              "      <td>0.0000</td>\n",
              "      <td>0.0000</td>\n",
              "      <td>0.0000</td>\n",
              "      <td>0.0000</td>\n",
              "      <td>0.0000</td>\n",
              "    </tr>\n",
              "  </tbody>\n",
              "</table>\n",
              "</div>\n",
              "    <div class=\"colab-df-buttons\">\n",
              "\n",
              "  <div class=\"colab-df-container\">\n",
              "    <button class=\"colab-df-convert\" onclick=\"convertToInteractive('df-71f32c67-9234-4d5c-8f2a-8fcd03b7500d')\"\n",
              "            title=\"Convert this dataframe to an interactive table.\"\n",
              "            style=\"display:none;\">\n",
              "\n",
              "  <svg xmlns=\"http://www.w3.org/2000/svg\" height=\"24px\" viewBox=\"0 -960 960 960\">\n",
              "    <path d=\"M120-120v-720h720v720H120Zm60-500h600v-160H180v160Zm220 220h160v-160H400v160Zm0 220h160v-160H400v160ZM180-400h160v-160H180v160Zm440 0h160v-160H620v160ZM180-180h160v-160H180v160Zm440 0h160v-160H620v160Z\"/>\n",
              "  </svg>\n",
              "    </button>\n",
              "\n",
              "  <style>\n",
              "    .colab-df-container {\n",
              "      display:flex;\n",
              "      gap: 12px;\n",
              "    }\n",
              "\n",
              "    .colab-df-convert {\n",
              "      background-color: #E8F0FE;\n",
              "      border: none;\n",
              "      border-radius: 50%;\n",
              "      cursor: pointer;\n",
              "      display: none;\n",
              "      fill: #1967D2;\n",
              "      height: 32px;\n",
              "      padding: 0 0 0 0;\n",
              "      width: 32px;\n",
              "    }\n",
              "\n",
              "    .colab-df-convert:hover {\n",
              "      background-color: #E2EBFA;\n",
              "      box-shadow: 0px 1px 2px rgba(60, 64, 67, 0.3), 0px 1px 3px 1px rgba(60, 64, 67, 0.15);\n",
              "      fill: #174EA6;\n",
              "    }\n",
              "\n",
              "    .colab-df-buttons div {\n",
              "      margin-bottom: 4px;\n",
              "    }\n",
              "\n",
              "    [theme=dark] .colab-df-convert {\n",
              "      background-color: #3B4455;\n",
              "      fill: #D2E3FC;\n",
              "    }\n",
              "\n",
              "    [theme=dark] .colab-df-convert:hover {\n",
              "      background-color: #434B5C;\n",
              "      box-shadow: 0px 1px 3px 1px rgba(0, 0, 0, 0.15);\n",
              "      filter: drop-shadow(0px 1px 2px rgba(0, 0, 0, 0.3));\n",
              "      fill: #FFFFFF;\n",
              "    }\n",
              "  </style>\n",
              "\n",
              "    <script>\n",
              "      const buttonEl =\n",
              "        document.querySelector('#df-71f32c67-9234-4d5c-8f2a-8fcd03b7500d button.colab-df-convert');\n",
              "      buttonEl.style.display =\n",
              "        google.colab.kernel.accessAllowed ? 'block' : 'none';\n",
              "\n",
              "      async function convertToInteractive(key) {\n",
              "        const element = document.querySelector('#df-71f32c67-9234-4d5c-8f2a-8fcd03b7500d');\n",
              "        const dataTable =\n",
              "          await google.colab.kernel.invokeFunction('convertToInteractive',\n",
              "                                                    [key], {});\n",
              "        if (!dataTable) return;\n",
              "\n",
              "        const docLinkHtml = 'Like what you see? Visit the ' +\n",
              "          '<a target=\"_blank\" href=https://colab.research.google.com/notebooks/data_table.ipynb>data table notebook</a>'\n",
              "          + ' to learn more about interactive tables.';\n",
              "        element.innerHTML = '';\n",
              "        dataTable['output_type'] = 'display_data';\n",
              "        await google.colab.output.renderOutput(dataTable, element);\n",
              "        const docLink = document.createElement('div');\n",
              "        docLink.innerHTML = docLinkHtml;\n",
              "        element.appendChild(docLink);\n",
              "      }\n",
              "    </script>\n",
              "  </div>\n",
              "\n",
              "\n",
              "    </div>\n",
              "  </div>\n"
            ],
            "application/vnd.google.colaboratory.intrinsic+json": {
              "type": "dataframe",
              "variable_name": "mActivity2"
            }
          },
          "metadata": {},
          "execution_count": 9
        }
      ]
    },
    {
      "cell_type": "code",
      "source": [],
      "metadata": {
        "id": "Y5AVuzGc7rLx"
      },
      "execution_count": 9,
      "outputs": []
    },
    {
      "cell_type": "code",
      "source": [],
      "metadata": {
        "id": "n-G_pz1G7rTd"
      },
      "execution_count": 9,
      "outputs": []
    },
    {
      "cell_type": "code",
      "source": [],
      "metadata": {
        "id": "VB6M-WRHhmQG"
      },
      "execution_count": 9,
      "outputs": []
    },
    {
      "cell_type": "code",
      "source": [],
      "metadata": {
        "id": "wy-jlVrchmSy"
      },
      "execution_count": 9,
      "outputs": []
    },
    {
      "cell_type": "markdown",
      "source": [
        "### ✅ mAmbience 추정주변소리\n",
        "- Ambient sound identification labels and their respective probabilities.\n",
        "- 무슨 소리가 난게 중요할까?\n",
        "- 새벽에 무슨 소리던지 소리가 난게 중요한 걸까?\n",
        "- 여러 가지 소리 중에 노이즈도 포함되어 있을까?"
      ],
      "metadata": {
        "id": "bEu5F-6-hmgI"
      }
    },
    {
      "cell_type": "code",
      "source": [
        "def extract_labels_and_probs(row):\n",
        "    items = row['m_ambience']\n",
        "    labels = [item[0] for item in items]\n",
        "    probs = [item[1] for item in items]\n",
        "    return pd.Series({'labels': labels, 'prob': probs})\n",
        "\n",
        "mAmbience[['labels', 'prob']]  = mAmbience.apply(extract_labels_and_probs, axis=1)\n",
        "mAmbience['lifelog_date'] = mAmbience['timestamp'].astype(str).str[:10]\n",
        "mAmbience = mAmbience.drop(columns=['m_ambience'])\n",
        "mAmbience.head(1)"
      ],
      "metadata": {
        "id": "snxx7CH6gtif"
      },
      "execution_count": null,
      "outputs": []
    },
    {
      "cell_type": "code",
      "source": [
        "def process_mAmbience(df, top_n=3, special_labels=None):\n",
        "    df = df.copy()\n",
        "\n",
        "    # 시간 파생변수\n",
        "    df['timestamp'] = pd.to_datetime(df['timestamp'])\n",
        "    df['hour'] = df['timestamp'].dt.hour\n",
        "    df['weekday'] = df['timestamp'].dt.weekday\n",
        "    df['is_weekend'] = df['weekday'] >= 5\n",
        "\n",
        "    def map_time_period(row):\n",
        "        if 0 <= row['hour'] < 7:\n",
        "            return 'sleeptime'\n",
        "        elif 7 <= row['hour'] < 18:\n",
        "            return 'worktime'\n",
        "        else:\n",
        "            return 'afterwork'\n",
        "\n",
        "    df['time_period'] = df.apply(map_time_period, axis=1)\n",
        "\n",
        "    # 타임스탬프 차이(초단위)\n",
        "    df = df.sort_values(['subject_id', 'timestamp'])\n",
        "    df['duration_sec'] = df.groupby(['subject_id'])['timestamp'].diff().dt.total_seconds()\n",
        "    df['duration_sec'] = df['duration_sec'].fillna(0)\n",
        "\n",
        "    def process_group(group):\n",
        "        result = {}\n",
        "\n",
        "        time_period = group['time_period'].iloc[0]  # 그룹별 time_period 가져오기\n",
        "\n",
        "        labels = group['labels'].tolist()\n",
        "        probs = group['prob'].tolist()\n",
        "        durations = group['duration_sec'].tolist()\n",
        "\n",
        "        flat_labels = [label for labels_list in labels for label in labels_list]\n",
        "        flat_probs = [float(prob) for probs_list in probs for prob in probs_list]\n",
        "        repeated_durations = [dur for labels_list, dur in zip(labels, durations) for _ in labels_list]\n",
        "\n",
        "        if not flat_labels or not flat_probs:\n",
        "            return pd.Series()\n",
        "\n",
        "        flat_probs = np.array(flat_probs)\n",
        "\n",
        "        # prefix 설정\n",
        "        prefix = f'{time_period}_'\n",
        "\n",
        "        result[prefix + 'max_label'] = flat_labels[np.argmax(flat_probs)]\n",
        "        result[prefix + 'max_prob'] = np.max(flat_probs)\n",
        "        result[prefix + 'entropy'] = entropy(flat_probs, base=2)\n",
        "        result[prefix + 'label_count'] = len(flat_labels)\n",
        "\n",
        "        # 정규식\n",
        "        vehicle_pattern = re.compile(r'car|vehicle|truck|bus|motorcycle|bicycle|boat|ship|train|subway|aircraft|helicopter|engine', re.IGNORECASE)\n",
        "        environment_pattern = re.compile(r'outside|inside|environment|ocean|rain|waterfall|wind|fire|waves|rustling|earthquake|explosion|thunder|smoke', re.IGNORECASE)\n",
        "        human_pattern = re.compile(r'speech|baby|child|laughter|crying|shout|screaming|groan|cough|hubbub|snoring|whimper|talking|singing|giggle|chatter|babbling', re.IGNORECASE)\n",
        "        music_pattern = re.compile(r'music|song|singing|choir|instrument|guitar|piano|violin|vocal|jazz|hip hop|pop|rock|opera|blues|folk|electronic|dubstep|reggae|house|metal|disco|dance|flamenco|trance|techno|saxophone|synthesizer|harp|accordion|clarinet|flute|drum|tabla|tambourine|maraca|steelpan|xylophone|orchestra|band', re.IGNORECASE)\n",
        "\n",
        "        # 분류\n",
        "        vehicle_related = [(label, dur) for label, dur in zip(flat_labels, repeated_durations) if vehicle_pattern.search(label)]\n",
        "        environment_related = [(label, dur) for label, dur in zip(flat_labels, repeated_durations) if environment_pattern.search(label)]\n",
        "        human_related = [(label, dur) for label, dur in zip(flat_labels, repeated_durations) if human_pattern.search(label)]\n",
        "        music_related = [(label, dur) for label, dur in zip(flat_labels, repeated_durations) if music_pattern.search(label)]\n",
        "\n",
        "        # has (존재 여부)\n",
        "        result[prefix + 'has_vehicle_related'] = int(len(vehicle_related) > 0)\n",
        "        result[prefix + 'has_environment_related'] = int(len(environment_related) > 0)\n",
        "        result[prefix + 'has_human_related'] = int(len(human_related) > 0)\n",
        "        result[prefix + 'has_music_related'] = int(len(music_related) > 0)\n",
        "\n",
        "        # sum (개수)\n",
        "        result[prefix + 'sum_vehicle_related'] = len(vehicle_related)\n",
        "        result[prefix + 'sum_environment_related'] = len(environment_related)\n",
        "        result[prefix + 'sum_human_related'] = len(human_related)\n",
        "\n",
        "        return pd.Series(result)\n",
        "\n",
        "    features = df.groupby(['subject_id', 'lifelog_date', 'time_period']).apply(process_group).reset_index()\n",
        "    features = features.pivot(index=['subject_id', 'lifelog_date'], columns='level_3', values=0).reset_index()\n",
        "\n",
        "    return features"
      ],
      "metadata": {
        "id": "HhuQHjaMtyf_"
      },
      "execution_count": null,
      "outputs": []
    },
    {
      "cell_type": "code",
      "source": [
        "mAmbience2 = process_mAmbience(mAmbience)\n",
        "\n",
        "# check\n",
        "print(f'# mAmbience2 shape: {mAmbience2.shape}')\n",
        "mAmbience2.head(1)"
      ],
      "metadata": {
        "id": "RgRfZf7Styid"
      },
      "execution_count": null,
      "outputs": []
    },
    {
      "cell_type": "code",
      "source": [],
      "metadata": {
        "id": "_g47-Gm97DQY"
      },
      "execution_count": null,
      "outputs": []
    },
    {
      "cell_type": "code",
      "source": [],
      "metadata": {
        "id": "5QnUfNL-ceIA"
      },
      "execution_count": null,
      "outputs": []
    },
    {
      "cell_type": "code",
      "source": [],
      "metadata": {
        "id": "TfbNZ1WsceMN"
      },
      "execution_count": null,
      "outputs": []
    },
    {
      "cell_type": "code",
      "source": [],
      "metadata": {
        "id": "Yh2wt8LycePt"
      },
      "execution_count": null,
      "outputs": []
    },
    {
      "cell_type": "markdown",
      "source": [
        "### ✅ mBle 블루투스\n",
        "- Bluetooth devices around individual subject.\n",
        " - 7936 : Wearable, Headset, AV Device\n",
        " - 1796 : Peripheral (입력장치) 계열\n",
        " - 0 : 정보 없음 또는 알 수 없음(Unknown)\n",
        " - 1084 : Audio/Video (스피커, 헤드셋, 이어폰, TV 등)\n",
        " - 524 : Phone (휴대폰, 스마트폰)\n",
        " - 1060 : Headphones\n",
        " - 284 : commputer (PC, 노트북, PDA)"
      ],
      "metadata": {
        "id": "tyS90xE7WAJV"
      }
    },
    {
      "cell_type": "code",
      "source": [
        "def extract_mble_info(row):\n",
        "    m_data = row['m_ble']\n",
        "    address = [item['address'] for item in m_data]\n",
        "    device_class = [item['device_class'] for item in m_data]\n",
        "    rssi = [item['rssi'] for item in m_data]\n",
        "    return pd.Series({'address': address, 'device_class': device_class, 'rssi': rssi})\n",
        "\n",
        "mBle[['address','device_class','rssi']] = mBle.apply(extract_mble_info, axis=1)\n",
        "mBle['lifelog_date'] = mBle['timestamp'].astype(str).str[:10]\n",
        "mBle.head(1)"
      ],
      "metadata": {
        "id": "u9J8u61OV9-V"
      },
      "execution_count": null,
      "outputs": []
    },
    {
      "cell_type": "code",
      "source": [
        "def process_mBle(df):\n",
        "    df = df.copy()\n",
        "    df['timestamp'] = pd.to_datetime(df['timestamp'])\n",
        "    df['lifelog_date'] = df['timestamp'].dt.date\n",
        "    df['hour'] = df['timestamp'].dt.hour\n",
        "\n",
        "    # 시간대 분류\n",
        "    def map_time_period(row):\n",
        "        if 0 <= row['hour'] < 7:\n",
        "            return 'sleeptime'\n",
        "        elif 7 <= row['hour'] < 18:\n",
        "            return 'worktime'\n",
        "        else:\n",
        "            return 'afterwork'\n",
        "\n",
        "    df['time_period'] = df.apply(map_time_period, axis=1)\n",
        "\n",
        "    features = []\n",
        "\n",
        "    for idx, row in df.iterrows():\n",
        "        entry = ast.literal_eval(row['m_ble']) if isinstance(row['m_ble'], str) else row['m_ble']\n",
        "\n",
        "        rssi_list = []\n",
        "        class_0_cnt = 0\n",
        "        class_other_cnt = 0\n",
        "\n",
        "        for device in entry:\n",
        "            try:\n",
        "                rssi = int(device['rssi'])\n",
        "                rssi_list.append(rssi)\n",
        "\n",
        "                device_class = str(device['device_class'])\n",
        "                if device_class == '0':\n",
        "                    class_0_cnt += 1\n",
        "                else:\n",
        "                    class_other_cnt += 1\n",
        "            except:\n",
        "                continue  # malformed record\n",
        "\n",
        "        feature = {\n",
        "            'subject_id': row['subject_id'],\n",
        "            'lifelog_date': row['lifelog_date'],\n",
        "            'time_period': row['time_period'],\n",
        "            'device_class_0_cnt': class_0_cnt,\n",
        "            'device_class_others_cnt': class_other_cnt,\n",
        "            'device_count': len(rssi_list),\n",
        "            'rssi_mean': np.mean(rssi_list) if rssi_list else np.nan,\n",
        "            'rssi_min': np.min(rssi_list) if rssi_list else np.nan,\n",
        "            'rssi_max': np.max(rssi_list) if rssi_list else np.nan,\n",
        "        }\n",
        "        features.append(feature)\n",
        "\n",
        "    return pd.DataFrame(features)\n",
        "\n",
        "def summarize_mBle_daily(df):\n",
        "\n",
        "    # row 단위 BLE feature 추출\n",
        "    df = process_mBle(df)\n",
        "\n",
        "    # 하루 + 시간대별로 groupby\n",
        "    grouped = df.groupby(['subject_id', 'lifelog_date', 'time_period']).agg({\n",
        "        'device_class_0_cnt': 'sum',\n",
        "        'device_class_others_cnt': 'sum',\n",
        "        'rssi_mean': 'mean',\n",
        "        'rssi_min': 'min',\n",
        "        'rssi_max': 'max',\n",
        "    }).reset_index()\n",
        "\n",
        "    # 총합 구해서 비율 계산\n",
        "    total_cnt = grouped['device_class_0_cnt'] + grouped['device_class_others_cnt']\n",
        "    grouped['device_class_0_ratio'] = grouped['device_class_0_cnt'] / total_cnt.replace(0, np.nan)\n",
        "    grouped['device_class_others_ratio'] = grouped['device_class_others_cnt'] / total_cnt.replace(0, np.nan)\n",
        "\n",
        "    # 필요 없는 cnt 컬럼 제거\n",
        "    grouped.drop(columns=[\n",
        "        'device_class_0_cnt',\n",
        "        'device_class_others_cnt'\n",
        "    ], inplace=True)\n",
        "\n",
        "    # pivot해서 time_period별로 펼치기\n",
        "    final = grouped.pivot(index=['subject_id', 'lifelog_date'], columns='time_period')\n",
        "    final.columns = ['_'.join(col).strip() for col in final.columns.values]\n",
        "    final = final.reset_index()\n",
        "\n",
        "    return final"
      ],
      "metadata": {
        "id": "j8IaISJNceZq"
      },
      "execution_count": null,
      "outputs": []
    },
    {
      "cell_type": "code",
      "source": [
        "mBle2 = summarize_mBle_daily(mBle)\n",
        "\n",
        "# check\n",
        "print(f'\\n # mBle2 shape: {mBle2.shape}')\n",
        "mBle2.head(1)"
      ],
      "metadata": {
        "id": "SACo8zOKcedD"
      },
      "execution_count": null,
      "outputs": []
    },
    {
      "cell_type": "code",
      "source": [],
      "metadata": {
        "id": "ZzTh37secegK"
      },
      "execution_count": null,
      "outputs": []
    },
    {
      "cell_type": "code",
      "source": [],
      "metadata": {
        "id": "If8EEAGfcejV"
      },
      "execution_count": null,
      "outputs": []
    },
    {
      "cell_type": "code",
      "source": [],
      "metadata": {
        "id": "tiCtsengLveO"
      },
      "execution_count": null,
      "outputs": []
    },
    {
      "cell_type": "code",
      "source": [],
      "metadata": {
        "id": "p5vsYKHoH8lz"
      },
      "execution_count": null,
      "outputs": []
    },
    {
      "cell_type": "markdown",
      "source": [
        "### ✅ mGps, GPS 기반 핸드폰 위치\n",
        "- Multiple GPS coordinates measured within a single minute using the smartphone.\n",
        "- speed가 1보다 큰경우 정지 상태가 아니고 움직이고 있다고 판단\n",
        " - 0.5-2 : 걸어서 이동하는 경우  \n",
        " - 2-5 : 조깅\n",
        " - 5 이상 : 차를 타고 이동하는 경우\n",
        "\n",
        "- speed가 0.5-2사이를 하루에 몇분동안 지속했는지?\n",
        "- speed가 2-5사이를 하루에 몇분동안 지속했는지? (유산소 운동 시간)\n",
        "- speed가 5이상을 하루에 몇분동안 지속했는지?  "
      ],
      "metadata": {
        "id": "MOiajFjeRFi-"
      }
    },
    {
      "cell_type": "code",
      "source": [
        "def extract_gps_info(row):\n",
        "    m_data = row['m_gps']\n",
        "    altitude = [item['altitude'] for item in m_data]\n",
        "    latitude = [item['latitude'] for item in m_data]\n",
        "    longitude = [item['longitude'] for item in m_data]\n",
        "    speed = [item['speed'] for item in m_data]\n",
        "    return pd.Series({'altitude': altitude, 'latitude': latitude, 'longitude': longitude, 'speed': speed})\n",
        "\n",
        "mGps[['altitude','latitude','longitude','speed']] = mGps.apply(extract_gps_info, axis=1)\n",
        "mGps['lifelog_date'] = mGps['timestamp'].astype(str).str[:10]\n",
        "mGps = mGps.drop(columns=['m_gps'])\n",
        "mGps.head(1)"
      ],
      "metadata": {
        "id": "hV_VT5fZH8rj"
      },
      "execution_count": null,
      "outputs": []
    },
    {
      "cell_type": "code",
      "source": [
        "# 거리 계산 함수\n",
        "def haversine(coord1, coord2, unit='m'):\n",
        "    lat1, lon1 = coord1\n",
        "    lat2, lon2 = coord2\n",
        "    lat1, lon1, lat2, lon2 = map(radians, [lat1, lon1, lat2, lon2])\n",
        "    dlat = lat2 - lat1\n",
        "    dlon = lon2 - lon1\n",
        "    a = sin(dlat/2)**2 + cos(lat1) * cos(lat2) * sin(dlon/2)**2\n",
        "    c = 2 * asin(sqrt(a))\n",
        "    r = 6371000  # 지구 반지름(m)\n",
        "    return c * r if unit == 'm' else c * r / 1000\n",
        "\n",
        "def process_mGps(df):\n",
        "    df = df.copy()\n",
        "\n",
        "    df['timestamp'] = pd.to_datetime(df['timestamp'])\n",
        "    df['lifelog_date'] = df['timestamp'].dt.date\n",
        "    df['week'] = df['timestamp'].dt.isocalendar().week\n",
        "\n",
        "    expanded_rows = []\n",
        "\n",
        "    for idx, row in tqdm(df.iterrows(), total=len(df), desc=\"Processing GPS data\"):\n",
        "        speeds = ast.literal_eval(row['speed']) if isinstance(row['speed'], str) else row['speed']\n",
        "        lats = ast.literal_eval(row['latitude']) if isinstance(row['latitude'], str) else row['latitude']\n",
        "        lons = ast.literal_eval(row['longitude']) if isinstance(row['longitude'], str) else row['longitude']\n",
        "        alts = ast.literal_eval(row['altitude']) if isinstance(row['altitude'], str) else row['altitude']\n",
        "        n = len(speeds)\n",
        "        if n > 0:\n",
        "            expanded_rows.append(pd.DataFrame({\n",
        "                'subject_id': [row['subject_id']] * n,\n",
        "                'lifelog_date': [row['lifelog_date']] * n,\n",
        "                'timestamp': pd.date_range(start=row['timestamp'], periods=n, freq='1S'),\n",
        "                'speed': speeds,\n",
        "                'latitude': lats,\n",
        "                'longitude': lons,\n",
        "                'altitude': alts\n",
        "            }))\n",
        "\n",
        "    expanded_df = pd.concat(expanded_rows, ignore_index=True)\n",
        "\n",
        "    # 벡터화\n",
        "    speeds = expanded_df['speed'].values\n",
        "\n",
        "    walk_mask = (0.5 <= speeds) & (speeds < 2)\n",
        "    jog_mask = (2 <= speeds) & (speeds < 5)\n",
        "    vehicle_mask = (speeds >= 5)\n",
        "    le5_mask = (speeds <= 5)\n",
        "\n",
        "    expanded_df['walk'] = walk_mask.astype(int)\n",
        "    expanded_df['jog'] = jog_mask.astype(int)\n",
        "    expanded_df['vehicle'] = vehicle_mask.astype(int)\n",
        "    expanded_df['le5_speed'] = expanded_df['speed'].where(le5_mask)\n",
        "\n",
        "    # 아침/저녁 구간 조건\n",
        "    expanded_df['hour'] = expanded_df['timestamp'].dt.hour\n",
        "    morning_condition = (expanded_df['hour'] >= 6) & (expanded_df['hour'] < 9) & (expanded_df['speed'] >= 1)\n",
        "    evening_condition = (expanded_df['hour'] >= 21) & (expanded_df['hour'] <= 23) & (expanded_df['speed'] <= 1)\n",
        "\n",
        "    # 이동 특성 계산\n",
        "    movement_features = []\n",
        "    for (subject_id, lifelog_date), group in expanded_df.groupby(['subject_id', 'lifelog_date']):\n",
        "        all_speeds = group['speed'].values\n",
        "        all_alts = group['altitude'].values\n",
        "        all_lats = group['latitude'].values\n",
        "        all_lons = group['longitude'].values\n",
        "\n",
        "        active_mins = group.shape[0] / 60  # 1초 단위 → 분\n",
        "        movement_ratio = (all_speeds > 1.0).mean() if len(all_speeds) > 0 else 0\n",
        "        alt_change = all_alts[-1] - all_alts[0] if len(all_alts) > 0 else 0\n",
        "        lat_change = all_lats[-1] - all_lats[0] if len(all_lats) > 0 else 0\n",
        "        lon_change = all_lons[-1] - all_lons[0] if len(all_lons) > 0 else 0\n",
        "\n",
        "        total_dist = 0.0\n",
        "        if len(all_lats) > 1:\n",
        "            for i in range(len(all_lats)-1):\n",
        "                coord1 = (all_lats[i], all_lons[i])\n",
        "                coord2 = (all_lats[i+1], all_lons[i+1])\n",
        "                total_dist += haversine(coord1, coord2, unit='m')\n",
        "\n",
        "        movement_features.append({\n",
        "            'subject_id': subject_id,\n",
        "            'lifelog_date': lifelog_date,\n",
        "            'active_minutes': active_mins,\n",
        "            'movement_ratio': movement_ratio,\n",
        "            'alt_change': alt_change,\n",
        "            'lat_change': lat_change,\n",
        "            'lon_change': lon_change,\n",
        "            'total_distance_m': total_dist\n",
        "        })\n",
        "\n",
        "    movement_df = pd.DataFrame(movement_features)\n",
        "\n",
        "    # Groupby + Aggregation\n",
        "    agg_funcs = {\n",
        "        'walk_minutes': ('walk', lambda x: x.sum() / 60),\n",
        "        'jog_minutes': ('jog', lambda x: x.sum() / 60),\n",
        "        'vehicle_minutes': ('vehicle', lambda x: x.sum() / 60),\n",
        "        'speed_le5_max': ('le5_speed', 'max'),\n",
        "        'speed_le5_mean': ('le5_speed', 'mean'),\n",
        "        'speed_le5_std': ('le5_speed', 'std')\n",
        "    }\n",
        "\n",
        "    grouped = expanded_df.groupby(['subject_id', 'lifelog_date']).agg(**agg_funcs).reset_index()\n",
        "    grouped['exercise_flag'] = (grouped['jog_minutes'] >= 5)\n",
        "\n",
        "    # 아침 wakeup time\n",
        "    morning_first_movement = (\n",
        "        expanded_df[morning_condition]\n",
        "        .groupby(['subject_id', 'lifelog_date'])['timestamp']\n",
        "        .min()\n",
        "        .reset_index()\n",
        "        .rename(columns={'timestamp': 'morning_wakeup_time'})\n",
        "    )\n",
        "\n",
        "\n",
        "    # 최종 merge\n",
        "    final = pd.merge(grouped, movement_df, on=['subject_id', 'lifelog_date'], how='left')\n",
        "    final = pd.merge(final, morning_first_movement, on=['subject_id', 'lifelog_date'], how='left')\n",
        "\n",
        "    # 아침 wakeup_time 처리\n",
        "    valid_wakeup = final['morning_wakeup_time'].dropna()\n",
        "    if not valid_wakeup.empty:\n",
        "        total_seconds = valid_wakeup.dt.hour * 3600 + valid_wakeup.dt.minute * 60 + valid_wakeup.dt.second\n",
        "        mean_seconds = total_seconds.mean()\n",
        "        mean_hour = int(mean_seconds // 3600)\n",
        "        mean_minute = int((mean_seconds % 3600) // 60)\n",
        "        mean_second = int(mean_seconds % 60)\n",
        "        mean_wakeup_time = time(mean_hour, mean_minute, mean_second)\n",
        "    else:\n",
        "        mean_wakeup_time = time(7, 0, 0)\n",
        "\n",
        "    final['morning_wakeup_time'] = final['morning_wakeup_time'].fillna(\n",
        "        pd.Timestamp.combine(pd.to_datetime('today').date(), mean_wakeup_time)\n",
        "    )\n",
        "    final['morning_wakeup_time'] = final['morning_wakeup_time'].dt.hour * 100 + final['morning_wakeup_time'].dt.minute\n",
        "\n",
        "    mean_wakeup_hhmm = mean_wakeup_time.hour * 100 + mean_wakeup_time.minute\n",
        "\n",
        "    # wake_up_early_minutes\n",
        "    def compute_minutes_diff(actual_hhmm, mean_hhmm):\n",
        "        actual_hour = actual_hhmm // 100\n",
        "        actual_minute = actual_hhmm % 100\n",
        "        mean_hour = mean_hhmm // 100\n",
        "        mean_minute = mean_hhmm % 100\n",
        "        actual_sec = actual_hour * 3600 + actual_minute * 60\n",
        "        mean_sec = mean_hour * 3600 + mean_minute * 60\n",
        "        return (mean_sec - actual_sec) / 60\n",
        "\n",
        "    final['wake_up_early_minutes'] = final['morning_wakeup_time'].apply(lambda x: compute_minutes_diff(x, mean_wakeup_hhmm))\n",
        "\n",
        "    return final"
      ],
      "metadata": {
        "id": "6OwJ7xTDHt3n"
      },
      "execution_count": null,
      "outputs": []
    },
    {
      "cell_type": "code",
      "source": [
        "%%time\n",
        "\n",
        "mGps2 = process_mGps(mGps)\n",
        "\n",
        "# check\n",
        "print(f'\\n # mGps2 shape: {mGps2.shape}')\n",
        "mGps2.head(1)"
      ],
      "metadata": {
        "id": "vGgV2PjuwpjQ"
      },
      "execution_count": null,
      "outputs": []
    },
    {
      "cell_type": "code",
      "source": [],
      "metadata": {
        "id": "5Q1XJSKSwpyg"
      },
      "execution_count": null,
      "outputs": []
    },
    {
      "cell_type": "code",
      "source": [],
      "metadata": {
        "id": "riN0msO6wodn"
      },
      "execution_count": null,
      "outputs": []
    },
    {
      "cell_type": "code",
      "source": [],
      "metadata": {
        "id": "7oHiJLPfaoSw"
      },
      "execution_count": null,
      "outputs": []
    },
    {
      "cell_type": "code",
      "source": [],
      "metadata": {
        "id": "X0k3YkQqaodZ"
      },
      "execution_count": null,
      "outputs": []
    },
    {
      "cell_type": "markdown",
      "source": [
        "### ✅ mLight 주변 밝기\n",
        "- Ambient light measured by the smartphone.\n",
        " - 어두운 밤\t0.1 ~ 1 lux\t캄캄한 방, 달빛 없는 밤\n",
        " - 가로등 켜진 거리\t10 ~ 20 lux\t흐릿한 외부 조명\n",
        " - 실내 조명\t100 ~ 500 lux\t사무실, 일반 거실\n",
        " - 밝은 실외\t10,000 ~ 25,000 lux\t맑은 날 햇빛\n",
        " - 직사광선 아래\t30,000 ~ 100,000 lux\t여름 한낮, 매우 강한 햇빛\n",
        "\n",
        "- 밝기에 따라서 언제 불을 끄고 잠든 시간 추정\n",
        "- 직사광선 잠에 좋은 영향을 주는지? (논문)\n",
        "- 결측치 처리 x"
      ],
      "metadata": {
        "id": "fSRRKaDlaorj"
      }
    },
    {
      "cell_type": "code",
      "source": [
        "mLight['lifelog_date'] = mLight['timestamp'].astype(str).str[:10]\n",
        "mLight.head(1)"
      ],
      "metadata": {
        "id": "-0PzJaYUWfVZ"
      },
      "execution_count": null,
      "outputs": []
    },
    {
      "cell_type": "code",
      "source": [
        "mLight.loc[mLight['m_light']<1000,'m_light'].hist(bins=30)"
      ],
      "metadata": {
        "id": "619bJlDWcMJR"
      },
      "execution_count": null,
      "outputs": []
    },
    {
      "cell_type": "code",
      "source": [
        "def process_mLight(df):\n",
        "    df = df.copy()\n",
        "    df['timestamp'] = pd.to_datetime(df['timestamp'])\n",
        "    df['lifelog_date'] = df['timestamp'].dt.date\n",
        "    df['hour'] = df['timestamp'].dt.hour\n",
        "    df['is_night'] = df['hour'].apply(lambda h: h >= 22 or h < 6)\n",
        "\n",
        "    daily_light = df.groupby(['subject_id', 'lifelog_date']).agg(\n",
        "        light_mean=('m_light', 'mean'),\n",
        "        light_std=('m_light', 'std'),\n",
        "        light_max=('m_light', 'max'),\n",
        "        light_min=('m_light', 'min'),\n",
        "        light_night_mean=('m_light', lambda x: x[df.loc[x.index, 'is_night']].mean()),\n",
        "        light_day_mean=('m_light', lambda x: x[~df.loc[x.index, 'is_night']].mean()),\n",
        "        light_night_ratio=('is_night', 'mean')\n",
        "    ).reset_index()\n",
        "\n",
        "    results = []\n",
        "\n",
        "    for subject_id, group in tqdm(df.groupby('subject_id'), desc=\"Processing sleep detection\"):\n",
        "        group = group.sort_values('timestamp').reset_index(drop=True)\n",
        "\n",
        "        sleep_time = None\n",
        "        wake_time = None\n",
        "        sleeping = False\n",
        "        zero_count = 0\n",
        "        first_zero_time = None\n",
        "\n",
        "        for i in range(len(group)):\n",
        "            light = group.loc[i, 'm_light']\n",
        "            hour = group.loc[i, 'hour']\n",
        "\n",
        "            if light == 0:\n",
        "                zero_count += 1\n",
        "                if zero_count == 1:\n",
        "                    first_zero_time = group.loc[i, 'timestamp']\n",
        "                if zero_count == 6 and not sleeping:\n",
        "                    sleep_hour = first_zero_time.hour\n",
        "                    if (sleep_hour >= 21) or (sleep_hour <= 2):\n",
        "                        sleep_time = first_zero_time\n",
        "                        sleeping = True\n",
        "            else:\n",
        "                if sleeping:\n",
        "                    candidate_wakeup = group.loc[i, 'timestamp']\n",
        "                    wake_hour = candidate_wakeup.hour\n",
        "                    if 5 <= wake_hour <= 9:\n",
        "                        wake_time = candidate_wakeup\n",
        "                        results.append({\n",
        "                            'subject_id': subject_id,\n",
        "                            'lifelog_date': group.loc[i, 'lifelog_date'],\n",
        "                            'sleep_time': sleep_time,\n",
        "                            'wake_time': wake_time,\n",
        "                            'sleep_duration_min': (wake_time - sleep_time).total_seconds() / 60\n",
        "                        })\n",
        "                        sleeping = False\n",
        "                        zero_count = 0\n",
        "                        first_zero_time = None\n",
        "            if light > 0:\n",
        "                zero_count = 0\n",
        "                first_zero_time = None\n",
        "\n",
        "    sleep_df = pd.DataFrame(results)\n",
        "\n",
        "    if not sleep_df.empty:\n",
        "        mean_sleep = (\n",
        "            sleep_df[(sleep_df['sleep_duration_min'] >= 180) & (sleep_df['sleep_duration_min'] <= 600)]\n",
        "            .groupby('subject_id')['sleep_duration_min']\n",
        "            .mean()\n",
        "            .to_dict()\n",
        "        )\n",
        "\n",
        "        def replace_outlier(row):\n",
        "            if (row['sleep_duration_min'] > 600) or (row['sleep_duration_min'] < 180):\n",
        "                return mean_sleep.get(row['subject_id'], 360)\n",
        "            else:\n",
        "                return row['sleep_duration_min']\n",
        "\n",
        "        sleep_df['sleep_duration_min'] = sleep_df.apply(replace_outlier, axis=1)\n",
        "\n",
        "    def to_hhmm(t):\n",
        "        if pd.isnull(t):\n",
        "            return np.nan\n",
        "        return t.hour * 100 + t.minute\n",
        "\n",
        "    sleep_df['sleep_time_hhmm'] = sleep_df['sleep_time'].apply(to_hhmm)\n",
        "    sleep_df['wake_time_hhmm'] = sleep_df['wake_time'].apply(to_hhmm)\n",
        "\n",
        "    sleep_df = sleep_df.drop(columns=['sleep_time', 'wake_time'])\n",
        "\n",
        "    ### lifelog_date 하루 전 빼기 -> 일어난날은 다음날이므로 -1 처리\n",
        "    sleep_df['lifelog_date'] = sleep_df['lifelog_date'] + pd.Timedelta(days=-1)\n",
        "\n",
        "    ### merge\n",
        "    final = pd.merge(daily_light, sleep_df, on=['subject_id', 'lifelog_date'], how='left')\n",
        "\n",
        "    ### merge 후 전체 NaN을 그룹 평균으로 메우기\n",
        "    # if not final.empty:\n",
        "    #     for col in ['sleep_duration_min', 'sleep_time_hhmm', 'wake_time_hhmm']:\n",
        "    #         group_means = final.groupby('subject_id')[col].transform('mean')\n",
        "    #         final[col] = final[col].fillna(group_means)\n",
        "\n",
        "    return final"
      ],
      "metadata": {
        "id": "fIGfYpnFufpT"
      },
      "execution_count": null,
      "outputs": []
    },
    {
      "cell_type": "code",
      "source": [
        "mLight2 = process_mLight(mLight)\n",
        "\n",
        "# check\n",
        "print(f'\\n # mLight2 shape: {mLight2.shape}')\n",
        "mLight2.head(1)"
      ],
      "metadata": {
        "id": "vDmnunATbHJ5"
      },
      "execution_count": null,
      "outputs": []
    },
    {
      "cell_type": "code",
      "source": [
        "mLight2['sleep_duration_min'].hist(bins=30)"
      ],
      "metadata": {
        "id": "MWzglnXvgW6K"
      },
      "execution_count": null,
      "outputs": []
    },
    {
      "cell_type": "code",
      "source": [],
      "metadata": {
        "id": "uauAe843gXNw"
      },
      "execution_count": null,
      "outputs": []
    },
    {
      "cell_type": "code",
      "source": [],
      "metadata": {
        "id": "bgoIsV5bgXSA"
      },
      "execution_count": null,
      "outputs": []
    },
    {
      "cell_type": "code",
      "source": [],
      "metadata": {
        "id": "ZHIH4SYXbHUK"
      },
      "execution_count": null,
      "outputs": []
    },
    {
      "cell_type": "code",
      "source": [],
      "metadata": {
        "id": "fUlU9AKma3Tg"
      },
      "execution_count": null,
      "outputs": []
    },
    {
      "cell_type": "markdown",
      "source": [
        "### ✅ mScreenStatus 화면 사용여부\n",
        "\n",
        "- Indicates whether the smartphone screen is in use.\n",
        " - 기상시간, 취침시간, 수면시간\n",
        " - 휴대폰 이용횟수, 이용시간\n",
        " - 00 - 05 사이에 휴대폰 이용한 건수\n",
        " - 결측치 처리 x"
      ],
      "metadata": {
        "id": "BHYijr_sa3sz"
      }
    },
    {
      "cell_type": "code",
      "source": [
        "mScreenStatus['lifelog_date'] = mScreenStatus['timestamp'].astype(str).str[:10]\n",
        "mScreenStatus.head(1)"
      ],
      "metadata": {
        "id": "AGEyFT4ha4bU"
      },
      "execution_count": null,
      "outputs": []
    },
    {
      "cell_type": "code",
      "source": [
        "def process_mScreenUse(df):\n",
        "    df = df.copy()\n",
        "    df['timestamp'] = pd.to_datetime(df['timestamp'])\n",
        "    df['lifelog_date'] = df['timestamp'].dt.date\n",
        "    df['hour'] = df['timestamp'].dt.hour\n",
        "\n",
        "    # 1. 하루별 screen 사용 패턴 요약\n",
        "    features = []\n",
        "\n",
        "    for (subj, lifelog_date), group in df.groupby(['subject_id', 'lifelog_date']):\n",
        "        status = group['m_screen_use'].values\n",
        "        ratio_on = status.mean()\n",
        "        transitions = (status[1:] != status[:-1]).sum()\n",
        "\n",
        "        # 연속된 1(화면on) 상태 길이\n",
        "        durations = []\n",
        "        current = 0\n",
        "        for val in status:\n",
        "            if val == 1:\n",
        "                current += 1\n",
        "            elif current > 0:\n",
        "                durations.append(current)\n",
        "                current = 0\n",
        "        if current > 0:\n",
        "            durations.append(current)\n",
        "\n",
        "        features.append({\n",
        "            'subject_id': subj,\n",
        "            'lifelog_date': lifelog_date,\n",
        "            'screen_on_ratio': ratio_on,\n",
        "            'screen_on_transitions': transitions,\n",
        "            'screen_on_duration_avg': np.mean(durations) if durations else 0,\n",
        "            'screen_on_duration_max': np.max(durations) if durations else 0,\n",
        "        })\n",
        "\n",
        "    daily_screen = pd.DataFrame(features)\n",
        "\n",
        "    # 2. 수면 시간, 기상 시간 추정\n",
        "    results = []\n",
        "\n",
        "    for subject_id, group in tqdm(df.groupby('subject_id'), desc=\"Processing sleep detection (screen use)\"):\n",
        "        group = group.sort_values('timestamp').reset_index(drop=True)\n",
        "\n",
        "        sleep_time = None\n",
        "        wake_time = None\n",
        "        sleeping = False\n",
        "        zero_count = 0\n",
        "        first_zero_time = None\n",
        "\n",
        "        for i in range(len(group)):\n",
        "            screen = group.loc[i, 'm_screen_use']\n",
        "            hour = group.loc[i, 'hour']\n",
        "\n",
        "            if screen == 0:\n",
        "                zero_count += 1\n",
        "                if zero_count == 1:\n",
        "                    first_zero_time = group.loc[i, 'timestamp']\n",
        "                if zero_count >= 120 and not sleeping:   # 2시간 연속\n",
        "                    sleep_hour = first_zero_time.hour\n",
        "                    if (sleep_hour >= 21) or (sleep_hour <= 2):\n",
        "                        sleep_time = first_zero_time\n",
        "                        sleeping = True\n",
        "            else:\n",
        "                if sleeping:\n",
        "                    candidate_wakeup = group.loc[i, 'timestamp']\n",
        "                    wake_hour = candidate_wakeup.hour\n",
        "                    if 5 <= wake_hour <= 9:\n",
        "                        wake_time = candidate_wakeup\n",
        "                        results.append({\n",
        "                            'subject_id': subject_id,\n",
        "                            'lifelog_date': group.loc[i, 'lifelog_date'],\n",
        "                            'sleep_time': sleep_time,\n",
        "                            'wake_time': wake_time,\n",
        "                            'sleep_duration_min': (wake_time - sleep_time).total_seconds() / 60\n",
        "                        })\n",
        "                        sleeping = False\n",
        "                        zero_count = 0\n",
        "                        first_zero_time = None\n",
        "            if screen == 1:\n",
        "                zero_count = 0\n",
        "                first_zero_time = None\n",
        "\n",
        "    sleep_df = pd.DataFrame(results)\n",
        "\n",
        "    # 3. 수면시간 이상치 보정\n",
        "    if not sleep_df.empty:\n",
        "        mean_sleep = (\n",
        "            sleep_df[(sleep_df['sleep_duration_min'] >= 180) & (sleep_df['sleep_duration_min'] <= 600)]\n",
        "            .groupby('subject_id')['sleep_duration_min']\n",
        "            .mean()\n",
        "            .to_dict()\n",
        "        )\n",
        "\n",
        "        def replace_outlier(row):\n",
        "            if (row['sleep_duration_min'] > 600) or (row['sleep_duration_min'] < 180):\n",
        "                return mean_sleep.get(row['subject_id'], 360)\n",
        "            else:\n",
        "                return row['sleep_duration_min']\n",
        "\n",
        "        sleep_df['sleep_duration_min'] = sleep_df.apply(replace_outlier, axis=1)\n",
        "\n",
        "    # sleep_time, wake_time 숫자(hhmm) 변환\n",
        "    def to_hhmm(t):\n",
        "        if pd.isnull(t):\n",
        "            return np.nan\n",
        "        return t.hour * 100 + t.minute\n",
        "\n",
        "    sleep_df['sleep_time_hhmm'] = sleep_df['sleep_time'].apply(to_hhmm)\n",
        "    sleep_df['wake_time_hhmm'] = sleep_df['wake_time'].apply(to_hhmm)\n",
        "\n",
        "    sleep_df = sleep_df.drop(columns=['sleep_time', 'wake_time'])\n",
        "\n",
        "    ### lifelog_date 하루 전 빼기 -> 일어난날은 다음날이므로 -1 처리\n",
        "    sleep_df['lifelog_date'] = sleep_df['lifelog_date'] + pd.Timedelta(days=-1)\n",
        "\n",
        "    # 최종 merge\n",
        "    final = pd.merge(daily_screen, sleep_df, on=['subject_id', 'lifelog_date'], how='left')\n",
        "\n",
        "    return final"
      ],
      "metadata": {
        "id": "aMdgQviI7a__"
      },
      "execution_count": null,
      "outputs": []
    },
    {
      "cell_type": "code",
      "source": [
        "mScreenStatus2 = process_mScreenUse(mScreenStatus)\n",
        "\n",
        "# check\n",
        "print(f'\\n # mScreenStatus2 shape: {mScreenStatus2.shape}')\n",
        "mScreenStatus2.head(1)"
      ],
      "metadata": {
        "id": "rWBm2ldDxTEr"
      },
      "execution_count": null,
      "outputs": []
    },
    {
      "cell_type": "code",
      "source": [],
      "metadata": {
        "id": "QDW6-4j_xTOR"
      },
      "execution_count": null,
      "outputs": []
    },
    {
      "cell_type": "code",
      "source": [],
      "metadata": {
        "id": "PpsNhcBixTR_"
      },
      "execution_count": null,
      "outputs": []
    },
    {
      "cell_type": "code",
      "source": [],
      "metadata": {
        "id": "3z8kHJQ1xTVG"
      },
      "execution_count": null,
      "outputs": []
    },
    {
      "cell_type": "code",
      "source": [],
      "metadata": {
        "id": "yCWr2qSzxTYm"
      },
      "execution_count": null,
      "outputs": []
    },
    {
      "cell_type": "code",
      "source": [],
      "metadata": {
        "id": "4NwuBBIoxTbo"
      },
      "execution_count": null,
      "outputs": []
    },
    {
      "cell_type": "code",
      "source": [],
      "metadata": {
        "id": "mXFI_zvnxTfQ"
      },
      "execution_count": null,
      "outputs": []
    },
    {
      "cell_type": "code",
      "source": [],
      "metadata": {
        "id": "pyD4Z_HVxTiT"
      },
      "execution_count": null,
      "outputs": []
    },
    {
      "cell_type": "code",
      "source": [],
      "metadata": {
        "id": "f2CmkVAvxTla"
      },
      "execution_count": null,
      "outputs": []
    },
    {
      "cell_type": "code",
      "source": [],
      "metadata": {
        "id": "Y_rK7NdvxToa"
      },
      "execution_count": null,
      "outputs": []
    },
    {
      "cell_type": "code",
      "source": [],
      "metadata": {
        "id": "YQFsZY8fa--f"
      },
      "execution_count": null,
      "outputs": []
    },
    {
      "cell_type": "code",
      "source": [],
      "metadata": {
        "id": "t5m7Jll1a_Bh"
      },
      "execution_count": null,
      "outputs": []
    },
    {
      "cell_type": "code",
      "source": [],
      "metadata": {
        "id": "AUxk1jIqa4jT"
      },
      "execution_count": null,
      "outputs": []
    },
    {
      "cell_type": "markdown",
      "source": [
        "### ✅ mUsageStats 앱사용통계\n",
        "- mUsageStats: Indicates which apps were used on the smartphone and for how long.\n",
        "\n",
        " - 몇시까지 핸드폰 보다가 잠잤는지\n",
        " - 통화, 전화 얼마나 했는지\n",
        " - YouTube 얼마나 봤는지\n",
        " - 메시지, 카카오톡 얼마나 했는지\n",
        " - NAVER 얼마나 했는지\n",
        " - 평소보다 얼마나 많은 앱을 이용했는지\n",
        " - 제외? -> 시스템 UI,One UI 홈"
      ],
      "metadata": {
        "id": "orMu9LKiW58-"
      }
    },
    {
      "cell_type": "code",
      "source": [
        "def extract_mUsageStats_info(row):\n",
        "    m_data = row['m_usage_stats']\n",
        "    app_name = [item['app_name'] for item in m_data]\n",
        "    total_time = [item['total_time'] for item in m_data]\n",
        "    return pd.Series({'app_name': app_name, 'total_time': total_time})\n",
        "\n",
        "mUsageStats[['app_name', 'total_time']] = mUsageStats.apply(extract_mUsageStats_info, axis=1)\n",
        "mUsageStats['lifelog_date'] = mUsageStats['timestamp'].astype(str).str[:10]\n",
        "mUsageStats.head(1)"
      ],
      "metadata": {
        "id": "Zr1oENhJWfh0"
      },
      "execution_count": null,
      "outputs": []
    },
    {
      "cell_type": "code",
      "source": [
        "def process_mUsageStats(df):\n",
        "    df = df.copy()\n",
        "    df['lifelog_date'] = pd.to_datetime(df['lifelog_date'])\n",
        "    df['timestamp'] = pd.to_datetime(df['timestamp'])\n",
        "    df['요일'] = df['lifelog_date'].dt.day_name()\n",
        "\n",
        "    # 리스트 평탄화\n",
        "    exploded_df = df.explode(['app_name', 'total_time'])\n",
        "    exploded_df['total_time'] = exploded_df['total_time'].astype(float)\n",
        "    exploded_df['total_time'] = exploded_df['total_time'] * 0.001 / 60  # 밀리초 → 초 → 분 변환\n",
        "\n",
        "    # app_name 특수문자 제거\n",
        "    exploded_df['app_name'] = exploded_df['app_name'].astype(str).apply(\n",
        "        lambda x: re.sub(r'[^가-힣a-zA-Z0-9]', '', x)\n",
        "    )\n",
        "\n",
        "    # 시스템 앱 제거\n",
        "    filtered_df = exploded_df[~exploded_df['app_name'].isin(['시스템UI'])]  # '시스템UI'만 제거 (OneUI홈은 포함)\n",
        "\n",
        "    # 주요 파생변수 생성\n",
        "    def calculate_daily_metrics(group):\n",
        "        last_use = group['timestamp'].max()\n",
        "\n",
        "        app_times = {\n",
        "            '통화_시간(분)': group[group['app_name'] == '통화']['total_time'].sum(),\n",
        "            '전화_시간(분)': group[group['app_name'] == '전화']['total_time'].sum(),\n",
        "            'YouTube_시간(분)': group[group['app_name'] == 'YouTube']['total_time'].sum(),\n",
        "            '메신저_시간(분)': group[group['app_name'].isin(['메시지', '카카오톡'])]['total_time'].sum(),\n",
        "            'NAVER_시간(분)': group[group['app_name'] == 'NAVER']['total_time'].sum(),\n",
        "            '캐시워크_시간(분)': group[group['app_name'] == '캐시워크']['total_time'].sum(),\n",
        "            '성경일독Q_시간(분)': group[group['app_name'] == '성경일독Q']['total_time'].sum(),\n",
        "            'OneUI홈_시간(분)': group[group['app_name'] == 'OneUI홈']['total_time'].sum(),\n",
        "        }\n",
        "\n",
        "        return pd.Series({\n",
        "            **app_times,\n",
        "            '고유앱수': group['app_name'].nunique(),\n",
        "            '총화면시간(분)': group['total_time'].sum()\n",
        "        })\n",
        "\n",
        "    # daily metrics 생성\n",
        "    daily_stats = filtered_df.groupby(['subject_id', 'lifelog_date']).apply(calculate_daily_metrics).reset_index()\n",
        "\n",
        "    # subject_id별 평균 총화면시간 구하기\n",
        "    avg_screen_time = daily_stats.groupby('subject_id')['총화면시간(분)'].mean().to_dict()\n",
        "\n",
        "    # 평균대비 화면사용량(%) 생성\n",
        "    def compute_screen_usage(row):\n",
        "        avg_time = avg_screen_time.get(row['subject_id'], np.nan)\n",
        "        if pd.isna(avg_time) or avg_time == 0:\n",
        "            return np.nan\n",
        "        return round((row['총화면시간(분)'] / avg_time - 1) * 100, 1)\n",
        "\n",
        "    daily_stats['평균대비_화면사용량(%)'] = daily_stats.apply(compute_screen_usage, axis=1)\n",
        "\n",
        "    return daily_stats"
      ],
      "metadata": {
        "id": "GUZVZ8LXXhrK"
      },
      "execution_count": null,
      "outputs": []
    },
    {
      "cell_type": "code",
      "source": [
        "mUsageStats2 = process_mUsageStats(mUsageStats)\n",
        "\n",
        "# check\n",
        "print(f'\\n # mUsageStats2 shape: {mUsageStats2.shape}')\n",
        "mUsageStats2.head(1)"
      ],
      "metadata": {
        "id": "l8CRKpC4iDKa"
      },
      "execution_count": null,
      "outputs": []
    },
    {
      "cell_type": "code",
      "source": [],
      "metadata": {
        "id": "4pXwcGHxiDPQ"
      },
      "execution_count": null,
      "outputs": []
    },
    {
      "cell_type": "code",
      "source": [],
      "metadata": {
        "id": "2ecpVUVhRo4e"
      },
      "execution_count": null,
      "outputs": []
    },
    {
      "cell_type": "code",
      "source": [],
      "metadata": {
        "id": "R1PcAUtkH81I"
      },
      "execution_count": null,
      "outputs": []
    },
    {
      "cell_type": "code",
      "source": [],
      "metadata": {
        "id": "iZHkETiDH84G"
      },
      "execution_count": null,
      "outputs": []
    },
    {
      "cell_type": "markdown",
      "source": [
        "### ✅ mWifi 주변wifi 정보\n",
        "- Wifi devices around individual subject.\n",
        " - -30 ~ -50 dBm\t매우 강한 신호 (최적)\n",
        " - -51 ~ -60 dBm\t강한 신호 (문제 없음)\n",
        " - -61 ~ -70 dBm\t괜찮은 신호 (약간 느릴 수 있음)\n",
        " - -71 ~ -80 dBm\t약한 신호 (끊김 주의)\n",
        " - -81 dBm 이하\t매우 약한 신호 (거의 끊김)"
      ],
      "metadata": {
        "id": "sFVRGf8cbJMo"
      }
    },
    {
      "cell_type": "code",
      "source": [
        "def extract_wifi_info(row):\n",
        "    wifi_data = row['m_wifi']\n",
        "    bssids = [item['bssid'] for item in wifi_data]\n",
        "    rssis = [item['rssi'] for item in wifi_data]\n",
        "    return pd.Series({'bssid': bssids, 'rssi': rssis})\n",
        "\n",
        "mWifi[['bssid', 'rssi']] = mWifi.apply(extract_wifi_info, axis=1)\n",
        "mWifi['lifelog_date'] = mWifi['timestamp'].astype(str).str[:10]\n",
        "mWifi.head(1)"
      ],
      "metadata": {
        "id": "WCIgP5FaH86F"
      },
      "execution_count": null,
      "outputs": []
    },
    {
      "cell_type": "code",
      "source": [
        "def process_mWifi(df,threshold):\n",
        "\n",
        "    df = df.copy()\n",
        "    df['timestamp'] = pd.to_datetime(df['timestamp'])\n",
        "\n",
        "    def filter_strong_rssi(df,threshold):\n",
        "        filtered_df = df.copy()\n",
        "        def filter_row(row):\n",
        "            bssids = row['bssid']\n",
        "            rssis = row['rssi']\n",
        "            # RSSI > threshold 조건 만족하는 항목만 추출\n",
        "            filtered = [(b, r) for b, r in zip(bssids, rssis) if r > threshold]\n",
        "            if filtered:\n",
        "                new_bssids, new_rssis = zip(*filtered)\n",
        "                return pd.Series({'bssid': list(new_bssids), 'rssi': list(new_rssis)})\n",
        "            else:\n",
        "                return pd.Series({'bssid': [], 'rssi': []})\n",
        "        filtered_df[['bssid', 'rssi']] = filtered_df.apply(filter_row, axis=1)\n",
        "        return filtered_df\n",
        "\n",
        "    # === wifi 약신호 제거 ===\n",
        "    df = filter_strong_rssi(df, threshold=threshold) ####\n",
        "\n",
        "    features = []\n",
        "    grouped = df.groupby(['subject_id', 'lifelog_date'])\n",
        "\n",
        "    for (subject_id, date), group in grouped:\n",
        "        scan_count = len(group)\n",
        "        bssid_flat = sum(group['bssid'], [])  # flatten\n",
        "        rssi_flat = sum(group['rssi'], [])    # flatten\n",
        "\n",
        "        unique_bssid_count = len(set(bssid_flat))\n",
        "        avg_rssi = sum(rssi_flat) / len(rssi_flat) if rssi_flat else None\n",
        "        max_rssi = max(rssi_flat) if rssi_flat else None\n",
        "        min_rssi = min(rssi_flat) if rssi_flat else None\n",
        "        strong_rssi_ratio = sum(1 for r in rssi_flat if r > -60) / len(rssi_flat) if rssi_flat else 0\n",
        "        empty_scan_count = sum(1 for b in group['bssid'] if len(b) == 0)\n",
        "\n",
        "        # 가장 많이 탐지된 BSSID\n",
        "        bssid_counter = Counter(bssid_flat)\n",
        "        top_bssid, top_bssid_count = bssid_counter.most_common(1)[0] if bssid_counter else (None, 0)\n",
        "\n",
        "        first_time = group['timestamp'].min()\n",
        "        last_time = group['timestamp'].max()\n",
        "        hour_span = (last_time - first_time).total_seconds() / 60  # 분 단위\n",
        "\n",
        "        features.append({\n",
        "            'subject_id': subject_id,\n",
        "            'lifelog_date': date,\n",
        "            'scan_count': scan_count,\n",
        "            'unique_bssid_count': unique_bssid_count,\n",
        "            'avg_rssi': avg_rssi,\n",
        "            'max_rssi': max_rssi,\n",
        "            # 'min_rssi': min_rssi,\n",
        "            # 'strong_signal_ratio': strong_rssi_ratio,\n",
        "            'empty_scan_count': empty_scan_count,\n",
        "            'top_bssid': top_bssid,\n",
        "            'top_bssid_count': top_bssid_count,\n",
        "            'hour_span_minutes': hour_span\n",
        "        })\n",
        "\n",
        "    return pd.DataFrame(features)"
      ],
      "metadata": {
        "id": "CeDXOGXDcYmo"
      },
      "execution_count": null,
      "outputs": []
    },
    {
      "cell_type": "code",
      "source": [
        "mWifi2 = process_mWifi(mWifi,threshold=-60)\n",
        "\n",
        "# check\n",
        "print(f'\\n # mWifi2 shape: {mWifi2.shape}')\n",
        "mWifi2.head(1)"
      ],
      "metadata": {
        "id": "pJujoyH8H9Cw"
      },
      "execution_count": null,
      "outputs": []
    },
    {
      "cell_type": "code",
      "source": [],
      "metadata": {
        "id": "dsAzWwCFYL2q"
      },
      "execution_count": null,
      "outputs": []
    },
    {
      "cell_type": "code",
      "source": [],
      "metadata": {
        "id": "FDYMQG6EYMVT"
      },
      "execution_count": null,
      "outputs": []
    },
    {
      "cell_type": "code",
      "source": [],
      "metadata": {
        "id": "AWKrkwFSiA3H"
      },
      "execution_count": null,
      "outputs": []
    },
    {
      "cell_type": "code",
      "source": [],
      "metadata": {
        "id": "z0TwqdaHiA6a"
      },
      "execution_count": null,
      "outputs": []
    },
    {
      "cell_type": "markdown",
      "source": [
        "### ✅ wHr 심박동수\n",
        "- Heart rate readings recorded by the smartwatch.\n"
      ],
      "metadata": {
        "id": "GQkZX8zrb53H"
      }
    },
    {
      "cell_type": "code",
      "source": [
        "wHr['lifelog_date'] = wHr['timestamp'].astype(str).str[:10]\n",
        "wHr.head(1)"
      ],
      "metadata": {
        "id": "rQTSKYiTiA-D"
      },
      "execution_count": null,
      "outputs": []
    },
    {
      "cell_type": "code",
      "source": [
        "def get_time_block(hour):\n",
        "    if 0 <= hour < 6:\n",
        "        return 'early_morning'\n",
        "    elif 6 <= hour < 12:\n",
        "        return 'morning'\n",
        "    elif 12 <= hour < 18:\n",
        "        return 'afternoon'\n",
        "    else:\n",
        "        return 'evening'\n",
        "\n",
        "def process_wHr_by_timeblock(df):\n",
        "    df = df.copy()\n",
        "    df['timestamp'] = pd.to_datetime(df['timestamp'])\n",
        "    df['lifelog_date'] = df['timestamp'].dt.date\n",
        "    df['block'] = df['timestamp'].dt.hour.map(get_time_block)\n",
        "\n",
        "    results = []\n",
        "\n",
        "    for (subj, date), group in df.groupby(['subject_id', 'lifelog_date']):\n",
        "        block_stats = {'subject_id': subj, 'lifelog_date': date}\n",
        "\n",
        "        for block, block_group in group.groupby('block'):\n",
        "            hr_all = []\n",
        "            for row in block_group['heart_rate']:\n",
        "                parsed = ast.literal_eval(row) if isinstance(row, str) else row\n",
        "                hr_all.extend([int(h) for h in parsed if h is not None])\n",
        "\n",
        "            if not hr_all:\n",
        "                continue\n",
        "\n",
        "            above_100 = [hr for hr in hr_all if hr > 100]\n",
        "            block_stats[f'hr_{block}_mean'] = np.mean(hr_all)\n",
        "            block_stats[f'hr_{block}_std'] = np.std(hr_all)\n",
        "            block_stats[f'hr_{block}_max'] = np.max(hr_all)\n",
        "            block_stats[f'hr_{block}_min'] = np.min(hr_all)\n",
        "            block_stats[f'hr_{block}_above_100_ratio'] = len(above_100) / len(hr_all)\n",
        "\n",
        "        results.append(block_stats)\n",
        "\n",
        "    return pd.DataFrame(results)"
      ],
      "metadata": {
        "id": "QdEddMsBiBAw"
      },
      "execution_count": null,
      "outputs": []
    },
    {
      "cell_type": "code",
      "source": [
        "wHr2 = process_wHr_by_timeblock(wHr)\n",
        "\n",
        "# check\n",
        "print(f'\\n # wHr2 shape: {wHr2.shape}')\n",
        "wHr2.head(1)"
      ],
      "metadata": {
        "id": "aLFRbbc3cEFJ"
      },
      "execution_count": null,
      "outputs": []
    },
    {
      "cell_type": "code",
      "source": [],
      "metadata": {
        "id": "zARTShxhetw6"
      },
      "execution_count": null,
      "outputs": []
    },
    {
      "cell_type": "code",
      "source": [],
      "metadata": {
        "id": "ZT7srO3MeuXD"
      },
      "execution_count": null,
      "outputs": []
    },
    {
      "cell_type": "code",
      "source": [],
      "metadata": {
        "id": "gRO-TD8_cEIH"
      },
      "execution_count": null,
      "outputs": []
    },
    {
      "cell_type": "markdown",
      "source": [
        "### ✅ wLight 앰비언트 라이트\n",
        "- Ambient light measured by the smartwatch.  \n",
        "  - 어두운 밤 0.1 ~ 1 lux 캄캄한 방, 달빛 없는 밤\n",
        "  - 가로등 켜진 거리 10 ~ 20 lux 흐릿한 외부 조명\n",
        "  - 실내 조명 100 ~ 500 lux 사무실, 일반 거실\n",
        "  - 밝은 실외 10,000 ~ 25,000 lux 맑은 날 햇빛\n",
        "  - 직사광선 아래 30,000 ~ 100,000 lux 여름 한낮, 매우 강한 햇빛"
      ],
      "metadata": {
        "id": "DYFlbAd_bYca"
      }
    },
    {
      "cell_type": "code",
      "source": [
        "wLight['lifelog_date'] = wLight['timestamp'].astype(str).str[:10]\n",
        "wLight.head(1)"
      ],
      "metadata": {
        "id": "wfAGaJQ0iBHP"
      },
      "execution_count": null,
      "outputs": []
    },
    {
      "cell_type": "code",
      "source": [
        "def get_time_block(hour):\n",
        "    if 0 <= hour < 6:\n",
        "        return 'early_morning'\n",
        "    elif 6 <= hour < 12:\n",
        "        return 'morning'\n",
        "    elif 12 <= hour < 18:\n",
        "        return 'afternoon'\n",
        "    else:\n",
        "        return 'evening'\n",
        "\n",
        "def process_wLight_by_timeblock(df):\n",
        "    df = df.copy()\n",
        "    df['timestamp'] = pd.to_datetime(df['timestamp'])\n",
        "    df['lifelog_date'] = df['timestamp'].dt.date\n",
        "    df['block'] = df['timestamp'].dt.hour.map(get_time_block)\n",
        "\n",
        "    results = []\n",
        "\n",
        "    for (subj, date), group in df.groupby(['subject_id', 'lifelog_date']):\n",
        "        block_stats = {'subject_id': subj, 'lifelog_date': date}\n",
        "\n",
        "        for block, block_group in group.groupby('block'):\n",
        "            lux = block_group['w_light'].dropna().values\n",
        "            if len(lux) == 0:\n",
        "                continue\n",
        "\n",
        "            block_stats[f'wlight_{block}_mean'] = np.mean(lux)\n",
        "            block_stats[f'wlight_{block}_std'] = np.std(lux)\n",
        "            block_stats[f'wlight_{block}_max'] = np.max(lux)\n",
        "            block_stats[f'wlight_{block}_min'] = np.min(lux)\n",
        "\n",
        "        results.append(block_stats)\n",
        "\n",
        "    return pd.DataFrame(results)"
      ],
      "metadata": {
        "id": "jIJgKkmjiBOG"
      },
      "execution_count": null,
      "outputs": []
    },
    {
      "cell_type": "code",
      "source": [
        "wLight2 = process_wLight_by_timeblock(wLight)\n",
        "\n",
        "# check\n",
        "print(f'\\n # wLight2 shape: {wLight2.shape}')\n",
        "wLight2.head(1)"
      ],
      "metadata": {
        "id": "iUhMoFPaiBQw"
      },
      "execution_count": null,
      "outputs": []
    },
    {
      "cell_type": "code",
      "source": [],
      "metadata": {
        "id": "aAiZk_kWfR8m"
      },
      "execution_count": null,
      "outputs": []
    },
    {
      "cell_type": "code",
      "source": [],
      "metadata": {
        "id": "OcU6IavGfSAw"
      },
      "execution_count": null,
      "outputs": []
    },
    {
      "cell_type": "code",
      "source": [],
      "metadata": {
        "id": "kp0et2XoiBZ7"
      },
      "execution_count": null,
      "outputs": []
    },
    {
      "cell_type": "code",
      "source": [],
      "metadata": {
        "id": "eX2gVvMzcF7h"
      },
      "execution_count": null,
      "outputs": []
    },
    {
      "cell_type": "markdown",
      "source": [
        "### ✅ wPedo 걸음수\n",
        "- Step data recorded by the smartwatch."
      ],
      "metadata": {
        "id": "tQvyhHhBbmzN"
      }
    },
    {
      "cell_type": "code",
      "source": [
        "wPedo['lifelog_date'] = wPedo['timestamp'].astype(str).str[:10]\n",
        "wPedo.head(1)"
      ],
      "metadata": {
        "id": "3poFH3LmiBc2"
      },
      "execution_count": null,
      "outputs": []
    },
    {
      "cell_type": "code",
      "source": [
        "def process_wPedo(df):\n",
        "    df = df.copy()\n",
        "    df['timestamp'] = pd.to_datetime(df['timestamp'])\n",
        "    df['lifelog_date'] = df['timestamp'].dt.date\n",
        "\n",
        "    summary = df.groupby(['subject_id', 'lifelog_date']).agg({\n",
        "        'step': 'sum',\n",
        "        'step_frequency': 'mean',\n",
        "        'distance': 'sum',\n",
        "        'speed': ['mean', 'max'],\n",
        "        'burned_calories': 'sum'\n",
        "    }).reset_index()\n",
        "\n",
        "    # 컬럼 이름 정리\n",
        "    summary.columns = ['subject_id', 'lifelog_date',\n",
        "                       'step_sum', 'step_frequency_mean',\n",
        "                       'distance_sum', 'speed_mean', 'speed_max',\n",
        "                       'burned_calories_sum']\n",
        "\n",
        "    return summary"
      ],
      "metadata": {
        "id": "48ljm6voiBfd"
      },
      "execution_count": null,
      "outputs": []
    },
    {
      "cell_type": "code",
      "source": [
        "wPedo2 = process_wPedo(wPedo)\n",
        "\n",
        "# check\n",
        "print(f'\\n # wPedo2 shape: {wPedo2.shape}')\n",
        "wPedo2.head(1)"
      ],
      "metadata": {
        "id": "Z3kBqrgNhfXN"
      },
      "execution_count": null,
      "outputs": []
    },
    {
      "cell_type": "code",
      "source": [],
      "metadata": {
        "id": "msyUxfoLgpq1"
      },
      "execution_count": null,
      "outputs": []
    },
    {
      "cell_type": "code",
      "source": [],
      "metadata": {
        "id": "YLPmg7oWhFMa"
      },
      "execution_count": null,
      "outputs": []
    },
    {
      "cell_type": "code",
      "source": [],
      "metadata": {
        "id": "zE-06HN6gtqy"
      },
      "execution_count": null,
      "outputs": []
    },
    {
      "cell_type": "code",
      "source": [],
      "metadata": {
        "id": "b0ICeW88gttt"
      },
      "execution_count": null,
      "outputs": []
    },
    {
      "cell_type": "markdown",
      "source": [
        "### 📦 merge 데이터\n",
        "- train, test 기간 서로 겹침"
      ],
      "metadata": {
        "id": "YhcVIyeuguwP"
      }
    },
    {
      "cell_type": "code",
      "source": [
        "print('# train:',len(train))\n",
        "display(train.groupby(['subject_id'])['lifelog_date'].agg([min,max]).reset_index())\n",
        "\n",
        "print('# test:',len(test))\n",
        "display(test.groupby(['subject_id'])['lifelog_date'].agg([min,max]).reset_index())"
      ],
      "metadata": {
        "id": "JyRXDsZXIHyJ"
      },
      "execution_count": null,
      "outputs": []
    },
    {
      "cell_type": "code",
      "source": [
        "mACStatus2['lifelog_date'] = mACStatus2['lifelog_date'].astype(str)\n",
        "mActivity2['lifelog_date'] = mActivity2['lifelog_date'].astype(str)"
      ],
      "metadata": {
        "id": "wyqyR1HyKtYM"
      },
      "execution_count": null,
      "outputs": []
    },
    {
      "cell_type": "code",
      "source": [
        "df_list = [\n",
        "    mACStatus2,       # 1\n",
        "    mActivity2,       # 2\n",
        "    mAmbience2,       # 3\n",
        "    mBle2,            # 4\n",
        "    mGps2,            # 5\n",
        "    mLight2,          # 6\n",
        "    mScreenStatus2,   # 7\n",
        "    mUsageStats2,     # 8\n",
        "    mWifi2,           # 9\n",
        "    wHr2,             # 10\n",
        "    wLight2,          # 11\n",
        "    wPedo2            # 12\n",
        "]\n",
        "\n",
        "data = reduce(lambda left, right: pd.merge(left, right, on=['subject_id', 'lifelog_date'], how='outer'), df_list)\n",
        "data['lifelog_date'] = data['lifelog_date'].astype(str)\n",
        "\n",
        "# 중복체크\n",
        "print(data.shape)\n",
        "print(data[['subject_id','lifelog_date']].drop_duplicates().shape)"
      ],
      "metadata": {
        "id": "265Q2mb2Iqf4"
      },
      "execution_count": null,
      "outputs": []
    },
    {
      "cell_type": "code",
      "source": [
        "train2 = train.merge(data, on=['subject_id','lifelog_date'], how='left')\n",
        "\n",
        "print('# train:',len(train))\n",
        "display(train.groupby(['subject_id'])['lifelog_date'].agg([min,max]).reset_index())\n",
        "\n",
        "print('# train2:',len(train2))\n",
        "display(train2.groupby(['subject_id'])['lifelog_date'].agg([min,max]).reset_index())\n",
        "\n",
        "print('# train2 shape:',train2.shape)\n",
        "display(train2.head(1))"
      ],
      "metadata": {
        "id": "A0rSLtUfKHpY"
      },
      "execution_count": null,
      "outputs": []
    },
    {
      "cell_type": "code",
      "source": [
        "test2 = test.merge(data, on=['subject_id','lifelog_date'], how='left')\n",
        "\n",
        "print('# test:',len(test))\n",
        "display(test.groupby(['subject_id'])['lifelog_date'].agg([min,max]).reset_index())\n",
        "\n",
        "print('# test2:',len(test2))\n",
        "display(test2.groupby(['subject_id'])['lifelog_date'].agg([min,max]).reset_index())\n",
        "\n",
        "print('# test2 shape:',test2.shape)\n",
        "display(test2.head(1))"
      ],
      "metadata": {
        "id": "sI73dr4KKHuE"
      },
      "execution_count": null,
      "outputs": []
    },
    {
      "cell_type": "code",
      "source": [
        "# 저장\n",
        "print('# test   shape:',test.shape)\n",
        "print('# test2  shape:',test2.shape)\n",
        "print('# train  shape:',train.shape)\n",
        "print('# train2 shape:',test2.shape)\n",
        "train2.to_parquet(f\"{path}/train2.parquet\")\n",
        "test2.to_parquet(f\"{path}/test2.parquet\")"
      ],
      "metadata": {
        "id": "uEJcRnwXEdjo"
      },
      "execution_count": null,
      "outputs": []
    },
    {
      "cell_type": "code",
      "source": [],
      "metadata": {
        "id": "fzELOMM3xelT"
      },
      "execution_count": null,
      "outputs": []
    },
    {
      "cell_type": "code",
      "source": [],
      "metadata": {
        "id": "EfJSH6VhpSac"
      },
      "execution_count": null,
      "outputs": []
    },
    {
      "cell_type": "code",
      "source": [],
      "metadata": {
        "id": "FJHeu7wQpSdL"
      },
      "execution_count": null,
      "outputs": []
    },
    {
      "cell_type": "code",
      "source": [],
      "metadata": {
        "id": "JApa_DpNpSf8"
      },
      "execution_count": null,
      "outputs": []
    },
    {
      "cell_type": "code",
      "source": [],
      "metadata": {
        "id": "gZJLTIdupSiv"
      },
      "execution_count": null,
      "outputs": []
    },
    {
      "cell_type": "code",
      "source": [],
      "metadata": {
        "id": "928GgDMEpSlr"
      },
      "execution_count": null,
      "outputs": []
    },
    {
      "cell_type": "code",
      "source": [],
      "metadata": {
        "id": "KCkzm9hupSoY"
      },
      "execution_count": null,
      "outputs": []
    },
    {
      "cell_type": "code",
      "source": [],
      "metadata": {
        "id": "L1y5o2DgwQ-p"
      },
      "execution_count": null,
      "outputs": []
    },
    {
      "cell_type": "code",
      "source": [],
      "metadata": {
        "id": "pLFr8e6iwRBP"
      },
      "execution_count": null,
      "outputs": []
    },
    {
      "cell_type": "code",
      "source": [],
      "metadata": {
        "id": "8ppvmrafwRDk"
      },
      "execution_count": null,
      "outputs": []
    },
    {
      "cell_type": "code",
      "source": [],
      "metadata": {
        "id": "h7UcG6gVwRGV"
      },
      "execution_count": null,
      "outputs": []
    },
    {
      "cell_type": "code",
      "source": [],
      "metadata": {
        "id": "_KhM49XVwRKH"
      },
      "execution_count": null,
      "outputs": []
    },
    {
      "cell_type": "code",
      "source": [],
      "metadata": {
        "id": "UbatZ1vuwRLl"
      },
      "execution_count": null,
      "outputs": []
    },
    {
      "cell_type": "code",
      "source": [],
      "metadata": {
        "id": "NrO9pzxIwRN3"
      },
      "execution_count": null,
      "outputs": []
    },
    {
      "cell_type": "code",
      "source": [],
      "metadata": {
        "id": "C4wkMmnRwRQV"
      },
      "execution_count": null,
      "outputs": []
    },
    {
      "cell_type": "code",
      "source": [],
      "metadata": {
        "id": "OmKky7O2wRSx"
      },
      "execution_count": null,
      "outputs": []
    },
    {
      "cell_type": "code",
      "source": [],
      "metadata": {
        "id": "trD3hcvZwRWN"
      },
      "execution_count": null,
      "outputs": []
    }
  ]
}
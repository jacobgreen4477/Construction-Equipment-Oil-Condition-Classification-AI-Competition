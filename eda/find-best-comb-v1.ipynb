{
 "cells": [
  {
   "cell_type": "code",
   "execution_count": 1,
   "id": "591ba8e7",
   "metadata": {
    "execution": {
     "iopub.execute_input": "2022-11-26T02:53:08.554801Z",
     "iopub.status.busy": "2022-11-26T02:53:08.553609Z",
     "iopub.status.idle": "2022-11-26T02:53:20.955064Z",
     "shell.execute_reply": "2022-11-26T02:53:20.953523Z"
    },
    "papermill": {
     "duration": 12.417781,
     "end_time": "2022-11-26T02:53:20.959346",
     "exception": false,
     "start_time": "2022-11-26T02:53:08.541565",
     "status": "completed"
    },
    "tags": []
   },
   "outputs": [
    {
     "data": {
      "text/html": [
       "<style type='text/css'>\n",
       ".datatable table.frame { margin-bottom: 0; }\n",
       ".datatable table.frame thead { border-bottom: none; }\n",
       ".datatable table.frame tr.coltypes td {  color: #FFFFFF;  line-height: 6px;  padding: 0 0.5em;}\n",
       ".datatable .bool    { background: #DDDD99; }\n",
       ".datatable .object  { background: #565656; }\n",
       ".datatable .int     { background: #5D9E5D; }\n",
       ".datatable .float   { background: #4040CC; }\n",
       ".datatable .str     { background: #CC4040; }\n",
       ".datatable .time    { background: #40CC40; }\n",
       ".datatable .row_index {  background: var(--jp-border-color3);  border-right: 1px solid var(--jp-border-color0);  color: var(--jp-ui-font-color3);  font-size: 9px;}\n",
       ".datatable .frame tbody td { text-align: left; }\n",
       ".datatable .frame tr.coltypes .row_index {  background: var(--jp-border-color0);}\n",
       ".datatable th:nth-child(2) { padding-left: 12px; }\n",
       ".datatable .hellipsis {  color: var(--jp-cell-editor-border-color);}\n",
       ".datatable .vellipsis {  background: var(--jp-layout-color0);  color: var(--jp-cell-editor-border-color);}\n",
       ".datatable .na {  color: var(--jp-cell-editor-border-color);  font-size: 80%;}\n",
       ".datatable .sp {  opacity: 0.25;}\n",
       ".datatable .footer { font-size: 9px; }\n",
       ".datatable .frame_dimensions {  background: var(--jp-border-color3);  border-top: 1px solid var(--jp-border-color0);  color: var(--jp-ui-font-color3);  display: inline-block;  opacity: 0.6;  padding: 1px 10px 1px 5px;}\n",
       "</style>\n"
      ],
      "text/plain": [
       "<IPython.core.display.HTML object>"
      ]
     },
     "metadata": {},
     "output_type": "display_data"
    }
   ],
   "source": [
    "import joblib\n",
    "import numpy as np\n",
    "import pandas as pd\n",
    "import gc\n",
    "import time\n",
    "import os\n",
    "import sys\n",
    "from contextlib import contextmanager\n",
    "from lightgbm import LGBMClassifier\n",
    "import lightgbm as lgb\n",
    "import xgboost as xgb\n",
    "from xgboost import XGBClassifier\n",
    "from sklearn.metrics import roc_auc_score, roc_curve, f1_score\n",
    "from sklearn.model_selection import KFold, StratifiedKFold, train_test_split, cross_val_score\n",
    "import matplotlib.pyplot as plt\n",
    "import seaborn as sns\n",
    "from sklearn.preprocessing import LabelEncoder\n",
    "from sklearn.preprocessing import StandardScaler\n",
    "from bayes_opt import BayesianOptimization\n",
    "from skopt import BayesSearchCV \n",
    "# from optbinning import OptimalBinning\n",
    "from sklearn.cluster import KMeans\n",
    "from sklearn.preprocessing import MinMaxScaler\n",
    "from yellowbrick.cluster import KElbowVisualizer\n",
    "from scipy.cluster.hierarchy import linkage\n",
    "from scipy.cluster.hierarchy import dendrogram\n",
    "from sklearn.decomposition import PCA\n",
    "import random\n",
    "import torch\n",
    "import torch.nn as nn\n",
    "import torch.nn.functional as F\n",
    "import torch.optim as optim\n",
    "from torch.utils.data import DataLoader, Dataset\n",
    "from tqdm.auto import tqdm\n",
    "import random\n",
    "import eli5\n",
    "import matplotlib.gridspec as gridspec\n",
    "from IPython.display import display\n",
    "from eli5.permutation_importance import get_score_importances\n",
    "from eli5.sklearn import PermutationImportance\n",
    "import itertools\n",
    "from sklearn.ensemble import RandomForestClassifier\n",
    "import warnings\n",
    "warnings.simplefilter(action='ignore', category=FutureWarning)"
   ]
  },
  {
   "cell_type": "code",
   "execution_count": 2,
   "id": "3e1bdbb8",
   "metadata": {
    "execution": {
     "iopub.execute_input": "2022-11-26T02:53:20.980829Z",
     "iopub.status.busy": "2022-11-26T02:53:20.979849Z",
     "iopub.status.idle": "2022-11-26T02:53:20.986883Z",
     "shell.execute_reply": "2022-11-26T02:53:20.985400Z"
    },
    "papermill": {
     "duration": 0.020658,
     "end_time": "2022-11-26T02:53:20.989644",
     "exception": false,
     "start_time": "2022-11-26T02:53:20.968986",
     "status": "completed"
    },
    "tags": []
   },
   "outputs": [],
   "source": [
    "pd.set_option('display.max_rows', 500)"
   ]
  },
  {
   "cell_type": "code",
   "execution_count": 3,
   "id": "2cb39214",
   "metadata": {
    "execution": {
     "iopub.execute_input": "2022-11-26T02:53:21.008699Z",
     "iopub.status.busy": "2022-11-26T02:53:21.008225Z",
     "iopub.status.idle": "2022-11-26T02:53:21.018976Z",
     "shell.execute_reply": "2022-11-26T02:53:21.017697Z"
    },
    "papermill": {
     "duration": 0.023637,
     "end_time": "2022-11-26T02:53:21.021922",
     "exception": false,
     "start_time": "2022-11-26T02:53:20.998285",
     "status": "completed"
    },
    "tags": []
   },
   "outputs": [],
   "source": [
    "def seed_everything(seed):\n",
    "    random.seed(seed)\n",
    "    os.environ['PYTHONHASHSEED'] = str(seed)\n",
    "    np.random.seed(seed)\n",
    "    torch.manual_seed(seed)\n",
    "    torch.cuda.manual_seed(seed)\n",
    "    torch.backends.cudnn.deterministic = True\n",
    "    torch.backends.cudnn.benchmark = True\n",
    "\n",
    "seed_everything(1)"
   ]
  },
  {
   "cell_type": "code",
   "execution_count": 4,
   "id": "88227540",
   "metadata": {
    "execution": {
     "iopub.execute_input": "2022-11-26T02:53:21.042206Z",
     "iopub.status.busy": "2022-11-26T02:53:21.040931Z",
     "iopub.status.idle": "2022-11-26T02:53:21.050749Z",
     "shell.execute_reply": "2022-11-26T02:53:21.049036Z"
    },
    "papermill": {
     "duration": 0.02285,
     "end_time": "2022-11-26T02:53:21.053680",
     "exception": false,
     "start_time": "2022-11-26T02:53:21.030830",
     "status": "completed"
    },
    "tags": []
   },
   "outputs": [],
   "source": [
    "def display_importances(feature_importance_df_):\n",
    "    cols = feature_importance_df_[[\"feature\", \"importance\"]].groupby(\"feature\").mean().sort_values(by=\"importance\", ascending=False)[:40].index\n",
    "    best_features = feature_importance_df_.loc[feature_importance_df_.feature.isin(cols)]\n",
    "    plt.figure(figsize=(8, 10))\n",
    "    sns.barplot(x=\"importance\", y=\"feature\", data=best_features.sort_values(by=\"importance\", ascending=False))\n",
    "    plt.title('LightGBM Features (avg over folds)')\n",
    "    plt.tight_layout()\n",
    "    plt.savefig('lgbm_importances01.png')"
   ]
  },
  {
   "cell_type": "code",
   "execution_count": 5,
   "id": "b2edf2ca",
   "metadata": {
    "execution": {
     "iopub.execute_input": "2022-11-26T02:53:21.073846Z",
     "iopub.status.busy": "2022-11-26T02:53:21.073141Z",
     "iopub.status.idle": "2022-11-26T02:53:21.106910Z",
     "shell.execute_reply": "2022-11-26T02:53:21.105081Z"
    },
    "papermill": {
     "duration": 0.04756,
     "end_time": "2022-11-26T02:53:21.109907",
     "exception": false,
     "start_time": "2022-11-26T02:53:21.062347",
     "status": "completed"
    },
    "tags": []
   },
   "outputs": [],
   "source": [
    "def train_model(train,test,params,stratified,num_folds,drop_features,seed_num):\n",
    "    \n",
    "    # start log \n",
    "    print('-'*50)\n",
    "    print('>> seed_num:',seed_num)   \n",
    "    print('>> drop_features:',len(drop_features))\n",
    "    \n",
    "    seed_everything(1)\n",
    "    \n",
    "    # Divide in training/validation and test data\n",
    "    train_df = train.copy()\n",
    "    test_df = test.copy()\n",
    "\n",
    "    # label encoding \n",
    "    encoder = LabelEncoder()\n",
    "    categorical_features = [i for i in train_df.select_dtypes(include=['object','category']).columns.tolist() if i not in ['ID']]\n",
    "    categorical_features = [i for i in categorical_features if i in train_df.columns.tolist()]\n",
    "    for each in categorical_features:\n",
    "        train_df[each] = encoder.fit_transform(train_df[each])\n",
    "        test_df[each] = encoder.fit_transform(test_df[each])\n",
    "\n",
    "    # set training options\n",
    "    stratified = stratified\n",
    "    num_folds = num_folds\n",
    "\n",
    "    # Cross validation model\n",
    "    if stratified:\n",
    "        folds = StratifiedKFold(n_splits= num_folds, shuffle=True, random_state=1)\n",
    "    else:\n",
    "        folds = KFold(n_splits= num_folds, shuffle=True, random_state=1)\n",
    "\n",
    "    # Create arrays and dataframes to store results\n",
    "    oof_preds_lgb = np.zeros(train_df.shape[0])\n",
    "    sub_preds_lgb = np.zeros(test_df.shape[0])\n",
    "    feature_importance_df = pd.DataFrame()\n",
    "    feats = [f for f in train_df.columns if f not in ['Y_LABEL','ID','SAMPLE_TRANSFER_DAY']+drop_features]\n",
    "\n",
    "    for n_fold, (train_idx, valid_idx) in enumerate(folds.split(train_df[feats], train_df['Y_LABEL'])):\n",
    "        \n",
    "        train_x, train_y = train_df[feats].iloc[train_idx], train_df['Y_LABEL'].iloc[train_idx]\n",
    "        valid_x, valid_y = train_df[feats].iloc[valid_idx], train_df['Y_LABEL'].iloc[valid_idx]\n",
    "\n",
    "        categorical_feature = []        \n",
    "        lgb_train = lgb.Dataset(data=train_x, label=train_y, categorical_feature=categorical_feature)\n",
    "        lgb_valid = lgb.Dataset(data=valid_x, label=valid_y, reference=lgb_train, categorical_feature=categorical_feature)\n",
    "        \n",
    "        with warnings.catch_warnings():\n",
    "            \n",
    "            warnings.filterwarnings('ignore')  \n",
    "            \n",
    "            clf = lgb.train(\n",
    "\n",
    "                params,                \n",
    "                train_set = lgb_train,\n",
    "                valid_sets = [lgb_train,lgb_valid],\n",
    "                verbose_eval = -1,\n",
    "                num_boost_round = 10000,\n",
    "                categorical_feature = categorical_feature\n",
    "            )\n",
    "\n",
    "        oof_preds_lgb[valid_idx] = clf.predict(valid_x, num_iteration=clf.best_iteration)\n",
    "        sub_preds_lgb += clf.predict(test_df[feats], num_iteration=clf.best_iteration) / folds.n_splits\n",
    "        \n",
    "        fold_importance_df = pd.DataFrame()\n",
    "        fold_importance_df[\"feature\"] = feats\n",
    "        fold_importance_df[\"importance_gain\"] = clf.feature_importance(importance_type='gain')\n",
    "        fold_importance_df[\"importance_split\"] = clf.feature_importance(importance_type='split')\n",
    "        fold_importance_df[\"fold\"] = n_fold + 1\n",
    "        feature_importance_df = pd.concat([feature_importance_df, fold_importance_df], axis=0)\n",
    "        print('Fold %2d AUC : %.6f' % (n_fold + 1, roc_auc_score(valid_y, oof_preds_lgb[valid_idx])))\n",
    "\n",
    "    print('Full AUC score %.6f' % roc_auc_score(train_df['Y_LABEL'], oof_preds_lgb))\n",
    "\n",
    "    # Write submission file and plot feature importance\n",
    "    test_df['Y_LABEL_lgb'] = sub_preds_lgb\n",
    "\n",
    "    # vi\n",
    "    # print('-'*50)\n",
    "    display(feature_importance_df.groupby(['feature'])['importance_gain'].sum().sort_values(ascending=False).head(30))\n",
    "    # print('-'*50)\n",
    "    # display_importances(feature_importance_df)\n",
    "    \n",
    "    # train auc\n",
    "    oof_auc = roc_auc_score(train_df['Y_LABEL'], oof_preds_lgb)\n",
    "\n",
    "    \n",
    "    if oof_auc>=0.703:\n",
    "\n",
    "        # find the best thred for f1-score\n",
    "        f1_score_df = pd.DataFrame()\n",
    "        for thred in [i/10000 for i in range(0,10000,1) if (i/10000>0.1) & (i/10000<0.3)]:\n",
    "\n",
    "            a1 = pd.DataFrame()\n",
    "            f1 = f1_score(train_df['Y_LABEL'], np.where(oof_preds_lgb>=thred,1,0), average='macro')\n",
    "            a1['f1'] = [f1]\n",
    "            a1['thred'] = [thred]\n",
    "            f1_score_df = pd.concat([f1_score_df, a1], axis=0)\n",
    "\n",
    "        thred = f1_score_df.loc[f1_score_df['f1']==f1_score_df['f1'].max(),'thred'].tolist()[0]\n",
    "        print('thred:',thred)\n",
    "        print('ncol',len(feats))\n",
    "\n",
    "        # train f1\n",
    "        print('auc:',oof_auc)\n",
    "        oof_f1 = f1_score(train_df['Y_LABEL'], np.where(oof_preds_lgb>thred,1,0), average='macro')\n",
    "        print('f1:',oof_f1)\n",
    "        a1 = train_df['Y_LABEL'].value_counts()/len(train_df)\n",
    "        print('Target ratio(real):',(a1[1]))\n",
    "\n",
    "        # test err\n",
    "        test_df['TARGET'] = np.where(test_df['Y_LABEL_lgb']>thred,1,0)\n",
    "        a1 = test_df['TARGET'].value_counts()/len(test_df)\n",
    "        print('Target ratio(pred):',(a1[1]))\n",
    "        target_sum = test_df['TARGET'].sum()\n",
    "        print('Target sum:',target_sum)\n",
    "        \n",
    "        if (target_sum>=510) & (target_sum<590):\n",
    "\n",
    "            # save \n",
    "            train_df['Y_LABEL_lgb'] = oof_preds_lgb\n",
    "            a1 = train_df[['ID','YEAR','COMPONENT_ARBITRARY','Y_LABEL_lgb','Y_LABEL']].copy()\n",
    "            a1.to_csv('train_pred_'+str(seed_num)+'_'+str(np.round(oof_f1,10))+'.csv', index= False)    \n",
    "            a1 = test_df[['ID','YEAR','COMPONENT_ARBITRARY','Y_LABEL_lgb']].copy()\n",
    "            a1.to_csv('test_pred_'+str(seed_num)+'_'+str(np.round(oof_f1,10))+'.csv', index= False)\n",
    "\n",
    "            # submit\n",
    "            a1 = test_df[['ID', 'TARGET']].copy()\n",
    "            a1 = a1.rename(columns={'TARGET':'Y_LABEL'})\n",
    "            submission_file_name = 'sample_submission_lgb_'+str(np.round(oof_f1,4))+'.csv'\n",
    "            a1.to_csv(submission_file_name, index= False)"
   ]
  },
  {
   "cell_type": "code",
   "execution_count": 6,
   "id": "479ad5f9",
   "metadata": {
    "execution": {
     "iopub.execute_input": "2022-11-26T02:53:21.131143Z",
     "iopub.status.busy": "2022-11-26T02:53:21.130576Z",
     "iopub.status.idle": "2022-11-26T02:53:21.149773Z",
     "shell.execute_reply": "2022-11-26T02:53:21.148374Z"
    },
    "papermill": {
     "duration": 0.032658,
     "end_time": "2022-11-26T02:53:21.153017",
     "exception": false,
     "start_time": "2022-11-26T02:53:21.120359",
     "status": "completed"
    },
    "tags": []
   },
   "outputs": [],
   "source": [
    "def permutation_lgb_vi(train, params, drop_features):\n",
    "    \n",
    "    params = {'application':'binary', 'metric':'auc'}\n",
    "    params['learning_rate'] = max(min(best_params['learning_rate'], 1), 0)\n",
    "    params[\"num_leaves\"] = int(round(best_params['num_leaves']))\n",
    "    params['colsample_bytree'] = max(min(best_params['colsample_bytree'], 1), 0)\n",
    "    params['subsample'] = max(min(best_params['subsample'], 1), 0)\n",
    "    params['max_depth'] = int(round(best_params['max_depth']))        \n",
    "    params['reg_alpha'] = best_params['reg_alpha']\n",
    "    params['reg_lambda'] = best_params['reg_lambda']        \n",
    "    params['min_split_gain'] = best_params['min_split_gain']\n",
    "    params['min_child_weight'] = best_params['min_child_weight']\n",
    "    params['min_child_samples'] = int(round(best_params['min_child_samples']))\n",
    "\n",
    "    train_df = train.copy()\n",
    "\n",
    "    # label encoding \n",
    "    encoder = LabelEncoder()\n",
    "    categorical_features = [i for i in train_df.select_dtypes(include=['object','category']).columns.tolist() if i not in ['ID']]\n",
    "    categorical_features = [i for i in categorical_features if i in train_df.columns.tolist()]\n",
    "    for each in categorical_features:\n",
    "        train_df[each] = encoder.fit_transform(train_df[each])\n",
    "\n",
    "    stratified = True\n",
    "\n",
    "    if stratified:\n",
    "        folds = StratifiedKFold(n_splits= 5, shuffle=True, random_state=1)\n",
    "    else:\n",
    "        folds = KFold(n_splits= 5, shuffle=True, random_state=1)\n",
    "\n",
    "    FEATURES = [f for f in train_df.columns if f not in ['Y_LABEL','ID','SAMPLE_TRANSFER_DAY']+drop_features]\n",
    "    TARGET_COL = 'Y_LABEL'\n",
    "    feature_importance_df = pd.DataFrame()\n",
    "    for fold, (train_idx, valid_idx) in enumerate(folds.split(train_df, train_df[TARGET_COL])):\n",
    "        clf = LGBMClassifier(\n",
    "            **params, \n",
    "            random_state=1, \n",
    "            n_jobs = -1,\n",
    "            silent=True,\n",
    "            n_estimators=10000\n",
    "        )\n",
    "\n",
    "        with warnings.catch_warnings():\n",
    "\n",
    "            warnings.filterwarnings('ignore')\n",
    "\n",
    "            clf.fit(\n",
    "                train_df.loc[train_idx, FEATURES], \n",
    "                train_df.loc[train_idx, TARGET_COL], \n",
    "                eval_metric=\"auc\", \n",
    "                verbose=False,\n",
    "                early_stopping_rounds=500,\n",
    "                eval_set=[(train_df.loc[valid_idx, FEATURES],train_df.loc[valid_idx, TARGET_COL])]\n",
    "            )    \n",
    "            \n",
    "        # scoring = 'f1'\n",
    "        perm = PermutationImportance(clf, n_iter=60, scoring='roc_auc',random_state=1).fit(train_df.loc[valid_idx, FEATURES],train_df.loc[valid_idx, TARGET_COL])\n",
    "        fold_importance_df = eli5.explain_weights_df(perm, top = len(FEATURES), feature_names = FEATURES)\n",
    "        fold_importance_df[\"fold\"] = fold + 1\n",
    "        feature_importance_df = pd.concat([feature_importance_df, fold_importance_df], axis=0)\n",
    "        print(f\"Permutation importance for fold {fold}\")\n",
    "    \n",
    "    return feature_importance_df"
   ]
  },
  {
   "cell_type": "code",
   "execution_count": 7,
   "id": "9eeba65e",
   "metadata": {
    "execution": {
     "iopub.execute_input": "2022-11-26T02:53:21.172125Z",
     "iopub.status.busy": "2022-11-26T02:53:21.171585Z",
     "iopub.status.idle": "2022-11-26T02:53:21.362804Z",
     "shell.execute_reply": "2022-11-26T02:53:21.361426Z"
    },
    "papermill": {
     "duration": 0.204694,
     "end_time": "2022-11-26T02:53:21.366176",
     "exception": false,
     "start_time": "2022-11-26T02:53:21.161482",
     "status": "completed"
    },
    "tags": []
   },
   "outputs": [],
   "source": [
    "# read data\n",
    "train = pd.read_csv('/kaggle/input/dacon001/open/train.csv')\n",
    "test = pd.read_csv('/kaggle/input/dacon001/open/test.csv')\n",
    "sample_submission = pd.read_csv('/kaggle/input/dacon001/open/sample_submission.csv')\n",
    "original_columns = test.columns.tolist()"
   ]
  },
  {
   "cell_type": "code",
   "execution_count": 8,
   "id": "10b9d749",
   "metadata": {
    "execution": {
     "iopub.execute_input": "2022-11-26T02:53:21.385849Z",
     "iopub.status.busy": "2022-11-26T02:53:21.384840Z",
     "iopub.status.idle": "2022-11-26T02:53:21.405645Z",
     "shell.execute_reply": "2022-11-26T02:53:21.404364Z"
    },
    "papermill": {
     "duration": 0.034444,
     "end_time": "2022-11-26T02:53:21.409137",
     "exception": false,
     "start_time": "2022-11-26T02:53:21.374693",
     "status": "completed"
    },
    "tags": []
   },
   "outputs": [],
   "source": [
    "# test데이터셋에 있는 변수만 선택 \n",
    "train = train[test.columns.to_list()+['Y_LABEL','SAMPLE_TRANSFER_DAY']].copy()"
   ]
  },
  {
   "cell_type": "code",
   "execution_count": 9,
   "id": "efbceaa1",
   "metadata": {
    "execution": {
     "iopub.execute_input": "2022-11-26T02:53:21.429090Z",
     "iopub.status.busy": "2022-11-26T02:53:21.428568Z",
     "iopub.status.idle": "2022-11-26T02:53:21.439682Z",
     "shell.execute_reply": "2022-11-26T02:53:21.438391Z"
    },
    "papermill": {
     "duration": 0.024462,
     "end_time": "2022-11-26T02:53:21.442679",
     "exception": false,
     "start_time": "2022-11-26T02:53:21.418217",
     "status": "completed"
    },
    "tags": []
   },
   "outputs": [],
   "source": [
    "cat_features  = ['YEAR','COMPONENT_ARBITRARY']\n",
    "num_features13 = ['AG', 'CO', 'CR', 'CU', 'FE', 'H2O', 'MN', 'MO', 'NI',  'TI', 'V', 'V40', 'ZN']\n",
    "num_features3 = ['ANONYMOUS_1', 'ANONYMOUS_2','PQINDEX'] \n",
    "all_num_features = num_features13 + num_features3\n",
    "\n",
    "변수중요도높은변수 = ['V40','FE','ZN','CU'] # 변수중요도 높은 원소들 \n",
    "타겟과음의상관관계 = ['ZN','H2O'] # 타겟과 마이너스 상관관계 \n",
    "\n",
    "제로비율이높은변수 = ['AG','CO','H2O','TI','V']+['NI']\n",
    "제로비율이절반변수 = ['CR','MN','MO']\n",
    "제로비율이낮은변수 = ['ANONYMOUS_1','ANONYMOUS_2','PQINDEX ','V40','FE','ZN','CU']"
   ]
  },
  {
   "cell_type": "code",
   "execution_count": 10,
   "id": "6aa1ee8a",
   "metadata": {
    "execution": {
     "iopub.execute_input": "2022-11-26T02:53:21.462432Z",
     "iopub.status.busy": "2022-11-26T02:53:21.461922Z",
     "iopub.status.idle": "2022-11-26T02:53:21.473559Z",
     "shell.execute_reply": "2022-11-26T02:53:21.472194Z"
    },
    "papermill": {
     "duration": 0.024971,
     "end_time": "2022-11-26T02:53:21.476431",
     "exception": false,
     "start_time": "2022-11-26T02:53:21.451460",
     "status": "completed"
    },
    "tags": []
   },
   "outputs": [],
   "source": [
    "# 타겟과 음의 상관관꼐 변수들\n",
    "train['ZN'] = (-train['ZN'])\n",
    "train['H2O'] = (-train['H2O'])\n",
    "test['ZN'] = (-test['ZN'])\n",
    "test['H2O'] = (-test['H2O'])"
   ]
  },
  {
   "cell_type": "code",
   "execution_count": 11,
   "id": "68eb990b",
   "metadata": {
    "execution": {
     "iopub.execute_input": "2022-11-26T02:53:21.496676Z",
     "iopub.status.busy": "2022-11-26T02:53:21.496153Z",
     "iopub.status.idle": "2022-11-26T02:53:21.533710Z",
     "shell.execute_reply": "2022-11-26T02:53:21.532192Z"
    },
    "papermill": {
     "duration": 0.052679,
     "end_time": "2022-11-26T02:53:21.537685",
     "exception": false,
     "start_time": "2022-11-26T02:53:21.485006",
     "status": "completed"
    },
    "tags": []
   },
   "outputs": [],
   "source": [
    "\"\"\"\n",
    "normalization\n",
    "\"\"\" \n",
    "\n",
    "for var in all_num_features:\n",
    "    \n",
    "    a1_min = train[var].min()\n",
    "    a1_max = train[var].max()\n",
    "    train[var] = (train[var] - a1_min) / (a1_max-a1_min)\n",
    "    test[var] = (test[var] - a1_min) / (a1_max-a1_min)"
   ]
  },
  {
   "cell_type": "code",
   "execution_count": 12,
   "id": "6214f446",
   "metadata": {
    "execution": {
     "iopub.execute_input": "2022-11-26T02:53:21.556736Z",
     "iopub.status.busy": "2022-11-26T02:53:21.556225Z",
     "iopub.status.idle": "2022-11-26T02:57:01.481280Z",
     "shell.execute_reply": "2022-11-26T02:57:01.479641Z"
    },
    "papermill": {
     "duration": 219.945319,
     "end_time": "2022-11-26T02:57:01.491525",
     "exception": false,
     "start_time": "2022-11-26T02:53:21.546206",
     "status": "completed"
    },
    "tags": []
   },
   "outputs": [
    {
     "name": "stdout",
     "output_type": "stream",
     "text": [
      "CPU times: user 3min 27s, sys: 11.8 s, total: 3min 39s\n",
      "Wall time: 3min 39s\n"
     ]
    }
   ],
   "source": [
    "%%time\n",
    "\n",
    "\"\"\"\n",
    "make psudo id\n",
    "\"\"\"\n",
    "\n",
    "group_features = all_num_features\n",
    "group_features = list(set(group_features))\n",
    "\n",
    "for c1, c2 in [i for i in itertools.combinations(group_features,2)]:\n",
    "    new_c = f'{c1}_{c2}_mul'\n",
    "    train[new_c] = train[[c1,c2]].apply(lambda x: x[c1]*x[c2],axis=1)\n",
    "    test[new_c] = test[[c1,c2]].apply(lambda x: x[c1]*x[c2],axis=1)    \n",
    "    \n",
    "for c1, c2 in [i for i in itertools.combinations(group_features,2)]:\n",
    "    new_c = f'{c1}_{c2}_minus'\n",
    "    train[new_c] = train[[c1,c2]].apply(lambda x: x[c1]-x[c2],axis=1)\n",
    "    test[new_c] = test[[c1,c2]].apply(lambda x: x[c1]-x[c2],axis=1)\n",
    "    \n",
    "for c1, c2 in [i for i in itertools.combinations(group_features,2)]:\n",
    "    new_c = f'{c1}_{c2}_plus'\n",
    "    train[new_c] = train[[c1,c2]].apply(lambda x: x[c1]+x[c2],axis=1)\n",
    "    test[new_c] = test[[c1,c2]].apply(lambda x: x[c1]+x[c2],axis=1)\n",
    "    \n",
    "for c1, c2 in [i for i in itertools.combinations(group_features,2)]:\n",
    "    new_c = f'{c1}_{c2}_div'\n",
    "    train[new_c] = train[[c1,c2]].apply(lambda x: x[c1]/(x[c2]+0.00001),axis=1)\n",
    "    test[new_c] = test[[c1,c2]].apply(lambda x: x[c1]/(x[c2]+0.00001),axis=1)\n",
    "    \n",
    "for c1, c2 in [i for i in itertools.combinations(group_features,2)]:\n",
    "    new_c = f'{c1}_{c2}_logdiff'\n",
    "    train[new_c] = train[[c1,c2]].apply(lambda x: np.log(x[c1]+1)-np.log(x[c2]+1),axis=1)\n",
    "    test[new_c] = test[[c1,c2]].apply(lambda x: np.log(x[c1]+1)-np.log(x[c2]+1),axis=1)"
   ]
  },
  {
   "cell_type": "code",
   "execution_count": 13,
   "id": "5cc5f7a3",
   "metadata": {
    "execution": {
     "iopub.execute_input": "2022-11-26T02:57:01.511018Z",
     "iopub.status.busy": "2022-11-26T02:57:01.510437Z",
     "iopub.status.idle": "2022-11-26T03:01:09.065464Z",
     "shell.execute_reply": "2022-11-26T03:01:09.063949Z"
    },
    "papermill": {
     "duration": 247.576116,
     "end_time": "2022-11-26T03:01:09.076457",
     "exception": false,
     "start_time": "2022-11-26T02:57:01.500341",
     "status": "completed"
    },
    "tags": []
   },
   "outputs": [
    {
     "name": "stdout",
     "output_type": "stream",
     "text": [
      "CPU times: user 3min 50s, sys: 17.1 s, total: 4min 7s\n",
      "Wall time: 4min 7s\n"
     ]
    }
   ],
   "source": [
    "%%time\n",
    "\n",
    "\"\"\"\n",
    "make psudo id2 (중앙값보다 높은거)\n",
    "\"\"\"\n",
    "\n",
    "group_features = all_num_features\n",
    "group_features = list(set(group_features))\n",
    "\n",
    "med_dict = train[group_features].apply(lambda x: x.median()).to_dict()\n",
    "for i,j in med_dict.items():\n",
    "    \n",
    "    # greater than median\n",
    "    train[i+'_gtm'] = np.where(train[i]>j,1,0)\n",
    "    test[i+'_gtm'] = np.where(test[i]>j,1,0)\n",
    "\n",
    "    \n",
    "group_features = train.columns[train.columns.str.contains('_gtm')].tolist()\n",
    "group_features = list(set(group_features))\n",
    "\n",
    "for c1, c2 in [i for i in itertools.combinations(group_features,2)]:\n",
    "    new_c = f'{c1}_{c2}_gtm_mul'\n",
    "    train[new_c] = train[[c1,c2]].apply(lambda x: x[c1]*x[c2],axis=1)\n",
    "    test[new_c] = test[[c1,c2]].apply(lambda x: x[c1]*x[c2],axis=1)    \n",
    "    \n",
    "for c1, c2 in [i for i in itertools.combinations(group_features,2)]:\n",
    "    new_c = f'{c1}_{c2}_gtm_minus'\n",
    "    train[new_c] = train[[c1,c2]].apply(lambda x: x[c1]-x[c2],axis=1)\n",
    "    test[new_c] = test[[c1,c2]].apply(lambda x: x[c1]-x[c2],axis=1)\n",
    "    \n",
    "for c1, c2 in [i for i in itertools.combinations(group_features,2)]:\n",
    "    new_c = f'{c1}_{c2}_gtm_plus'\n",
    "    train[new_c] = train[[c1,c2]].apply(lambda x: x[c1]+x[c2],axis=1)\n",
    "    test[new_c] = test[[c1,c2]].apply(lambda x: x[c1]+x[c2],axis=1)\n",
    "    \n",
    "for c1, c2 in [i for i in itertools.combinations(group_features,2)]:\n",
    "    new_c = f'{c1}_{c2}_gtm_div'\n",
    "    train[new_c] = train[[c1,c2]].apply(lambda x: x[c1]/(x[c2]+0.00001),axis=1)\n",
    "    test[new_c] = test[[c1,c2]].apply(lambda x: x[c1]/(x[c2]+0.00001),axis=1)\n",
    "    \n",
    "for c1, c2 in [i for i in itertools.combinations(group_features,2)]:\n",
    "    new_c = f'{c1}_{c2}_gtm_logdiff'\n",
    "    train[new_c] = train[[c1,c2]].apply(lambda x: np.log(x[c1]+1)-np.log(x[c2]+1),axis=1)\n",
    "    test[new_c] = test[[c1,c2]].apply(lambda x: np.log(x[c1]+1)-np.log(x[c2]+1),axis=1)"
   ]
  },
  {
   "cell_type": "code",
   "execution_count": 14,
   "id": "abfdcd23",
   "metadata": {
    "execution": {
     "iopub.execute_input": "2022-11-26T03:01:09.096664Z",
     "iopub.status.busy": "2022-11-26T03:01:09.096113Z",
     "iopub.status.idle": "2022-11-26T03:01:31.572017Z",
     "shell.execute_reply": "2022-11-26T03:01:31.570444Z"
    },
    "papermill": {
     "duration": 22.491397,
     "end_time": "2022-11-26T03:01:31.576602",
     "exception": false,
     "start_time": "2022-11-26T03:01:09.085205",
     "status": "completed"
    },
    "tags": []
   },
   "outputs": [],
   "source": [
    "train.to_csv('./train_w_group.csv',index=False)\n",
    "test.to_csv('./test_w_group.csv',index=False)"
   ]
  },
  {
   "cell_type": "code",
   "execution_count": null,
   "id": "6296ccaa",
   "metadata": {
    "papermill": {
     "duration": 0.008015,
     "end_time": "2022-11-26T03:01:31.593712",
     "exception": false,
     "start_time": "2022-11-26T03:01:31.585697",
     "status": "completed"
    },
    "tags": []
   },
   "outputs": [],
   "source": []
  },
  {
   "cell_type": "code",
   "execution_count": null,
   "id": "178daff7",
   "metadata": {
    "papermill": {
     "duration": 0.007919,
     "end_time": "2022-11-26T03:01:31.610111",
     "exception": false,
     "start_time": "2022-11-26T03:01:31.602192",
     "status": "completed"
    },
    "tags": []
   },
   "outputs": [],
   "source": []
  },
  {
   "cell_type": "markdown",
   "id": "e69ec799",
   "metadata": {
    "execution": {
     "iopub.execute_input": "2022-11-25T13:04:02.119389Z",
     "iopub.status.busy": "2022-11-25T13:04:02.119042Z",
     "iopub.status.idle": "2022-11-25T13:04:02.134996Z",
     "shell.execute_reply": "2022-11-25T13:04:02.133513Z",
     "shell.execute_reply.started": "2022-11-25T13:04:02.119349Z"
    },
    "papermill": {
     "duration": 0.007878,
     "end_time": "2022-11-26T03:01:31.626860",
     "exception": false,
     "start_time": "2022-11-26T03:01:31.618982",
     "status": "completed"
    },
    "tags": []
   },
   "source": [
    "> lgb vi"
   ]
  },
  {
   "cell_type": "code",
   "execution_count": 15,
   "id": "b512d429",
   "metadata": {
    "execution": {
     "iopub.execute_input": "2022-11-26T03:01:31.645706Z",
     "iopub.status.busy": "2022-11-26T03:01:31.645225Z",
     "iopub.status.idle": "2022-11-26T09:25:37.140626Z",
     "shell.execute_reply": "2022-11-26T09:25:37.139653Z"
    },
    "papermill": {
     "duration": 23045.519104,
     "end_time": "2022-11-26T09:25:37.154360",
     "exception": false,
     "start_time": "2022-11-26T03:01:31.635256",
     "status": "completed"
    },
    "tags": []
   },
   "outputs": [
    {
     "name": "stdout",
     "output_type": "stream",
     "text": [
      "Permutation importance for fold 0\n",
      "Permutation importance for fold 1\n",
      "Permutation importance for fold 2\n",
      "Permutation importance for fold 3\n",
      "Permutation importance for fold 4\n",
      "CPU times: user 15h 40min 21s, sys: 1min 17s, total: 15h 41min 39s\n",
      "Wall time: 6h 24min 5s\n"
     ]
    },
    {
     "data": {
      "text/html": [
       "<div>\n",
       "<style scoped>\n",
       "    .dataframe tbody tr th:only-of-type {\n",
       "        vertical-align: middle;\n",
       "    }\n",
       "\n",
       "    .dataframe tbody tr th {\n",
       "        vertical-align: top;\n",
       "    }\n",
       "\n",
       "    .dataframe thead th {\n",
       "        text-align: right;\n",
       "    }\n",
       "</style>\n",
       "<table border=\"1\" class=\"dataframe\">\n",
       "  <thead>\n",
       "    <tr style=\"text-align: right;\">\n",
       "      <th></th>\n",
       "      <th>feature</th>\n",
       "      <th>weight</th>\n",
       "      <th>std</th>\n",
       "      <th>fold</th>\n",
       "    </tr>\n",
       "  </thead>\n",
       "  <tbody>\n",
       "    <tr>\n",
       "      <th>0</th>\n",
       "      <td>ANONYMOUS_2_ANONYMOUS_1_minus</td>\n",
       "      <td>0.017413</td>\n",
       "      <td>0.006727</td>\n",
       "      <td>1</td>\n",
       "    </tr>\n",
       "    <tr>\n",
       "      <th>1</th>\n",
       "      <td>ANONYMOUS_2_ANONYMOUS_1_logdiff</td>\n",
       "      <td>0.004746</td>\n",
       "      <td>0.002694</td>\n",
       "      <td>1</td>\n",
       "    </tr>\n",
       "    <tr>\n",
       "      <th>2</th>\n",
       "      <td>FE_MN_div</td>\n",
       "      <td>0.003324</td>\n",
       "      <td>0.002996</td>\n",
       "      <td>1</td>\n",
       "    </tr>\n",
       "    <tr>\n",
       "      <th>3</th>\n",
       "      <td>MO_CR_mul</td>\n",
       "      <td>0.003031</td>\n",
       "      <td>0.002228</td>\n",
       "      <td>1</td>\n",
       "    </tr>\n",
       "    <tr>\n",
       "      <th>4</th>\n",
       "      <td>MO_ZN_plus</td>\n",
       "      <td>0.002756</td>\n",
       "      <td>0.001223</td>\n",
       "      <td>1</td>\n",
       "    </tr>\n",
       "  </tbody>\n",
       "</table>\n",
       "</div>"
      ],
      "text/plain": [
       "                           feature    weight       std  fold\n",
       "0    ANONYMOUS_2_ANONYMOUS_1_minus  0.017413  0.006727     1\n",
       "1  ANONYMOUS_2_ANONYMOUS_1_logdiff  0.004746  0.002694     1\n",
       "2                        FE_MN_div  0.003324  0.002996     1\n",
       "3                        MO_CR_mul  0.003031  0.002228     1\n",
       "4                       MO_ZN_plus  0.002756  0.001223     1"
      ]
     },
     "execution_count": 15,
     "metadata": {},
     "output_type": "execute_result"
    }
   ],
   "source": [
    "%%time \n",
    "\n",
    "# CPU times: user 30min 55s, sys: 2.93 s, total: 30min 58s\n",
    "# Wall time: 8min 45s\n",
    "\n",
    "best_params =  {\n",
    "    'learning_rate': 0.07398,\n",
    "    'max_depth': 4.309,\n",
    "    'colsample_bytree': 0.4028,\n",
    "    'subsample': 0.4278,\n",
    "    'min_child_samples': 25.65,\n",
    "    'min_child_weight': 0.6138,\n",
    "    'min_split_gain': 0.7354,\n",
    "    'num_leaves': 62.68,\n",
    "    'reg_alpha': 0.2889,\n",
    "    'reg_lambda': 7.875\n",
    "}\n",
    "\n",
    "drop_features = all_num_features + ['YEAR','COMPONENT_ARBITRARY']\n",
    "\n",
    "permutation_importance_lgb = permutation_lgb_vi(train, best_params, drop_features)\n",
    "\n",
    "# save\n",
    "permutation_importance_lgb.to_csv('permutation_importance_lgb.csv',index=False)\n",
    "\n",
    "# check \n",
    "permutation_importance_lgb.head()"
   ]
  },
  {
   "cell_type": "code",
   "execution_count": 16,
   "id": "6ba84878",
   "metadata": {
    "execution": {
     "iopub.execute_input": "2022-11-26T09:25:37.298525Z",
     "iopub.status.busy": "2022-11-26T09:25:37.298012Z",
     "iopub.status.idle": "2022-11-26T09:25:37.312831Z",
     "shell.execute_reply": "2022-11-26T09:25:37.311463Z"
    },
    "papermill": {
     "duration": 0.029265,
     "end_time": "2022-11-26T09:25:37.316012",
     "exception": false,
     "start_time": "2022-11-26T09:25:37.286747",
     "status": "completed"
    },
    "tags": []
   },
   "outputs": [],
   "source": [
    "# vi\n",
    "vi = permutation_importance_lgb.groupby(['feature'])['weight'].mean().reset_index()\n",
    "vi = vi.sort_values(['weight'],ascending=False)\n",
    "vi = vi.head(50)"
   ]
  },
  {
   "cell_type": "code",
   "execution_count": 17,
   "id": "6257e771",
   "metadata": {
    "execution": {
     "iopub.execute_input": "2022-11-26T09:25:37.336987Z",
     "iopub.status.busy": "2022-11-26T09:25:37.336453Z",
     "iopub.status.idle": "2022-11-26T09:25:38.341707Z",
     "shell.execute_reply": "2022-11-26T09:25:38.340094Z"
    },
    "papermill": {
     "duration": 1.018897,
     "end_time": "2022-11-26T09:25:38.344640",
     "exception": false,
     "start_time": "2022-11-26T09:25:37.325743",
     "status": "completed"
    },
    "tags": []
   },
   "outputs": [
    {
     "data": {
      "image/png": "[encoded data removed]",
      "text/plain": [
       "<Figure size 720x720 with 1 Axes>"
      ]
     },
     "metadata": {},
     "output_type": "display_data"
    }
   ],
   "source": [
    "# plot\n",
    "f, ax = plt.subplots(figsize=(10, 10))\n",
    "ax = sns.barplot(x=vi['weight'], y=vi['feature'])\n",
    "ax.set_title(\"Visualize feature scores of the features\")\n",
    "ax.set_yticklabels(vi['feature'])\n",
    "ax.set_xlabel(\"Feature importance score\")\n",
    "ax.set_ylabel(\"Features\")\n",
    "plt.show()"
   ]
  },
  {
   "cell_type": "code",
   "execution_count": null,
   "id": "e5357fef",
   "metadata": {
    "papermill": {
     "duration": 0.010113,
     "end_time": "2022-11-26T09:25:38.365744",
     "exception": false,
     "start_time": "2022-11-26T09:25:38.355631",
     "status": "completed"
    },
    "tags": []
   },
   "outputs": [],
   "source": []
  },
  {
   "cell_type": "code",
   "execution_count": null,
   "id": "9a0095a5",
   "metadata": {
    "papermill": {
     "duration": 0.010174,
     "end_time": "2022-11-26T09:25:38.386818",
     "exception": false,
     "start_time": "2022-11-26T09:25:38.376644",
     "status": "completed"
    },
    "tags": []
   },
   "outputs": [],
   "source": []
  },
  {
   "cell_type": "markdown",
   "id": "3e4b2665",
   "metadata": {
    "papermill": {
     "duration": 0.010234,
     "end_time": "2022-11-26T09:25:38.407737",
     "exception": false,
     "start_time": "2022-11-26T09:25:38.397503",
     "status": "completed"
    },
    "tags": []
   },
   "source": [
    "> rf vi"
   ]
  },
  {
   "cell_type": "code",
   "execution_count": 18,
   "id": "96d92297",
   "metadata": {
    "execution": {
     "iopub.execute_input": "2022-11-26T09:25:38.431193Z",
     "iopub.status.busy": "2022-11-26T09:25:38.430561Z",
     "iopub.status.idle": "2022-11-26T09:25:38.444515Z",
     "shell.execute_reply": "2022-11-26T09:25:38.443281Z"
    },
    "papermill": {
     "duration": 0.028943,
     "end_time": "2022-11-26T09:25:38.447323",
     "exception": false,
     "start_time": "2022-11-26T09:25:38.418380",
     "status": "completed"
    },
    "tags": []
   },
   "outputs": [],
   "source": [
    "def permutation_rf_vi(train, drop_features):    \n",
    "\n",
    "    train_df = train.copy()\n",
    "\n",
    "    # label encoding \n",
    "    encoder = LabelEncoder()\n",
    "    categorical_features = [i for i in train_df.select_dtypes(include=['object','category']).columns.tolist() if i not in ['ID']]\n",
    "    categorical_features = [i for i in categorical_features if i in train_df.columns.tolist()]\n",
    "    for each in categorical_features:\n",
    "        train_df[each] = encoder.fit_transform(train_df[each])\n",
    "\n",
    "    stratified = True\n",
    "\n",
    "    if stratified:\n",
    "        folds = StratifiedKFold(n_splits= 5, shuffle=True, random_state=1)\n",
    "    else:\n",
    "        folds = KFold(n_splits= 5, shuffle=True, random_state=1)\n",
    "\n",
    "    FEATURES = [f for f in train_df.columns if f not in ['Y_LABEL','ID','SAMPLE_TRANSFER_DAY']+drop_features]\n",
    "    TARGET_COL = 'Y_LABEL'\n",
    "    feature_importance_df = pd.DataFrame()\n",
    "    for fold, (train_idx, valid_idx) in enumerate(folds.split(train_df, train_df[TARGET_COL])): \n",
    "\n",
    "        with warnings.catch_warnings():\n",
    "\n",
    "            warnings.filterwarnings('ignore')\n",
    "            \n",
    "            clf = RandomForestClassifier(n_estimators=1000, random_state=1)\n",
    "            \n",
    "        # scoring = 'f1'\n",
    "        perm = PermutationImportance(clf, n_iter=100, scoring='roc_auc',random_state=1).fit(train_df.loc[valid_idx, FEATURES],train_df.loc[valid_idx, TARGET_COL])\n",
    "        fold_importance_df = eli5.explain_weights_df(perm, top = len(FEATURES), feature_names = FEATURES)\n",
    "        fold_importance_df[\"fold\"] = fold + 1\n",
    "        feature_importance_df = pd.concat([feature_importance_df, fold_importance_df], axis=0)\n",
    "        print(f\"Permutation importance for fold {fold}\")\n",
    "    \n",
    "    return feature_importance_df"
   ]
  },
  {
   "cell_type": "code",
   "execution_count": 19,
   "id": "846f161b",
   "metadata": {
    "execution": {
     "iopub.execute_input": "2022-11-26T09:25:38.471304Z",
     "iopub.status.busy": "2022-11-26T09:25:38.470781Z",
     "iopub.status.idle": "2022-11-26T09:25:39.334625Z",
     "shell.execute_reply": "2022-11-26T09:25:39.333388Z"
    },
    "papermill": {
     "duration": 0.878682,
     "end_time": "2022-11-26T09:25:39.337251",
     "exception": false,
     "start_time": "2022-11-26T09:25:38.458569",
     "status": "completed"
    },
    "tags": []
   },
   "outputs": [
    {
     "ename": "NotFittedError",
     "evalue": "This RandomForestClassifier instance is not fitted yet. Call 'fit' with appropriate arguments before using this estimator.",
     "output_type": "error",
     "traceback": [
      "\u001b[0;31m---------------------------------------------------------------------------\u001b[0m",
      "\u001b[0;31mAttributeError\u001b[0m                            Traceback (most recent call last)",
      "\u001b[0;32m/opt/conda/lib/python3.7/site-packages/sklearn/metrics/_scorer.py\u001b[0m in \u001b[0;36m_score\u001b[0;34m(self, method_caller, clf, X, y, sample_weight)\u001b[0m\n\u001b[1;32m    354\u001b[0m             \u001b[0;32mtry\u001b[0m\u001b[0;34m:\u001b[0m\u001b[0;34m\u001b[0m\u001b[0;34m\u001b[0m\u001b[0m\n\u001b[0;32m--> 355\u001b[0;31m                 \u001b[0my_pred\u001b[0m \u001b[0;34m=\u001b[0m \u001b[0mmethod_caller\u001b[0m\u001b[0;34m(\u001b[0m\u001b[0mclf\u001b[0m\u001b[0;34m,\u001b[0m \u001b[0;34m\"decision_function\"\u001b[0m\u001b[0;34m,\u001b[0m \u001b[0mX\u001b[0m\u001b[0;34m)\u001b[0m\u001b[0;34m\u001b[0m\u001b[0;34m\u001b[0m\u001b[0m\n\u001b[0m\u001b[1;32m    356\u001b[0m \u001b[0;34m\u001b[0m\u001b[0m\n",
      "\u001b[0;32m/opt/conda/lib/python3.7/site-packages/sklearn/metrics/_scorer.py\u001b[0m in \u001b[0;36m_cached_call\u001b[0;34m(cache, estimator, method, *args, **kwargs)\u001b[0m\n\u001b[1;32m     67\u001b[0m     \u001b[0;32mif\u001b[0m \u001b[0mcache\u001b[0m \u001b[0;32mis\u001b[0m \u001b[0;32mNone\u001b[0m\u001b[0;34m:\u001b[0m\u001b[0;34m\u001b[0m\u001b[0;34m\u001b[0m\u001b[0m\n\u001b[0;32m---> 68\u001b[0;31m         \u001b[0;32mreturn\u001b[0m \u001b[0mgetattr\u001b[0m\u001b[0;34m(\u001b[0m\u001b[0mestimator\u001b[0m\u001b[0;34m,\u001b[0m \u001b[0mmethod\u001b[0m\u001b[0;34m)\u001b[0m\u001b[0;34m(\u001b[0m\u001b[0;34m*\u001b[0m\u001b[0margs\u001b[0m\u001b[0;34m,\u001b[0m \u001b[0;34m**\u001b[0m\u001b[0mkwargs\u001b[0m\u001b[0;34m)\u001b[0m\u001b[0;34m\u001b[0m\u001b[0;34m\u001b[0m\u001b[0m\n\u001b[0m\u001b[1;32m     69\u001b[0m \u001b[0;34m\u001b[0m\u001b[0m\n",
      "\u001b[0;31mAttributeError\u001b[0m: 'RandomForestClassifier' object has no attribute 'decision_function'",
      "\nDuring handling of the above exception, another exception occurred:\n",
      "\u001b[0;31mNotFittedError\u001b[0m                            Traceback (most recent call last)",
      "\u001b[0;32m<timed exec>\u001b[0m in \u001b[0;36m<module>\u001b[0;34m\u001b[0m\n",
      "\u001b[0;32m/tmp/ipykernel_20/1172386267.py\u001b[0m in \u001b[0;36mpermutation_rf_vi\u001b[0;34m(train, drop_features)\u001b[0m\n\u001b[1;32m     29\u001b[0m \u001b[0;34m\u001b[0m\u001b[0m\n\u001b[1;32m     30\u001b[0m         \u001b[0;31m# scoring = 'f1'\u001b[0m\u001b[0;34m\u001b[0m\u001b[0;34m\u001b[0m\u001b[0;34m\u001b[0m\u001b[0m\n\u001b[0;32m---> 31\u001b[0;31m         \u001b[0mperm\u001b[0m \u001b[0;34m=\u001b[0m \u001b[0mPermutationImportance\u001b[0m\u001b[0;34m(\u001b[0m\u001b[0mclf\u001b[0m\u001b[0;34m,\u001b[0m \u001b[0mn_iter\u001b[0m\u001b[0;34m=\u001b[0m\u001b[0;36m100\u001b[0m\u001b[0;34m,\u001b[0m \u001b[0mscoring\u001b[0m\u001b[0;34m=\u001b[0m\u001b[0;34m'roc_auc'\u001b[0m\u001b[0;34m,\u001b[0m\u001b[0mrandom_state\u001b[0m\u001b[0;34m=\u001b[0m\u001b[0;36m1\u001b[0m\u001b[0;34m)\u001b[0m\u001b[0;34m.\u001b[0m\u001b[0mfit\u001b[0m\u001b[0;34m(\u001b[0m\u001b[0mtrain_df\u001b[0m\u001b[0;34m.\u001b[0m\u001b[0mloc\u001b[0m\u001b[0;34m[\u001b[0m\u001b[0mvalid_idx\u001b[0m\u001b[0;34m,\u001b[0m \u001b[0mFEATURES\u001b[0m\u001b[0;34m]\u001b[0m\u001b[0;34m,\u001b[0m\u001b[0mtrain_df\u001b[0m\u001b[0;34m.\u001b[0m\u001b[0mloc\u001b[0m\u001b[0;34m[\u001b[0m\u001b[0mvalid_idx\u001b[0m\u001b[0;34m,\u001b[0m \u001b[0mTARGET_COL\u001b[0m\u001b[0;34m]\u001b[0m\u001b[0;34m)\u001b[0m\u001b[0;34m\u001b[0m\u001b[0;34m\u001b[0m\u001b[0m\n\u001b[0m\u001b[1;32m     32\u001b[0m         \u001b[0mfold_importance_df\u001b[0m \u001b[0;34m=\u001b[0m \u001b[0meli5\u001b[0m\u001b[0;34m.\u001b[0m\u001b[0mexplain_weights_df\u001b[0m\u001b[0;34m(\u001b[0m\u001b[0mperm\u001b[0m\u001b[0;34m,\u001b[0m \u001b[0mtop\u001b[0m \u001b[0;34m=\u001b[0m \u001b[0mlen\u001b[0m\u001b[0;34m(\u001b[0m\u001b[0mFEATURES\u001b[0m\u001b[0;34m)\u001b[0m\u001b[0;34m,\u001b[0m \u001b[0mfeature_names\u001b[0m \u001b[0;34m=\u001b[0m \u001b[0mFEATURES\u001b[0m\u001b[0;34m)\u001b[0m\u001b[0;34m\u001b[0m\u001b[0;34m\u001b[0m\u001b[0m\n\u001b[1;32m     33\u001b[0m         \u001b[0mfold_importance_df\u001b[0m\u001b[0;34m[\u001b[0m\u001b[0;34m\"fold\"\u001b[0m\u001b[0;34m]\u001b[0m \u001b[0;34m=\u001b[0m \u001b[0mfold\u001b[0m \u001b[0;34m+\u001b[0m \u001b[0;36m1\u001b[0m\u001b[0;34m\u001b[0m\u001b[0;34m\u001b[0m\u001b[0m\n",
      "\u001b[0;32m/opt/conda/lib/python3.7/site-packages/eli5/sklearn/permutation_importance.py\u001b[0m in \u001b[0;36mfit\u001b[0;34m(self, X, y, groups, **fit_params)\u001b[0m\n\u001b[1;32m    202\u001b[0m             \u001b[0msi\u001b[0m \u001b[0;34m=\u001b[0m \u001b[0mself\u001b[0m\u001b[0;34m.\u001b[0m\u001b[0m_cv_scores_importances\u001b[0m\u001b[0;34m(\u001b[0m\u001b[0mX\u001b[0m\u001b[0;34m,\u001b[0m \u001b[0my\u001b[0m\u001b[0;34m,\u001b[0m \u001b[0mgroups\u001b[0m\u001b[0;34m=\u001b[0m\u001b[0mgroups\u001b[0m\u001b[0;34m,\u001b[0m \u001b[0;34m**\u001b[0m\u001b[0mfit_params\u001b[0m\u001b[0;34m)\u001b[0m\u001b[0;34m\u001b[0m\u001b[0;34m\u001b[0m\u001b[0m\n\u001b[1;32m    203\u001b[0m         \u001b[0;32melse\u001b[0m\u001b[0;34m:\u001b[0m\u001b[0;34m\u001b[0m\u001b[0;34m\u001b[0m\u001b[0m\n\u001b[0;32m--> 204\u001b[0;31m             \u001b[0msi\u001b[0m \u001b[0;34m=\u001b[0m \u001b[0mself\u001b[0m\u001b[0;34m.\u001b[0m\u001b[0m_non_cv_scores_importances\u001b[0m\u001b[0;34m(\u001b[0m\u001b[0mX\u001b[0m\u001b[0;34m,\u001b[0m \u001b[0my\u001b[0m\u001b[0;34m)\u001b[0m\u001b[0;34m\u001b[0m\u001b[0;34m\u001b[0m\u001b[0m\n\u001b[0m\u001b[1;32m    205\u001b[0m         \u001b[0mscores\u001b[0m\u001b[0;34m,\u001b[0m \u001b[0mresults\u001b[0m \u001b[0;34m=\u001b[0m \u001b[0msi\u001b[0m\u001b[0;34m\u001b[0m\u001b[0;34m\u001b[0m\u001b[0m\n\u001b[1;32m    206\u001b[0m         \u001b[0mself\u001b[0m\u001b[0;34m.\u001b[0m\u001b[0mscores_\u001b[0m \u001b[0;34m=\u001b[0m \u001b[0mnp\u001b[0m\u001b[0;34m.\u001b[0m\u001b[0marray\u001b[0m\u001b[0;34m(\u001b[0m\u001b[0mscores\u001b[0m\u001b[0;34m)\u001b[0m\u001b[0;34m\u001b[0m\u001b[0;34m\u001b[0m\u001b[0m\n",
      "\u001b[0;32m/opt/conda/lib/python3.7/site-packages/eli5/sklearn/permutation_importance.py\u001b[0m in \u001b[0;36m_non_cv_scores_importances\u001b[0;34m(self, X, y)\u001b[0m\n\u001b[1;32m    230\u001b[0m     \u001b[0;32mdef\u001b[0m \u001b[0m_non_cv_scores_importances\u001b[0m\u001b[0;34m(\u001b[0m\u001b[0mself\u001b[0m\u001b[0;34m,\u001b[0m \u001b[0mX\u001b[0m\u001b[0;34m,\u001b[0m \u001b[0my\u001b[0m\u001b[0;34m)\u001b[0m\u001b[0;34m:\u001b[0m\u001b[0;34m\u001b[0m\u001b[0;34m\u001b[0m\u001b[0m\n\u001b[1;32m    231\u001b[0m         \u001b[0mscore_func\u001b[0m \u001b[0;34m=\u001b[0m \u001b[0mpartial\u001b[0m\u001b[0;34m(\u001b[0m\u001b[0mself\u001b[0m\u001b[0;34m.\u001b[0m\u001b[0mscorer_\u001b[0m\u001b[0;34m,\u001b[0m \u001b[0mself\u001b[0m\u001b[0;34m.\u001b[0m\u001b[0mwrapped_estimator_\u001b[0m\u001b[0;34m)\u001b[0m\u001b[0;34m\u001b[0m\u001b[0;34m\u001b[0m\u001b[0m\n\u001b[0;32m--> 232\u001b[0;31m         \u001b[0mbase_score\u001b[0m\u001b[0;34m,\u001b[0m \u001b[0mimportances\u001b[0m \u001b[0;34m=\u001b[0m \u001b[0mself\u001b[0m\u001b[0;34m.\u001b[0m\u001b[0m_get_score_importances\u001b[0m\u001b[0;34m(\u001b[0m\u001b[0mscore_func\u001b[0m\u001b[0;34m,\u001b[0m \u001b[0mX\u001b[0m\u001b[0;34m,\u001b[0m \u001b[0my\u001b[0m\u001b[0;34m)\u001b[0m\u001b[0;34m\u001b[0m\u001b[0;34m\u001b[0m\u001b[0m\n\u001b[0m\u001b[1;32m    233\u001b[0m         \u001b[0;32mreturn\u001b[0m \u001b[0;34m[\u001b[0m\u001b[0mbase_score\u001b[0m\u001b[0;34m]\u001b[0m \u001b[0;34m*\u001b[0m \u001b[0mlen\u001b[0m\u001b[0;34m(\u001b[0m\u001b[0mimportances\u001b[0m\u001b[0;34m)\u001b[0m\u001b[0;34m,\u001b[0m \u001b[0mimportances\u001b[0m\u001b[0;34m\u001b[0m\u001b[0;34m\u001b[0m\u001b[0m\n\u001b[1;32m    234\u001b[0m \u001b[0;34m\u001b[0m\u001b[0m\n",
      "\u001b[0;32m/opt/conda/lib/python3.7/site-packages/eli5/sklearn/permutation_importance.py\u001b[0m in \u001b[0;36m_get_score_importances\u001b[0;34m(self, score_func, X, y)\u001b[0m\n\u001b[1;32m    235\u001b[0m     \u001b[0;32mdef\u001b[0m \u001b[0m_get_score_importances\u001b[0m\u001b[0;34m(\u001b[0m\u001b[0mself\u001b[0m\u001b[0;34m,\u001b[0m \u001b[0mscore_func\u001b[0m\u001b[0;34m,\u001b[0m \u001b[0mX\u001b[0m\u001b[0;34m,\u001b[0m \u001b[0my\u001b[0m\u001b[0;34m)\u001b[0m\u001b[0;34m:\u001b[0m\u001b[0;34m\u001b[0m\u001b[0;34m\u001b[0m\u001b[0m\n\u001b[1;32m    236\u001b[0m         return get_score_importances(score_func, X, y, n_iter=self.n_iter,\n\u001b[0;32m--> 237\u001b[0;31m                                      random_state=self.rng_)\n\u001b[0m\u001b[1;32m    238\u001b[0m \u001b[0;34m\u001b[0m\u001b[0m\n\u001b[1;32m    239\u001b[0m     \u001b[0;34m@\u001b[0m\u001b[0mproperty\u001b[0m\u001b[0;34m\u001b[0m\u001b[0;34m\u001b[0m\u001b[0m\n",
      "\u001b[0;32m/opt/conda/lib/python3.7/site-packages/eli5/permutation_importance.py\u001b[0m in \u001b[0;36mget_score_importances\u001b[0;34m(score_func, X, y, n_iter, columns_to_shuffle, random_state)\u001b[0m\n\u001b[1;32m     84\u001b[0m     \"\"\"\n\u001b[1;32m     85\u001b[0m     \u001b[0mrng\u001b[0m \u001b[0;34m=\u001b[0m \u001b[0mcheck_random_state\u001b[0m\u001b[0;34m(\u001b[0m\u001b[0mrandom_state\u001b[0m\u001b[0;34m)\u001b[0m\u001b[0;34m\u001b[0m\u001b[0;34m\u001b[0m\u001b[0m\n\u001b[0;32m---> 86\u001b[0;31m     \u001b[0mbase_score\u001b[0m \u001b[0;34m=\u001b[0m \u001b[0mscore_func\u001b[0m\u001b[0;34m(\u001b[0m\u001b[0mX\u001b[0m\u001b[0;34m,\u001b[0m \u001b[0my\u001b[0m\u001b[0;34m)\u001b[0m\u001b[0;34m\u001b[0m\u001b[0;34m\u001b[0m\u001b[0m\n\u001b[0m\u001b[1;32m     87\u001b[0m     \u001b[0mscores_decreases\u001b[0m \u001b[0;34m=\u001b[0m \u001b[0;34m[\u001b[0m\u001b[0;34m]\u001b[0m\u001b[0;34m\u001b[0m\u001b[0;34m\u001b[0m\u001b[0m\n\u001b[1;32m     88\u001b[0m     \u001b[0;32mfor\u001b[0m \u001b[0mi\u001b[0m \u001b[0;32min\u001b[0m \u001b[0mrange\u001b[0m\u001b[0;34m(\u001b[0m\u001b[0mn_iter\u001b[0m\u001b[0;34m)\u001b[0m\u001b[0;34m:\u001b[0m\u001b[0;34m\u001b[0m\u001b[0;34m\u001b[0m\u001b[0m\n",
      "\u001b[0;32m/opt/conda/lib/python3.7/site-packages/eli5/sklearn/permutation_importance.py\u001b[0m in \u001b[0;36mpd_scorer\u001b[0;34m(model, X, y)\u001b[0m\n\u001b[1;32m    160\u001b[0m         \u001b[0;32mdef\u001b[0m \u001b[0mpd_scorer\u001b[0m\u001b[0;34m(\u001b[0m\u001b[0mmodel\u001b[0m\u001b[0;34m,\u001b[0m \u001b[0mX\u001b[0m\u001b[0;34m,\u001b[0m \u001b[0my\u001b[0m\u001b[0;34m)\u001b[0m\u001b[0;34m:\u001b[0m\u001b[0;34m\u001b[0m\u001b[0;34m\u001b[0m\u001b[0m\n\u001b[1;32m    161\u001b[0m             \u001b[0mX\u001b[0m \u001b[0;34m=\u001b[0m \u001b[0mpd\u001b[0m\u001b[0;34m.\u001b[0m\u001b[0mDataFrame\u001b[0m\u001b[0;34m(\u001b[0m\u001b[0mX\u001b[0m\u001b[0;34m,\u001b[0m \u001b[0mcolumns\u001b[0m\u001b[0;34m=\u001b[0m\u001b[0mpd_columns\u001b[0m\u001b[0;34m)\u001b[0m\u001b[0;34m\u001b[0m\u001b[0;34m\u001b[0m\u001b[0m\n\u001b[0;32m--> 162\u001b[0;31m             \u001b[0;32mreturn\u001b[0m \u001b[0mbase_scorer\u001b[0m\u001b[0;34m(\u001b[0m\u001b[0mmodel\u001b[0m\u001b[0;34m,\u001b[0m \u001b[0mX\u001b[0m\u001b[0;34m,\u001b[0m \u001b[0my\u001b[0m\u001b[0;34m)\u001b[0m\u001b[0;34m\u001b[0m\u001b[0;34m\u001b[0m\u001b[0m\n\u001b[0m\u001b[1;32m    163\u001b[0m         \u001b[0;32mreturn\u001b[0m \u001b[0mpd_scorer\u001b[0m\u001b[0;34m\u001b[0m\u001b[0;34m\u001b[0m\u001b[0m\n\u001b[1;32m    164\u001b[0m \u001b[0;34m\u001b[0m\u001b[0m\n",
      "\u001b[0;32m/opt/conda/lib/python3.7/site-packages/sklearn/metrics/_scorer.py\u001b[0m in \u001b[0;36m__call__\u001b[0;34m(self, estimator, X, y_true, sample_weight)\u001b[0m\n\u001b[1;32m    219\u001b[0m             \u001b[0mX\u001b[0m\u001b[0;34m,\u001b[0m\u001b[0;34m\u001b[0m\u001b[0;34m\u001b[0m\u001b[0m\n\u001b[1;32m    220\u001b[0m             \u001b[0my_true\u001b[0m\u001b[0;34m,\u001b[0m\u001b[0;34m\u001b[0m\u001b[0;34m\u001b[0m\u001b[0m\n\u001b[0;32m--> 221\u001b[0;31m             \u001b[0msample_weight\u001b[0m\u001b[0;34m=\u001b[0m\u001b[0msample_weight\u001b[0m\u001b[0;34m,\u001b[0m\u001b[0;34m\u001b[0m\u001b[0;34m\u001b[0m\u001b[0m\n\u001b[0m\u001b[1;32m    222\u001b[0m         )\n\u001b[1;32m    223\u001b[0m \u001b[0;34m\u001b[0m\u001b[0m\n",
      "\u001b[0;32m/opt/conda/lib/python3.7/site-packages/sklearn/metrics/_scorer.py\u001b[0m in \u001b[0;36m_score\u001b[0;34m(self, method_caller, clf, X, y, sample_weight)\u001b[0m\n\u001b[1;32m    367\u001b[0m \u001b[0;34m\u001b[0m\u001b[0m\n\u001b[1;32m    368\u001b[0m             \u001b[0;32mexcept\u001b[0m \u001b[0;34m(\u001b[0m\u001b[0mNotImplementedError\u001b[0m\u001b[0;34m,\u001b[0m \u001b[0mAttributeError\u001b[0m\u001b[0;34m)\u001b[0m\u001b[0;34m:\u001b[0m\u001b[0;34m\u001b[0m\u001b[0;34m\u001b[0m\u001b[0m\n\u001b[0;32m--> 369\u001b[0;31m                 \u001b[0my_pred\u001b[0m \u001b[0;34m=\u001b[0m \u001b[0mmethod_caller\u001b[0m\u001b[0;34m(\u001b[0m\u001b[0mclf\u001b[0m\u001b[0;34m,\u001b[0m \u001b[0;34m\"predict_proba\"\u001b[0m\u001b[0;34m,\u001b[0m \u001b[0mX\u001b[0m\u001b[0;34m)\u001b[0m\u001b[0;34m\u001b[0m\u001b[0;34m\u001b[0m\u001b[0m\n\u001b[0m\u001b[1;32m    370\u001b[0m \u001b[0;34m\u001b[0m\u001b[0m\n\u001b[1;32m    371\u001b[0m                 \u001b[0;32mif\u001b[0m \u001b[0my_type\u001b[0m \u001b[0;34m==\u001b[0m \u001b[0;34m\"binary\"\u001b[0m\u001b[0;34m:\u001b[0m\u001b[0;34m\u001b[0m\u001b[0;34m\u001b[0m\u001b[0m\n",
      "\u001b[0;32m/opt/conda/lib/python3.7/site-packages/sklearn/metrics/_scorer.py\u001b[0m in \u001b[0;36m_cached_call\u001b[0;34m(cache, estimator, method, *args, **kwargs)\u001b[0m\n\u001b[1;32m     66\u001b[0m     \u001b[0;34m\"\"\"Call estimator with method and args and kwargs.\"\"\"\u001b[0m\u001b[0;34m\u001b[0m\u001b[0;34m\u001b[0m\u001b[0m\n\u001b[1;32m     67\u001b[0m     \u001b[0;32mif\u001b[0m \u001b[0mcache\u001b[0m \u001b[0;32mis\u001b[0m \u001b[0;32mNone\u001b[0m\u001b[0;34m:\u001b[0m\u001b[0;34m\u001b[0m\u001b[0;34m\u001b[0m\u001b[0m\n\u001b[0;32m---> 68\u001b[0;31m         \u001b[0;32mreturn\u001b[0m \u001b[0mgetattr\u001b[0m\u001b[0;34m(\u001b[0m\u001b[0mestimator\u001b[0m\u001b[0;34m,\u001b[0m \u001b[0mmethod\u001b[0m\u001b[0;34m)\u001b[0m\u001b[0;34m(\u001b[0m\u001b[0;34m*\u001b[0m\u001b[0margs\u001b[0m\u001b[0;34m,\u001b[0m \u001b[0;34m**\u001b[0m\u001b[0mkwargs\u001b[0m\u001b[0;34m)\u001b[0m\u001b[0;34m\u001b[0m\u001b[0;34m\u001b[0m\u001b[0m\n\u001b[0m\u001b[1;32m     69\u001b[0m \u001b[0;34m\u001b[0m\u001b[0m\n\u001b[1;32m     70\u001b[0m     \u001b[0;32mtry\u001b[0m\u001b[0;34m:\u001b[0m\u001b[0;34m\u001b[0m\u001b[0;34m\u001b[0m\u001b[0m\n",
      "\u001b[0;32m/opt/conda/lib/python3.7/site-packages/sklearn/ensemble/_forest.py\u001b[0m in \u001b[0;36mpredict_proba\u001b[0;34m(self, X)\u001b[0m\n\u001b[1;32m    846\u001b[0m             \u001b[0mclasses\u001b[0m \u001b[0mcorresponds\u001b[0m \u001b[0mto\u001b[0m \u001b[0mthat\u001b[0m \u001b[0;32min\u001b[0m \u001b[0mthe\u001b[0m \u001b[0mattribute\u001b[0m \u001b[0;34m:\u001b[0m\u001b[0mterm\u001b[0m\u001b[0;34m:\u001b[0m\u001b[0;31m`\u001b[0m\u001b[0mclasses_\u001b[0m\u001b[0;31m`\u001b[0m\u001b[0;34m.\u001b[0m\u001b[0;34m\u001b[0m\u001b[0;34m\u001b[0m\u001b[0m\n\u001b[1;32m    847\u001b[0m         \"\"\"\n\u001b[0;32m--> 848\u001b[0;31m         \u001b[0mcheck_is_fitted\u001b[0m\u001b[0;34m(\u001b[0m\u001b[0mself\u001b[0m\u001b[0;34m)\u001b[0m\u001b[0;34m\u001b[0m\u001b[0;34m\u001b[0m\u001b[0m\n\u001b[0m\u001b[1;32m    849\u001b[0m         \u001b[0;31m# Check data\u001b[0m\u001b[0;34m\u001b[0m\u001b[0;34m\u001b[0m\u001b[0;34m\u001b[0m\u001b[0m\n\u001b[1;32m    850\u001b[0m         \u001b[0mX\u001b[0m \u001b[0;34m=\u001b[0m \u001b[0mself\u001b[0m\u001b[0;34m.\u001b[0m\u001b[0m_validate_X_predict\u001b[0m\u001b[0;34m(\u001b[0m\u001b[0mX\u001b[0m\u001b[0;34m)\u001b[0m\u001b[0;34m\u001b[0m\u001b[0;34m\u001b[0m\u001b[0m\n",
      "\u001b[0;32m/opt/conda/lib/python3.7/site-packages/sklearn/utils/validation.py\u001b[0m in \u001b[0;36mcheck_is_fitted\u001b[0;34m(estimator, attributes, msg, all_or_any)\u001b[0m\n\u001b[1;32m   1220\u001b[0m \u001b[0;34m\u001b[0m\u001b[0m\n\u001b[1;32m   1221\u001b[0m     \u001b[0;32mif\u001b[0m \u001b[0;32mnot\u001b[0m \u001b[0mfitted\u001b[0m\u001b[0;34m:\u001b[0m\u001b[0;34m\u001b[0m\u001b[0;34m\u001b[0m\u001b[0m\n\u001b[0;32m-> 1222\u001b[0;31m         \u001b[0;32mraise\u001b[0m \u001b[0mNotFittedError\u001b[0m\u001b[0;34m(\u001b[0m\u001b[0mmsg\u001b[0m \u001b[0;34m%\u001b[0m \u001b[0;34m{\u001b[0m\u001b[0;34m\"name\"\u001b[0m\u001b[0;34m:\u001b[0m \u001b[0mtype\u001b[0m\u001b[0;34m(\u001b[0m\u001b[0mestimator\u001b[0m\u001b[0;34m)\u001b[0m\u001b[0;34m.\u001b[0m\u001b[0m__name__\u001b[0m\u001b[0;34m}\u001b[0m\u001b[0;34m)\u001b[0m\u001b[0;34m\u001b[0m\u001b[0;34m\u001b[0m\u001b[0m\n\u001b[0m\u001b[1;32m   1223\u001b[0m \u001b[0;34m\u001b[0m\u001b[0m\n\u001b[1;32m   1224\u001b[0m \u001b[0;34m\u001b[0m\u001b[0m\n",
      "\u001b[0;31mNotFittedError\u001b[0m: This RandomForestClassifier instance is not fitted yet. Call 'fit' with appropriate arguments before using this estimator."
     ]
    }
   ],
   "source": [
    "%%time \n",
    "\n",
    "# CPU times: user 30min 55s, sys: 2.93 s, total: 30min 58s\n",
    "# Wall time: 8min 45s\n",
    "\n",
    "drop_features = all_num_features + ['YEAR','COMPONENT_ARBITRARY']\n",
    "\n",
    "permutation_importance_rf = permutation_rf_vi(train, drop_features)\n",
    "\n",
    "# save\n",
    "permutation_importance_rf.to_csv('permutation_importance_rf.csv',index=False)\n",
    "\n",
    "# check \n",
    "permutation_importance_rf.head()"
   ]
  },
  {
   "cell_type": "code",
   "execution_count": 20,
   "id": "744a3e0e",
   "metadata": {
    "execution": {
     "iopub.execute_input": "2022-11-26T09:25:39.363141Z",
     "iopub.status.busy": "2022-11-26T09:25:39.362606Z",
     "iopub.status.idle": "2022-11-26T09:25:39.404406Z",
     "shell.execute_reply": "2022-11-26T09:25:39.402968Z"
    },
    "papermill": {
     "duration": 0.057512,
     "end_time": "2022-11-26T09:25:39.406485",
     "exception": true,
     "start_time": "2022-11-26T09:25:39.348973",
     "status": "failed"
    },
    "tags": []
   },
   "outputs": [
    {
     "ename": "NameError",
     "evalue": "name 'permutation_importance_rf' is not defined",
     "output_type": "error",
     "traceback": [
      "\u001b[0;31m---------------------------------------------------------------------------\u001b[0m",
      "\u001b[0;31mNameError\u001b[0m                                 Traceback (most recent call last)",
      "\u001b[0;32m/tmp/ipykernel_20/1197772366.py\u001b[0m in \u001b[0;36m<module>\u001b[0;34m\u001b[0m\n\u001b[1;32m      1\u001b[0m \u001b[0;31m# vi\u001b[0m\u001b[0;34m\u001b[0m\u001b[0;34m\u001b[0m\u001b[0;34m\u001b[0m\u001b[0m\n\u001b[0;32m----> 2\u001b[0;31m \u001b[0mvi\u001b[0m \u001b[0;34m=\u001b[0m \u001b[0mpermutation_importance_rf\u001b[0m\u001b[0;34m.\u001b[0m\u001b[0mgroupby\u001b[0m\u001b[0;34m(\u001b[0m\u001b[0;34m[\u001b[0m\u001b[0;34m'feature'\u001b[0m\u001b[0;34m]\u001b[0m\u001b[0;34m)\u001b[0m\u001b[0;34m[\u001b[0m\u001b[0;34m'weight'\u001b[0m\u001b[0;34m]\u001b[0m\u001b[0;34m.\u001b[0m\u001b[0mmean\u001b[0m\u001b[0;34m(\u001b[0m\u001b[0;34m)\u001b[0m\u001b[0;34m.\u001b[0m\u001b[0mreset_index\u001b[0m\u001b[0;34m(\u001b[0m\u001b[0;34m)\u001b[0m\u001b[0;34m\u001b[0m\u001b[0;34m\u001b[0m\u001b[0m\n\u001b[0m\u001b[1;32m      3\u001b[0m \u001b[0mvi\u001b[0m \u001b[0;34m=\u001b[0m \u001b[0mvi\u001b[0m\u001b[0;34m.\u001b[0m\u001b[0msort_values\u001b[0m\u001b[0;34m(\u001b[0m\u001b[0;34m[\u001b[0m\u001b[0;34m'weight'\u001b[0m\u001b[0;34m]\u001b[0m\u001b[0;34m,\u001b[0m\u001b[0mascending\u001b[0m\u001b[0;34m=\u001b[0m\u001b[0;32mFalse\u001b[0m\u001b[0;34m)\u001b[0m\u001b[0;34m\u001b[0m\u001b[0;34m\u001b[0m\u001b[0m\n\u001b[1;32m      4\u001b[0m \u001b[0mvi\u001b[0m \u001b[0;34m=\u001b[0m \u001b[0mvi\u001b[0m\u001b[0;34m.\u001b[0m\u001b[0mhead\u001b[0m\u001b[0;34m(\u001b[0m\u001b[0;36m50\u001b[0m\u001b[0;34m)\u001b[0m\u001b[0;34m\u001b[0m\u001b[0;34m\u001b[0m\u001b[0m\n",
      "\u001b[0;31mNameError\u001b[0m: name 'permutation_importance_rf' is not defined"
     ]
    }
   ],
   "source": [
    "# vi\n",
    "vi = permutation_importance_rf.groupby(['feature'])['weight'].mean().reset_index()\n",
    "vi = vi.sort_values(['weight'],ascending=False)\n",
    "vi = vi.head(50)"
   ]
  },
  {
   "cell_type": "code",
   "execution_count": null,
   "id": "d7f9d839",
   "metadata": {
    "execution": {
     "iopub.status.busy": "2022-11-26T02:52:40.513354Z",
     "iopub.status.idle": "2022-11-26T02:52:40.513989Z",
     "shell.execute_reply": "2022-11-26T02:52:40.513786Z",
     "shell.execute_reply.started": "2022-11-26T02:52:40.513763Z"
    },
    "papermill": {
     "duration": null,
     "end_time": null,
     "exception": null,
     "start_time": null,
     "status": "pending"
    },
    "tags": []
   },
   "outputs": [],
   "source": [
    "# plot\n",
    "f, ax = plt.subplots(figsize=(10, 10))\n",
    "ax = sns.barplot(x=vi['weight'], y=vi['feature'])\n",
    "ax.set_title(\"Visualize feature scores of the features\")\n",
    "ax.set_yticklabels(vi['feature'])\n",
    "ax.set_xlabel(\"Feature importance score\")\n",
    "ax.set_ylabel(\"Features\")\n",
    "plt.show()"
   ]
  },
  {
   "cell_type": "code",
   "execution_count": null,
   "id": "c3240bff",
   "metadata": {
    "papermill": {
     "duration": null,
     "end_time": null,
     "exception": null,
     "start_time": null,
     "status": "pending"
    },
    "tags": []
   },
   "outputs": [],
   "source": []
  },
  {
   "cell_type": "code",
   "execution_count": null,
   "id": "8f032c2d",
   "metadata": {
    "papermill": {
     "duration": null,
     "end_time": null,
     "exception": null,
     "start_time": null,
     "status": "pending"
    },
    "tags": []
   },
   "outputs": [],
   "source": []
  },
  {
   "cell_type": "code",
   "execution_count": null,
   "id": "ece226f0",
   "metadata": {
    "papermill": {
     "duration": null,
     "end_time": null,
     "exception": null,
     "start_time": null,
     "status": "pending"
    },
    "tags": []
   },
   "outputs": [],
   "source": []
  },
  {
   "cell_type": "code",
   "execution_count": null,
   "id": "f2eee77e",
   "metadata": {
    "papermill": {
     "duration": null,
     "end_time": null,
     "exception": null,
     "start_time": null,
     "status": "pending"
    },
    "tags": []
   },
   "outputs": [],
   "source": []
  }
 ],
 "metadata": {
  "kernelspec": {
   "display_name": "Python 3",
   "language": "python",
   "name": "python3"
  },
  "language_info": {
   "codemirror_mode": {
    "name": "ipython",
    "version": 3
   },
   "file_extension": ".py",
   "mimetype": "text/x-python",
   "name": "python",
   "nbconvert_exporter": "python",
   "pygments_lexer": "ipython3",
   "version": "3.7.12"
  },
  "papermill": {
   "default_parameters": {},
   "duration": 23565.833566,
   "end_time": "2022-11-26T09:25:42.085757",
   "environment_variables": {},
   "exception": true,
   "input_path": "__notebook__.ipynb",
   "output_path": "__notebook__.ipynb",
   "parameters": {},
   "start_time": "2022-11-26T02:52:56.252191",
   "version": "2.3.4"
  }
 },
 "nbformat": 4,
 "nbformat_minor": 5
}

{
 "cells": [
  {
   "cell_type": "code",
   "execution_count": 1,
   "id": "dd04d779",
   "metadata": {
    "execution": {
     "iopub.execute_input": "2022-12-05T23:50:34.032646Z",
     "iopub.status.busy": "2022-12-05T23:50:34.032206Z",
     "iopub.status.idle": "2022-12-05T23:50:52.951443Z",
     "shell.execute_reply": "2022-12-05T23:50:52.949750Z"
    },
    "papermill": {
     "duration": 18.936484,
     "end_time": "2022-12-05T23:50:52.954383",
     "exception": false,
     "start_time": "2022-12-05T23:50:34.017899",
     "status": "completed"
    },
    "tags": []
   },
   "outputs": [
    {
     "name": "stdout",
     "output_type": "stream",
     "text": [
      "Collecting optbinning\r\n",
      "  Downloading optbinning-0.17.1-py3-none-any.whl (211 kB)\r\n",
      "\u001b[2K     \u001b[90m━━━━━━━━━━━━━━━━━━━━━━━━━━━━━━━━━━━━━\u001b[0m \u001b[32m211.2/211.2 kB\u001b[0m \u001b[31m476.8 kB/s\u001b[0m eta \u001b[36m0:00:00\u001b[0m\r\n",
      "\u001b[?25hCollecting ropwr>=0.4.0\r\n",
      "  Downloading ropwr-0.4.0-py3-none-any.whl (15 kB)\r\n",
      "Requirement already satisfied: scipy>=1.6.0 in /opt/conda/lib/python3.7/site-packages (from optbinning) (1.7.3)\r\n",
      "Requirement already satisfied: ortools>=7.2 in /opt/conda/lib/python3.7/site-packages (from optbinning) (9.4.1874)\r\n",
      "Requirement already satisfied: pandas in /opt/conda/lib/python3.7/site-packages (from optbinning) (1.3.5)\r\n",
      "Requirement already satisfied: matplotlib in /opt/conda/lib/python3.7/site-packages (from optbinning) (3.5.3)\r\n",
      "Requirement already satisfied: scikit-learn>=0.22.0 in /opt/conda/lib/python3.7/site-packages (from optbinning) (1.0.2)\r\n",
      "Requirement already satisfied: numpy>=1.16.1 in /opt/conda/lib/python3.7/site-packages (from optbinning) (1.21.6)\r\n",
      "Requirement already satisfied: absl-py>=0.13 in /opt/conda/lib/python3.7/site-packages (from ortools>=7.2->optbinning) (0.15.0)\r\n",
      "Requirement already satisfied: protobuf>=3.19.4 in /opt/conda/lib/python3.7/site-packages (from ortools>=7.2->optbinning) (3.19.4)\r\n",
      "Collecting cvxpy>=1.1.14\r\n",
      "  Downloading cvxpy-1.2.2-cp37-cp37m-manylinux_2_24_x86_64.whl (2.8 MB)\r\n",
      "\u001b[2K     \u001b[90m━━━━━━━━━━━━━━━━━━━━━━━━━━━━━━━━━━━━━━━━\u001b[0m \u001b[32m2.8/2.8 MB\u001b[0m \u001b[31m4.4 MB/s\u001b[0m eta \u001b[36m0:00:00\u001b[0m\r\n",
      "\u001b[?25hRequirement already satisfied: joblib>=0.11 in /opt/conda/lib/python3.7/site-packages (from scikit-learn>=0.22.0->optbinning) (1.0.1)\r\n",
      "Requirement already satisfied: threadpoolctl>=2.0.0 in /opt/conda/lib/python3.7/site-packages (from scikit-learn>=0.22.0->optbinning) (3.1.0)\r\n",
      "Requirement already satisfied: pillow>=6.2.0 in /opt/conda/lib/python3.7/site-packages (from matplotlib->optbinning) (9.1.1)\r\n",
      "Requirement already satisfied: kiwisolver>=1.0.1 in /opt/conda/lib/python3.7/site-packages (from matplotlib->optbinning) (1.4.3)\r\n",
      "Requirement already satisfied: python-dateutil>=2.7 in /opt/conda/lib/python3.7/site-packages (from matplotlib->optbinning) (2.8.2)\r\n",
      "Requirement already satisfied: fonttools>=4.22.0 in /opt/conda/lib/python3.7/site-packages (from matplotlib->optbinning) (4.33.3)\r\n",
      "Requirement already satisfied: packaging>=20.0 in /opt/conda/lib/python3.7/site-packages (from matplotlib->optbinning) (21.3)\r\n",
      "Requirement already satisfied: cycler>=0.10 in /opt/conda/lib/python3.7/site-packages (from matplotlib->optbinning) (0.11.0)\r\n",
      "Requirement already satisfied: pyparsing>=2.2.1 in /opt/conda/lib/python3.7/site-packages (from matplotlib->optbinning) (3.0.9)\r\n",
      "Requirement already satisfied: pytz>=2017.3 in /opt/conda/lib/python3.7/site-packages (from pandas->optbinning) (2022.1)\r\n",
      "Requirement already satisfied: six in /opt/conda/lib/python3.7/site-packages (from absl-py>=0.13->ortools>=7.2->optbinning) (1.15.0)\r\n",
      "Requirement already satisfied: ecos>=2 in /opt/conda/lib/python3.7/site-packages (from cvxpy>=1.1.14->ropwr>=0.4.0->optbinning) (2.0.10)\r\n",
      "Collecting scs>=1.1.6\r\n",
      "  Downloading scs-3.2.2-cp37-cp37m-manylinux_2_17_x86_64.manylinux2014_x86_64.whl (10.7 MB)\r\n",
      "\u001b[2K     \u001b[90m━━━━━━━━━━━━━━━━━━━━━━━━━━━━━━━━━━━━━━━━\u001b[0m \u001b[32m10.7/10.7 MB\u001b[0m \u001b[31m16.5 MB/s\u001b[0m eta \u001b[36m0:00:00\u001b[0m\r\n",
      "\u001b[?25hCollecting osqp>=0.4.1\r\n",
      "  Downloading osqp-0.6.2.post8-cp37-cp37m-manylinux_2_5_x86_64.manylinux1_x86_64.manylinux_2_17_x86_64.manylinux2014_x86_64.whl (296 kB)\r\n",
      "\u001b[2K     \u001b[90m━━━━━━━━━━━━━━━━━━━━━━━━━━━━━━━━━━━━━━\u001b[0m \u001b[32m296.2/296.2 kB\u001b[0m \u001b[31m21.9 MB/s\u001b[0m eta \u001b[36m0:00:00\u001b[0m\r\n",
      "\u001b[?25hRequirement already satisfied: typing-extensions in /opt/conda/lib/python3.7/site-packages (from kiwisolver>=1.0.1->matplotlib->optbinning) (4.4.0)\r\n",
      "Collecting qdldl\r\n",
      "  Downloading qdldl-0.1.5.post2-cp37-cp37m-manylinux_2_17_x86_64.manylinux2014_x86_64.whl (1.1 MB)\r\n",
      "\u001b[2K     \u001b[90m━━━━━━━━━━━━━━━━━━━━━━━━━━━━━━━━━━━━━━━━\u001b[0m \u001b[32m1.1/1.1 MB\u001b[0m \u001b[31m37.5 MB/s\u001b[0m eta \u001b[36m0:00:00\u001b[0m\r\n",
      "\u001b[?25hInstalling collected packages: scs, qdldl, osqp, cvxpy, ropwr, optbinning\r\n",
      "Successfully installed cvxpy-1.2.2 optbinning-0.17.1 osqp-0.6.2.post8 qdldl-0.1.5.post2 ropwr-0.4.0 scs-3.2.2\r\n",
      "\u001b[33mWARNING: Running pip as the 'root' user can result in broken permissions and conflicting behaviour with the system package manager. It is recommended to use a virtual environment instead: https://pip.pypa.io/warnings/venv\u001b[0m\u001b[33m\r\n",
      "\u001b[0m"
     ]
    }
   ],
   "source": [
    "! pip install optbinning"
   ]
  },
  {
   "cell_type": "code",
   "execution_count": 2,
   "id": "348ecb30",
   "metadata": {
    "execution": {
     "iopub.execute_input": "2022-12-05T23:50:52.986260Z",
     "iopub.status.busy": "2022-12-05T23:50:52.985091Z",
     "iopub.status.idle": "2022-12-05T23:50:57.395893Z",
     "shell.execute_reply": "2022-12-05T23:50:57.394738Z"
    },
    "papermill": {
     "duration": 4.429567,
     "end_time": "2022-12-05T23:50:57.398699",
     "exception": false,
     "start_time": "2022-12-05T23:50:52.969132",
     "status": "completed"
    },
    "tags": []
   },
   "outputs": [
    {
     "data": {
      "text/html": [
       "<style type='text/css'>\n",
       ".datatable table.frame { margin-bottom: 0; }\n",
       ".datatable table.frame thead { border-bottom: none; }\n",
       ".datatable table.frame tr.coltypes td {  color: #FFFFFF;  line-height: 6px;  padding: 0 0.5em;}\n",
       ".datatable .bool    { background: #DDDD99; }\n",
       ".datatable .object  { background: #565656; }\n",
       ".datatable .int     { background: #5D9E5D; }\n",
       ".datatable .float   { background: #4040CC; }\n",
       ".datatable .str     { background: #CC4040; }\n",
       ".datatable .time    { background: #40CC40; }\n",
       ".datatable .row_index {  background: var(--jp-border-color3);  border-right: 1px solid var(--jp-border-color0);  color: var(--jp-ui-font-color3);  font-size: 9px;}\n",
       ".datatable .frame tbody td { text-align: left; }\n",
       ".datatable .frame tr.coltypes .row_index {  background: var(--jp-border-color0);}\n",
       ".datatable th:nth-child(2) { padding-left: 12px; }\n",
       ".datatable .hellipsis {  color: var(--jp-cell-editor-border-color);}\n",
       ".datatable .vellipsis {  background: var(--jp-layout-color0);  color: var(--jp-cell-editor-border-color);}\n",
       ".datatable .na {  color: var(--jp-cell-editor-border-color);  font-size: 80%;}\n",
       ".datatable .sp {  opacity: 0.25;}\n",
       ".datatable .footer { font-size: 9px; }\n",
       ".datatable .frame_dimensions {  background: var(--jp-border-color3);  border-top: 1px solid var(--jp-border-color0);  color: var(--jp-ui-font-color3);  display: inline-block;  opacity: 0.6;  padding: 1px 10px 1px 5px;}\n",
       ".datatable .frame thead tr.colnames {  background-image: url('data:image/png;base64,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');  background-repeat: repeat-x;  background-size: 14px;  height: 28px;}\n",
       "</style>\n"
      ],
      "text/plain": [
       "<IPython.core.display.HTML object>"
      ]
     },
     "metadata": {},
     "output_type": "display_data"
    }
   ],
   "source": [
    "import joblib\n",
    "import numpy as np\n",
    "import pandas as pd\n",
    "import gc\n",
    "import time\n",
    "import os\n",
    "import sys\n",
    "from contextlib import contextmanager\n",
    "from lightgbm import LGBMClassifier\n",
    "import lightgbm as lgb\n",
    "import xgboost as xgb\n",
    "from xgboost import XGBClassifier\n",
    "from sklearn.metrics import roc_auc_score, roc_curve, f1_score\n",
    "from sklearn.model_selection import KFold, StratifiedKFold, train_test_split, cross_val_score\n",
    "import matplotlib.pyplot as plt\n",
    "import seaborn as sns\n",
    "from sklearn.preprocessing import LabelEncoder\n",
    "from sklearn.preprocessing import StandardScaler\n",
    "from bayes_opt import BayesianOptimization\n",
    "from skopt import BayesSearchCV \n",
    "from optbinning import OptimalBinning\n",
    "from sklearn.cluster import KMeans\n",
    "from sklearn.preprocessing import MinMaxScaler\n",
    "from yellowbrick.cluster import KElbowVisualizer\n",
    "from scipy.cluster.hierarchy import linkage\n",
    "from scipy.cluster.hierarchy import dendrogram\n",
    "from sklearn.decomposition import PCA\n",
    "import random\n",
    "import torch\n",
    "import torch.nn as nn\n",
    "import torch.nn.functional as F\n",
    "import torch.optim as optim\n",
    "from torch.utils.data import DataLoader, Dataset\n",
    "from tqdm.auto import tqdm\n",
    "import random\n",
    "import warnings\n",
    "warnings.simplefilter(action='ignore', category=FutureWarning)"
   ]
  },
  {
   "cell_type": "code",
   "execution_count": 3,
   "id": "f7d9a127",
   "metadata": {
    "execution": {
     "iopub.execute_input": "2022-12-05T23:50:57.432184Z",
     "iopub.status.busy": "2022-12-05T23:50:57.431331Z",
     "iopub.status.idle": "2022-12-05T23:50:57.435980Z",
     "shell.execute_reply": "2022-12-05T23:50:57.435229Z"
    },
    "papermill": {
     "duration": 0.022489,
     "end_time": "2022-12-05T23:50:57.437985",
     "exception": false,
     "start_time": "2022-12-05T23:50:57.415496",
     "status": "completed"
    },
    "tags": []
   },
   "outputs": [],
   "source": [
    "pd.set_option('display.max_rows', 500)"
   ]
  },
  {
   "cell_type": "code",
   "execution_count": 4,
   "id": "12b555e2",
   "metadata": {
    "execution": {
     "iopub.execute_input": "2022-12-05T23:50:57.469644Z",
     "iopub.status.busy": "2022-12-05T23:50:57.468470Z",
     "iopub.status.idle": "2022-12-05T23:50:57.477999Z",
     "shell.execute_reply": "2022-12-05T23:50:57.477052Z"
    },
    "papermill": {
     "duration": 0.027554,
     "end_time": "2022-12-05T23:50:57.480368",
     "exception": false,
     "start_time": "2022-12-05T23:50:57.452814",
     "status": "completed"
    },
    "tags": []
   },
   "outputs": [],
   "source": [
    "def seed_everything(seed):\n",
    "    random.seed(seed)\n",
    "    os.environ['PYTHONHASHSEED'] = str(seed)\n",
    "    np.random.seed(seed)\n",
    "    torch.manual_seed(seed)\n",
    "    torch.cuda.manual_seed(seed)\n",
    "    torch.backends.cudnn.deterministic = True\n",
    "    torch.backends.cudnn.benchmark = True\n",
    "\n",
    "seed_everything(1)"
   ]
  },
  {
   "cell_type": "code",
   "execution_count": 5,
   "id": "186c4bdc",
   "metadata": {
    "execution": {
     "iopub.execute_input": "2022-12-05T23:50:57.510362Z",
     "iopub.status.busy": "2022-12-05T23:50:57.509964Z",
     "iopub.status.idle": "2022-12-05T23:50:57.516992Z",
     "shell.execute_reply": "2022-12-05T23:50:57.516069Z"
    },
    "papermill": {
     "duration": 0.024042,
     "end_time": "2022-12-05T23:50:57.518941",
     "exception": false,
     "start_time": "2022-12-05T23:50:57.494899",
     "status": "completed"
    },
    "tags": []
   },
   "outputs": [],
   "source": [
    "def display_importances(feature_importance_df_):\n",
    "    cols = feature_importance_df_[[\"feature\", \"importance\"]].groupby(\"feature\").mean().sort_values(by=\"importance\", ascending=False)[:40].index\n",
    "    best_features = feature_importance_df_.loc[feature_importance_df_.feature.isin(cols)]\n",
    "    plt.figure(figsize=(8, 10))\n",
    "    sns.barplot(x=\"importance\", y=\"feature\", data=best_features.sort_values(by=\"importance\", ascending=False))\n",
    "    plt.title('LightGBM Features (avg over folds)')\n",
    "    plt.tight_layout()\n",
    "    plt.savefig('lgbm_importances01.png')"
   ]
  },
  {
   "cell_type": "code",
   "execution_count": 6,
   "id": "6b00c258",
   "metadata": {
    "execution": {
     "iopub.execute_input": "2022-12-05T23:50:57.550230Z",
     "iopub.status.busy": "2022-12-05T23:50:57.549483Z",
     "iopub.status.idle": "2022-12-05T23:50:57.558224Z",
     "shell.execute_reply": "2022-12-05T23:50:57.557438Z"
    },
    "papermill": {
     "duration": 0.026151,
     "end_time": "2022-12-05T23:50:57.560263",
     "exception": false,
     "start_time": "2022-12-05T23:50:57.534112",
     "status": "completed"
    },
    "tags": []
   },
   "outputs": [],
   "source": [
    "# Plots the disribution of a variable colored by value of the target\n",
    "def kde_target(var_name, df):\n",
    "    \n",
    "    # Calculate the correlation coefficient between the new variable and the target\n",
    "    corr = df['Y_LABEL'].corr(df[var_name])\n",
    "    \n",
    "    # Calculate medians for repaid vs not repaid\n",
    "    avg_target_0 = df.loc[df['Y_LABEL'] == 0, var_name].median()\n",
    "    avg_target_1 = df.loc[df['Y_LABEL'] == 1, var_name].median()\n",
    "    \n",
    "    plt.figure(figsize = (12, 6))\n",
    "    \n",
    "    # Plot the distribution for target == 0 and target == 1\n",
    "    sns.kdeplot(df.loc[df['Y_LABEL'] == 0, var_name], label = 'Y_LABEL == 0')\n",
    "    sns.kdeplot(df.loc[df['Y_LABEL'] == 1, var_name], label = 'Y_LABEL == 1')\n",
    "    \n",
    "    # label the plot\n",
    "    plt.xlabel(var_name); plt.ylabel('Density'); plt.title('%s Distribution' % var_name)\n",
    "    plt.legend();\n",
    "    \n",
    "    # print out the correlation\n",
    "    print('The correlation between %s and the TARGET is %0.4f' % (var_name, corr))\n",
    "    # Print out average values\n",
    "    print('Median value for avg_target_0 = %0.4f' % avg_target_0)\n",
    "    print('Median value for avg_target_1 = %0.4f' % avg_target_1)"
   ]
  },
  {
   "cell_type": "code",
   "execution_count": 7,
   "id": "5c2ce478",
   "metadata": {
    "execution": {
     "iopub.execute_input": "2022-12-05T23:50:57.590488Z",
     "iopub.status.busy": "2022-12-05T23:50:57.590116Z",
     "iopub.status.idle": "2022-12-05T23:50:57.620093Z",
     "shell.execute_reply": "2022-12-05T23:50:57.619014Z"
    },
    "papermill": {
     "duration": 0.048158,
     "end_time": "2022-12-05T23:50:57.622407",
     "exception": false,
     "start_time": "2022-12-05T23:50:57.574249",
     "status": "completed"
    },
    "tags": []
   },
   "outputs": [],
   "source": [
    "def train_model(train,test,params,stratified,num_folds,drop_features,seed_num=1):\n",
    "    \n",
    "    seed_everything(seed_num)\n",
    "    \n",
    "    # Divide in training/validation and test data\n",
    "    train_df = train.copy()\n",
    "    test_df = test.copy()\n",
    "\n",
    "    # label encoding \n",
    "    encoder = LabelEncoder()\n",
    "    categorical_features = [i for i in train_df.select_dtypes(include=['object','category']).columns.tolist() if i not in ['ID']]\n",
    "    categorical_features = [i for i in categorical_features if i in train_df.columns.tolist()]\n",
    "    for each in categorical_features:\n",
    "        train_df[each] = encoder.fit_transform(train_df[each])\n",
    "        test_df[each] = encoder.fit_transform(test_df[each])\n",
    "\n",
    "    # set training options\n",
    "    stratified = stratified\n",
    "    num_folds = num_folds\n",
    "\n",
    "    # Cross validation model\n",
    "    if stratified:\n",
    "        folds = StratifiedKFold(n_splits= num_folds, shuffle=True, random_state=seed_num)\n",
    "    else:\n",
    "        folds = KFold(n_splits= num_folds, shuffle=True, random_state=seed_num)\n",
    "\n",
    "    # Create arrays and dataframes to store results\n",
    "    oof_preds_lgb = np.zeros(train_df.shape[0])\n",
    "    sub_preds_lgb = np.zeros(test_df.shape[0])\n",
    "    feature_importance_df = pd.DataFrame()\n",
    "    feats = [f for f in train_df.columns if f not in ['Y_LABEL','ID','SAMPLE_TRANSFER_DAY']+drop_features]\n",
    "\n",
    "    for n_fold, (train_idx, valid_idx) in enumerate(folds.split(train_df[feats], train_df['Y_LABEL'])):\n",
    "        train_x, train_y = train_df[feats].iloc[train_idx], train_df['Y_LABEL'].iloc[train_idx]\n",
    "        valid_x, valid_y = train_df[feats].iloc[valid_idx], train_df['Y_LABEL'].iloc[valid_idx]\n",
    "\n",
    "        \"\"\"        \n",
    "        learning_rate=0.02,\n",
    "        num_leaves=34,\n",
    "        colsample_bytree=0.2,\n",
    "        subsample=0.8715623,\n",
    "        max_depth=4,\n",
    "        reg_alpha=0.041545473,\n",
    "        reg_lambda=0.0735294,\n",
    "        min_split_gain=0.0222415,\n",
    "        min_child_weight=39.3259775,\n",
    "        min_child_samples = 10,\n",
    "        \"\"\"\n",
    "\n",
    "        # LightGBM parameters found by Bayesian optimization\n",
    "        clf = LGBMClassifier(\n",
    "            \n",
    "            learning_rate = params['learning_rate'],\n",
    "            num_leaves = int(round(params['num_leaves'])),\n",
    "            colsample_bytree = params['colsample_bytree'],\n",
    "            subsample = params['subsample'],\n",
    "            max_depth = int(round(params['max_depth'])),\n",
    "            reg_alpha = params['reg_alpha'],\n",
    "            reg_lambda = params['reg_lambda'],\n",
    "            min_split_gain = params['min_split_gain'],\n",
    "            min_child_weight = params['min_child_weight'],\n",
    "            min_child_samples = int(round(params['min_child_samples'])),    \n",
    "            \n",
    "            n_jobs = -1,\n",
    "            n_estimators = 10000,            \n",
    "            random_state = seed_num,\n",
    "            silent=-1,\n",
    "            deterministic=True,\n",
    "            verbose=-1\n",
    "        )\n",
    "        \n",
    "        with warnings.catch_warnings():\n",
    "            \n",
    "            warnings.filterwarnings('ignore')\n",
    "\n",
    "            clf.fit(\n",
    "                  train_x\n",
    "                , train_y\n",
    "                , eval_set=[(train_x, train_y), (valid_x, valid_y)]\n",
    "                , eval_metric= 'auc'\n",
    "                , verbose= 200\n",
    "                , early_stopping_rounds= 500\n",
    "            )\n",
    "\n",
    "        oof_preds_lgb[valid_idx] = clf.predict_proba(valid_x, num_iteration=clf.best_iteration_)[:, 1]\n",
    "        sub_preds_lgb += clf.predict_proba(test_df[feats], num_iteration=clf.best_iteration_)[:, 1] / folds.n_splits\n",
    "\n",
    "        fold_importance_df = pd.DataFrame()\n",
    "        fold_importance_df[\"feature\"] = feats\n",
    "        fold_importance_df[\"importance\"] = clf.feature_importances_\n",
    "        fold_importance_df[\"fold\"] = n_fold + 1\n",
    "        feature_importance_df = pd.concat([feature_importance_df, fold_importance_df], axis=0)\n",
    "        print('Fold %2d AUC : %.6f' % (n_fold + 1, roc_auc_score(valid_y, oof_preds_lgb[valid_idx])))\n",
    "\n",
    "    print('Full AUC score %.6f' % roc_auc_score(train_df['Y_LABEL'], oof_preds_lgb))\n",
    "\n",
    "    # Write submission file and plot feature importance\n",
    "    test_df['Y_LABEL_lgb'] = sub_preds_lgb\n",
    "\n",
    "    # vi\n",
    "    print('-'*50)\n",
    "    # display(feature_importance_df.groupby(['feature'])['importance'].sum().sort_values(ascending=False).head(20))\n",
    "    # print('-'*50)\n",
    "    # display_importances(feature_importance_df)\n",
    "\n",
    "    # find the best thred for f1-score\n",
    "    f1_score_df = pd.DataFrame()\n",
    "    for thred in [i/1000 for i in range(0,1000,1)]:\n",
    "\n",
    "        a1 = pd.DataFrame()\n",
    "        f1 = f1_score(train_df['Y_LABEL'], np.where(oof_preds_lgb>thred,1,0), average='macro')\n",
    "        a1['f1'] = [f1]\n",
    "        a1['thred'] = [thred]\n",
    "        f1_score_df = pd.concat([f1_score_df, a1], axis=0)\n",
    "\n",
    "    thred = f1_score_df.loc[f1_score_df['f1']==f1_score_df['f1'].max(),'thred'].tolist()[0]\n",
    "    print('thred:',thred)\n",
    "    print('ncol',len(feats))\n",
    "\n",
    "    # train err\n",
    "    a1 = roc_auc_score(train_df['Y_LABEL'], oof_preds_lgb)\n",
    "    print('auc:',a1)\n",
    "    f1 = f1_score(train_df['Y_LABEL'], np.where(oof_preds_lgb>thred,1,0), average='macro')\n",
    "    print('f1:',f1)\n",
    "    a1 = train_df['Y_LABEL'].value_counts()/len(train_df)\n",
    "    print('Target ratio(real):',(a1[1]))\n",
    "\n",
    "    # test err\n",
    "    test_df['TARGET'] = np.where(test_df['Y_LABEL_lgb']>thred,1,0)\n",
    "    a1 = test_df['TARGET'].value_counts()/len(test_df)\n",
    "    print('Target ratio(pred):',(a1[1]))\n",
    "    print('Target sum:',test_df['TARGET'].sum())\n",
    "\n",
    "    # save \n",
    "    train_df['Y_LABEL_lgb'] = oof_preds_lgb\n",
    "    a1 = train_df[['ID','YEAR','COMPONENT_ARBITRARY','Y_LABEL_lgb','Y_LABEL']].copy()\n",
    "    a1.to_csv('train_pred_'+str(seed_num)+'_'+str(np.round(f1,10))+'.csv', index= False)    \n",
    "    a1 = test_df[['ID','YEAR','COMPONENT_ARBITRARY','Y_LABEL_lgb']].copy()\n",
    "    a1.to_csv('test_pred_'+str(seed_num)+'_'+str(np.round(f1,10))+'.csv', index= False)\n",
    "    \n",
    "    # submit\n",
    "    a1 = test_df[['ID', 'TARGET']].copy()\n",
    "    a1 = a1.rename(columns={'TARGET':'Y_LABEL'})\n",
    "    submission_file_name = 'sample_submission_lgb_'+str(np.round(f1,4))+'.csv'\n",
    "    a1.to_csv(submission_file_name, index= False)"
   ]
  },
  {
   "cell_type": "code",
   "execution_count": 8,
   "id": "f3f2c40b",
   "metadata": {
    "execution": {
     "iopub.execute_input": "2022-12-05T23:50:57.653007Z",
     "iopub.status.busy": "2022-12-05T23:50:57.652592Z",
     "iopub.status.idle": "2022-12-05T23:50:57.675130Z",
     "shell.execute_reply": "2022-12-05T23:50:57.674051Z"
    },
    "papermill": {
     "duration": 0.041172,
     "end_time": "2022-12-05T23:50:57.677881",
     "exception": false,
     "start_time": "2022-12-05T23:50:57.636709",
     "status": "completed"
    },
    "tags": []
   },
   "outputs": [],
   "source": [
    "def bayes_parameter_opt_lgb(\n",
    "    train, \n",
    "    opt_params, \n",
    "    init_round=15, \n",
    "    opt_round=25, \n",
    "    n_folds=3, \n",
    "    random_seed=1, \n",
    "    n_estimators=10000, \n",
    "    output_process=False, \n",
    "    drop_features=[]\n",
    "    ):   \n",
    "    \n",
    "    seed_everything(1)\n",
    "    \n",
    "    train_df = train.copy()\n",
    "\n",
    "    # label encoding \n",
    "    encoder = LabelEncoder()\n",
    "    categorical_features = [i for i in train_df.select_dtypes(include=['object','category']).columns.tolist() if i not in ['ID']]\n",
    "    categorical_features = [i for i in categorical_features if i in train_df.columns.tolist()]\n",
    "    for each in categorical_features:\n",
    "        train_df[each] = encoder.fit_transform(train_df[each])\n",
    "        \n",
    "    # feats = [f for f in train_df.columns if f not in ['Y_LABEL','ID','SAMPLE_TRANSFER_DAY']]    \n",
    "    # X = train_df[feats].copy()\n",
    "    # y = train_df['Y_LABEL'].copy()\n",
    "    \n",
    "    # prepare data\n",
    "    # train_data = lgb.Dataset(data=X, label=y, free_raw_data=False)\n",
    "    \n",
    "    # parameters\n",
    "    def lgb_eval(\n",
    "          learning_rate\n",
    "        , num_leaves\n",
    "        , colsample_bytree\n",
    "        , subsample\n",
    "        , max_depth\n",
    "        , reg_alpha\n",
    "        , reg_lambda\n",
    "        , min_split_gain\n",
    "        , min_child_weight\n",
    "        , min_child_samples\n",
    "\n",
    "    ):\n",
    "        \n",
    "        params = {'application':'binary', 'metric':'auc'}\n",
    "        params['learning_rate'] = max(min(learning_rate, 1), 0)\n",
    "        params[\"num_leaves\"] = int(round(num_leaves))\n",
    "        params['colsample_bytree'] = max(min(colsample_bytree, 1), 0)\n",
    "        params['subsample'] = max(min(subsample, 1), 0)\n",
    "        params['max_depth'] = int(round(max_depth))        \n",
    "        params['reg_alpha'] = reg_alpha\n",
    "        params['reg_lambda'] = reg_lambda        \n",
    "        params['min_split_gain'] = min_split_gain\n",
    "        params['min_child_weight'] = min_child_weight\n",
    "        params['min_child_samples'] = int(round(min_child_samples))\n",
    "        \n",
    "        # cv_result = lgb.cv(params, train_data, nfold=n_folds, seed=random_seed, stratified=True, verbose_eval =200, metrics=['auc'])\n",
    "        \n",
    "        # -----        \n",
    "        \n",
    "        stratified = True\n",
    "        \n",
    "        # Cross validation model\n",
    "        if stratified:\n",
    "            folds = StratifiedKFold(n_splits= 5, shuffle=True, random_state=1)\n",
    "        else:\n",
    "            folds = KFold(n_splits= 5, shuffle=True, random_state=1)\n",
    "\n",
    "        # Create arrays and dataframes to store results\n",
    "        oof_preds_lgb = np.zeros(train_df.shape[0])\n",
    "\n",
    "        feats = [f for f in train_df.columns if f not in ['Y_LABEL','ID','SAMPLE_TRANSFER_DAY']+drop_features]\n",
    "\n",
    "        for n_fold, (train_idx, valid_idx) in enumerate(folds.split(train_df[feats], train_df['Y_LABEL'])):\n",
    "            train_x, train_y = train_df[feats].iloc[train_idx], train_df['Y_LABEL'].iloc[train_idx]\n",
    "            valid_x, valid_y = train_df[feats].iloc[valid_idx], train_df['Y_LABEL'].iloc[valid_idx]\n",
    "\n",
    "            # LightGBM parameters found by Bayesian optimization\n",
    "            clf = LGBMClassifier(\n",
    "\n",
    "                **params,\n",
    "\n",
    "                n_jobs = -1,\n",
    "                n_estimators = 10000,            \n",
    "                random_state = 1,\n",
    "                silent=True,\n",
    "                deterministic=True,\n",
    "                verbose=-100\n",
    "            )\n",
    "\n",
    "            with warnings.catch_warnings():\n",
    "\n",
    "                warnings.filterwarnings('ignore')\n",
    "\n",
    "                clf.fit(\n",
    "                      train_x\n",
    "                    , train_y\n",
    "                    , eval_set=[(train_x, train_y), (valid_x, valid_y)]\n",
    "                    , eval_metric= 'auc'\n",
    "                    , verbose= False\n",
    "                    , early_stopping_rounds= 500\n",
    "                )\n",
    "\n",
    "            oof_preds_lgb[valid_idx] = clf.predict_proba(valid_x, num_iteration=clf.best_iteration_)[:, 1]\n",
    "\n",
    "        cv_result = roc_auc_score(train_df['Y_LABEL'], oof_preds_lgb)        \n",
    "       \n",
    "        # ----\n",
    "\n",
    "        return cv_result\n",
    "\n",
    "    lgbBO = BayesianOptimization(lgb_eval, opt_params, random_state=1)\n",
    "    \n",
    "    with warnings.catch_warnings():\n",
    "        warnings.filterwarnings('ignore')\n",
    "        lgbBO.maximize(init_points=init_round, n_iter=opt_round, acq='ucb')\n",
    "    \n",
    "    model_auc=[]\n",
    "    for model in range(len( lgbBO.res)):\n",
    "        model_auc.append(lgbBO.res[model]['target'])\n",
    "    \n",
    "    a1 = lgbBO.res[pd.Series(model_auc).idxmax()]['target'],lgbBO.res[pd.Series(model_auc).idxmax()]['params']\n",
    "    file_name = 'res_tune_'+str(len(drop_features))+'_'+str(a1[0])+'.joblib'    \n",
    "    joblib.dump(a1[1],file_name)\n",
    "    \n",
    "    return a1"
   ]
  },
  {
   "cell_type": "code",
   "execution_count": 9,
   "id": "e57a3529",
   "metadata": {
    "execution": {
     "iopub.execute_input": "2022-12-05T23:50:57.709003Z",
     "iopub.status.busy": "2022-12-05T23:50:57.708299Z",
     "iopub.status.idle": "2022-12-05T23:50:57.877780Z",
     "shell.execute_reply": "2022-12-05T23:50:57.876856Z"
    },
    "papermill": {
     "duration": 0.187832,
     "end_time": "2022-12-05T23:50:57.880338",
     "exception": false,
     "start_time": "2022-12-05T23:50:57.692506",
     "status": "completed"
    },
    "tags": []
   },
   "outputs": [],
   "source": [
    "# read data\n",
    "train = pd.read_csv('/kaggle/input/dacon001/open/train.csv')\n",
    "test = pd.read_csv('/kaggle/input/dacon001/open/test.csv')\n",
    "sample_submission = pd.read_csv('/kaggle/input/dacon001/open/sample_submission.csv')\n",
    "original_columns = test.columns.tolist()"
   ]
  },
  {
   "cell_type": "code",
   "execution_count": 10,
   "id": "26f75f2c",
   "metadata": {
    "execution": {
     "iopub.execute_input": "2022-12-05T23:50:57.911459Z",
     "iopub.status.busy": "2022-12-05T23:50:57.910567Z",
     "iopub.status.idle": "2022-12-05T23:50:57.926149Z",
     "shell.execute_reply": "2022-12-05T23:50:57.925041Z"
    },
    "papermill": {
     "duration": 0.033466,
     "end_time": "2022-12-05T23:50:57.928552",
     "exception": false,
     "start_time": "2022-12-05T23:50:57.895086",
     "status": "completed"
    },
    "tags": []
   },
   "outputs": [],
   "source": [
    "# test데이터셋에 있는 변수만 선택 \n",
    "train = train[test.columns.to_list()+['Y_LABEL','SAMPLE_TRANSFER_DAY']].copy()"
   ]
  },
  {
   "cell_type": "markdown",
   "id": "7da26e39",
   "metadata": {
    "papermill": {
     "duration": 0.013753,
     "end_time": "2022-12-05T23:50:57.956627",
     "exception": false,
     "start_time": "2022-12-05T23:50:57.942874",
     "status": "completed"
    },
    "tags": []
   },
   "source": [
    "## // 파생변수 생성"
   ]
  },
  {
   "cell_type": "code",
   "execution_count": 11,
   "id": "a4286c66",
   "metadata": {
    "execution": {
     "iopub.execute_input": "2022-12-05T23:50:57.988788Z",
     "iopub.status.busy": "2022-12-05T23:50:57.987967Z",
     "iopub.status.idle": "2022-12-05T23:51:02.673631Z",
     "shell.execute_reply": "2022-12-05T23:51:02.672402Z"
    },
    "papermill": {
     "duration": 4.705223,
     "end_time": "2022-12-05T23:51:02.676233",
     "exception": false,
     "start_time": "2022-12-05T23:50:57.971010",
     "status": "completed"
    },
    "tags": []
   },
   "outputs": [
    {
     "data": {
      "text/plain": [
       "'\\nerr features\\n'"
      ]
     },
     "execution_count": 11,
     "metadata": {},
     "output_type": "execute_result"
    }
   ],
   "source": [
    "\"\"\"\n",
    "new features \n",
    "\"\"\"\n",
    "\n",
    "train['YEAR_COMPONENT'] = train[['YEAR','COMPONENT_ARBITRARY']].apply(lambda x: '-'.join(x.astype(str)),axis=1)\n",
    "test['YEAR_COMPONENT'] = test[['YEAR','COMPONENT_ARBITRARY']].apply(lambda x: '-'.join(x.astype(str)),axis=1)\n",
    "\n",
    "var = [i for i in test.columns.tolist() if i not in ['ID','COMPONENT_ARBITRARY']]\n",
    "train['zero_cnt'] = train[var].apply(lambda x:(x==0).sum(),axis=1)\n",
    "test['zero_cnt'] = test[var].apply(lambda x:(x==0).sum(),axis=1)\n",
    "\n",
    "\"\"\"\n",
    "err features\n",
    "\"\"\"\n",
    "\n",
    "# train['ANONYMOUS_1_2000'] = np.where(train['ANONYMOUS_1']>2000,1,0)\n",
    "# train['ANONYMOUS_2_200'] = np.where(train['ANONYMOUS_2']>200,1,0)\n",
    "# train['CO_1.5'] = np.where(train['CO']>1.5,1,0)\n",
    "# train['CR_100'] = np.where(train['CR']>100,1,0)\n",
    "# train['FE_5000'] = np.where(train['FE']>5000,1,0)\n",
    "# train['MN_5000'] = np.where(train['MN']>55,1,0)\n",
    "# train['NI_14'] = np.where(train['NI']>14,1,0)\n",
    "\n",
    "# test['ANONYMOUS_1_2000'] = np.where(test['ANONYMOUS_1']>2000,1,0)\n",
    "# test['ANONYMOUS_2_200'] = np.where(test['ANONYMOUS_2']>200,1,0)\n",
    "# test['CO_1.5'] = np.where(test['CO']>1.5,1,0)\n",
    "# test['CR_100'] = np.where(test['CR']>100,1,0)\n",
    "# test['FE_5000'] = np.where(test['FE']>5000,1,0)\n",
    "# test['MN_5000'] = np.where(test['MN']>55,1,0)\n",
    "# test['NI_14'] = np.where(test['NI']>14,1,0)"
   ]
  },
  {
   "cell_type": "code",
   "execution_count": 12,
   "id": "94d6471a",
   "metadata": {
    "execution": {
     "iopub.execute_input": "2022-12-05T23:51:02.707107Z",
     "iopub.status.busy": "2022-12-05T23:51:02.706427Z",
     "iopub.status.idle": "2022-12-05T23:51:02.719881Z",
     "shell.execute_reply": "2022-12-05T23:51:02.718945Z"
    },
    "papermill": {
     "duration": 0.031282,
     "end_time": "2022-12-05T23:51:02.722185",
     "exception": false,
     "start_time": "2022-12-05T23:51:02.690903",
     "status": "completed"
    },
    "tags": []
   },
   "outputs": [],
   "source": [
    "\"\"\"\n",
    "transformation \n",
    "\"\"\"\n",
    "\n",
    "for var in ['ANONYMOUS_1','PQINDEX','V40','ZN','FE']:\n",
    "    \n",
    "    train[var+'_log1'] = np.log(train[var]+1)\n",
    "    test[var+'_log1'] = np.log(test[var]+1)"
   ]
  },
  {
   "cell_type": "code",
   "execution_count": 13,
   "id": "ff8935fd",
   "metadata": {
    "execution": {
     "iopub.execute_input": "2022-12-05T23:51:02.752715Z",
     "iopub.status.busy": "2022-12-05T23:51:02.752322Z",
     "iopub.status.idle": "2022-12-05T23:51:02.773554Z",
     "shell.execute_reply": "2022-12-05T23:51:02.772353Z"
    },
    "papermill": {
     "duration": 0.039847,
     "end_time": "2022-12-05T23:51:02.776225",
     "exception": false,
     "start_time": "2022-12-05T23:51:02.736378",
     "status": "completed"
    },
    "tags": []
   },
   "outputs": [],
   "source": [
    "\"\"\"\n",
    "normalization\n",
    "\"\"\" \n",
    "\n",
    "for var in ['ZN','FE','CU','V40','MO','CR','NI','ANONYMOUS_1','ANONYMOUS_2']:\n",
    "    \n",
    "    ZN_min = train[var].min()\n",
    "    ZN_max = train[var].max()\n",
    "    train[var] = (train[var] - ZN_min) / (ZN_max-ZN_min)\n",
    "    test[var] = (test[var] - ZN_min) / (ZN_max-ZN_min)"
   ]
  },
  {
   "cell_type": "code",
   "execution_count": 14,
   "id": "cd97a1ab",
   "metadata": {
    "execution": {
     "iopub.execute_input": "2022-12-05T23:51:02.806173Z",
     "iopub.status.busy": "2022-12-05T23:51:02.805776Z",
     "iopub.status.idle": "2022-12-05T23:51:02.858290Z",
     "shell.execute_reply": "2022-12-05T23:51:02.857150Z"
    },
    "papermill": {
     "duration": 0.07037,
     "end_time": "2022-12-05T23:51:02.860805",
     "exception": false,
     "start_time": "2022-12-05T23:51:02.790435",
     "status": "completed"
    },
    "tags": []
   },
   "outputs": [],
   "source": [
    "\"\"\"\n",
    "feature combination\n",
    "\"\"\"\n",
    "\n",
    "seed_everything(1)\n",
    "\n",
    "from itertools import chain, product \n",
    "candidate_var = ['ZN','FE','CU','V40','MO','CR','NI','ANONYMOUS_1','ANONYMOUS_2']\n",
    "pairs = list(chain(product(candidate_var, candidate_var), product(candidate_var, candidate_var))) \n",
    "pairs = pd.Series([sorted([i,j]) for (i,j) in set(pairs) if i!=j]).drop_duplicates().reset_index(drop=True).tolist()\n",
    "pairs = sorted(pairs)\n",
    "# pairs = pairs.sort_values()\n",
    "# random.shuffle(pairs)\n",
    "# print(pairs)\n",
    "\n",
    "for i in range(len(pairs)):\n",
    "\n",
    "    train[pairs[i][0]+'_'+pairs[i][1]] = train[pairs[i][0]] * train[pairs[i][1]]\n",
    "    test[pairs[i][0]+'_'+pairs[i][1]] = test[pairs[i][0]] * test[pairs[i][1]] "
   ]
  },
  {
   "cell_type": "code",
   "execution_count": null,
   "id": "6c76294c",
   "metadata": {
    "papermill": {
     "duration": 0.013875,
     "end_time": "2022-12-05T23:51:02.888920",
     "exception": false,
     "start_time": "2022-12-05T23:51:02.875045",
     "status": "completed"
    },
    "tags": []
   },
   "outputs": [],
   "source": []
  },
  {
   "cell_type": "code",
   "execution_count": null,
   "id": "5735ac5a",
   "metadata": {
    "papermill": {
     "duration": 0.014048,
     "end_time": "2022-12-05T23:51:02.917269",
     "exception": false,
     "start_time": "2022-12-05T23:51:02.903221",
     "status": "completed"
    },
    "tags": []
   },
   "outputs": [],
   "source": []
  },
  {
   "cell_type": "code",
   "execution_count": null,
   "id": "6cb9b8d3",
   "metadata": {
    "papermill": {
     "duration": 0.014035,
     "end_time": "2022-12-05T23:51:02.945771",
     "exception": false,
     "start_time": "2022-12-05T23:51:02.931736",
     "status": "completed"
    },
    "tags": []
   },
   "outputs": [],
   "source": []
  },
  {
   "cell_type": "code",
   "execution_count": 15,
   "id": "0004de8f",
   "metadata": {
    "execution": {
     "iopub.execute_input": "2022-12-05T23:51:02.976337Z",
     "iopub.status.busy": "2022-12-05T23:51:02.975941Z",
     "iopub.status.idle": "2022-12-05T23:51:04.359448Z",
     "shell.execute_reply": "2022-12-05T23:51:04.358385Z"
    },
    "papermill": {
     "duration": 1.402169,
     "end_time": "2022-12-05T23:51:04.362158",
     "exception": false,
     "start_time": "2022-12-05T23:51:02.959989",
     "status": "completed"
    },
    "tags": []
   },
   "outputs": [],
   "source": [
    "\"\"\"\n",
    "woe features \n",
    "\"\"\"\n",
    "\n",
    "for variable in ['ANONYMOUS_1','PQINDEX','V40','ZN','FE']+['ANONYMOUS_1_V40', 'ANONYMOUS_1_CR', 'ANONYMOUS_1_ZN','ANONYMOUS_1_FE']:\n",
    "\n",
    "    optb = OptimalBinning(name=variable, dtype=\"numerical\", solver=\"cp\")\n",
    "\n",
    "    x = train[variable].values\n",
    "    y = train['Y_LABEL']\n",
    "\n",
    "    optb.fit(x, y)\n",
    "\n",
    "    binning_table = optb.binning_table\n",
    "\n",
    "    a1 = binning_table.build()\n",
    "    \n",
    "    # check \n",
    "    # print('iv:',a1['IV'].sum())\n",
    "    # display(a1)\n",
    "    # binning_table.plot(metric=\"event_rate\")\n",
    "\n",
    "    train[variable+'_woe_bin'] = pd.cut(train[variable],bins=optb.splits.tolist()).astype(str)\n",
    "    test[variable+'_woe_bin'] = pd.cut(test[variable],bins=optb.splits.tolist()).astype(str)"
   ]
  },
  {
   "cell_type": "code",
   "execution_count": 16,
   "id": "6eb40841",
   "metadata": {
    "execution": {
     "iopub.execute_input": "2022-12-05T23:51:04.392434Z",
     "iopub.status.busy": "2022-12-05T23:51:04.392030Z",
     "iopub.status.idle": "2022-12-05T23:51:08.162140Z",
     "shell.execute_reply": "2022-12-05T23:51:08.161117Z"
    },
    "papermill": {
     "duration": 3.788385,
     "end_time": "2022-12-05T23:51:08.164747",
     "exception": false,
     "start_time": "2022-12-05T23:51:04.376362",
     "status": "completed"
    },
    "tags": []
   },
   "outputs": [],
   "source": [
    "\"\"\"\n",
    "group operations\n",
    "\"\"\"\n",
    "\n",
    "opt_numeric_var = ['ANONYMOUS_1_V40', 'ANONYMOUS_1_CR', 'ANONYMOUS_1_ZN','ANONYMOUS_1_FE']\n",
    "\n",
    "for group in ['COMPONENT_ARBITRARY','YEAR_COMPONENT','YEAR']+['FE_woe_bin']:\n",
    "\n",
    "    for numeric_var in ['ZN','FE','V40','PQINDEX','CU','ANONYMOUS_1','ANONYMOUS_2']+opt_numeric_var:\n",
    "        \n",
    "        train = train.copy()\n",
    "        test = test.copy()\n",
    "\n",
    "        a1 = train.groupby([group])[numeric_var].median().to_dict()\n",
    "\n",
    "        train[numeric_var+'_'+group+'_'+'median'] = train[group].map(a1)\n",
    "        test[numeric_var+'_'+group+'_'+'median'] = test[group].map(a1)\n",
    "\n",
    "        train[numeric_var+'_minus_'+numeric_var+'_'+group+'_'+'median'] = train[numeric_var] - train[numeric_var+'_'+group+'_'+'median']\n",
    "        test[numeric_var+'_minus_'+numeric_var+'_'+group+'_'+'median'] = test[numeric_var] - test[numeric_var+'_'+group+'_'+'median']\n",
    "        \n",
    "        train[numeric_var+'_divide_'+numeric_var+'_'+group+'_'+'median'] = np.log(train[numeric_var]+0.00001) / np.log(train[numeric_var+'_'+group+'_'+'median']+0.00001) \n",
    "        test[numeric_var+'_divide_'+numeric_var+'_'+group+'_'+'median'] = np.log(test[numeric_var]+0.00001) / np.log(test[numeric_var+'_'+group+'_'+'median']+0.00001)\n",
    "        \n",
    "        \n",
    "        a1 = train.groupby([group])[numeric_var].max().to_dict()\n",
    "\n",
    "        train[numeric_var+'_'+group+'_'+'max'] = train[group].map(a1)\n",
    "        test[numeric_var+'_'+group+'_'+'max'] = test[group].map(a1)\n",
    "\n",
    "        train[numeric_var+'_minus_'+numeric_var+'_'+group+'_'+'max'] = train[numeric_var] - train[numeric_var+'_'+group+'_'+'max']\n",
    "        test[numeric_var+'_minus_'+numeric_var+'_'+group+'_'+'max'] = test[numeric_var] - test[numeric_var+'_'+group+'_'+'max']\n",
    "        \n",
    "        train[numeric_var+'_divide_'+numeric_var+'_'+group+'_'+'max'] = np.log(train[numeric_var]+0.00001) / np.log(train[numeric_var+'_'+group+'_'+'max']+0.00001)\n",
    "        test[numeric_var+'_divide_'+numeric_var+'_'+group+'_'+'max'] = np.log(test[numeric_var]+0.00001) / np.log(test[numeric_var+'_'+group+'_'+'max']+0.00001)\n",
    "        \n",
    "        \n",
    "        a1 = train.groupby([group])[numeric_var].min().to_dict()\n",
    "\n",
    "        train[numeric_var+'_'+group+'_'+'min'] = train[group].map(a1)\n",
    "        test[numeric_var+'_'+group+'_'+'min'] = test[group].map(a1)\n",
    "\n",
    "        train[numeric_var+'_minus_'+numeric_var+'_'+group+'_'+'min'] = train[numeric_var] - train[numeric_var+'_'+group+'_'+'min']\n",
    "        test[numeric_var+'_minus_'+numeric_var+'_'+group+'_'+'min'] = test[numeric_var] - test[numeric_var+'_'+group+'_'+'min']\n",
    "        \n",
    "        train[numeric_var+'_divide_'+numeric_var+'_'+group+'_'+'min'] = np.log(train[numeric_var]+0.00001) / np.log(train[numeric_var+'_'+group+'_'+'min']+0.00001) \n",
    "        test[numeric_var+'_divide_'+numeric_var+'_'+group+'_'+'min'] = np.log(test[numeric_var]+0.00001) / np.log(test[numeric_var+'_'+group+'_'+'min']+0.00001) \n",
    "        \n",
    "        \n",
    "        a1 = train.groupby([group])[numeric_var].sum().to_dict()\n",
    "\n",
    "        train[numeric_var+'_'+group+'_'+'sum'] = train[group].map(a1)\n",
    "        test[numeric_var+'_'+group+'_'+'sum'] = test[group].map(a1)\n",
    "\n",
    "        train[numeric_var+'_minus_'+numeric_var+'_'+group+'_'+'sum'] = train[numeric_var] - train[numeric_var+'_'+group+'_'+'sum']\n",
    "        test[numeric_var+'_minus_'+numeric_var+'_'+group+'_'+'sum'] = test[numeric_var] - test[numeric_var+'_'+group+'_'+'sum']\n",
    "        \n",
    "        train[numeric_var+'_divide_'+numeric_var+'_'+group+'_'+'sum'] = np.log(train[numeric_var]+0.00001) / np.log(train[numeric_var+'_'+group+'_'+'sum']+0.00001)\n",
    "        test[numeric_var+'_divide_'+numeric_var+'_'+group+'_'+'sum'] = np.log(test[numeric_var]+0.00001) / np.log(test[numeric_var+'_'+group+'_'+'sum']+0.00001)\n",
    "        "
   ]
  },
  {
   "cell_type": "code",
   "execution_count": 17,
   "id": "c0639a8e",
   "metadata": {
    "execution": {
     "iopub.execute_input": "2022-12-05T23:51:08.199355Z",
     "iopub.status.busy": "2022-12-05T23:51:08.198576Z",
     "iopub.status.idle": "2022-12-05T23:51:08.204109Z",
     "shell.execute_reply": "2022-12-05T23:51:08.202752Z"
    },
    "papermill": {
     "duration": 0.023813,
     "end_time": "2022-12-05T23:51:08.206381",
     "exception": false,
     "start_time": "2022-12-05T23:51:08.182568",
     "status": "completed"
    },
    "tags": []
   },
   "outputs": [],
   "source": [
    "# # 테스트중 \n",
    "\n",
    "# for g_fun in ['median']:\n",
    "    \n",
    "#     for fun_name in ['_minus_','_divide_']:\n",
    "\n",
    "#         a1 = [\n",
    "#              'ZN_divide_ZN_YEAR_COMPONENT_median',\n",
    "#              'FE_divide_FE_YEAR_COMPONENT_median',\n",
    "#              'V40_divide_V40_YEAR_COMPONENT_median',\n",
    "#              'CU_divide_CU_YEAR_COMPONENT_median',\n",
    "#              'ANONYMOUS_1_divide_ANONYMOUS_1_YEAR_COMPONENT_median',\n",
    "#              'ANONYMOUS_2_divide_ANONYMOUS_2_YEAR_COMPONENT_median'\n",
    "#         ]\n",
    "\n",
    "#         train[g_fun+fun_name+'diff_g_std'] = train[a1].apply(lambda x:x.std(),axis=1)\n",
    "#         test[g_fun+fun_name+'diff_g_std'] = test[a1].apply(lambda x:x.std(),axis=1)"
   ]
  },
  {
   "cell_type": "code",
   "execution_count": 18,
   "id": "6d2f672b",
   "metadata": {
    "execution": {
     "iopub.execute_input": "2022-12-05T23:51:08.237547Z",
     "iopub.status.busy": "2022-12-05T23:51:08.237171Z",
     "iopub.status.idle": "2022-12-05T23:51:12.394817Z",
     "shell.execute_reply": "2022-12-05T23:51:12.393672Z"
    },
    "papermill": {
     "duration": 4.176618,
     "end_time": "2022-12-05T23:51:12.397614",
     "exception": false,
     "start_time": "2022-12-05T23:51:08.220996",
     "status": "completed"
    },
    "tags": []
   },
   "outputs": [],
   "source": [
    "\"\"\"\n",
    "count encoding\n",
    "\"\"\"\n",
    "\n",
    "opt_numeric_var = ['ANONYMOUS_1_V40', 'ANONYMOUS_1_CR', 'ANONYMOUS_1_ZN','ANONYMOUS_1_FE']\n",
    "\n",
    "for group in ['COMPONENT_ARBITRARY','YEAR_COMPONENT','YEAR']+['FE_woe_bin']:    \n",
    "    \n",
    "    for numeric_var in ['ZN','FE','V40','PQINDEX','CU','ANONYMOUS_1','ANONYMOUS_2']+opt_numeric_var:\n",
    "        \n",
    "        train = train.copy()\n",
    "        test = test.copy()\n",
    "\n",
    "        a1 = train.groupby([group])[numeric_var].value_counts().to_dict()    \n",
    "        train[var+'_cnt'] = train[var].map(a1)\n",
    "        test[var+'_cnt'] = test[var].map(a1)\n",
    "        \n",
    "        a1 = train.groupby([group])[numeric_var].nunique().to_dict()\n",
    "        train[var+'_nunique'] = train[var].map(a1)\n",
    "        test[var+'_nunique'] = test[var].map(a1)"
   ]
  },
  {
   "cell_type": "code",
   "execution_count": 19,
   "id": "e4f5045f",
   "metadata": {
    "execution": {
     "iopub.execute_input": "2022-12-05T23:51:12.428451Z",
     "iopub.status.busy": "2022-12-05T23:51:12.428076Z",
     "iopub.status.idle": "2022-12-05T23:51:17.688972Z",
     "shell.execute_reply": "2022-12-05T23:51:17.687526Z"
    },
    "papermill": {
     "duration": 5.279622,
     "end_time": "2022-12-05T23:51:17.691763",
     "exception": false,
     "start_time": "2022-12-05T23:51:12.412141",
     "status": "completed"
    },
    "tags": []
   },
   "outputs": [],
   "source": [
    "\"\"\"\n",
    "clustetring features\n",
    "\"\"\"\n",
    "\n",
    "np.random.seed(1)\n",
    "\n",
    "features = ['ZN','FE','V40','CU','MO']\n",
    "\n",
    "# sc = MinMaxScaler((0, 1))\n",
    "# sc_fit = sc.fit(train[features])\n",
    "# train_scaled = sc_fit.transform(train[features])\n",
    "# kmeans = KMeans(n_clusters=15,n_init=25, max_iter = 600, random_state=1).fit(train_scaled)\n",
    "# test_scaled = sc_fit.transform(test[features])\n",
    "# train[\"cluster_no\"] = kmeans.predict(train_scaled)\n",
    "# test[\"cluster_no\"] = kmeans.predict(test_scaled)\n",
    "\n",
    "# 앞에서 min-max 이미 적용 함 \n",
    "kmeans = KMeans(n_clusters=15,n_init=25, max_iter = 600, random_state=1).fit(train[features])\n",
    "train[\"cluster_no\"] = kmeans.predict(train[features])\n",
    "test[\"cluster_no\"] = kmeans.predict(test[features])\n",
    "\n",
    "# check\n",
    "# print(train['cluster_no'].value_counts())\n",
    "\n",
    "for var in ['ANONYMOUS_1','ANONYMOUS_2']+['ANONYMOUS_1_V40', 'ANONYMOUS_1_CR', 'ANONYMOUS_1_ZN','ANONYMOUS_1_FE']:\n",
    "    \n",
    "    a1 = train.groupby(['cluster_no'])[var].mean().to_dict()\n",
    "    train['cluster_no_by'+'_'+var+'_'+'mean'] = train['cluster_no'].map(a1)\n",
    "    test['cluster_no_by'+'_'+var+'_'+'mean'] = test['cluster_no'].map(a1)\n",
    "    \n",
    "    a1 = train.groupby(['cluster_no'])[var].median().to_dict()\n",
    "    train['cluster_no_by'+'_'+var+'_'+'median'] = train['cluster_no'].map(a1)\n",
    "    test['cluster_no_by'+'_'+var+'_'+'median'] = test['cluster_no'].map(a1)\n",
    "\n",
    "    a1 = train.groupby(['cluster_no'])[var].max().to_dict()\n",
    "    train['cluster_no_by'+'_'+var+'_'+'max'] = train['cluster_no'].map(a1)\n",
    "    test['cluster_no_by'+'_'+var+'_'+'max'] = test['cluster_no'].map(a1)\n",
    "\n",
    "    a1 = train.groupby(['cluster_no'])[var].min().to_dict()\n",
    "    train['cluster_no_by'+'_'+var+'_'+'min'] = train['cluster_no'].map(a1)\n",
    "    test['cluster_no_by'+'_'+var+'_'+'min'] = test['cluster_no'].map(a1)"
   ]
  },
  {
   "cell_type": "code",
   "execution_count": 20,
   "id": "ed48165e",
   "metadata": {
    "execution": {
     "iopub.execute_input": "2022-12-05T23:51:17.722673Z",
     "iopub.status.busy": "2022-12-05T23:51:17.722229Z",
     "iopub.status.idle": "2022-12-05T23:51:17.878089Z",
     "shell.execute_reply": "2022-12-05T23:51:17.876998Z"
    },
    "papermill": {
     "duration": 0.174323,
     "end_time": "2022-12-05T23:51:17.880759",
     "exception": false,
     "start_time": "2022-12-05T23:51:17.706436",
     "status": "completed"
    },
    "tags": []
   },
   "outputs": [
    {
     "data": {
      "text/plain": [
       "[]"
      ]
     },
     "execution_count": 20,
     "metadata": {},
     "output_type": "execute_result"
    }
   ],
   "source": [
    "# check inf values \n",
    "a1 = train.select_dtypes(include=['int','float']).apply(lambda x: x.max(),axis=0).reset_index(name='val')\n",
    "a1.loc[a1['val']==np.Inf,'index'].tolist()"
   ]
  },
  {
   "cell_type": "code",
   "execution_count": 21,
   "id": "21086113",
   "metadata": {
    "execution": {
     "iopub.execute_input": "2022-12-05T23:51:17.912257Z",
     "iopub.status.busy": "2022-12-05T23:51:17.911842Z",
     "iopub.status.idle": "2022-12-05T23:51:17.919342Z",
     "shell.execute_reply": "2022-12-05T23:51:17.918281Z"
    },
    "papermill": {
     "duration": 0.025808,
     "end_time": "2022-12-05T23:51:17.921550",
     "exception": false,
     "start_time": "2022-12-05T23:51:17.895742",
     "status": "completed"
    },
    "tags": []
   },
   "outputs": [
    {
     "data": {
      "text/plain": [
       "\"\\naddtional data \\n\\ntrain_vote = pd.read_csv('/kaggle/input/traintestvote/train_vote.csv')\\ntest_vote = pd.read_csv('/kaggle/input/traintestvote/test_vote.csv')\\n\\na1 = test_vote.loc[test_vote['vote']>30,:]\\nadditional_train1 = test.loc[test['ID'].isin(a1['ID'].tolist()),:].reset_index(drop=True)\\nadditional_train1['Y_LABEL'] = 1\\nprint(len(additional_train1))\\n\\n# a1 = test_vote.loc[test_vote['vote']==0,:]\\n# additional_train0 = test.loc[test['ID'].isin(a1['ID'].tolist()),:].reset_index(drop=True)\\n# additional_train0['Y_LABEL'] = 0\\n# print(len(additional_train0))\\n\\ntrain = pd.concat([train,additional_train1],axis=0).reset_index(drop=True)\\n\""
      ]
     },
     "execution_count": 21,
     "metadata": {},
     "output_type": "execute_result"
    }
   ],
   "source": [
    "\"\"\"\n",
    "addtional data \n",
    "\n",
    "train_vote = pd.read_csv('/kaggle/input/traintestvote/train_vote.csv')\n",
    "test_vote = pd.read_csv('/kaggle/input/traintestvote/test_vote.csv')\n",
    "\n",
    "a1 = test_vote.loc[test_vote['vote']>30,:]\n",
    "additional_train1 = test.loc[test['ID'].isin(a1['ID'].tolist()),:].reset_index(drop=True)\n",
    "additional_train1['Y_LABEL'] = 1\n",
    "print(len(additional_train1))\n",
    "\n",
    "# a1 = test_vote.loc[test_vote['vote']==0,:]\n",
    "# additional_train0 = test.loc[test['ID'].isin(a1['ID'].tolist()),:].reset_index(drop=True)\n",
    "# additional_train0['Y_LABEL'] = 0\n",
    "# print(len(additional_train0))\n",
    "\n",
    "train = pd.concat([train,additional_train1],axis=0).reset_index(drop=True)\n",
    "\"\"\""
   ]
  },
  {
   "cell_type": "code",
   "execution_count": null,
   "id": "2879d461",
   "metadata": {
    "papermill": {
     "duration": 0.014155,
     "end_time": "2022-12-05T23:51:17.950407",
     "exception": false,
     "start_time": "2022-12-05T23:51:17.936252",
     "status": "completed"
    },
    "tags": []
   },
   "outputs": [],
   "source": []
  },
  {
   "cell_type": "code",
   "execution_count": null,
   "id": "a8d9754a",
   "metadata": {
    "papermill": {
     "duration": 0.014084,
     "end_time": "2022-12-05T23:51:17.978875",
     "exception": false,
     "start_time": "2022-12-05T23:51:17.964791",
     "status": "completed"
    },
    "tags": []
   },
   "outputs": [],
   "source": []
  },
  {
   "cell_type": "code",
   "execution_count": null,
   "id": "2b3d09ac",
   "metadata": {
    "papermill": {
     "duration": 0.014901,
     "end_time": "2022-12-05T23:51:18.008225",
     "exception": false,
     "start_time": "2022-12-05T23:51:17.993324",
     "status": "completed"
    },
    "tags": []
   },
   "outputs": [],
   "source": []
  },
  {
   "cell_type": "code",
   "execution_count": null,
   "id": "24da4c9f",
   "metadata": {
    "papermill": {
     "duration": 0.014009,
     "end_time": "2022-12-05T23:51:18.036849",
     "exception": false,
     "start_time": "2022-12-05T23:51:18.022840",
     "status": "completed"
    },
    "tags": []
   },
   "outputs": [],
   "source": []
  },
  {
   "cell_type": "code",
   "execution_count": null,
   "id": "b41c6fdd",
   "metadata": {
    "papermill": {
     "duration": 0.014272,
     "end_time": "2022-12-05T23:51:18.065378",
     "exception": false,
     "start_time": "2022-12-05T23:51:18.051106",
     "status": "completed"
    },
    "tags": []
   },
   "outputs": [],
   "source": []
  },
  {
   "cell_type": "markdown",
   "id": "5efd9d19",
   "metadata": {
    "papermill": {
     "duration": 0.014085,
     "end_time": "2022-12-05T23:51:18.094216",
     "exception": false,
     "start_time": "2022-12-05T23:51:18.080131",
     "status": "completed"
    },
    "tags": []
   },
   "source": [
    "> 모델학습"
   ]
  },
  {
   "cell_type": "code",
   "execution_count": 22,
   "id": "52f9c551",
   "metadata": {
    "execution": {
     "iopub.execute_input": "2022-12-05T23:51:18.125191Z",
     "iopub.status.busy": "2022-12-05T23:51:18.124789Z",
     "iopub.status.idle": "2022-12-05T23:51:18.155443Z",
     "shell.execute_reply": "2022-12-05T23:51:18.154432Z"
    },
    "papermill": {
     "duration": 0.0488,
     "end_time": "2022-12-05T23:51:18.157662",
     "exception": false,
     "start_time": "2022-12-05T23:51:18.108862",
     "status": "completed"
    },
    "tags": []
   },
   "outputs": [],
   "source": [
    "def train_model(train,test,params,stratified,num_folds,drop_features,seed_num):\n",
    "    \n",
    "    # start log \n",
    "    print('-'*50)\n",
    "    print('>> seed_num:',seed_num)   \n",
    "    print('>> drop_features:',len(drop_features))\n",
    "    \n",
    "    seed_everything(1)\n",
    "    \n",
    "    # Divide in training/validation and test data\n",
    "    train_df = train.copy()\n",
    "    test_df = test.copy()\n",
    "\n",
    "    # label encoding \n",
    "    encoder = LabelEncoder()\n",
    "    categorical_features = [i for i in train_df.select_dtypes(include=['object','category']).columns.tolist() if i not in ['ID']]\n",
    "    categorical_features = [i for i in categorical_features if i in train_df.columns.tolist()]\n",
    "    for each in categorical_features:\n",
    "        train_df[each] = encoder.fit_transform(train_df[each])\n",
    "        test_df[each] = encoder.fit_transform(test_df[each])\n",
    "\n",
    "    # set training options\n",
    "    stratified = stratified\n",
    "    num_folds = num_folds\n",
    "\n",
    "    # Cross validation model\n",
    "    if stratified:\n",
    "        folds = StratifiedKFold(n_splits= num_folds, shuffle=True, random_state=1)\n",
    "    else:\n",
    "        folds = KFold(n_splits= num_folds, shuffle=True, random_state=1)\n",
    "\n",
    "    # Create arrays and dataframes to store results\n",
    "    oof_preds_lgb = np.zeros(train_df.shape[0])\n",
    "    sub_preds_lgb = np.zeros(test_df.shape[0])\n",
    "    feature_importance_df = pd.DataFrame()\n",
    "    feats = [f for f in train_df.columns if f not in ['Y_LABEL','ID','SAMPLE_TRANSFER_DAY']+drop_features]\n",
    "\n",
    "    for n_fold, (train_idx, valid_idx) in enumerate(folds.split(train_df[feats], train_df['Y_LABEL'])):\n",
    "        train_x, train_y = train_df[feats].iloc[train_idx], train_df['Y_LABEL'].iloc[train_idx]\n",
    "        valid_x, valid_y = train_df[feats].iloc[valid_idx], train_df['Y_LABEL'].iloc[valid_idx]\n",
    "\n",
    "        \"\"\"        \n",
    "        learning_rate=0.02,\n",
    "        num_leaves=34,\n",
    "        colsample_bytree=0.2,\n",
    "        subsample=0.8715623,\n",
    "        max_depth=4,\n",
    "        reg_alpha=0.041545473,\n",
    "        reg_lambda=0.0735294,\n",
    "        min_split_gain=0.0222415,\n",
    "        min_child_weight=39.3259775,\n",
    "        min_child_samples = 10,\n",
    "        \"\"\"\n",
    "\n",
    "        # LightGBM parameters found by Bayesian optimization\n",
    "        clf = LGBMClassifier(\n",
    "            \n",
    "            learning_rate = params['learning_rate'],\n",
    "            num_leaves = int(round(params['num_leaves'])),\n",
    "            colsample_bytree = params['colsample_bytree'],\n",
    "            subsample = params['subsample'],\n",
    "            max_depth = int(round(params['max_depth'])),\n",
    "            reg_alpha = params['reg_alpha'],\n",
    "            reg_lambda = params['reg_lambda'],\n",
    "            min_split_gain = params['min_split_gain'],\n",
    "            min_child_weight = params['min_child_weight'],\n",
    "            min_child_samples = int(round(params['min_child_samples'])),    \n",
    "            \n",
    "            n_jobs = -1,\n",
    "            n_estimators = 10000,            \n",
    "            random_state = seed_num,\n",
    "            silent=-1,\n",
    "            deterministic=True,\n",
    "            verbose=-1\n",
    "        )\n",
    "        \n",
    "        with warnings.catch_warnings():\n",
    "            \n",
    "            warnings.filterwarnings('ignore')\n",
    "\n",
    "            clf.fit(\n",
    "                  train_x\n",
    "                , train_y\n",
    "                , eval_set=[(train_x, train_y), (valid_x, valid_y)]\n",
    "                , eval_metric= 'auc'\n",
    "                , verbose= -1\n",
    "                , early_stopping_rounds= 500\n",
    "            )\n",
    "\n",
    "        oof_preds_lgb[valid_idx] = clf.predict_proba(valid_x, num_iteration=clf.best_iteration_)[:, 1]\n",
    "        sub_preds_lgb += clf.predict_proba(test_df[feats], num_iteration=clf.best_iteration_)[:, 1] / folds.n_splits\n",
    "\n",
    "        fold_importance_df = pd.DataFrame()\n",
    "        fold_importance_df[\"feature\"] = feats\n",
    "        fold_importance_df[\"importance\"] = clf.feature_importances_\n",
    "        fold_importance_df[\"fold\"] = n_fold + 1\n",
    "        feature_importance_df = pd.concat([feature_importance_df, fold_importance_df], axis=0)\n",
    "        print('Fold %2d AUC : %.6f' % (n_fold + 1, roc_auc_score(valid_y, oof_preds_lgb[valid_idx])))\n",
    "\n",
    "    print('Full AUC score %.6f' % roc_auc_score(train_df['Y_LABEL'], oof_preds_lgb))\n",
    "\n",
    "    # Write submission file and plot feature importance\n",
    "    test_df['Y_LABEL_lgb'] = sub_preds_lgb\n",
    "\n",
    "    # vi\n",
    "    # print('-'*50)\n",
    "    display(feature_importance_df.groupby(['feature'])['importance'].sum().sort_values(ascending=False).head(30))\n",
    "    # print('-'*50)\n",
    "    # display_importances(feature_importance_df)\n",
    "    \n",
    "    # train auc\n",
    "    oof_auc = roc_auc_score(train_df['Y_LABEL'], oof_preds_lgb)\n",
    "\n",
    "    \n",
    "    if oof_auc>=0.701:\n",
    "\n",
    "        # find the best thred for f1-score\n",
    "        f1_score_df = pd.DataFrame()\n",
    "        for thred in [i/10000 for i in range(0,10000,1) if (i/10000>0.1) & (i/10000<0.35)]:\n",
    "\n",
    "            a1 = pd.DataFrame()\n",
    "            f1 = f1_score(train_df['Y_LABEL'], np.where(oof_preds_lgb>thred,1,0), average='macro')\n",
    "            a1['f1'] = [f1]\n",
    "            a1['thred'] = [thred]\n",
    "            f1_score_df = pd.concat([f1_score_df, a1], axis=0)\n",
    "\n",
    "        thred = f1_score_df.loc[f1_score_df['f1']==f1_score_df['f1'].max(),'thred'].tolist()[0]\n",
    "        print('thred:',thred)\n",
    "        print('ncol',len(feats))\n",
    "\n",
    "        # train f1\n",
    "        print('auc:',oof_auc)\n",
    "        oof_f1 = f1_score(train_df['Y_LABEL'], np.where(oof_preds_lgb>thred,1,0), average='macro')\n",
    "        print('f1:',oof_f1)\n",
    "        a1 = train_df['Y_LABEL'].value_counts()/len(train_df)\n",
    "        print('Target ratio(real):',(a1[1]))\n",
    "\n",
    "        # test err\n",
    "        test_df['TARGET'] = np.where(test_df['Y_LABEL_lgb']>thred,1,0)\n",
    "        a1 = test_df['TARGET'].value_counts()/len(test_df)\n",
    "        print('Target ratio(pred):',(a1[1]))\n",
    "        target_sum = test_df['TARGET'].sum()\n",
    "        print('Target sum:',target_sum)        \n",
    "        \n",
    "        # save \n",
    "        train_df['Y_LABEL_lgb'] = oof_preds_lgb\n",
    "        a1 = train_df[['ID','YEAR','COMPONENT_ARBITRARY','Y_LABEL_lgb','Y_LABEL']].copy()\n",
    "        a1.to_csv('train_pred_'+str(seed_num)+'_'+str(np.round(oof_f1,10))+'.csv', index= False)    \n",
    "        a1 = test_df[['ID','YEAR','COMPONENT_ARBITRARY','Y_LABEL_lgb']].copy()\n",
    "        a1.to_csv('test_pred_'+str(seed_num)+'_'+str(np.round(oof_f1,10))+'.csv', index= False)\n",
    "\n",
    "        # submit\n",
    "        a1 = test_df[['ID', 'TARGET']].copy()\n",
    "        a1 = a1.rename(columns={'TARGET':'Y_LABEL'})\n",
    "        submission_file_name = 'sample_submission_lgb_'+str(np.round(oof_f1,4))+'.csv'\n",
    "        a1.to_csv(submission_file_name, index= False)"
   ]
  },
  {
   "cell_type": "code",
   "execution_count": 23,
   "id": "e85a9095",
   "metadata": {
    "execution": {
     "iopub.execute_input": "2022-12-05T23:51:18.188771Z",
     "iopub.status.busy": "2022-12-05T23:51:18.188370Z",
     "iopub.status.idle": "2022-12-05T23:51:55.874741Z",
     "shell.execute_reply": "2022-12-05T23:51:55.873550Z"
    },
    "papermill": {
     "duration": 37.719441,
     "end_time": "2022-12-05T23:51:55.891710",
     "exception": false,
     "start_time": "2022-12-05T23:51:18.172269",
     "status": "completed"
    },
    "tags": []
   },
   "outputs": [
    {
     "name": "stdout",
     "output_type": "stream",
     "text": [
      "--------------------------------------------------\n",
      ">> seed_num: 176\n",
      ">> drop_features: 195\n",
      "Fold  1 AUC : 0.699257\n",
      "Fold  2 AUC : 0.718767\n",
      "Fold  3 AUC : 0.699679\n",
      "Fold  4 AUC : 0.716366\n",
      "Fold  5 AUC : 0.691165\n",
      "Full AUC score 0.704596\n"
     ]
    },
    {
     "data": {
      "text/plain": [
       "feature\n",
       "ANONYMOUS_1_V40_divide_ANONYMOUS_1_V40_YEAR_COMPONENT_median    92\n",
       "FE_minus_FE_YEAR_sum                                            82\n",
       "ZN_minus_ZN_YEAR_median                                         82\n",
       "CU_divide_CU_YEAR_sum                                           72\n",
       "FE_minus_FE_FE_woe_bin_max                                      71\n",
       "ZN_minus_ZN_COMPONENT_ARBITRARY_median                          69\n",
       "PQINDEX_minus_PQINDEX_YEAR_sum                                  67\n",
       "ANONYMOUS_1_divide_ANONYMOUS_1_YEAR_COMPONENT_sum               66\n",
       "ANONYMOUS_1_divide_ANONYMOUS_1_YEAR_COMPONENT_median            60\n",
       "ANONYMOUS_1_ZN_divide_ANONYMOUS_1_ZN_YEAR_max                   59\n",
       "FE_divide_FE_FE_woe_bin_median                                  55\n",
       "ANONYMOUS_2_divide_ANONYMOUS_2_YEAR_COMPONENT_max               55\n",
       "YEAR_COMPONENT                                                  53\n",
       "ZN_divide_ZN_FE_woe_bin_median                                  53\n",
       "CU_divide_CU_YEAR_COMPONENT_median                              53\n",
       "CR_MO                                                           53\n",
       "V40_divide_V40_YEAR_COMPONENT_min                               51\n",
       "CU_minus_CU_YEAR_sum                                            50\n",
       "ANONYMOUS_1_ZN_divide_ANONYMOUS_1_ZN_YEAR_COMPONENT_max         50\n",
       "FE_divide_FE_YEAR_COMPONENT_sum                                 50\n",
       "ANONYMOUS_2_minus_ANONYMOUS_2_YEAR_median                       48\n",
       "ANONYMOUS_1_FE_divide_ANONYMOUS_1_FE_YEAR_COMPONENT_sum         47\n",
       "ANONYMOUS_1_divide_ANONYMOUS_1_COMPONENT_ARBITRARY_median       45\n",
       "ANONYMOUS_1_V40_divide_ANONYMOUS_1_V40_YEAR_median              45\n",
       "ANONYMOUS_1_divide_ANONYMOUS_1_YEAR_median                      44\n",
       "ANONYMOUS_1_minus_ANONYMOUS_1_COMPONENT_ARBITRARY_median        43\n",
       "FE_divide_FE_YEAR_COMPONENT_median                              42\n",
       "FE_minus_FE_FE_woe_bin_sum                                      41\n",
       "ZN_divide_ZN_FE_woe_bin_sum                                     40\n",
       "PQINDEX_minus_PQINDEX_YEAR_max                                  40\n",
       "Name: importance, dtype: int32"
      ]
     },
     "metadata": {},
     "output_type": "display_data"
    },
    {
     "name": "stdout",
     "output_type": "stream",
     "text": [
      "thred: 0.1636\n",
      "ncol 430\n",
      "auc: 0.7045962957432151\n",
      "f1: 0.5922652586883465\n",
      "Target ratio(real): 0.08534941468605889\n",
      "Target ratio(pred): 0.08872703194835292\n",
      "Target sum: 536\n"
     ]
    }
   ],
   "source": [
    "\"\"\"\n",
    "baseline model \n",
    "\"\"\"\n",
    "\n",
    "drop_features_vc1 = ['ZN_minus_ZN_YEAR_COMPONENT_median', 'ANONYMOUS_1_CU', 'ANONYMOUS_1_minus_ANONYMOUS_1_YEAR_COMPONENT_min', 'PQINDEX_divide_PQINDEX_YEAR_min', 'ANONYMOUS_1_CR_minus_ANONYMOUS_1_CR_FE_woe_bin_max', 'ANONYMOUS_1_divide_ANONYMOUS_1_YEAR_COMPONENT_min', 'V40_minus_V40_FE_woe_bin_sum', 'PQINDEX_minus_PQINDEX_FE_woe_bin_sum', 'V40_minus_V40_YEAR_COMPONENT_min', 'ANONYMOUS_1_ZN_divide_ANONYMOUS_1_ZN_YEAR_median', 'PQINDEX_divide_PQINDEX_YEAR_COMPONENT_sum', 'FE_divide_FE_YEAR_max', 'ANONYMOUS_1_ZN_divide_ANONYMOUS_1_ZN_COMPONENT_ARBITRARY_median', 'PQINDEX_minus_PQINDEX_YEAR_COMPONENT_max', 'PQINDEX_minus_PQINDEX_YEAR_COMPONENT_median', 'FE_minus_FE_YEAR_COMPONENT_median', 'ZN_divide_ZN_YEAR_min', 'PQINDEX_divide_PQINDEX_YEAR_median', 'FE_minus_FE_YEAR_COMPONENT_max', 'ZN_divide_ZN_COMPONENT_ARBITRARY_median', 'ANONYMOUS_1_ZN_minus_ANONYMOUS_1_ZN_FE_woe_bin_median', 'ANONYMOUS_1_ZN_YEAR_COMPONENT_max', 'ANONYMOUS_1_V40_minus_ANONYMOUS_1_V40_YEAR_COMPONENT_max', 'ANONYMOUS_1_ZN_divide_ANONYMOUS_1_ZN_YEAR_COMPONENT_sum', 'ANONYMOUS_1_FE_YEAR_median', 'ANONYMOUS_1_CR_minus_ANONYMOUS_1_CR_FE_woe_bin_sum', 'CU_divide_CU_COMPONENT_ARBITRARY_sum', 'FE_divide_FE_YEAR_median', 'ANONYMOUS_2_YEAR_max', 'FE_divide_FE_FE_woe_bin_min', 'ANONYMOUS_1_ZN_divide_ANONYMOUS_1_ZN_FE_woe_bin_sum', 'V40_minus_V40_YEAR_COMPONENT_max', 'ANONYMOUS_1_ZN_minus_ANONYMOUS_1_ZN_YEAR_sum', 'V40_divide_V40_FE_woe_bin_min', 'ANONYMOUS_1_V40_minus_ANONYMOUS_1_V40_YEAR_COMPONENT_median', 'ZN_minus_ZN_YEAR_COMPONENT_min', 'ANONYMOUS_1_FE_divide_ANONYMOUS_1_FE_YEAR_COMPONENT_max', 'V40_YEAR_median', 'V40_minus_V40_YEAR_sum', 'ANONYMOUS_1_divide_ANONYMOUS_1_YEAR_COMPONENT_max', 'NI_V40', 'V40_minus_V40_COMPONENT_ARBITRARY_min', 'PQINDEX_divide_PQINDEX_YEAR_COMPONENT_max', 'ZN_minus_ZN_YEAR_min', 'FE_divide_FE_YEAR_COMPONENT_max', 'ZN_divide_ZN_FE_woe_bin_min', 'ANONYMOUS_1_CR_minus_ANONYMOUS_1_CR_FE_woe_bin_median', 'CU_minus_CU_YEAR_COMPONENT_median', 'ANONYMOUS_1_minus_ANONYMOUS_1_YEAR_max', 'ANONYMOUS_1_FE_minus_ANONYMOUS_1_FE_FE_woe_bin_sum', 'ZN_divide_ZN_YEAR_max', 'ANONYMOUS_1_ZN_divide_ANONYMOUS_1_ZN_FE_woe_bin_max', 'ANONYMOUS_2_divide_ANONYMOUS_2_FE_woe_bin_max', 'ZN_minus_ZN_FE_woe_bin_median', 'ANONYMOUS_1_ZN_minus_ANONYMOUS_1_ZN_COMPONENT_ARBITRARY_max', 'FE_minus_FE_YEAR_max', 'ANONYMOUS_1_FE_divide_ANONYMOUS_1_FE_COMPONENT_ARBITRARY_min', 'CU_YEAR_COMPONENT_median', 'cluster_no_by_ANONYMOUS_1_FE_median', 'ZN_YEAR_COMPONENT_sum', 'CU_minus_CU_FE_woe_bin_max', 'ANONYMOUS_1_CR_minus_ANONYMOUS_1_CR_YEAR_COMPONENT_median', 'ANONYMOUS_1_CR_minus_ANONYMOUS_1_CR_YEAR_median', 'CU_divide_CU_YEAR_COMPONENT_max', 'ANONYMOUS_1_ZN_minus_ANONYMOUS_1_ZN_FE_woe_bin_max', 'ANONYMOUS_1_V40_divide_ANONYMOUS_1_V40_YEAR_COMPONENT_min', 'CU_divide_CU_YEAR_max', 'ZN_divide_ZN_COMPONENT_ARBITRARY_max', 'FE_divide_FE_FE_woe_bin_max', 'cluster_no_by_ANONYMOUS_1_median', 'V40_divide_V40_FE_woe_bin_sum', 'V40_divide_V40_COMPONENT_ARBITRARY_max', 'ANONYMOUS_2_divide_ANONYMOUS_2_YEAR_COMPONENT_sum', 'FE_YEAR_COMPONENT_median', 'ANONYMOUS_1_ZN_minus_ANONYMOUS_1_ZN_COMPONENT_ARBITRARY_median', 'FE_divide_FE_COMPONENT_ARBITRARY_median', 'V40_divide_V40_YEAR_COMPONENT_max', 'V40_minus_V40_YEAR_min', 'ANONYMOUS_2_divide_ANONYMOUS_2_YEAR_median', 'FE_minus_FE_FE_woe_bin_median', 'FE_minus_FE_YEAR_median', 'ANONYMOUS_1_FE_YEAR_COMPONENT_sum', 'ZN_minus_ZN_FE_woe_bin_sum', 'CU_minus_CU_FE_woe_bin_sum', 'V40', 'ANONYMOUS_1_ZN_woe_bin', 'FE_divide_FE_COMPONENT_ARBITRARY_min', 'CU_divide_CU_FE_woe_bin_sum', 'cluster_no_by_ANONYMOUS_2_mean', 'CU', 'V40_minus_V40_COMPONENT_ARBITRARY_max', 'ANONYMOUS_1_minus_ANONYMOUS_1_FE_woe_bin_median', 'V40_divide_V40_YEAR_min', 'ANONYMOUS_1_ZN_divide_ANONYMOUS_1_ZN_COMPONENT_ARBITRARY_sum', 'ZN_minus_ZN_YEAR_COMPONENT_max', 'ANONYMOUS_2_minus_ANONYMOUS_2_YEAR_COMPONENT_median', 'cluster_no_by_ANONYMOUS_1_V40_mean', 'FE_minus_FE_FE_woe_bin_min', 'PQINDEX_divide_PQINDEX_YEAR_max', 'ANONYMOUS_2_minus_ANONYMOUS_2_FE_woe_bin_sum', 'FE_divide_FE_YEAR_sum', 'V40_minus_V40_YEAR_COMPONENT_median', 'ANONYMOUS_1_FE_divide_ANONYMOUS_1_FE_FE_woe_bin_max', 'PQINDEX_divide_PQINDEX_COMPONENT_ARBITRARY_median', 'ANONYMOUS_1_divide_ANONYMOUS_1_YEAR_sum', 'ANONYMOUS_1_V40', 'ZN_divide_ZN_YEAR_sum', 'ANONYMOUS_1_ZN_minus_ANONYMOUS_1_ZN_YEAR_COMPONENT_max', 'ANONYMOUS_1_divide_ANONYMOUS_1_FE_woe_bin_median', 'ANONYMOUS_2_minus_ANONYMOUS_2_COMPONENT_ARBITRARY_sum', 'PQINDEX_minus_PQINDEX_FE_woe_bin_median', 'ANONYMOUS_1_ZN_minus_ANONYMOUS_1_ZN_YEAR_max', 'PQINDEX_divide_PQINDEX_FE_woe_bin_median', 'ANONYMOUS_1_V40_minus_ANONYMOUS_1_V40_YEAR_sum', 'ZN_divide_ZN_YEAR_median', 'ZN_minus_ZN_YEAR_COMPONENT_sum', 'ANONYMOUS_2_divide_ANONYMOUS_2_YEAR_COMPONENT_median', 'V40_minus_V40_YEAR_max', 'ANONYMOUS_1_FE_minus_ANONYMOUS_1_FE_FE_woe_bin_min', 'CR_FE', 'FE_V40', 'FE_divide_FE_YEAR_COMPONENT_min', 'V40_divide_V40_YEAR_COMPONENT_median', 'ANONYMOUS_1_FE', 'FE_divide_FE_COMPONENT_ARBITRARY_max', 'PQINDEX_minus_PQINDEX_YEAR_median', 'ANONYMOUS_1_V40_minus_ANONYMOUS_1_V40_COMPONENT_ARBITRARY_median', 'ZN_divide_ZN_YEAR_COMPONENT_median', 'ANONYMOUS_1_minus_ANONYMOUS_1_COMPONENT_ARBITRARY_max', 'CU_divide_CU_YEAR_median', 'ZN_divide_ZN_YEAR_COMPONENT_min', 'ANONYMOUS_1_CR_divide_ANONYMOUS_1_CR_FE_woe_bin_max', 'PQINDEX_divide_PQINDEX_FE_woe_bin_max', 'ANONYMOUS_1_divide_ANONYMOUS_1_COMPONENT_ARBITRARY_sum', 'ANONYMOUS_1_CR_divide_ANONYMOUS_1_CR_COMPONENT_ARBITRARY_max', 'ANONYMOUS_1_minus_ANONYMOUS_1_YEAR_COMPONENT_max', 'PQINDEX_divide_PQINDEX_YEAR_COMPONENT_median', 'ANONYMOUS_1_MO', 'CU_FE', 'ZN_minus_ZN_YEAR_sum', 'ZN_minus_ZN_COMPONENT_ARBITRARY_max', 'V40_divide_V40_FE_woe_bin_max', 'PQINDEX_divide_PQINDEX_COMPONENT_ARBITRARY_max', 'ANONYMOUS_1_divide_ANONYMOUS_1_FE_woe_bin_sum', 'ANONYMOUS_1_ZN_minus_ANONYMOUS_1_ZN_YEAR_median', 'PQINDEX_divide_PQINDEX_YEAR_COMPONENT_min', 'ANONYMOUS_1_V40_divide_ANONYMOUS_1_V40_YEAR_min', 'PQINDEX_divide_PQINDEX_FE_woe_bin_min', 'PQINDEX_divide_PQINDEX_COMPONENT_ARBITRARY_min', 'ANONYMOUS_2_divide_ANONYMOUS_2_COMPONENT_ARBITRARY_median', 'PQINDEX_YEAR_COMPONENT_sum', 'PQINDEX_divide_PQINDEX_COMPONENT_ARBITRARY_sum', 'ANONYMOUS_1_V40_divide_ANONYMOUS_1_V40_FE_woe_bin_median', 'PQINDEX_minus_PQINDEX_YEAR_COMPONENT_sum', 'ANONYMOUS_1_V40_divide_ANONYMOUS_1_V40_COMPONENT_ARBITRARY_max', 'CU_ZN', 'ANONYMOUS_1_CR_divide_ANONYMOUS_1_CR_YEAR_COMPONENT_max', 'ZN_divide_ZN_YEAR_COMPONENT_max', 'V40_minus_V40_FE_woe_bin_min', 'NI_ZN', 'V40_divide_V40_FE_woe_bin_median', 'ZN_minus_ZN_YEAR_max', 'ANONYMOUS_1_V40_minus_ANONYMOUS_1_V40_YEAR_median', 'ANONYMOUS_1_FE_minus_ANONYMOUS_1_FE_YEAR_max', 'ANONYMOUS_1_ZN', 'PQINDEX_YEAR_median', 'NI', 'FE_ZN', 'ANONYMOUS_1_V40_divide_ANONYMOUS_1_V40_FE_woe_bin_max', 'ANONYMOUS_1_ZN_minus_ANONYMOUS_1_ZN_FE_woe_bin_sum', 'ANONYMOUS_1_FE_divide_ANONYMOUS_1_FE_YEAR_median', 'CR_V40', 'ANONYMOUS_1_CR_divide_ANONYMOUS_1_CR_YEAR_sum', 'ANONYMOUS_1_FE_divide_ANONYMOUS_1_FE_YEAR_COMPONENT_median', 'ANONYMOUS_1_ZN_divide_ANONYMOUS_1_ZN_YEAR_min', 'ANONYMOUS_2_divide_ANONYMOUS_2_COMPONENT_ARBITRARY_max', 'ANONYMOUS_1_V40_divide_ANONYMOUS_1_V40_COMPONENT_ARBITRARY_median', 'ANONYMOUS_1_FE_minus_ANONYMOUS_1_FE_COMPONENT_ARBITRARY_min', 'MO_V40', 'PQINDEX_minus_PQINDEX_FE_woe_bin_max', 'ANONYMOUS_1_V40_minus_ANONYMOUS_1_V40_COMPONENT_ARBITRARY_min', 'ANONYMOUS_1_minus_ANONYMOUS_1_YEAR_median', 'FE_minus_FE_YEAR_COMPONENT_sum', 'ANONYMOUS_1_FE_divide_ANONYMOUS_1_FE_YEAR_max', 'cluster_no_by_ANONYMOUS_1_V40_max', 'ANONYMOUS_1_divide_ANONYMOUS_1_YEAR_max', 'ANONYMOUS_1_FE_minus_ANONYMOUS_1_FE_YEAR_COMPONENT_min', 'ANONYMOUS_1_V40_divide_ANONYMOUS_1_V40_COMPONENT_ARBITRARY_min', 'ANONYMOUS_1_CR_divide_ANONYMOUS_1_CR_FE_woe_bin_median', 'ANONYMOUS_2_MO', 'PQINDEX_log1', 'CU_minus_CU_YEAR_COMPONENT_max', 'FE_NI', 'ANONYMOUS_1_divide_ANONYMOUS_1_FE_woe_bin_max', 'CU_divide_CU_FE_woe_bin_median']\n",
    "drop_features_vc2 = ['PQINDEX_divide_PQINDEX_COMPONENT_ARBITRARY_median', 'ZN_minus_ZN_YEAR_COMPONENT_min', 'ANONYMOUS_1_ZN_minus_ANONYMOUS_1_ZN_YEAR_sum', 'ANONYMOUS_1_ZN_divide_ANONYMOUS_1_ZN_YEAR_median', 'PQINDEX_divide_PQINDEX_YEAR_median', 'ANONYMOUS_2_minus_ANONYMOUS_2_YEAR_COMPONENT_max', 'FE_divide_FE_FE_woe_bin_min', 'V40_divide_V40_COMPONENT_ARBITRARY_median', 'ANONYMOUS_1_divide_ANONYMOUS_1_YEAR_COMPONENT_max', 'ANONYMOUS_1_divide_ANONYMOUS_1_COMPONENT_ARBITRARY_sum', 'ANONYMOUS_1_ZN_divide_ANONYMOUS_1_ZN_FE_woe_bin_sum', 'FE_divide_FE_YEAR_COMPONENT_sum', 'ANONYMOUS_1_V40_divide_ANONYMOUS_1_V40_COMPONENT_ARBITRARY_median', 'FE_divide_FE_COMPONENT_ARBITRARY_max', 'CU_divide_CU_YEAR_max', 'FE_divide_FE_YEAR_sum', 'V40_divide_V40_YEAR_min', 'FE_divide_FE_FE_woe_bin_max', 'PQINDEX_divide_PQINDEX_YEAR_COMPONENT_median', 'ANONYMOUS_1_V40_minus_ANONYMOUS_1_V40_YEAR_COMPONENT_sum', 'ANONYMOUS_2_divide_ANONYMOUS_2_FE_woe_bin_max', 'ANONYMOUS_1_ZN_divide_ANONYMOUS_1_ZN_YEAR_COMPONENT_sum', 'V40_divide_V40_FE_woe_bin_sum', 'ANONYMOUS_1_CR_divide_ANONYMOUS_1_CR_YEAR_COMPONENT_median', 'ANONYMOUS_1_FE_YEAR_median', 'ZN_divide_ZN_YEAR_min', 'ANONYMOUS_1_ZN_divide_ANONYMOUS_1_ZN_YEAR_min', 'ZN_minus_ZN_FE_woe_bin_sum', 'PQINDEX_divide_PQINDEX_YEAR_min', 'ANONYMOUS_1_FE_minus_ANONYMOUS_1_FE_FE_woe_bin_min', 'CU_divide_CU_YEAR_COMPONENT_min', 'ANONYMOUS_2_YEAR_max', 'CU_minus_CU_FE_woe_bin_sum', 'ANONYMOUS_1_FE_minus_ANONYMOUS_1_FE_YEAR_max', 'FE_minus_FE_FE_woe_bin_sum', 'FE_divide_FE_YEAR_max', 'PQINDEX_minus_PQINDEX_FE_woe_bin_max', 'ANONYMOUS_1_ZN_divide_ANONYMOUS_1_ZN_YEAR_sum', 'FE_minus_FE_YEAR_max', 'ANONYMOUS_1_minus_ANONYMOUS_1_YEAR_COMPONENT_min', 'FE_minus_FE_FE_woe_bin_min', 'cluster_no_by_ANONYMOUS_1_FE_median', 'ANONYMOUS_1_CR_minus_ANONYMOUS_1_CR_YEAR_COMPONENT_median', 'ZN_minus_ZN_COMPONENT_ARBITRARY_median', 'ANONYMOUS_1_CR_divide_ANONYMOUS_1_CR_FE_woe_bin_sum', 'ZN_minus_ZN_YEAR_sum', 'NI_V40', 'ANONYMOUS_2_minus_ANONYMOUS_2_YEAR_max', 'CU_minus_CU_YEAR_sum', 'V40_minus_V40_FE_woe_bin_min', 'ANONYMOUS_1_V40_divide_ANONYMOUS_1_V40_FE_woe_bin_median', 'PQINDEX_divide_PQINDEX_FE_woe_bin_max', 'ZN_minus_ZN_FE_woe_bin_max', 'V40_minus_V40_COMPONENT_ARBITRARY_min', 'FE_minus_FE_YEAR_COMPONENT_median', 'ANONYMOUS_1_FE', 'PQINDEX_minus_PQINDEX_FE_woe_bin_median', 'PQINDEX_minus_PQINDEX_YEAR_max', 'FE_YEAR_COMPONENT_median', 'V40_divide_V40_COMPONENT_ARBITRARY_min', 'ANONYMOUS_1_V40_divide_ANONYMOUS_1_V40_FE_woe_bin_sum', 'ZN_minus_ZN_COMPONENT_ARBITRARY_max', 'ANONYMOUS_1_CR', 'CU_minus_CU_YEAR_COMPONENT_max', 'CU_minus_CU_FE_woe_bin_max', 'ANONYMOUS_1_CR_minus_ANONYMOUS_1_CR_YEAR_COMPONENT_max', 'FE', 'V40_minus_V40_YEAR_min', 'ZN_divide_ZN_YEAR_COMPONENT_max', 'V40_divide_V40_YEAR_COMPONENT_median', 'ANONYMOUS_1_FE_divide_ANONYMOUS_1_FE_FE_woe_bin_min', 'V40_divide_V40_COMPONENT_ARBITRARY_max', 'ANONYMOUS_1_ZN_divide_ANONYMOUS_1_ZN_YEAR_max', 'CU_divide_CU_YEAR_COMPONENT_max', 'NI_ZN', 'ANONYMOUS_2_divide_ANONYMOUS_2_YEAR_COMPONENT_sum', 'FE_YEAR_COMPONENT_max', 'FE_divide_FE_YEAR_median', 'ANONYMOUS_1_V40_minus_ANONYMOUS_1_V40_COMPONENT_ARBITRARY_median', 'ANONYMOUS_1_ZN_minus_ANONYMOUS_1_ZN_FE_woe_bin_median', 'ZN_divide_ZN_YEAR_COMPONENT_min', 'CU_divide_CU_YEAR_COMPONENT_sum', 'FE_minus_FE_FE_woe_bin_median', 'ANONYMOUS_2_divide_ANONYMOUS_2_FE_woe_bin_sum', 'CU_divide_CU_FE_woe_bin_sum', 'ANONYMOUS_1_FE_minus_ANONYMOUS_1_FE_COMPONENT_ARBITRARY_median', 'FE_divide_FE_YEAR_COMPONENT_min', 'V40_minus_V40_FE_woe_bin_sum', 'ANONYMOUS_2_divide_ANONYMOUS_2_COMPONENT_ARBITRARY_max', 'V40_divide_V40_COMPONENT_ARBITRARY_sum', 'ANONYMOUS_1_divide_ANONYMOUS_1_YEAR_COMPONENT_median', 'ANONYMOUS_1_CR_divide_ANONYMOUS_1_CR_YEAR_median', 'ANONYMOUS_1_ZN_minus_ANONYMOUS_1_ZN_FE_woe_bin_sum', 'PQINDEX_minus_PQINDEX_FE_woe_bin_sum', 'ANONYMOUS_1_minus_ANONYMOUS_1_YEAR_COMPONENT_max', 'ANONYMOUS_2_minus_ANONYMOUS_2_YEAR_sum', 'CR_ZN', 'ANONYMOUS_1_ZN_minus_ANONYMOUS_1_ZN_YEAR_max', 'CR_V40', 'V40_minus_V40_FE_woe_bin_max', 'V40_minus_V40_YEAR_COMPONENT_sum', 'ZN_divide_ZN_COMPONENT_ARBITRARY_max', 'CU_divide_CU_COMPONENT_ARBITRARY_sum', 'ANONYMOUS_1_FE_divide_ANONYMOUS_1_FE_FE_woe_bin_max', 'ANONYMOUS_1_divide_ANONYMOUS_1_YEAR_COMPONENT_min', 'ZN_minus_ZN_YEAR_COMPONENT_max', 'ANONYMOUS_1_FE_divide_ANONYMOUS_1_FE_YEAR_median', 'ANONYMOUS_1_CR_divide_ANONYMOUS_1_CR_YEAR_COMPONENT_sum', 'PQINDEX_divide_PQINDEX_YEAR_COMPONENT_sum', 'ANONYMOUS_1_FE_divide_ANONYMOUS_1_FE_YEAR_min', 'ANONYMOUS_1_ZN_minus_ANONYMOUS_1_ZN_YEAR_median', 'FE_minus_FE_YEAR_median', 'ANONYMOUS_1_minus_ANONYMOUS_1_COMPONENT_ARBITRARY_min', 'ANONYMOUS_1_V40_minus_ANONYMOUS_1_V40_YEAR_max', 'ANONYMOUS_1_CR_divide_ANONYMOUS_1_CR_COMPONENT_ARBITRARY_max', 'V40_divide_V40_YEAR_max', 'ANONYMOUS_2_MO', 'ANONYMOUS_1_V40_divide_ANONYMOUS_1_V40_YEAR_COMPONENT_sum', 'V40_divide_V40_YEAR_COMPONENT_sum', 'ANONYMOUS_1_FE_divide_ANONYMOUS_1_FE_COMPONENT_ARBITRARY_min', 'PQINDEX_divide_PQINDEX_FE_woe_bin_sum', 'ANONYMOUS_2_divide_ANONYMOUS_2_YEAR_COMPONENT_median', 'MO_NI', 'MO_ZN', 'ANONYMOUS_1_minus_ANONYMOUS_1_FE_woe_bin_median', 'ANONYMOUS_2_minus_ANONYMOUS_2_YEAR_COMPONENT_median', 'ZN_minus_ZN_YEAR_COMPONENT_median', 'CR_MO', 'CR_FE', 'ZN_divide_ZN_FE_woe_bin_max', 'V40_minus_V40_YEAR_COMPONENT_max', 'ANONYMOUS_1_V40_minus_ANONYMOUS_1_V40_YEAR_median', 'FE_divide_FE_YEAR_min', 'PQINDEX_minus_PQINDEX_YEAR_COMPONENT_median', 'V40_woe_bin', 'PQINDEX_divide_PQINDEX_FE_woe_bin_min', 'ANONYMOUS_1_FE_minus_ANONYMOUS_1_FE_YEAR_median', 'CU_YEAR_COMPONENT_max', 'ANONYMOUS_2_YEAR_COMPONENT_max', 'ANONYMOUS_1_ZN_divide_ANONYMOUS_1_ZN_FE_woe_bin_min', 'ANONYMOUS_1_CR_divide_ANONYMOUS_1_CR_FE_woe_bin_max', 'ANONYMOUS_1_CR_minus_ANONYMOUS_1_CR_FE_woe_bin_median', 'ZN_minus_ZN_FE_woe_bin_median', 'ANONYMOUS_2_minus_ANONYMOUS_2_YEAR_COMPONENT_sum', 'PQINDEX_divide_PQINDEX_YEAR_COMPONENT_min', 'ANONYMOUS_1_CR_minus_ANONYMOUS_1_CR_YEAR_sum', 'FE_NI', 'ANONYMOUS_1_divide_ANONYMOUS_1_FE_woe_bin_sum', 'ANONYMOUS_1_V40_divide_ANONYMOUS_1_V40_YEAR_sum', 'ANONYMOUS_1_FE_divide_ANONYMOUS_1_FE_YEAR_COMPONENT_sum', 'ANONYMOUS_1_FE_divide_ANONYMOUS_1_FE_YEAR_sum', 'NI', 'ZN_minus_ZN_YEAR_COMPONENT_sum', 'ANONYMOUS_1_ZN_divide_ANONYMOUS_1_ZN_COMPONENT_ARBITRARY_median', 'ANONYMOUS_1_V40_minus_ANONYMOUS_1_V40_FE_woe_bin_max', 'ANONYMOUS_1_V40_divide_ANONYMOUS_1_V40_FE_woe_bin_max', 'ZN_divide_ZN_YEAR_COMPONENT_median', 'V40_YEAR_median', 'PQINDEX_divide_PQINDEX_COMPONENT_ARBITRARY_sum', 'ANONYMOUS_1_V40_minus_ANONYMOUS_1_V40_COMPONENT_ARBITRARY_min', 'V40_divide_V40_FE_woe_bin_median', 'ANONYMOUS_1_FE_minus_ANONYMOUS_1_FE_YEAR_COMPONENT_max', 'ANONYMOUS_1_V40_minus_ANONYMOUS_1_V40_FE_woe_bin_min', 'ANONYMOUS_1_CU', 'CU_divide_CU_FE_woe_bin_max', 'ANONYMOUS_1_V40_divide_ANONYMOUS_1_V40_COMPONENT_ARBITRARY_sum', 'ANONYMOUS_1_CR_minus_ANONYMOUS_1_CR_FE_woe_bin_max', 'V40', 'ANONYMOUS_1_divide_ANONYMOUS_1_COMPONENT_ARBITRARY_median', 'ANONYMOUS_1_log1', 'ANONYMOUS_2_minus_ANONYMOUS_2_COMPONENT_ARBITRARY_median', 'ANONYMOUS_1_FE_divide_ANONYMOUS_1_FE_YEAR_max', 'V40_divide_V40_FE_woe_bin_min', 'ANONYMOUS_1_FE_divide_ANONYMOUS_1_FE_FE_woe_bin_sum']\n",
    "drop_features_vc3 = ['PQINDEX_divide_PQINDEX_COMPONENT_ARBITRARY_median', 'ZN_minus_ZN_YEAR_COMPONENT_min', 'ANONYMOUS_1_ZN_minus_ANONYMOUS_1_ZN_YEAR_sum', 'ANONYMOUS_1_ZN_divide_ANONYMOUS_1_ZN_YEAR_median', 'PQINDEX_divide_PQINDEX_YEAR_median', 'ANONYMOUS_2_minus_ANONYMOUS_2_YEAR_COMPONENT_max', 'FE_divide_FE_FE_woe_bin_min', 'V40_divide_V40_COMPONENT_ARBITRARY_median', 'ANONYMOUS_1_divide_ANONYMOUS_1_YEAR_COMPONENT_max', 'ANONYMOUS_1_divide_ANONYMOUS_1_COMPONENT_ARBITRARY_sum', 'ANONYMOUS_1_ZN_divide_ANONYMOUS_1_ZN_FE_woe_bin_sum', 'FE_divide_FE_YEAR_COMPONENT_sum', 'ANONYMOUS_1_V40_divide_ANONYMOUS_1_V40_COMPONENT_ARBITRARY_median', 'FE_divide_FE_COMPONENT_ARBITRARY_max', 'CU_divide_CU_YEAR_max', 'FE_divide_FE_YEAR_sum', 'V40_divide_V40_YEAR_min', 'FE_divide_FE_FE_woe_bin_max', 'PQINDEX_divide_PQINDEX_YEAR_COMPONENT_median', 'ANONYMOUS_1_V40_minus_ANONYMOUS_1_V40_YEAR_COMPONENT_sum', 'ANONYMOUS_2_divide_ANONYMOUS_2_FE_woe_bin_max', 'ANONYMOUS_1_ZN_divide_ANONYMOUS_1_ZN_YEAR_COMPONENT_sum', 'V40_divide_V40_FE_woe_bin_sum', 'ANONYMOUS_1_CR_divide_ANONYMOUS_1_CR_YEAR_COMPONENT_median', 'ANONYMOUS_1_FE_YEAR_median', 'ZN_divide_ZN_YEAR_min', 'ANONYMOUS_1_ZN_divide_ANONYMOUS_1_ZN_YEAR_min', 'ZN_minus_ZN_FE_woe_bin_sum', 'PQINDEX_divide_PQINDEX_YEAR_min', 'ANONYMOUS_1_FE_minus_ANONYMOUS_1_FE_FE_woe_bin_min', 'CU_divide_CU_YEAR_COMPONENT_min', 'ANONYMOUS_2_YEAR_max', 'CU_minus_CU_FE_woe_bin_sum', 'ANONYMOUS_1_FE_minus_ANONYMOUS_1_FE_YEAR_max', 'FE_minus_FE_FE_woe_bin_sum', 'FE_divide_FE_YEAR_max', 'PQINDEX_minus_PQINDEX_FE_woe_bin_max', 'ANONYMOUS_1_ZN_divide_ANONYMOUS_1_ZN_YEAR_sum', 'FE_minus_FE_YEAR_max', 'ANONYMOUS_1_minus_ANONYMOUS_1_YEAR_COMPONENT_min', 'FE_minus_FE_FE_woe_bin_min', 'cluster_no_by_ANONYMOUS_1_FE_median', 'ANONYMOUS_1_CR_minus_ANONYMOUS_1_CR_YEAR_COMPONENT_median', 'ZN_minus_ZN_COMPONENT_ARBITRARY_median', 'ANONYMOUS_1_CR_divide_ANONYMOUS_1_CR_FE_woe_bin_sum', 'ZN_minus_ZN_YEAR_sum', 'NI_V40', 'ANONYMOUS_2_minus_ANONYMOUS_2_YEAR_max', 'CU_minus_CU_YEAR_sum', 'V40_minus_V40_FE_woe_bin_min', 'ANONYMOUS_1_V40_divide_ANONYMOUS_1_V40_FE_woe_bin_median', 'PQINDEX_divide_PQINDEX_FE_woe_bin_max', 'ZN_minus_ZN_FE_woe_bin_max', 'V40_minus_V40_COMPONENT_ARBITRARY_min', 'FE_minus_FE_YEAR_COMPONENT_median', 'ANONYMOUS_1_FE', 'PQINDEX_minus_PQINDEX_FE_woe_bin_median', 'PQINDEX_minus_PQINDEX_YEAR_max', 'FE_YEAR_COMPONENT_median', 'V40_divide_V40_COMPONENT_ARBITRARY_min', 'ANONYMOUS_1_V40_divide_ANONYMOUS_1_V40_FE_woe_bin_sum', 'ZN_minus_ZN_COMPONENT_ARBITRARY_max']\n",
    "drop_features_vc4 = ['PQINDEX_divide_PQINDEX_COMPONENT_ARBITRARY_median', 'ZN_minus_ZN_YEAR_COMPONENT_min', 'ANONYMOUS_1_ZN_minus_ANONYMOUS_1_ZN_YEAR_sum', 'ANONYMOUS_1_ZN_divide_ANONYMOUS_1_ZN_YEAR_median', 'PQINDEX_divide_PQINDEX_YEAR_median', 'ANONYMOUS_2_minus_ANONYMOUS_2_YEAR_COMPONENT_max', 'FE_divide_FE_FE_woe_bin_min', 'V40_divide_V40_COMPONENT_ARBITRARY_median', 'ANONYMOUS_1_divide_ANONYMOUS_1_YEAR_COMPONENT_max']\n",
    "\n",
    "params =  {\n",
    "    'learning_rate': 0.07398,\n",
    "    'max_depth': 4.309,\n",
    "    'colsample_bytree': 0.4028,\n",
    "    'subsample': 0.4278,\n",
    "    'min_child_samples': 25.65,\n",
    "    'min_child_weight': 0.6138,\n",
    "    'min_split_gain': 0.7354,\n",
    "    'num_leaves': 62.68,\n",
    "    'reg_alpha': 0.2889,\n",
    "    'reg_lambda': 7.875\n",
    "}\n",
    "\n",
    "train_model(train,test,params,True,5,drop_features_vc1,seed_num=176)"
   ]
  },
  {
   "cell_type": "code",
   "execution_count": 24,
   "id": "4e40dc94",
   "metadata": {
    "execution": {
     "iopub.execute_input": "2022-12-05T23:51:55.923656Z",
     "iopub.status.busy": "2022-12-05T23:51:55.922757Z",
     "iopub.status.idle": "2022-12-05T23:51:55.931647Z",
     "shell.execute_reply": "2022-12-05T23:51:55.930599Z"
    },
    "papermill": {
     "duration": 0.027245,
     "end_time": "2022-12-05T23:51:55.933712",
     "exception": false,
     "start_time": "2022-12-05T23:51:55.906467",
     "status": "completed"
    },
    "tags": []
   },
   "outputs": [
    {
     "data": {
      "text/plain": [
       "'\\n--------------------------------------------------\\n>> seed_num: 176\\n>> drop_features: 195\\nFold  1 AUC : 0.699257\\nFold  2 AUC : 0.718767\\nFold  3 AUC : 0.699679\\nFold  4 AUC : 0.716366\\nFold  5 AUC : 0.691165\\nFull AUC score 0.704596\\nfeature\\nANONYMOUS_1_V40_divide_ANONYMOUS_1_V40_YEAR_COMPONENT_median    92\\nFE_minus_FE_YEAR_sum                                            82\\nZN_minus_ZN_YEAR_median                                         82\\nCU_divide_CU_YEAR_sum                                           72\\nFE_minus_FE_FE_woe_bin_max                                      71\\nZN_minus_ZN_COMPONENT_ARBITRARY_median                          69\\nPQINDEX_minus_PQINDEX_YEAR_sum                                  67\\nANONYMOUS_1_divide_ANONYMOUS_1_YEAR_COMPONENT_sum               66\\nANONYMOUS_1_divide_ANONYMOUS_1_YEAR_COMPONENT_median            60\\nANONYMOUS_1_ZN_divide_ANONYMOUS_1_ZN_YEAR_max                   59\\nFE_divide_FE_FE_woe_bin_median                                  55\\nANONYMOUS_2_divide_ANONYMOUS_2_YEAR_COMPONENT_max               55\\nYEAR_COMPONENT                                                  53\\nZN_divide_ZN_FE_woe_bin_median                                  53\\nCU_divide_CU_YEAR_COMPONENT_median                              53\\nCR_MO                                                           53\\nV40_divide_V40_YEAR_COMPONENT_min                               51\\nCU_minus_CU_YEAR_sum                                            50\\nANONYMOUS_1_ZN_divide_ANONYMOUS_1_ZN_YEAR_COMPONENT_max         50\\nFE_divide_FE_YEAR_COMPONENT_sum                                 50\\nANONYMOUS_2_minus_ANONYMOUS_2_YEAR_median                       48\\nANONYMOUS_1_FE_divide_ANONYMOUS_1_FE_YEAR_COMPONENT_sum         47\\nANONYMOUS_1_divide_ANONYMOUS_1_COMPONENT_ARBITRARY_median       45\\nANONYMOUS_1_V40_divide_ANONYMOUS_1_V40_YEAR_median              45\\nANONYMOUS_1_divide_ANONYMOUS_1_YEAR_median                      44\\nANONYMOUS_1_minus_ANONYMOUS_1_COMPONENT_ARBITRARY_median        43\\nFE_divide_FE_YEAR_COMPONENT_median                              42\\nFE_minus_FE_FE_woe_bin_sum                                      41\\nZN_divide_ZN_FE_woe_bin_sum                                     40\\nPQINDEX_minus_PQINDEX_YEAR_max                                  40\\nName: importance, dtype: int32\\nthred: 0.1636\\nncol 430\\nauc: 0.7045962957432151\\nf1: 0.5922652586883465\\nTarget ratio(real): 0.08534941468605889\\nTarget ratio(pred): 0.08872703194835292\\nTarget sum: 536\\n'"
      ]
     },
     "execution_count": 24,
     "metadata": {},
     "output_type": "execute_result"
    }
   ],
   "source": [
    "\"\"\"\n",
    "--------------------------------------------------\n",
    ">> seed_num: 176\n",
    ">> drop_features: 195\n",
    "Fold  1 AUC : 0.699257\n",
    "Fold  2 AUC : 0.718767\n",
    "Fold  3 AUC : 0.699679\n",
    "Fold  4 AUC : 0.716366\n",
    "Fold  5 AUC : 0.691165\n",
    "Full AUC score 0.704596\n",
    "feature\n",
    "ANONYMOUS_1_V40_divide_ANONYMOUS_1_V40_YEAR_COMPONENT_median    92\n",
    "FE_minus_FE_YEAR_sum                                            82\n",
    "ZN_minus_ZN_YEAR_median                                         82\n",
    "CU_divide_CU_YEAR_sum                                           72\n",
    "FE_minus_FE_FE_woe_bin_max                                      71\n",
    "ZN_minus_ZN_COMPONENT_ARBITRARY_median                          69\n",
    "PQINDEX_minus_PQINDEX_YEAR_sum                                  67\n",
    "ANONYMOUS_1_divide_ANONYMOUS_1_YEAR_COMPONENT_sum               66\n",
    "ANONYMOUS_1_divide_ANONYMOUS_1_YEAR_COMPONENT_median            60\n",
    "ANONYMOUS_1_ZN_divide_ANONYMOUS_1_ZN_YEAR_max                   59\n",
    "FE_divide_FE_FE_woe_bin_median                                  55\n",
    "ANONYMOUS_2_divide_ANONYMOUS_2_YEAR_COMPONENT_max               55\n",
    "YEAR_COMPONENT                                                  53\n",
    "ZN_divide_ZN_FE_woe_bin_median                                  53\n",
    "CU_divide_CU_YEAR_COMPONENT_median                              53\n",
    "CR_MO                                                           53\n",
    "V40_divide_V40_YEAR_COMPONENT_min                               51\n",
    "CU_minus_CU_YEAR_sum                                            50\n",
    "ANONYMOUS_1_ZN_divide_ANONYMOUS_1_ZN_YEAR_COMPONENT_max         50\n",
    "FE_divide_FE_YEAR_COMPONENT_sum                                 50\n",
    "ANONYMOUS_2_minus_ANONYMOUS_2_YEAR_median                       48\n",
    "ANONYMOUS_1_FE_divide_ANONYMOUS_1_FE_YEAR_COMPONENT_sum         47\n",
    "ANONYMOUS_1_divide_ANONYMOUS_1_COMPONENT_ARBITRARY_median       45\n",
    "ANONYMOUS_1_V40_divide_ANONYMOUS_1_V40_YEAR_median              45\n",
    "ANONYMOUS_1_divide_ANONYMOUS_1_YEAR_median                      44\n",
    "ANONYMOUS_1_minus_ANONYMOUS_1_COMPONENT_ARBITRARY_median        43\n",
    "FE_divide_FE_YEAR_COMPONENT_median                              42\n",
    "FE_minus_FE_FE_woe_bin_sum                                      41\n",
    "ZN_divide_ZN_FE_woe_bin_sum                                     40\n",
    "PQINDEX_minus_PQINDEX_YEAR_max                                  40\n",
    "Name: importance, dtype: int32\n",
    "thred: 0.1636\n",
    "ncol 430\n",
    "auc: 0.7045962957432151\n",
    "f1: 0.5922652586883465\n",
    "Target ratio(real): 0.08534941468605889\n",
    "Target ratio(pred): 0.08872703194835292\n",
    "Target sum: 536\n",
    "\"\"\""
   ]
  },
  {
   "cell_type": "code",
   "execution_count": null,
   "id": "ecb827f8",
   "metadata": {
    "papermill": {
     "duration": 0.014551,
     "end_time": "2022-12-05T23:51:55.963179",
     "exception": false,
     "start_time": "2022-12-05T23:51:55.948628",
     "status": "completed"
    },
    "tags": []
   },
   "outputs": [],
   "source": []
  },
  {
   "cell_type": "code",
   "execution_count": null,
   "id": "9e84e774",
   "metadata": {
    "papermill": {
     "duration": 0.014552,
     "end_time": "2022-12-05T23:51:55.992998",
     "exception": false,
     "start_time": "2022-12-05T23:51:55.978446",
     "status": "completed"
    },
    "tags": []
   },
   "outputs": [],
   "source": []
  },
  {
   "cell_type": "code",
   "execution_count": null,
   "id": "93c55f1d",
   "metadata": {
    "papermill": {
     "duration": 0.014616,
     "end_time": "2022-12-05T23:51:56.022626",
     "exception": false,
     "start_time": "2022-12-05T23:51:56.008010",
     "status": "completed"
    },
    "tags": []
   },
   "outputs": [],
   "source": []
  },
  {
   "cell_type": "code",
   "execution_count": null,
   "id": "d2e3ba5c",
   "metadata": {
    "papermill": {
     "duration": 0.014776,
     "end_time": "2022-12-05T23:51:56.053019",
     "exception": false,
     "start_time": "2022-12-05T23:51:56.038243",
     "status": "completed"
    },
    "tags": []
   },
   "outputs": [],
   "source": []
  },
  {
   "cell_type": "code",
   "execution_count": null,
   "id": "88891f61",
   "metadata": {
    "papermill": {
     "duration": 0.014984,
     "end_time": "2022-12-05T23:51:56.083097",
     "exception": false,
     "start_time": "2022-12-05T23:51:56.068113",
     "status": "completed"
    },
    "tags": []
   },
   "outputs": [],
   "source": []
  },
  {
   "cell_type": "code",
   "execution_count": null,
   "id": "fb575fe4",
   "metadata": {
    "papermill": {
     "duration": 0.0145,
     "end_time": "2022-12-05T23:51:56.113221",
     "exception": false,
     "start_time": "2022-12-05T23:51:56.098721",
     "status": "completed"
    },
    "tags": []
   },
   "outputs": [],
   "source": []
  },
  {
   "cell_type": "code",
   "execution_count": null,
   "id": "8b8c8c48",
   "metadata": {
    "papermill": {
     "duration": 0.014551,
     "end_time": "2022-12-05T23:51:56.142633",
     "exception": false,
     "start_time": "2022-12-05T23:51:56.128082",
     "status": "completed"
    },
    "tags": []
   },
   "outputs": [],
   "source": []
  },
  {
   "cell_type": "code",
   "execution_count": null,
   "id": "bb34a69f",
   "metadata": {
    "papermill": {
     "duration": 0.016112,
     "end_time": "2022-12-05T23:51:56.173674",
     "exception": false,
     "start_time": "2022-12-05T23:51:56.157562",
     "status": "completed"
    },
    "tags": []
   },
   "outputs": [],
   "source": []
  },
  {
   "cell_type": "code",
   "execution_count": null,
   "id": "5ebf9a09",
   "metadata": {
    "papermill": {
     "duration": 0.014525,
     "end_time": "2022-12-05T23:51:56.205330",
     "exception": false,
     "start_time": "2022-12-05T23:51:56.190805",
     "status": "completed"
    },
    "tags": []
   },
   "outputs": [],
   "source": []
  },
  {
   "cell_type": "code",
   "execution_count": null,
   "id": "d4c47585",
   "metadata": {
    "papermill": {
     "duration": 0.014414,
     "end_time": "2022-12-05T23:51:56.235356",
     "exception": false,
     "start_time": "2022-12-05T23:51:56.220942",
     "status": "completed"
    },
    "tags": []
   },
   "outputs": [],
   "source": []
  },
  {
   "cell_type": "code",
   "execution_count": null,
   "id": "2bd75c33",
   "metadata": {
    "papermill": {
     "duration": 0.014848,
     "end_time": "2022-12-05T23:51:56.265059",
     "exception": false,
     "start_time": "2022-12-05T23:51:56.250211",
     "status": "completed"
    },
    "tags": []
   },
   "outputs": [],
   "source": []
  },
  {
   "cell_type": "code",
   "execution_count": null,
   "id": "9bbb8846",
   "metadata": {
    "papermill": {
     "duration": 0.014432,
     "end_time": "2022-12-05T23:51:56.294228",
     "exception": false,
     "start_time": "2022-12-05T23:51:56.279796",
     "status": "completed"
    },
    "tags": []
   },
   "outputs": [],
   "source": []
  },
  {
   "cell_type": "code",
   "execution_count": null,
   "id": "29163878",
   "metadata": {
    "papermill": {
     "duration": 0.014553,
     "end_time": "2022-12-05T23:51:56.323646",
     "exception": false,
     "start_time": "2022-12-05T23:51:56.309093",
     "status": "completed"
    },
    "tags": []
   },
   "outputs": [],
   "source": []
  },
  {
   "cell_type": "code",
   "execution_count": null,
   "id": "f8bab55d",
   "metadata": {
    "papermill": {
     "duration": 0.014486,
     "end_time": "2022-12-05T23:51:56.353406",
     "exception": false,
     "start_time": "2022-12-05T23:51:56.338920",
     "status": "completed"
    },
    "tags": []
   },
   "outputs": [],
   "source": []
  }
 ],
 "metadata": {
  "kernelspec": {
   "display_name": "Python 3",
   "language": "python",
   "name": "python3"
  },
  "language_info": {
   "codemirror_mode": {
    "name": "ipython",
    "version": 3
   },
   "file_extension": ".py",
   "mimetype": "text/x-python",
   "name": "python",
   "nbconvert_exporter": "python",
   "pygments_lexer": "ipython3",
   "version": "3.7.12"
  },
  "papermill": {
   "default_parameters": {},
   "duration": 91.605097,
   "end_time": "2022-12-05T23:51:57.490703",
   "environment_variables": {},
   "exception": null,
   "input_path": "__notebook__.ipynb",
   "output_path": "__notebook__.ipynb",
   "parameters": {},
   "start_time": "2022-12-05T23:50:25.885606",
   "version": "2.3.4"
  }
 },
 "nbformat": 4,
 "nbformat_minor": 5
}
